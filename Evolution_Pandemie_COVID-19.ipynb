{
 "cells": [
  {
   "cell_type": "markdown",
   "metadata": {},
   "source": [
    "<img src=\"images/ScDo-Bandeau_Lingua_Technologies.png\" style=\"width: 100%;float:center;\"/>\n",
    "\n",
    "<h1 style=\"font-size:250%;text-align:center\">Évolution temporelle de la</h1>\n",
    "<h1 style=\"font-size:250%;text-align:center\">pandémie de la COVID-19 (SARS-CoV-2)</h1>\n",
    "<h4 style=\"font-size:150%;text-align:center\">par Claude COULOMBE</h4>\n",
    "<h5 style=\"font-size:100%;text-align:center\">PhD, scientifique de données, consultant Lingua Technologies</h5>\n",
    "\n",
    "\n",
    "<img src=\"images/ScDo-pandas_logo.png\" width=400 />\n",
    "\n",
    "Pour contrer l'anxiété de la pandémie de COVID-19, rien de mieux que d'agir. J'ai donc préparé un petit carnet Web Python, prétexte pour un petit exercice d'exploration de données avec Pandas."
   ]
  },
  {
   "cell_type": "markdown",
   "metadata": {},
   "source": [
    "### Importation des bibliothèques utilisées"
   ]
  },
  {
   "cell_type": "code",
   "execution_count": null,
   "metadata": {},
   "outputs": [],
   "source": [
    "# Importation des bibliothèques\n",
    "import numpy as np\n",
    "import pandas as pd\n",
    "import matplotlib.pyplot as plt\n",
    "from pylab import *\n",
    "%matplotlib inline\n"
   ]
  },
  {
   "cell_type": "markdown",
   "metadata": {
    "collapsed": true
   },
   "source": [
    "## Données\n",
    "\n",
    "### Dépôt de données ouvertes de la COVID-19 - Johns Hopkins University\n",
    "\n",
    "https://github.com/CSSEGISandData/COVID-19\n",
    "\n",
    "<img src=\"\" style=\"width: 100%;float:center;\"/>\n",
    "\n",
    "**Note** : Les données contenues dans le répertoire DATA doivent être mise à jour régulièrement pour refléter l'évolution de la pandémie dans le temps. \n"
   ]
  },
  {
   "cell_type": "markdown",
   "metadata": {},
   "source": [
    "### Lecture des données\n",
    "\n",
    "Nous nous intéressons au fichier `time_series_covid19_confirmed_global.csv` qui contient les données sur les cas confirmés de COVID-19"
   ]
  },
  {
   "cell_type": "code",
   "execution_count": null,
   "metadata": {
    "scrolled": true
   },
   "outputs": [],
   "source": [
    "# Note - bonne pratique de postfixer les Dataframe par _df (Rappel: Python n'est pas typé)\n",
    "series_chronologiques_COVID19_df = pd.read_csv('DATA/csse_covid_19_time_series/time_series_covid19_confirmed_global.csv',sep=',')\n"
   ]
  },
  {
   "cell_type": "markdown",
   "metadata": {},
   "source": [
    "## Exploration des données"
   ]
  },
  {
   "cell_type": "code",
   "execution_count": null,
   "metadata": {},
   "outputs": [],
   "source": [
    "series_chronologiques_COVID19_df.head()\n"
   ]
  },
  {
   "cell_type": "code",
   "execution_count": null,
   "metadata": {},
   "outputs": [],
   "source": [
    "series_chronologiques_COVID19_df.tail()\n"
   ]
  },
  {
   "cell_type": "markdown",
   "metadata": {},
   "source": [
    "### Afficher les propriétés globales du tableau de données / DataFrame\n",
    "\n",
    "Sa forme, les structures de données sous-jacentes et une description statistiques des variables numériques"
   ]
  },
  {
   "cell_type": "code",
   "execution_count": null,
   "metadata": {},
   "outputs": [],
   "source": [
    "series_chronologiques_COVID19_df.shape\n"
   ]
  },
  {
   "cell_type": "code",
   "execution_count": null,
   "metadata": {},
   "outputs": [],
   "source": [
    "series_chronologiques_COVID19_df.columns\n"
   ]
  },
  {
   "cell_type": "code",
   "execution_count": null,
   "metadata": {},
   "outputs": [],
   "source": [
    "nbr_jours = len(series_chronologiques_COVID19_df.columns) - 4\n",
    "nbr_jours\n"
   ]
  },
  {
   "cell_type": "code",
   "execution_count": null,
   "metadata": {},
   "outputs": [],
   "source": [
    "series_chronologiques_COVID19_df.info()\n"
   ]
  },
  {
   "cell_type": "code",
   "execution_count": null,
   "metadata": {},
   "outputs": [],
   "source": [
    "series_chronologiques_COVID19_df.describe()\n"
   ]
  },
  {
   "cell_type": "markdown",
   "metadata": {},
   "source": [
    "### Examen de la distribution des données et des attributs"
   ]
  },
  {
   "cell_type": "code",
   "execution_count": null,
   "metadata": {},
   "outputs": [],
   "source": [
    "import pandas as pd\n",
    "from matplotlib import pyplot as plt\n",
    "%matplotlib inline\n",
    "from pandas.api.types import is_string_dtype, is_numeric_dtype \n",
    "\n",
    "NBR_MAX_ATTRIBUTS_AFFICHES = 53\n",
    "\n",
    "# Pour chaque attribut ou colonne d'un tableau de données / DataFrame\n",
    "# Créer une boîte à moustaches, un histogramme ou une liste de valeurs possibles\n",
    "\n",
    "def examen_distributions_attributs(un_dataframe):\n",
    "    for attribut in un_dataframe.columns:\n",
    "        # Afficher le type d'attribut\n",
    "        print(\"-\"*90)\n",
    "        print(\"Attribut:\",attribut,\", Type:\",un_dataframe.dtypes[attribut])\n",
    "        # Si c'est un attribut catégoriel alors lister toutes les valeurs possibles\n",
    "        if is_string_dtype(un_dataframe[attribut]):\n",
    "            attributs_uniques = list(un_dataframe[attribut].unique())\n",
    "            print(\"Nombre d'attributs_uniques:\",len(attributs_uniques))\n",
    "            if len(attributs_uniques) > NBR_MAX_ATTRIBUTS_AFFICHES:\n",
    "                print(\"Affichage des \" + str(NBR_MAX_ATTRIBUTS_AFFICHES) + \" premières valeurs:\")\n",
    "                print(attributs_uniques[:NBR_MAX_ATTRIBUTS_AFFICHES])\n",
    "            else:\n",
    "                print(attributs_uniques)\n",
    "                print(\"\\nun_dataframe.groupby('\"+attribut+\"').size()\\n\",un_dataframe.groupby(attribut).size())\n",
    "        if is_numeric_dtype(un_dataframe[attribut]):\n",
    "            _ = un_dataframe.boxplot(attribut, figsize=(2, 3))\n",
    "            plt.show()\n",
    "            print()\n",
    "            plt.close()\n",
    "            _ = un_dataframe[attribut].plot(kind='hist',figsize=(2, 3))\n",
    "            plt.show()\n",
    "    print(\"-\"*90)\n"
   ]
  },
  {
   "cell_type": "code",
   "execution_count": null,
   "metadata": {
    "scrolled": true
   },
   "outputs": [],
   "source": [
    "# examen_distributions_attributs(series_chronologiques_COVID19_df)\n"
   ]
  },
  {
   "cell_type": "markdown",
   "metadata": {},
   "source": [
    "### Retrait d'attributs «superflus»\n",
    "\n",
    "Puisque nous nous intéressons à l'évolution du nombre de malades dans le temps, certains attributs (colonnes du tableau de données) sont superflus ou «inutiles» et alourdissent notre analyse.\n",
    "\n",
    "Ci-dessous une liste d'attributs à retirer:"
   ]
  },
  {
   "cell_type": "code",
   "execution_count": null,
   "metadata": {},
   "outputs": [],
   "source": [
    "attributs_a_retirer = [\"Lat\",\"Long\"]\n"
   ]
  },
  {
   "cell_type": "markdown",
   "metadata": {},
   "source": [
    "Retirer les attributs «superflus» avec la fonction `.drop()`"
   ]
  },
  {
   "cell_type": "code",
   "execution_count": null,
   "metadata": {},
   "outputs": [],
   "source": [
    "series_chronologiques_COVID19_df = series_chronologiques_COVID19_df.drop(attributs_a_retirer,axis='columns')\n"
   ]
  },
  {
   "cell_type": "code",
   "execution_count": null,
   "metadata": {},
   "outputs": [],
   "source": [
    "series_chronologiques_COVID19_df.head()\n"
   ]
  },
  {
   "cell_type": "markdown",
   "metadata": {},
   "source": [
    "### Modification du format des dates\n",
    "\n",
    "Pour l'affichage de date selon la norme des pays francophones."
   ]
  },
  {
   "cell_type": "code",
   "execution_count": null,
   "metadata": {},
   "outputs": [],
   "source": [
    "new_columns = ['Province/State','Country/Region']\n",
    "for date_raw in series_chronologiques_COVID19_df.columns:\n",
    "    if not date_raw in ['Province/State','Country/Region']:\n",
    "        split_date = date_raw.split(\"/\")\n",
    "        new_date = split_date[1]+\"/\"+split_date[0]+\"/\"+split_date[2]+\"20\"\n",
    "        # print(new_date)\n",
    "        new_columns.append(new_date)\n",
    "    \n",
    "series_chronologiques_COVID19_df.columns = new_columns\n",
    "series_chronologiques_COVID19_df\n"
   ]
  },
  {
   "cell_type": "markdown",
   "metadata": {},
   "source": [
    "### Quels sont le différents pays et / ou états que l'on trouve dans les données?"
   ]
  },
  {
   "cell_type": "code",
   "execution_count": null,
   "metadata": {},
   "outputs": [],
   "source": [
    "print(list(series_chronologiques_COVID19_df['Province/State'].unique()))\n"
   ]
  },
  {
   "cell_type": "code",
   "execution_count": null,
   "metadata": {},
   "outputs": [],
   "source": [
    "print(list(series_chronologiques_COVID19_df['Country/Region'].unique()))\n"
   ]
  },
  {
   "cell_type": "markdown",
   "metadata": {},
   "source": [
    "#### Par exemple, examinons les données pour les différents états et régions des États-Unis."
   ]
  },
  {
   "cell_type": "code",
   "execution_count": null,
   "metadata": {},
   "outputs": [],
   "source": [
    "series_chronologiques_COVID19_df[series_chronologiques_COVID19_df['Country/Region']==\"US\"]\n"
   ]
  },
  {
   "cell_type": "markdown",
   "metadata": {},
   "source": [
    "#### Maintenant, examinons les données pour les différentes provinces canadiennes."
   ]
  },
  {
   "cell_type": "code",
   "execution_count": null,
   "metadata": {},
   "outputs": [],
   "source": [
    "series_chronologiques_COVID19_df[series_chronologiques_COVID19_df['Country/Region']==\"Canada\"]\n"
   ]
  },
  {
   "cell_type": "markdown",
   "metadata": {},
   "source": [
    "### Création d'une entrée supplémentaire spécifique pour le Québec (avec accent aigu) "
   ]
  },
  {
   "cell_type": "code",
   "execution_count": null,
   "metadata": {
    "scrolled": false
   },
   "outputs": [],
   "source": [
    "\n",
    "quebec_df = series_chronologiques_COVID19_df[(series_chronologiques_COVID19_df['Country/Region']==\"Canada\") & \n",
    "                                (series_chronologiques_COVID19_df['Province/State']==\"Quebec\")]\n",
    "\n",
    "quebec_df.loc[44,'Country/Region'] = 'Québec'\n",
    "quebec_df.loc[44,'Province/State'] = np.nan\n",
    "\n",
    "series_chronologiques_COVID19_df = series_chronologiques_COVID19_df.append(quebec_df , ignore_index=True)\n",
    "series_chronologiques_COVID19_df\n"
   ]
  },
  {
   "cell_type": "markdown",
   "metadata": {},
   "source": [
    "### Regroupement des données des états et provinces\n",
    "**Note** : Pour avoir un total par pays, nous allons regrouper les états et les provinces d'un même pays. Utilisaton des fonctions `.groupby()` et `.sum()`. Aussi `.reset_index()`"
   ]
  },
  {
   "cell_type": "code",
   "execution_count": null,
   "metadata": {},
   "outputs": [],
   "source": [
    "series_chronologiques_COVID19_df = series_chronologiques_COVID19_df.groupby(['Country/Region']).sum().reset_index()\n"
   ]
  },
  {
   "cell_type": "markdown",
   "metadata": {},
   "source": [
    "Vérifions que le regroupement est bien effectué, avec les données sur le Canada."
   ]
  },
  {
   "cell_type": "code",
   "execution_count": null,
   "metadata": {},
   "outputs": [],
   "source": [
    "series_chronologiques_COVID19_df[series_chronologiques_COVID19_df['Country/Region']==\"Canada\"]\n"
   ]
  },
  {
   "cell_type": "code",
   "execution_count": null,
   "metadata": {},
   "outputs": [],
   "source": [
    "series_chronologiques_COVID19_df[series_chronologiques_COVID19_df['Country/Region']==\"Québec\"]\n"
   ]
  },
  {
   "cell_type": "code",
   "execution_count": null,
   "metadata": {},
   "outputs": [],
   "source": [
    "# Correction d'une erreur dans les données du 4 avril 2020\n",
    "series_chronologiques_COVID19_df.loc[137,'4/4/2020']=6997\n",
    "series_chronologiques_COVID19_df[series_chronologiques_COVID19_df['Country/Region']==\"Québec\"]\n"
   ]
  },
  {
   "cell_type": "markdown",
   "metadata": {},
   "source": [
    "## Visualisation des données\n"
   ]
  },
  {
   "cell_type": "markdown",
   "metadata": {},
   "source": [
    "### Visualisation de l'évolution du nombre de malades dans le temps\n",
    "\n",
    "Nous allons visualiser l'évolution du nombre de malades dans le temps au moyen de graphiques et pouvoir comparer entre différents pays dans le monde.\n",
    "\n",
    "Jetons à nouveau un coup d'oeil à notre tableau de données."
   ]
  },
  {
   "cell_type": "code",
   "execution_count": null,
   "metadata": {},
   "outputs": [],
   "source": [
    "series_chronologiques_COVID19_df\n"
   ]
  },
  {
   "cell_type": "markdown",
   "metadata": {},
   "source": [
    "### Création d'un graphique multicourbes (une courbe par pays)\n",
    "\n",
    "1. Nous allons créer une visualisation simple des différentes courbes d'évolution au fil des jours du nombre de malades «confirmés» pour différents pays.\n",
    "\n",
    "\n",
    "2. Pour ne pas surcharger notre graphique, nous allons sélectionner certains pays qui sont plus représentatifs de la situation. \n",
    "\n",
    "    2.1 Évidemment le Canada\n",
    "    \n",
    "    2.2 Des pays qui ont appliqués des mesures sanitaires strictes, de quarantaine et de distanciation sociale: la Chine, le Japon, la Corée du Sud, et Singapour\n",
    "    \n",
    "    2.3 Des pays qui ont soit tardé à imposer des mesures strictes ou dont le système de santé         a manqué de moyens : la France, l'Italie, l'Iran, l'Espagne, et les États-Unis.\n",
    "\n",
    "Pour faciliter la visualisation dans un graphique plus compact, à cause de la grande disparité du nombre de malades, nous allons utiliser une échelle logarithmique pour le nombre de malades confirmés. "
   ]
  },
  {
   "cell_type": "code",
   "execution_count": null,
   "metadata": {
    "scrolled": false
   },
   "outputs": [],
   "source": [
    "import itertools\n",
    "from random import randrange\n",
    "\n",
    "nombre_dor = 1.618\n",
    "hauteur = 12\n",
    "longueur = int(nombre_dor * hauteur)\n",
    "fig, ax = plt.subplots(figsize=(longueur,hauteur))\n",
    "# https://stackoverflow.com/questions/13091649/unique-plot-marker-for-each-plot-in-matplotlib\n",
    "marqueurs = itertools.cycle(('x', '+', '.', 'X', '*'))\n",
    "couleurs = itertools.cycle(('g', 'r', 'c', 'm', 'y', 'k', 'orange', 'brown', 'lime'))\n",
    "\n",
    "import matplotlib.colors as pltcol\n",
    "\n",
    "regions = ['Québec', 'Canada', 'China', 'France', 'Italy', 'Iran', 'Japan',\n",
    "           'Korea, South', 'Singapore', 'Spain', 'United Kingdom', 'US']\n",
    "\n",
    "etiquettes = {'Québec':'Québec', 'Canada':'Canada', 'China':'Chine', 'France':'France', \n",
    "              'Italy':'Italie', 'Iran':'Iran','Japan':'Japon','Korea, South':'Corée du Sud',\n",
    "              'Singapore':'Singapour','Spain':'Espagne', 'Sweden':'Suède', \n",
    "              'United Kingdom':'Royaume-Uni', 'US':'États-Unis'}\n",
    "\n",
    "code_pays = { \n",
    "    'Québec':'qc', 'Canada':'ca', 'China':'cn', 'France':'fr', \n",
    "    'Italy':'it', 'Iran':'ir','Japan':'jp',\n",
    "    'Korea, South':'kr', 'Singapore':'sg', \n",
    "    'Spain':'es', 'Sweden':'se','United Kingdom':'gb', 'US':'us'\n",
    "} \n",
    "\n",
    "for region in regions:\n",
    "    if region == \"Québec\":\n",
    "        marqueur = \"o\"\n",
    "        couleur = \"tab:blue\"\n",
    "    else:\n",
    "        marqueur = next(marqueurs)\n",
    "        couleur = next(couleurs)\n",
    "    plt.plot(list(series_chronologiques_COVID19_df.columns[2:]), \n",
    "             list(series_chronologiques_COVID19_df[series_chronologiques_COVID19_df['Country/Region']==region].iloc[0,2:]), \n",
    "             marker=marqueur, \n",
    "             color=couleur, \n",
    "             label=etiquettes[region]+\" - \"+code_pays[region])\n",
    "    etiq_y_pos = series_chronologiques_COVID19_df[series_chronologiques_COVID19_df['Country/Region']==region].iloc[0,-1]\n",
    "    plt.text(nbr_jours-1, etiq_y_pos, code_pays[region],fontsize=14)    \n",
    "plt.legend(loc='best',fontsize=12)\n",
    "xticks(rotation=60)\n",
    "ax.set_yscale('log')\n",
    "ylim(bottom=5)\n",
    "#xlim(right=60)\n",
    "\n",
    "plt.title(u'Évolution temporelle du nombre de malades confirmés, pandémie COVID-19',fontsize=24)\n",
    "plt.xlabel(u'Date',fontsize=18)\n",
    "_ = plt.ylabel(u'Nombre de malades confirmés - échelle logarithmique',fontsize=18)\n",
    "plt.savefig('images/Evolution-COVID19-EchLog.png')\n",
    "plt.show()\n"
   ]
  },
  {
   "cell_type": "markdown",
   "metadata": {},
   "source": [
    "#### Pour mieux apprécier le phénomène d'accroissement exponentiel\n",
    "\n",
    "Pour mieux «voir» l'accroissement exponentiel, nous retirons la Chine des pays examinés et nous mettons en commentaire la ligne `ax.set_yscale('log')` qui définit l'échelle logarithmique en ordonnée (i.e. axe vertical). Nous revenons donc à une échelle linéaire."
   ]
  },
  {
   "cell_type": "code",
   "execution_count": null,
   "metadata": {
    "scrolled": false
   },
   "outputs": [],
   "source": [
    "import itertools\n",
    "\n",
    "nombre_dor = 1.618\n",
    "hauteur = 13\n",
    "longueur = int(nombre_dor * hauteur)\n",
    "fig, ax = plt.subplots(figsize=(longueur,hauteur))\n",
    "# https://stackoverflow.com/questions/13091649/unique-plot-marker-for-each-plot-in-matplotlib\n",
    "marqueurs = itertools.cycle(('x', '+', '.', 'X', '*'))\n",
    "couleurs = itertools.cycle(('g', 'r', 'c', 'm', 'y', 'k', 'orange', 'brown', 'lime'))\n",
    "\n",
    "import matplotlib.colors as pltcol\n",
    "\n",
    "regions = ['Québec', 'Canada', 'France', 'Italy', 'Iran', \n",
    "           'Japan','Korea, South', 'Singapore', 'Spain', 'United Kingdom', 'US']\n",
    "\n",
    "etiquettes = {'Québec':'Québec', 'Canada':'Canada', 'China':'Chine', 'France':'France', \n",
    "              'Italy':'Italie', 'Iran':'Iran','Japan':'Japon',\n",
    "              'Korea, South':'Corée du Sud', 'Singapore':'Singapour', \n",
    "              'Spain':'Espagne', 'United Kingdom':'Royaume-Uni', 'US':'États-Unis'}\n",
    "\n",
    "code_pays = { \n",
    "    'Québec':'qc', 'Canada':'ca', 'China':'cn', 'France':'fr', \n",
    "    'Italy':'it', 'Iran':'ir','Japan':'jp',\n",
    "    'Korea, South':'kr', 'Singapore':'sg', \n",
    "    'Spain':'es', 'Sweden':'se','United Kingdom':'gb', 'US':'us'\n",
    "} \n",
    "\n",
    "for region in regions:\n",
    "    if region == \"Québec\":\n",
    "        marqueur = \"o\"\n",
    "        couleur = \"tab:blue\"\n",
    "    else:\n",
    "        marqueur = next(marqueurs)\n",
    "        couleur = next(couleurs)\n",
    "    plt.plot(list(series_chronologiques_COVID19_df.columns[2:]), \n",
    "             list(series_chronologiques_COVID19_df[series_chronologiques_COVID19_df['Country/Region']==region].iloc[0,2:]), \n",
    "             marker=marqueur, \n",
    "             color=couleur, \n",
    "             label=etiquettes[region]+\" - \"+code_pays[region])\n",
    "    etiq_y_pos = series_chronologiques_COVID19_df[series_chronologiques_COVID19_df['Country/Region']==region].iloc[0,-1]\n",
    "    plt.text(nbr_jours-1, etiq_y_pos, code_pays[region],fontsize=14)    \n",
    "plt.legend(loc='best',fontsize=14)\n",
    "xticks(rotation=60)\n",
    "#ax.set_yscale('log')\n",
    "ylim(bottom=0)\n",
    "plt.title(u'Évolution temporelle du nombre de malades confirmés, pandémie COVID-19 (sans la Chine)',fontsize=24)\n",
    "plt.xlabel(u'Date',fontsize=18)\n",
    "_ = plt.ylabel(u'Nombre de malades confirmés - échelle linéaire',fontsize=18)\n",
    "plt.savefig('images/Evolution-COVID19-moins_Chine-EchNormale.png')\n",
    "plt.show()\n"
   ]
  },
  {
   "cell_type": "markdown",
   "metadata": {},
   "source": [
    "## Analyse sommaire\n",
    "\n",
    "On constate que les pays, comme la Chine, le Japon, Taïwan, la Corée du sud et Singapour, qui ont pris des mesures draconiennes de quarantaine et l'éloignement physique (la mal nommée distanciation sociale), ont réussi à contenir l'accroissement du nombre de cas. \n",
    "\n",
    "Au contraire, les pays qui ont tardé à réagir ou manqué de ressources comme l'Italie, l'Iran, les États-Unis, la France ou l'Espagne n'ont pas encore réussi à ralentir l'accroissement du nombre de malades. Pour le moment le Canada et le Québec se situent entre les deux, mais la tendance des derniers jours fait redouter une potentielle explosion du nombre de malades. Le talon d'Achille demeure les hôpitaux de soins de longue durée (CHSLD) et les résidences pour personnes âgées.\n",
    "\n",
    "Signe encourageant, on constate une inflexion graduelle du taux d'augmentation au Québec, la courbe s'aplatit. Il est important de ne pas relâcher les mesures d'hygiène et d'isolement physique car il existe un risque de rebond. "
   ]
  },
  {
   "cell_type": "code",
   "execution_count": null,
   "metadata": {},
   "outputs": [],
   "source": []
  }
 ],
 "metadata": {
  "kernelspec": {
   "display_name": "Python 3",
   "language": "python",
   "name": "python3"
  },
  "language_info": {
   "codemirror_mode": {
    "name": "ipython",
    "version": 3
   },
   "file_extension": ".py",
   "mimetype": "text/x-python",
   "name": "python",
   "nbconvert_exporter": "python",
   "pygments_lexer": "ipython3",
   "version": "3.6.5"
  }
 },
 "nbformat": 4,
 "nbformat_minor": 1
}

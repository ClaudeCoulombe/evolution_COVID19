{
 "cells": [
  {
   "cell_type": "markdown",
   "metadata": {},
   "source": [
    "<img src=\"images/ScDo-Bandeau_Lingua_Technologies.png\" style=\"width: 100%;float:center;\"/>\n",
    "\n",
    "<h1 style=\"font-size:250%;text-align:center\">Prédiction de l'évolution temporelle de la</h1>\n",
    "<h1 style=\"font-size:250%;text-align:center\">pandémie du COVID-19</h1>\n",
    "<h1 style=\"font-size:250%;text-align:center\">modèles prédictifs</h1>\n",
    "<h4 style=\"font-size:150%;text-align:center\">par Claude COULOMBE</h4>\n",
    "<h5 style=\"font-size:100%;text-align:center\">PhD, scientifique de données, consultant Lingua Technologies</h5>\n",
    "\n",
    "\n",
    "<img src=\"images/ScDo-pandas_logo.png\" width=400 />\n",
    "\n",
    "Pour contrer l'anxiété de la pandémie de COVID-19, rien de mieux que d'agir. J'ai donc préparé un petit carnet Web Python, prétexte pour un petit exercice d'exploration de données avec Pandas. Maintenant un petit carnet web IPython avec des modèles prédictifs. \n",
    "\n",
    "**Attention!** Je ne suis pas épidémiologiste! Il s'agit d'un exercice «amateur» réalisé comme un loisir scientifique. Je suis ouvert à la discussion pour améliorer mes modèles et pour le plaisir d'apprendre. Aussi ces modèles ne sont bons que pour faire des prédictions à court terme. Par exemple. pour prédire un cycle épidémique, un modèle ARIMA ou d'ajustement de courbes doit disposer d'au moins un cycle complet de données. \n",
    "\n",
    "Une autre approche consisterait à se baser sur le comportement de l'épidémie en Chine et ajuster les paramètres aux données locales. J'ignore toutefois si cela donnerait des résultats fiables. \n",
    "\n",
    "**Note:** Pour faire des prédictions plus complètes et à plus long terme, des simulations avec des modèles mathématiques à base d'équations différentielles seraient plus appropriées (https://bit.ly/2JEMe3g). D'ailleurs certains paramètres de ces modèles peuvent être extraits des données. Pour avoir une idée du fonctionnment de tels modèles, avec des simulations-jouets, allez voir les capsules vidéos de Grant Sanderson (3Blue1Brown), mon infographiste scientifique préféré: https://bit.ly/33Umjhe\n",
    "\n",
    "<hr style=\"height:1px\">\n",
    "\n",
    "**Références:**\n",
    "\n",
    "COVID-19: Time Series Analysis With ARIMA Modelling<br/>\n",
    "https://bit.ly/2xK3GAI\n",
    "\n",
    "Epidemiology and ARIMA model of positive-rate of influenza viruses among children in Wuhan, China: A nine-year retrospective study<br/>\n",
    "https://bit.ly/3dJAfiJ\n",
    "\n",
    "Application of the ARIMA model on the COVID-2019 epidemic dataset<br/>\n",
    "https://bit.ly/2xMfFNR\n",
    "\n",
    "Forecasting of COVID-19 Confirmed Cases in Different Countries with ARIMA Models<br/>\n",
    "https://bit.ly/2UTRe9b\n",
    "\n",
    "<hr style=\"height:1px\">\n",
    "\n",
    "<h3><i>« Prédire est difficile, surtout lorsqu’il s’agit de l’avenir »</i></h3><br/>\n",
    "<div style=\"margin-left:450px\">proverbe danois</div>\n",
    "\n",
    "<hr style=\"height:1px\">"
   ]
  },
  {
   "cell_type": "markdown",
   "metadata": {},
   "source": [
    "### Importation des bibliothèques utilisées"
   ]
  },
  {
   "cell_type": "code",
   "execution_count": 443,
   "metadata": {},
   "outputs": [
    {
     "name": "stdout",
     "output_type": "stream",
     "text": [
      "Bibliothèques importées!\n"
     ]
    }
   ],
   "source": [
    "# Importation des bibliothèques\n",
    "import numpy as np\n",
    "import pandas as pd\n",
    "import matplotlib.pyplot as plt\n",
    "from pylab import *\n",
    "%matplotlib inline\n",
    "\n",
    "print(\"Bibliothèques importées!\")"
   ]
  },
  {
   "cell_type": "markdown",
   "metadata": {
    "collapsed": true
   },
   "source": [
    "## Données\n",
    "\n",
    "### Dépôt de données ouvertes du COVID-19 - John Hopkins University\n",
    "\n",
    "\n",
    "https://github.com/CSSEGISandData/COVID-19\n",
    "\n",
    "<img src=\"\" style=\"width: 100%;float:center;\"/>\n",
    "\n",
    "**Note** : Les données contenues dans le répertoire DATA doivent être mise à jour régulièrement pour refléter l'évolution de la pandémie dans le temps. \n"
   ]
  },
  {
   "cell_type": "markdown",
   "metadata": {},
   "source": [
    "### Lecture des données\n",
    "\n",
    "Nous nous intéressons au fichier `time_series_19-covid-Confirmed.csv` qui contient les données sur les cas confirmés de COVID-19\n",
    "\n",
    "wget --no-check-certificate https://raw.githubusercontent.com/CSSEGISandData/COVID-19/master/csse_covid_19_data/csse_covid_19_time_series/time_series_covid19_confirmed_global.csv?raw=True -O time_series_covid19_confirmed_global.csv"
   ]
  },
  {
   "cell_type": "code",
   "execution_count": 444,
   "metadata": {},
   "outputs": [],
   "source": [
    "# Note - bonne pratique de postfixer les Dataframe par _df (Rappel: Python n'est pas typé)\n",
    "series_chronologiques_COVID19_df = pd.read_csv('DATA/csse_covid_19_time_series/time_series_covid19_confirmed_global.csv',sep=',')\n"
   ]
  },
  {
   "cell_type": "code",
   "execution_count": 445,
   "metadata": {},
   "outputs": [
    {
     "name": "stdout",
     "output_type": "stream",
     "text": [
      "/home/user/evolution_COVID19\r\n"
     ]
    }
   ],
   "source": [
    "!pwd"
   ]
  },
  {
   "cell_type": "code",
   "execution_count": 446,
   "metadata": {},
   "outputs": [
    {
     "data": {
      "text/html": [
       "<div>\n",
       "<style scoped>\n",
       "    .dataframe tbody tr th:only-of-type {\n",
       "        vertical-align: middle;\n",
       "    }\n",
       "\n",
       "    .dataframe tbody tr th {\n",
       "        vertical-align: top;\n",
       "    }\n",
       "\n",
       "    .dataframe thead th {\n",
       "        text-align: right;\n",
       "    }\n",
       "</style>\n",
       "<table border=\"1\" class=\"dataframe\">\n",
       "  <thead>\n",
       "    <tr style=\"text-align: right;\">\n",
       "      <th></th>\n",
       "      <th>Province/State</th>\n",
       "      <th>Country/Region</th>\n",
       "      <th>Lat</th>\n",
       "      <th>Long</th>\n",
       "      <th>1/22/20</th>\n",
       "      <th>1/23/20</th>\n",
       "      <th>1/24/20</th>\n",
       "      <th>1/25/20</th>\n",
       "      <th>1/26/20</th>\n",
       "      <th>1/27/20</th>\n",
       "      <th>...</th>\n",
       "      <th>12/26/21</th>\n",
       "      <th>12/27/21</th>\n",
       "      <th>12/28/21</th>\n",
       "      <th>12/29/21</th>\n",
       "      <th>12/30/21</th>\n",
       "      <th>12/31/21</th>\n",
       "      <th>1/1/22</th>\n",
       "      <th>1/2/22</th>\n",
       "      <th>1/3/22</th>\n",
       "      <th>1/4/22</th>\n",
       "    </tr>\n",
       "  </thead>\n",
       "  <tbody>\n",
       "    <tr>\n",
       "      <th>0</th>\n",
       "      <td>NaN</td>\n",
       "      <td>Afghanistan</td>\n",
       "      <td>33.939110</td>\n",
       "      <td>67.709953</td>\n",
       "      <td>0</td>\n",
       "      <td>0</td>\n",
       "      <td>0</td>\n",
       "      <td>0</td>\n",
       "      <td>0</td>\n",
       "      <td>0</td>\n",
       "      <td>...</td>\n",
       "      <td>157951</td>\n",
       "      <td>157967</td>\n",
       "      <td>157998</td>\n",
       "      <td>158037</td>\n",
       "      <td>158056</td>\n",
       "      <td>158084</td>\n",
       "      <td>158107</td>\n",
       "      <td>158189</td>\n",
       "      <td>158183</td>\n",
       "      <td>158205</td>\n",
       "    </tr>\n",
       "    <tr>\n",
       "      <th>1</th>\n",
       "      <td>NaN</td>\n",
       "      <td>Albania</td>\n",
       "      <td>41.153300</td>\n",
       "      <td>20.168300</td>\n",
       "      <td>0</td>\n",
       "      <td>0</td>\n",
       "      <td>0</td>\n",
       "      <td>0</td>\n",
       "      <td>0</td>\n",
       "      <td>0</td>\n",
       "      <td>...</td>\n",
       "      <td>207709</td>\n",
       "      <td>207709</td>\n",
       "      <td>208352</td>\n",
       "      <td>208899</td>\n",
       "      <td>208899</td>\n",
       "      <td>210224</td>\n",
       "      <td>210224</td>\n",
       "      <td>210885</td>\n",
       "      <td>210885</td>\n",
       "      <td>212021</td>\n",
       "    </tr>\n",
       "    <tr>\n",
       "      <th>2</th>\n",
       "      <td>NaN</td>\n",
       "      <td>Algeria</td>\n",
       "      <td>28.033900</td>\n",
       "      <td>1.659600</td>\n",
       "      <td>0</td>\n",
       "      <td>0</td>\n",
       "      <td>0</td>\n",
       "      <td>0</td>\n",
       "      <td>0</td>\n",
       "      <td>0</td>\n",
       "      <td>...</td>\n",
       "      <td>216637</td>\n",
       "      <td>216930</td>\n",
       "      <td>217265</td>\n",
       "      <td>217647</td>\n",
       "      <td>218037</td>\n",
       "      <td>218432</td>\n",
       "      <td>218818</td>\n",
       "      <td>219159</td>\n",
       "      <td>219532</td>\n",
       "      <td>219953</td>\n",
       "    </tr>\n",
       "    <tr>\n",
       "      <th>3</th>\n",
       "      <td>NaN</td>\n",
       "      <td>Andorra</td>\n",
       "      <td>42.506300</td>\n",
       "      <td>1.521800</td>\n",
       "      <td>0</td>\n",
       "      <td>0</td>\n",
       "      <td>0</td>\n",
       "      <td>0</td>\n",
       "      <td>0</td>\n",
       "      <td>0</td>\n",
       "      <td>...</td>\n",
       "      <td>21730</td>\n",
       "      <td>22332</td>\n",
       "      <td>22540</td>\n",
       "      <td>22823</td>\n",
       "      <td>23122</td>\n",
       "      <td>23740</td>\n",
       "      <td>23740</td>\n",
       "      <td>23740</td>\n",
       "      <td>24502</td>\n",
       "      <td>24802</td>\n",
       "    </tr>\n",
       "    <tr>\n",
       "      <th>4</th>\n",
       "      <td>NaN</td>\n",
       "      <td>Angola</td>\n",
       "      <td>-11.202700</td>\n",
       "      <td>17.873900</td>\n",
       "      <td>0</td>\n",
       "      <td>0</td>\n",
       "      <td>0</td>\n",
       "      <td>0</td>\n",
       "      <td>0</td>\n",
       "      <td>0</td>\n",
       "      <td>...</td>\n",
       "      <td>71752</td>\n",
       "      <td>71752</td>\n",
       "      <td>76787</td>\n",
       "      <td>78475</td>\n",
       "      <td>79871</td>\n",
       "      <td>81593</td>\n",
       "      <td>82398</td>\n",
       "      <td>82920</td>\n",
       "      <td>83764</td>\n",
       "      <td>84666</td>\n",
       "    </tr>\n",
       "    <tr>\n",
       "      <th>...</th>\n",
       "      <td>...</td>\n",
       "      <td>...</td>\n",
       "      <td>...</td>\n",
       "      <td>...</td>\n",
       "      <td>...</td>\n",
       "      <td>...</td>\n",
       "      <td>...</td>\n",
       "      <td>...</td>\n",
       "      <td>...</td>\n",
       "      <td>...</td>\n",
       "      <td>...</td>\n",
       "      <td>...</td>\n",
       "      <td>...</td>\n",
       "      <td>...</td>\n",
       "      <td>...</td>\n",
       "      <td>...</td>\n",
       "      <td>...</td>\n",
       "      <td>...</td>\n",
       "      <td>...</td>\n",
       "      <td>...</td>\n",
       "      <td>...</td>\n",
       "    </tr>\n",
       "    <tr>\n",
       "      <th>275</th>\n",
       "      <td>NaN</td>\n",
       "      <td>Vietnam</td>\n",
       "      <td>14.058324</td>\n",
       "      <td>108.277199</td>\n",
       "      <td>0</td>\n",
       "      <td>2</td>\n",
       "      <td>2</td>\n",
       "      <td>2</td>\n",
       "      <td>2</td>\n",
       "      <td>2</td>\n",
       "      <td>...</td>\n",
       "      <td>1651673</td>\n",
       "      <td>1666545</td>\n",
       "      <td>1680985</td>\n",
       "      <td>1694874</td>\n",
       "      <td>1714742</td>\n",
       "      <td>1731257</td>\n",
       "      <td>1746092</td>\n",
       "      <td>1763040</td>\n",
       "      <td>1778976</td>\n",
       "      <td>1800704</td>\n",
       "    </tr>\n",
       "    <tr>\n",
       "      <th>276</th>\n",
       "      <td>NaN</td>\n",
       "      <td>West Bank and Gaza</td>\n",
       "      <td>31.952200</td>\n",
       "      <td>35.233200</td>\n",
       "      <td>0</td>\n",
       "      <td>0</td>\n",
       "      <td>0</td>\n",
       "      <td>0</td>\n",
       "      <td>0</td>\n",
       "      <td>0</td>\n",
       "      <td>...</td>\n",
       "      <td>467682</td>\n",
       "      <td>468619</td>\n",
       "      <td>469452</td>\n",
       "      <td>469748</td>\n",
       "      <td>469748</td>\n",
       "      <td>469748</td>\n",
       "      <td>469748</td>\n",
       "      <td>469748</td>\n",
       "      <td>469748</td>\n",
       "      <td>471090</td>\n",
       "    </tr>\n",
       "    <tr>\n",
       "      <th>277</th>\n",
       "      <td>NaN</td>\n",
       "      <td>Yemen</td>\n",
       "      <td>15.552727</td>\n",
       "      <td>48.516388</td>\n",
       "      <td>0</td>\n",
       "      <td>0</td>\n",
       "      <td>0</td>\n",
       "      <td>0</td>\n",
       "      <td>0</td>\n",
       "      <td>0</td>\n",
       "      <td>...</td>\n",
       "      <td>10115</td>\n",
       "      <td>10118</td>\n",
       "      <td>10123</td>\n",
       "      <td>10125</td>\n",
       "      <td>10126</td>\n",
       "      <td>10126</td>\n",
       "      <td>10127</td>\n",
       "      <td>10130</td>\n",
       "      <td>10138</td>\n",
       "      <td>10143</td>\n",
       "    </tr>\n",
       "    <tr>\n",
       "      <th>278</th>\n",
       "      <td>NaN</td>\n",
       "      <td>Zambia</td>\n",
       "      <td>-13.133897</td>\n",
       "      <td>27.849332</td>\n",
       "      <td>0</td>\n",
       "      <td>0</td>\n",
       "      <td>0</td>\n",
       "      <td>0</td>\n",
       "      <td>0</td>\n",
       "      <td>0</td>\n",
       "      <td>...</td>\n",
       "      <td>233120</td>\n",
       "      <td>234476</td>\n",
       "      <td>238383</td>\n",
       "      <td>243638</td>\n",
       "      <td>249193</td>\n",
       "      <td>254274</td>\n",
       "      <td>257948</td>\n",
       "      <td>259677</td>\n",
       "      <td>261221</td>\n",
       "      <td>265479</td>\n",
       "    </tr>\n",
       "    <tr>\n",
       "      <th>279</th>\n",
       "      <td>NaN</td>\n",
       "      <td>Zimbabwe</td>\n",
       "      <td>-19.015438</td>\n",
       "      <td>29.154857</td>\n",
       "      <td>0</td>\n",
       "      <td>0</td>\n",
       "      <td>0</td>\n",
       "      <td>0</td>\n",
       "      <td>0</td>\n",
       "      <td>0</td>\n",
       "      <td>...</td>\n",
       "      <td>204351</td>\n",
       "      <td>205449</td>\n",
       "      <td>207548</td>\n",
       "      <td>207548</td>\n",
       "      <td>211728</td>\n",
       "      <td>213258</td>\n",
       "      <td>214214</td>\n",
       "      <td>214214</td>\n",
       "      <td>216087</td>\n",
       "      <td>217678</td>\n",
       "    </tr>\n",
       "  </tbody>\n",
       "</table>\n",
       "<p>280 rows × 718 columns</p>\n",
       "</div>"
      ],
      "text/plain": [
       "    Province/State      Country/Region        Lat        Long  1/22/20  \\\n",
       "0              NaN         Afghanistan  33.939110   67.709953        0   \n",
       "1              NaN             Albania  41.153300   20.168300        0   \n",
       "2              NaN             Algeria  28.033900    1.659600        0   \n",
       "3              NaN             Andorra  42.506300    1.521800        0   \n",
       "4              NaN              Angola -11.202700   17.873900        0   \n",
       "..             ...                 ...        ...         ...      ...   \n",
       "275            NaN             Vietnam  14.058324  108.277199        0   \n",
       "276            NaN  West Bank and Gaza  31.952200   35.233200        0   \n",
       "277            NaN               Yemen  15.552727   48.516388        0   \n",
       "278            NaN              Zambia -13.133897   27.849332        0   \n",
       "279            NaN            Zimbabwe -19.015438   29.154857        0   \n",
       "\n",
       "     1/23/20  1/24/20  1/25/20  1/26/20  1/27/20  ...  12/26/21  12/27/21  \\\n",
       "0          0        0        0        0        0  ...    157951    157967   \n",
       "1          0        0        0        0        0  ...    207709    207709   \n",
       "2          0        0        0        0        0  ...    216637    216930   \n",
       "3          0        0        0        0        0  ...     21730     22332   \n",
       "4          0        0        0        0        0  ...     71752     71752   \n",
       "..       ...      ...      ...      ...      ...  ...       ...       ...   \n",
       "275        2        2        2        2        2  ...   1651673   1666545   \n",
       "276        0        0        0        0        0  ...    467682    468619   \n",
       "277        0        0        0        0        0  ...     10115     10118   \n",
       "278        0        0        0        0        0  ...    233120    234476   \n",
       "279        0        0        0        0        0  ...    204351    205449   \n",
       "\n",
       "     12/28/21  12/29/21  12/30/21  12/31/21   1/1/22   1/2/22   1/3/22  \\\n",
       "0      157998    158037    158056    158084   158107   158189   158183   \n",
       "1      208352    208899    208899    210224   210224   210885   210885   \n",
       "2      217265    217647    218037    218432   218818   219159   219532   \n",
       "3       22540     22823     23122     23740    23740    23740    24502   \n",
       "4       76787     78475     79871     81593    82398    82920    83764   \n",
       "..        ...       ...       ...       ...      ...      ...      ...   \n",
       "275   1680985   1694874   1714742   1731257  1746092  1763040  1778976   \n",
       "276    469452    469748    469748    469748   469748   469748   469748   \n",
       "277     10123     10125     10126     10126    10127    10130    10138   \n",
       "278    238383    243638    249193    254274   257948   259677   261221   \n",
       "279    207548    207548    211728    213258   214214   214214   216087   \n",
       "\n",
       "      1/4/22  \n",
       "0     158205  \n",
       "1     212021  \n",
       "2     219953  \n",
       "3      24802  \n",
       "4      84666  \n",
       "..       ...  \n",
       "275  1800704  \n",
       "276   471090  \n",
       "277    10143  \n",
       "278   265479  \n",
       "279   217678  \n",
       "\n",
       "[280 rows x 718 columns]"
      ]
     },
     "execution_count": 446,
     "metadata": {},
     "output_type": "execute_result"
    }
   ],
   "source": [
    "series_chronologiques_COVID19_df\n"
   ]
  },
  {
   "cell_type": "markdown",
   "metadata": {},
   "source": [
    "### Retrait d'attributs «superflus»\n",
    "\n",
    "Puisque nous nous intéressons à l'évolution du nombre de malades dans le temps, certains attributs (colonnes du tableau de données) sont superflus ou «inutiles» et alourdissent notre analyse.\n",
    "\n",
    "Ci-dessous une liste d'attributs à retirer:"
   ]
  },
  {
   "cell_type": "code",
   "execution_count": 447,
   "metadata": {},
   "outputs": [],
   "source": [
    "attributs_a_retirer = [\"Lat\",\"Long\"]\n"
   ]
  },
  {
   "cell_type": "markdown",
   "metadata": {},
   "source": [
    "Retirer les attributs «superflus» avec la fonction `.drop()`"
   ]
  },
  {
   "cell_type": "code",
   "execution_count": 448,
   "metadata": {},
   "outputs": [],
   "source": [
    "series_chronologiques_COVID19_df = series_chronologiques_COVID19_df.drop(attributs_a_retirer,axis='columns')\n"
   ]
  },
  {
   "cell_type": "code",
   "execution_count": 449,
   "metadata": {},
   "outputs": [
    {
     "data": {
      "text/html": [
       "<div>\n",
       "<style scoped>\n",
       "    .dataframe tbody tr th:only-of-type {\n",
       "        vertical-align: middle;\n",
       "    }\n",
       "\n",
       "    .dataframe tbody tr th {\n",
       "        vertical-align: top;\n",
       "    }\n",
       "\n",
       "    .dataframe thead th {\n",
       "        text-align: right;\n",
       "    }\n",
       "</style>\n",
       "<table border=\"1\" class=\"dataframe\">\n",
       "  <thead>\n",
       "    <tr style=\"text-align: right;\">\n",
       "      <th></th>\n",
       "      <th>Province/State</th>\n",
       "      <th>Country/Region</th>\n",
       "      <th>1/22/20</th>\n",
       "      <th>1/23/20</th>\n",
       "      <th>1/24/20</th>\n",
       "      <th>1/25/20</th>\n",
       "      <th>1/26/20</th>\n",
       "      <th>1/27/20</th>\n",
       "      <th>1/28/20</th>\n",
       "      <th>1/29/20</th>\n",
       "      <th>...</th>\n",
       "      <th>12/26/21</th>\n",
       "      <th>12/27/21</th>\n",
       "      <th>12/28/21</th>\n",
       "      <th>12/29/21</th>\n",
       "      <th>12/30/21</th>\n",
       "      <th>12/31/21</th>\n",
       "      <th>1/1/22</th>\n",
       "      <th>1/2/22</th>\n",
       "      <th>1/3/22</th>\n",
       "      <th>1/4/22</th>\n",
       "    </tr>\n",
       "  </thead>\n",
       "  <tbody>\n",
       "    <tr>\n",
       "      <th>0</th>\n",
       "      <td>NaN</td>\n",
       "      <td>Afghanistan</td>\n",
       "      <td>0</td>\n",
       "      <td>0</td>\n",
       "      <td>0</td>\n",
       "      <td>0</td>\n",
       "      <td>0</td>\n",
       "      <td>0</td>\n",
       "      <td>0</td>\n",
       "      <td>0</td>\n",
       "      <td>...</td>\n",
       "      <td>157951</td>\n",
       "      <td>157967</td>\n",
       "      <td>157998</td>\n",
       "      <td>158037</td>\n",
       "      <td>158056</td>\n",
       "      <td>158084</td>\n",
       "      <td>158107</td>\n",
       "      <td>158189</td>\n",
       "      <td>158183</td>\n",
       "      <td>158205</td>\n",
       "    </tr>\n",
       "    <tr>\n",
       "      <th>1</th>\n",
       "      <td>NaN</td>\n",
       "      <td>Albania</td>\n",
       "      <td>0</td>\n",
       "      <td>0</td>\n",
       "      <td>0</td>\n",
       "      <td>0</td>\n",
       "      <td>0</td>\n",
       "      <td>0</td>\n",
       "      <td>0</td>\n",
       "      <td>0</td>\n",
       "      <td>...</td>\n",
       "      <td>207709</td>\n",
       "      <td>207709</td>\n",
       "      <td>208352</td>\n",
       "      <td>208899</td>\n",
       "      <td>208899</td>\n",
       "      <td>210224</td>\n",
       "      <td>210224</td>\n",
       "      <td>210885</td>\n",
       "      <td>210885</td>\n",
       "      <td>212021</td>\n",
       "    </tr>\n",
       "    <tr>\n",
       "      <th>2</th>\n",
       "      <td>NaN</td>\n",
       "      <td>Algeria</td>\n",
       "      <td>0</td>\n",
       "      <td>0</td>\n",
       "      <td>0</td>\n",
       "      <td>0</td>\n",
       "      <td>0</td>\n",
       "      <td>0</td>\n",
       "      <td>0</td>\n",
       "      <td>0</td>\n",
       "      <td>...</td>\n",
       "      <td>216637</td>\n",
       "      <td>216930</td>\n",
       "      <td>217265</td>\n",
       "      <td>217647</td>\n",
       "      <td>218037</td>\n",
       "      <td>218432</td>\n",
       "      <td>218818</td>\n",
       "      <td>219159</td>\n",
       "      <td>219532</td>\n",
       "      <td>219953</td>\n",
       "    </tr>\n",
       "    <tr>\n",
       "      <th>3</th>\n",
       "      <td>NaN</td>\n",
       "      <td>Andorra</td>\n",
       "      <td>0</td>\n",
       "      <td>0</td>\n",
       "      <td>0</td>\n",
       "      <td>0</td>\n",
       "      <td>0</td>\n",
       "      <td>0</td>\n",
       "      <td>0</td>\n",
       "      <td>0</td>\n",
       "      <td>...</td>\n",
       "      <td>21730</td>\n",
       "      <td>22332</td>\n",
       "      <td>22540</td>\n",
       "      <td>22823</td>\n",
       "      <td>23122</td>\n",
       "      <td>23740</td>\n",
       "      <td>23740</td>\n",
       "      <td>23740</td>\n",
       "      <td>24502</td>\n",
       "      <td>24802</td>\n",
       "    </tr>\n",
       "    <tr>\n",
       "      <th>4</th>\n",
       "      <td>NaN</td>\n",
       "      <td>Angola</td>\n",
       "      <td>0</td>\n",
       "      <td>0</td>\n",
       "      <td>0</td>\n",
       "      <td>0</td>\n",
       "      <td>0</td>\n",
       "      <td>0</td>\n",
       "      <td>0</td>\n",
       "      <td>0</td>\n",
       "      <td>...</td>\n",
       "      <td>71752</td>\n",
       "      <td>71752</td>\n",
       "      <td>76787</td>\n",
       "      <td>78475</td>\n",
       "      <td>79871</td>\n",
       "      <td>81593</td>\n",
       "      <td>82398</td>\n",
       "      <td>82920</td>\n",
       "      <td>83764</td>\n",
       "      <td>84666</td>\n",
       "    </tr>\n",
       "  </tbody>\n",
       "</table>\n",
       "<p>5 rows × 716 columns</p>\n",
       "</div>"
      ],
      "text/plain": [
       "  Province/State Country/Region  1/22/20  1/23/20  1/24/20  1/25/20  1/26/20  \\\n",
       "0            NaN    Afghanistan        0        0        0        0        0   \n",
       "1            NaN        Albania        0        0        0        0        0   \n",
       "2            NaN        Algeria        0        0        0        0        0   \n",
       "3            NaN        Andorra        0        0        0        0        0   \n",
       "4            NaN         Angola        0        0        0        0        0   \n",
       "\n",
       "   1/27/20  1/28/20  1/29/20  ...  12/26/21  12/27/21  12/28/21  12/29/21  \\\n",
       "0        0        0        0  ...    157951    157967    157998    158037   \n",
       "1        0        0        0  ...    207709    207709    208352    208899   \n",
       "2        0        0        0  ...    216637    216930    217265    217647   \n",
       "3        0        0        0  ...     21730     22332     22540     22823   \n",
       "4        0        0        0  ...     71752     71752     76787     78475   \n",
       "\n",
       "   12/30/21  12/31/21  1/1/22  1/2/22  1/3/22  1/4/22  \n",
       "0    158056    158084  158107  158189  158183  158205  \n",
       "1    208899    210224  210224  210885  210885  212021  \n",
       "2    218037    218432  218818  219159  219532  219953  \n",
       "3     23122     23740   23740   23740   24502   24802  \n",
       "4     79871     81593   82398   82920   83764   84666  \n",
       "\n",
       "[5 rows x 716 columns]"
      ]
     },
     "execution_count": 449,
     "metadata": {},
     "output_type": "execute_result"
    }
   ],
   "source": [
    "series_chronologiques_COVID19_df.head()\n"
   ]
  },
  {
   "cell_type": "markdown",
   "metadata": {},
   "source": [
    "#### Maintenant, examinons les données pour les différentes provinces canadiennes."
   ]
  },
  {
   "cell_type": "code",
   "execution_count": 450,
   "metadata": {},
   "outputs": [
    {
     "data": {
      "text/html": [
       "<div>\n",
       "<style scoped>\n",
       "    .dataframe tbody tr th:only-of-type {\n",
       "        vertical-align: middle;\n",
       "    }\n",
       "\n",
       "    .dataframe tbody tr th {\n",
       "        vertical-align: top;\n",
       "    }\n",
       "\n",
       "    .dataframe thead th {\n",
       "        text-align: right;\n",
       "    }\n",
       "</style>\n",
       "<table border=\"1\" class=\"dataframe\">\n",
       "  <thead>\n",
       "    <tr style=\"text-align: right;\">\n",
       "      <th></th>\n",
       "      <th>Province/State</th>\n",
       "      <th>Country/Region</th>\n",
       "      <th>1/22/20</th>\n",
       "      <th>1/23/20</th>\n",
       "      <th>1/24/20</th>\n",
       "      <th>1/25/20</th>\n",
       "      <th>1/26/20</th>\n",
       "      <th>1/27/20</th>\n",
       "      <th>1/28/20</th>\n",
       "      <th>1/29/20</th>\n",
       "      <th>...</th>\n",
       "      <th>12/26/21</th>\n",
       "      <th>12/27/21</th>\n",
       "      <th>12/28/21</th>\n",
       "      <th>12/29/21</th>\n",
       "      <th>12/30/21</th>\n",
       "      <th>12/31/21</th>\n",
       "      <th>1/1/22</th>\n",
       "      <th>1/2/22</th>\n",
       "      <th>1/3/22</th>\n",
       "      <th>1/4/22</th>\n",
       "    </tr>\n",
       "  </thead>\n",
       "  <tbody>\n",
       "    <tr>\n",
       "      <th>39</th>\n",
       "      <td>Alberta</td>\n",
       "      <td>Canada</td>\n",
       "      <td>0</td>\n",
       "      <td>0</td>\n",
       "      <td>0</td>\n",
       "      <td>0</td>\n",
       "      <td>0</td>\n",
       "      <td>0</td>\n",
       "      <td>0</td>\n",
       "      <td>0</td>\n",
       "      <td>...</td>\n",
       "      <td>346705</td>\n",
       "      <td>346705</td>\n",
       "      <td>346705</td>\n",
       "      <td>357623</td>\n",
       "      <td>361623</td>\n",
       "      <td>361623</td>\n",
       "      <td>361623</td>\n",
       "      <td>361623</td>\n",
       "      <td>361623</td>\n",
       "      <td>379374</td>\n",
       "    </tr>\n",
       "    <tr>\n",
       "      <th>40</th>\n",
       "      <td>British Columbia</td>\n",
       "      <td>Canada</td>\n",
       "      <td>0</td>\n",
       "      <td>0</td>\n",
       "      <td>0</td>\n",
       "      <td>0</td>\n",
       "      <td>0</td>\n",
       "      <td>0</td>\n",
       "      <td>1</td>\n",
       "      <td>1</td>\n",
       "      <td>...</td>\n",
       "      <td>235658</td>\n",
       "      <td>235658</td>\n",
       "      <td>235658</td>\n",
       "      <td>246671</td>\n",
       "      <td>251054</td>\n",
       "      <td>254849</td>\n",
       "      <td>254849</td>\n",
       "      <td>254849</td>\n",
       "      <td>254849</td>\n",
       "      <td>266710</td>\n",
       "    </tr>\n",
       "    <tr>\n",
       "      <th>41</th>\n",
       "      <td>Diamond Princess</td>\n",
       "      <td>Canada</td>\n",
       "      <td>0</td>\n",
       "      <td>0</td>\n",
       "      <td>0</td>\n",
       "      <td>0</td>\n",
       "      <td>0</td>\n",
       "      <td>0</td>\n",
       "      <td>0</td>\n",
       "      <td>0</td>\n",
       "      <td>...</td>\n",
       "      <td>0</td>\n",
       "      <td>0</td>\n",
       "      <td>0</td>\n",
       "      <td>0</td>\n",
       "      <td>0</td>\n",
       "      <td>0</td>\n",
       "      <td>0</td>\n",
       "      <td>0</td>\n",
       "      <td>0</td>\n",
       "      <td>0</td>\n",
       "    </tr>\n",
       "    <tr>\n",
       "      <th>42</th>\n",
       "      <td>Grand Princess</td>\n",
       "      <td>Canada</td>\n",
       "      <td>0</td>\n",
       "      <td>0</td>\n",
       "      <td>0</td>\n",
       "      <td>0</td>\n",
       "      <td>0</td>\n",
       "      <td>0</td>\n",
       "      <td>0</td>\n",
       "      <td>0</td>\n",
       "      <td>...</td>\n",
       "      <td>13</td>\n",
       "      <td>13</td>\n",
       "      <td>13</td>\n",
       "      <td>13</td>\n",
       "      <td>13</td>\n",
       "      <td>13</td>\n",
       "      <td>13</td>\n",
       "      <td>13</td>\n",
       "      <td>13</td>\n",
       "      <td>13</td>\n",
       "    </tr>\n",
       "    <tr>\n",
       "      <th>43</th>\n",
       "      <td>Manitoba</td>\n",
       "      <td>Canada</td>\n",
       "      <td>0</td>\n",
       "      <td>0</td>\n",
       "      <td>0</td>\n",
       "      <td>0</td>\n",
       "      <td>0</td>\n",
       "      <td>0</td>\n",
       "      <td>0</td>\n",
       "      <td>0</td>\n",
       "      <td>...</td>\n",
       "      <td>73573</td>\n",
       "      <td>75717</td>\n",
       "      <td>76539</td>\n",
       "      <td>77485</td>\n",
       "      <td>78606</td>\n",
       "      <td>80096</td>\n",
       "      <td>80096</td>\n",
       "      <td>80096</td>\n",
       "      <td>85507</td>\n",
       "      <td>87263</td>\n",
       "    </tr>\n",
       "    <tr>\n",
       "      <th>44</th>\n",
       "      <td>New Brunswick</td>\n",
       "      <td>Canada</td>\n",
       "      <td>0</td>\n",
       "      <td>0</td>\n",
       "      <td>0</td>\n",
       "      <td>0</td>\n",
       "      <td>0</td>\n",
       "      <td>0</td>\n",
       "      <td>0</td>\n",
       "      <td>0</td>\n",
       "      <td>...</td>\n",
       "      <td>11587</td>\n",
       "      <td>12226</td>\n",
       "      <td>12532</td>\n",
       "      <td>13018</td>\n",
       "      <td>13590</td>\n",
       "      <td>14272</td>\n",
       "      <td>14272</td>\n",
       "      <td>14272</td>\n",
       "      <td>16820</td>\n",
       "      <td>17566</td>\n",
       "    </tr>\n",
       "    <tr>\n",
       "      <th>45</th>\n",
       "      <td>Newfoundland and Labrador</td>\n",
       "      <td>Canada</td>\n",
       "      <td>0</td>\n",
       "      <td>0</td>\n",
       "      <td>0</td>\n",
       "      <td>0</td>\n",
       "      <td>0</td>\n",
       "      <td>0</td>\n",
       "      <td>0</td>\n",
       "      <td>0</td>\n",
       "      <td>...</td>\n",
       "      <td>2512</td>\n",
       "      <td>2512</td>\n",
       "      <td>2512</td>\n",
       "      <td>3375</td>\n",
       "      <td>3724</td>\n",
       "      <td>3724</td>\n",
       "      <td>4155</td>\n",
       "      <td>4155</td>\n",
       "      <td>5582</td>\n",
       "      <td>6075</td>\n",
       "    </tr>\n",
       "    <tr>\n",
       "      <th>46</th>\n",
       "      <td>Northwest Territories</td>\n",
       "      <td>Canada</td>\n",
       "      <td>0</td>\n",
       "      <td>0</td>\n",
       "      <td>0</td>\n",
       "      <td>0</td>\n",
       "      <td>0</td>\n",
       "      <td>0</td>\n",
       "      <td>0</td>\n",
       "      <td>0</td>\n",
       "      <td>...</td>\n",
       "      <td>2090</td>\n",
       "      <td>2090</td>\n",
       "      <td>2090</td>\n",
       "      <td>2090</td>\n",
       "      <td>2187</td>\n",
       "      <td>2229</td>\n",
       "      <td>2229</td>\n",
       "      <td>2229</td>\n",
       "      <td>2229</td>\n",
       "      <td>2419</td>\n",
       "    </tr>\n",
       "    <tr>\n",
       "      <th>47</th>\n",
       "      <td>Nova Scotia</td>\n",
       "      <td>Canada</td>\n",
       "      <td>0</td>\n",
       "      <td>0</td>\n",
       "      <td>0</td>\n",
       "      <td>0</td>\n",
       "      <td>0</td>\n",
       "      <td>0</td>\n",
       "      <td>0</td>\n",
       "      <td>0</td>\n",
       "      <td>...</td>\n",
       "      <td>14888</td>\n",
       "      <td>15469</td>\n",
       "      <td>16030</td>\n",
       "      <td>16616</td>\n",
       "      <td>17127</td>\n",
       "      <td>17745</td>\n",
       "      <td>18454</td>\n",
       "      <td>19638</td>\n",
       "      <td>20658</td>\n",
       "      <td>21678</td>\n",
       "    </tr>\n",
       "    <tr>\n",
       "      <th>48</th>\n",
       "      <td>Nunavut</td>\n",
       "      <td>Canada</td>\n",
       "      <td>0</td>\n",
       "      <td>0</td>\n",
       "      <td>0</td>\n",
       "      <td>0</td>\n",
       "      <td>0</td>\n",
       "      <td>0</td>\n",
       "      <td>0</td>\n",
       "      <td>0</td>\n",
       "      <td>...</td>\n",
       "      <td>696</td>\n",
       "      <td>696</td>\n",
       "      <td>710</td>\n",
       "      <td>747</td>\n",
       "      <td>765</td>\n",
       "      <td>803</td>\n",
       "      <td>803</td>\n",
       "      <td>875</td>\n",
       "      <td>891</td>\n",
       "      <td>900</td>\n",
       "    </tr>\n",
       "    <tr>\n",
       "      <th>49</th>\n",
       "      <td>Ontario</td>\n",
       "      <td>Canada</td>\n",
       "      <td>0</td>\n",
       "      <td>0</td>\n",
       "      <td>0</td>\n",
       "      <td>0</td>\n",
       "      <td>1</td>\n",
       "      <td>1</td>\n",
       "      <td>1</td>\n",
       "      <td>1</td>\n",
       "      <td>...</td>\n",
       "      <td>689840</td>\n",
       "      <td>697388</td>\n",
       "      <td>699428</td>\n",
       "      <td>740988</td>\n",
       "      <td>750128</td>\n",
       "      <td>773645</td>\n",
       "      <td>773832</td>\n",
       "      <td>776342</td>\n",
       "      <td>783526</td>\n",
       "      <td>831226</td>\n",
       "    </tr>\n",
       "    <tr>\n",
       "      <th>50</th>\n",
       "      <td>Prince Edward Island</td>\n",
       "      <td>Canada</td>\n",
       "      <td>0</td>\n",
       "      <td>0</td>\n",
       "      <td>0</td>\n",
       "      <td>0</td>\n",
       "      <td>0</td>\n",
       "      <td>0</td>\n",
       "      <td>0</td>\n",
       "      <td>0</td>\n",
       "      <td>...</td>\n",
       "      <td>621</td>\n",
       "      <td>621</td>\n",
       "      <td>893</td>\n",
       "      <td>1022</td>\n",
       "      <td>1022</td>\n",
       "      <td>1022</td>\n",
       "      <td>1366</td>\n",
       "      <td>1366</td>\n",
       "      <td>1366</td>\n",
       "      <td>1862</td>\n",
       "    </tr>\n",
       "    <tr>\n",
       "      <th>51</th>\n",
       "      <td>Quebec</td>\n",
       "      <td>Canada</td>\n",
       "      <td>0</td>\n",
       "      <td>0</td>\n",
       "      <td>0</td>\n",
       "      <td>0</td>\n",
       "      <td>0</td>\n",
       "      <td>0</td>\n",
       "      <td>0</td>\n",
       "      <td>0</td>\n",
       "      <td>...</td>\n",
       "      <td>538205</td>\n",
       "      <td>546436</td>\n",
       "      <td>559269</td>\n",
       "      <td>572418</td>\n",
       "      <td>586606</td>\n",
       "      <td>603067</td>\n",
       "      <td>620189</td>\n",
       "      <td>636034</td>\n",
       "      <td>651327</td>\n",
       "      <td>651327</td>\n",
       "    </tr>\n",
       "    <tr>\n",
       "      <th>52</th>\n",
       "      <td>Repatriated Travellers</td>\n",
       "      <td>Canada</td>\n",
       "      <td>0</td>\n",
       "      <td>0</td>\n",
       "      <td>0</td>\n",
       "      <td>0</td>\n",
       "      <td>0</td>\n",
       "      <td>0</td>\n",
       "      <td>0</td>\n",
       "      <td>0</td>\n",
       "      <td>...</td>\n",
       "      <td>13</td>\n",
       "      <td>13</td>\n",
       "      <td>13</td>\n",
       "      <td>13</td>\n",
       "      <td>13</td>\n",
       "      <td>13</td>\n",
       "      <td>13</td>\n",
       "      <td>13</td>\n",
       "      <td>13</td>\n",
       "      <td>13</td>\n",
       "    </tr>\n",
       "    <tr>\n",
       "      <th>53</th>\n",
       "      <td>Saskatchewan</td>\n",
       "      <td>Canada</td>\n",
       "      <td>0</td>\n",
       "      <td>0</td>\n",
       "      <td>0</td>\n",
       "      <td>0</td>\n",
       "      <td>0</td>\n",
       "      <td>0</td>\n",
       "      <td>0</td>\n",
       "      <td>0</td>\n",
       "      <td>...</td>\n",
       "      <td>82640</td>\n",
       "      <td>82640</td>\n",
       "      <td>83558</td>\n",
       "      <td>83855</td>\n",
       "      <td>84446</td>\n",
       "      <td>85188</td>\n",
       "      <td>85188</td>\n",
       "      <td>85188</td>\n",
       "      <td>85188</td>\n",
       "      <td>87167</td>\n",
       "    </tr>\n",
       "    <tr>\n",
       "      <th>54</th>\n",
       "      <td>Yukon</td>\n",
       "      <td>Canada</td>\n",
       "      <td>0</td>\n",
       "      <td>0</td>\n",
       "      <td>0</td>\n",
       "      <td>0</td>\n",
       "      <td>0</td>\n",
       "      <td>0</td>\n",
       "      <td>0</td>\n",
       "      <td>0</td>\n",
       "      <td>...</td>\n",
       "      <td>1668</td>\n",
       "      <td>1668</td>\n",
       "      <td>1668</td>\n",
       "      <td>1695</td>\n",
       "      <td>1729</td>\n",
       "      <td>1755</td>\n",
       "      <td>1755</td>\n",
       "      <td>1755</td>\n",
       "      <td>1755</td>\n",
       "      <td>1944</td>\n",
       "    </tr>\n",
       "  </tbody>\n",
       "</table>\n",
       "<p>16 rows × 716 columns</p>\n",
       "</div>"
      ],
      "text/plain": [
       "               Province/State Country/Region  1/22/20  1/23/20  1/24/20  \\\n",
       "39                    Alberta         Canada        0        0        0   \n",
       "40           British Columbia         Canada        0        0        0   \n",
       "41           Diamond Princess         Canada        0        0        0   \n",
       "42             Grand Princess         Canada        0        0        0   \n",
       "43                   Manitoba         Canada        0        0        0   \n",
       "44              New Brunswick         Canada        0        0        0   \n",
       "45  Newfoundland and Labrador         Canada        0        0        0   \n",
       "46      Northwest Territories         Canada        0        0        0   \n",
       "47                Nova Scotia         Canada        0        0        0   \n",
       "48                    Nunavut         Canada        0        0        0   \n",
       "49                    Ontario         Canada        0        0        0   \n",
       "50       Prince Edward Island         Canada        0        0        0   \n",
       "51                     Quebec         Canada        0        0        0   \n",
       "52     Repatriated Travellers         Canada        0        0        0   \n",
       "53               Saskatchewan         Canada        0        0        0   \n",
       "54                      Yukon         Canada        0        0        0   \n",
       "\n",
       "    1/25/20  1/26/20  1/27/20  1/28/20  1/29/20  ...  12/26/21  12/27/21  \\\n",
       "39        0        0        0        0        0  ...    346705    346705   \n",
       "40        0        0        0        1        1  ...    235658    235658   \n",
       "41        0        0        0        0        0  ...         0         0   \n",
       "42        0        0        0        0        0  ...        13        13   \n",
       "43        0        0        0        0        0  ...     73573     75717   \n",
       "44        0        0        0        0        0  ...     11587     12226   \n",
       "45        0        0        0        0        0  ...      2512      2512   \n",
       "46        0        0        0        0        0  ...      2090      2090   \n",
       "47        0        0        0        0        0  ...     14888     15469   \n",
       "48        0        0        0        0        0  ...       696       696   \n",
       "49        0        1        1        1        1  ...    689840    697388   \n",
       "50        0        0        0        0        0  ...       621       621   \n",
       "51        0        0        0        0        0  ...    538205    546436   \n",
       "52        0        0        0        0        0  ...        13        13   \n",
       "53        0        0        0        0        0  ...     82640     82640   \n",
       "54        0        0        0        0        0  ...      1668      1668   \n",
       "\n",
       "    12/28/21  12/29/21  12/30/21  12/31/21  1/1/22  1/2/22  1/3/22  1/4/22  \n",
       "39    346705    357623    361623    361623  361623  361623  361623  379374  \n",
       "40    235658    246671    251054    254849  254849  254849  254849  266710  \n",
       "41         0         0         0         0       0       0       0       0  \n",
       "42        13        13        13        13      13      13      13      13  \n",
       "43     76539     77485     78606     80096   80096   80096   85507   87263  \n",
       "44     12532     13018     13590     14272   14272   14272   16820   17566  \n",
       "45      2512      3375      3724      3724    4155    4155    5582    6075  \n",
       "46      2090      2090      2187      2229    2229    2229    2229    2419  \n",
       "47     16030     16616     17127     17745   18454   19638   20658   21678  \n",
       "48       710       747       765       803     803     875     891     900  \n",
       "49    699428    740988    750128    773645  773832  776342  783526  831226  \n",
       "50       893      1022      1022      1022    1366    1366    1366    1862  \n",
       "51    559269    572418    586606    603067  620189  636034  651327  651327  \n",
       "52        13        13        13        13      13      13      13      13  \n",
       "53     83558     83855     84446     85188   85188   85188   85188   87167  \n",
       "54      1668      1695      1729      1755    1755    1755    1755    1944  \n",
       "\n",
       "[16 rows x 716 columns]"
      ]
     },
     "execution_count": 450,
     "metadata": {},
     "output_type": "execute_result"
    }
   ],
   "source": [
    "series_chronologiques_COVID19_df[series_chronologiques_COVID19_df['Country/Region']==\"Canada\"]\n"
   ]
  },
  {
   "cell_type": "markdown",
   "metadata": {},
   "source": [
    "### Création d'une entrée supplémentaire spécifique pour le Québec (avec accent aigu) "
   ]
  },
  {
   "cell_type": "code",
   "execution_count": 451,
   "metadata": {},
   "outputs": [
    {
     "name": "stderr",
     "output_type": "stream",
     "text": [
      "/usr/local/lib/python3.8/dist-packages/pandas/core/indexing.py:1817: SettingWithCopyWarning: \n",
      "A value is trying to be set on a copy of a slice from a DataFrame.\n",
      "Try using .loc[row_indexer,col_indexer] = value instead\n",
      "\n",
      "See the caveats in the documentation: https://pandas.pydata.org/pandas-docs/stable/user_guide/indexing.html#returning-a-view-versus-a-copy\n",
      "  self._setitem_single_column(loc, value, pi)\n"
     ]
    },
    {
     "data": {
      "text/html": [
       "<div>\n",
       "<style scoped>\n",
       "    .dataframe tbody tr th:only-of-type {\n",
       "        vertical-align: middle;\n",
       "    }\n",
       "\n",
       "    .dataframe tbody tr th {\n",
       "        vertical-align: top;\n",
       "    }\n",
       "\n",
       "    .dataframe thead th {\n",
       "        text-align: right;\n",
       "    }\n",
       "</style>\n",
       "<table border=\"1\" class=\"dataframe\">\n",
       "  <thead>\n",
       "    <tr style=\"text-align: right;\">\n",
       "      <th></th>\n",
       "      <th>Province/State</th>\n",
       "      <th>Country/Region</th>\n",
       "      <th>1/22/20</th>\n",
       "      <th>1/23/20</th>\n",
       "      <th>1/24/20</th>\n",
       "      <th>1/25/20</th>\n",
       "      <th>1/26/20</th>\n",
       "      <th>1/27/20</th>\n",
       "      <th>1/28/20</th>\n",
       "      <th>1/29/20</th>\n",
       "      <th>...</th>\n",
       "      <th>12/26/21</th>\n",
       "      <th>12/27/21</th>\n",
       "      <th>12/28/21</th>\n",
       "      <th>12/29/21</th>\n",
       "      <th>12/30/21</th>\n",
       "      <th>12/31/21</th>\n",
       "      <th>1/1/22</th>\n",
       "      <th>1/2/22</th>\n",
       "      <th>1/3/22</th>\n",
       "      <th>1/4/22</th>\n",
       "    </tr>\n",
       "  </thead>\n",
       "  <tbody>\n",
       "    <tr>\n",
       "      <th>0</th>\n",
       "      <td>NaN</td>\n",
       "      <td>Afghanistan</td>\n",
       "      <td>0</td>\n",
       "      <td>0</td>\n",
       "      <td>0</td>\n",
       "      <td>0</td>\n",
       "      <td>0</td>\n",
       "      <td>0</td>\n",
       "      <td>0</td>\n",
       "      <td>0</td>\n",
       "      <td>...</td>\n",
       "      <td>157951</td>\n",
       "      <td>157967</td>\n",
       "      <td>157998</td>\n",
       "      <td>158037</td>\n",
       "      <td>158056</td>\n",
       "      <td>158084</td>\n",
       "      <td>158107</td>\n",
       "      <td>158189</td>\n",
       "      <td>158183</td>\n",
       "      <td>158205</td>\n",
       "    </tr>\n",
       "    <tr>\n",
       "      <th>1</th>\n",
       "      <td>NaN</td>\n",
       "      <td>Albania</td>\n",
       "      <td>0</td>\n",
       "      <td>0</td>\n",
       "      <td>0</td>\n",
       "      <td>0</td>\n",
       "      <td>0</td>\n",
       "      <td>0</td>\n",
       "      <td>0</td>\n",
       "      <td>0</td>\n",
       "      <td>...</td>\n",
       "      <td>207709</td>\n",
       "      <td>207709</td>\n",
       "      <td>208352</td>\n",
       "      <td>208899</td>\n",
       "      <td>208899</td>\n",
       "      <td>210224</td>\n",
       "      <td>210224</td>\n",
       "      <td>210885</td>\n",
       "      <td>210885</td>\n",
       "      <td>212021</td>\n",
       "    </tr>\n",
       "    <tr>\n",
       "      <th>2</th>\n",
       "      <td>NaN</td>\n",
       "      <td>Algeria</td>\n",
       "      <td>0</td>\n",
       "      <td>0</td>\n",
       "      <td>0</td>\n",
       "      <td>0</td>\n",
       "      <td>0</td>\n",
       "      <td>0</td>\n",
       "      <td>0</td>\n",
       "      <td>0</td>\n",
       "      <td>...</td>\n",
       "      <td>216637</td>\n",
       "      <td>216930</td>\n",
       "      <td>217265</td>\n",
       "      <td>217647</td>\n",
       "      <td>218037</td>\n",
       "      <td>218432</td>\n",
       "      <td>218818</td>\n",
       "      <td>219159</td>\n",
       "      <td>219532</td>\n",
       "      <td>219953</td>\n",
       "    </tr>\n",
       "    <tr>\n",
       "      <th>3</th>\n",
       "      <td>NaN</td>\n",
       "      <td>Andorra</td>\n",
       "      <td>0</td>\n",
       "      <td>0</td>\n",
       "      <td>0</td>\n",
       "      <td>0</td>\n",
       "      <td>0</td>\n",
       "      <td>0</td>\n",
       "      <td>0</td>\n",
       "      <td>0</td>\n",
       "      <td>...</td>\n",
       "      <td>21730</td>\n",
       "      <td>22332</td>\n",
       "      <td>22540</td>\n",
       "      <td>22823</td>\n",
       "      <td>23122</td>\n",
       "      <td>23740</td>\n",
       "      <td>23740</td>\n",
       "      <td>23740</td>\n",
       "      <td>24502</td>\n",
       "      <td>24802</td>\n",
       "    </tr>\n",
       "    <tr>\n",
       "      <th>4</th>\n",
       "      <td>NaN</td>\n",
       "      <td>Angola</td>\n",
       "      <td>0</td>\n",
       "      <td>0</td>\n",
       "      <td>0</td>\n",
       "      <td>0</td>\n",
       "      <td>0</td>\n",
       "      <td>0</td>\n",
       "      <td>0</td>\n",
       "      <td>0</td>\n",
       "      <td>...</td>\n",
       "      <td>71752</td>\n",
       "      <td>71752</td>\n",
       "      <td>76787</td>\n",
       "      <td>78475</td>\n",
       "      <td>79871</td>\n",
       "      <td>81593</td>\n",
       "      <td>82398</td>\n",
       "      <td>82920</td>\n",
       "      <td>83764</td>\n",
       "      <td>84666</td>\n",
       "    </tr>\n",
       "    <tr>\n",
       "      <th>...</th>\n",
       "      <td>...</td>\n",
       "      <td>...</td>\n",
       "      <td>...</td>\n",
       "      <td>...</td>\n",
       "      <td>...</td>\n",
       "      <td>...</td>\n",
       "      <td>...</td>\n",
       "      <td>...</td>\n",
       "      <td>...</td>\n",
       "      <td>...</td>\n",
       "      <td>...</td>\n",
       "      <td>...</td>\n",
       "      <td>...</td>\n",
       "      <td>...</td>\n",
       "      <td>...</td>\n",
       "      <td>...</td>\n",
       "      <td>...</td>\n",
       "      <td>...</td>\n",
       "      <td>...</td>\n",
       "      <td>...</td>\n",
       "      <td>...</td>\n",
       "    </tr>\n",
       "    <tr>\n",
       "      <th>276</th>\n",
       "      <td>NaN</td>\n",
       "      <td>West Bank and Gaza</td>\n",
       "      <td>0</td>\n",
       "      <td>0</td>\n",
       "      <td>0</td>\n",
       "      <td>0</td>\n",
       "      <td>0</td>\n",
       "      <td>0</td>\n",
       "      <td>0</td>\n",
       "      <td>0</td>\n",
       "      <td>...</td>\n",
       "      <td>467682</td>\n",
       "      <td>468619</td>\n",
       "      <td>469452</td>\n",
       "      <td>469748</td>\n",
       "      <td>469748</td>\n",
       "      <td>469748</td>\n",
       "      <td>469748</td>\n",
       "      <td>469748</td>\n",
       "      <td>469748</td>\n",
       "      <td>471090</td>\n",
       "    </tr>\n",
       "    <tr>\n",
       "      <th>277</th>\n",
       "      <td>NaN</td>\n",
       "      <td>Yemen</td>\n",
       "      <td>0</td>\n",
       "      <td>0</td>\n",
       "      <td>0</td>\n",
       "      <td>0</td>\n",
       "      <td>0</td>\n",
       "      <td>0</td>\n",
       "      <td>0</td>\n",
       "      <td>0</td>\n",
       "      <td>...</td>\n",
       "      <td>10115</td>\n",
       "      <td>10118</td>\n",
       "      <td>10123</td>\n",
       "      <td>10125</td>\n",
       "      <td>10126</td>\n",
       "      <td>10126</td>\n",
       "      <td>10127</td>\n",
       "      <td>10130</td>\n",
       "      <td>10138</td>\n",
       "      <td>10143</td>\n",
       "    </tr>\n",
       "    <tr>\n",
       "      <th>278</th>\n",
       "      <td>NaN</td>\n",
       "      <td>Zambia</td>\n",
       "      <td>0</td>\n",
       "      <td>0</td>\n",
       "      <td>0</td>\n",
       "      <td>0</td>\n",
       "      <td>0</td>\n",
       "      <td>0</td>\n",
       "      <td>0</td>\n",
       "      <td>0</td>\n",
       "      <td>...</td>\n",
       "      <td>233120</td>\n",
       "      <td>234476</td>\n",
       "      <td>238383</td>\n",
       "      <td>243638</td>\n",
       "      <td>249193</td>\n",
       "      <td>254274</td>\n",
       "      <td>257948</td>\n",
       "      <td>259677</td>\n",
       "      <td>261221</td>\n",
       "      <td>265479</td>\n",
       "    </tr>\n",
       "    <tr>\n",
       "      <th>279</th>\n",
       "      <td>NaN</td>\n",
       "      <td>Zimbabwe</td>\n",
       "      <td>0</td>\n",
       "      <td>0</td>\n",
       "      <td>0</td>\n",
       "      <td>0</td>\n",
       "      <td>0</td>\n",
       "      <td>0</td>\n",
       "      <td>0</td>\n",
       "      <td>0</td>\n",
       "      <td>...</td>\n",
       "      <td>204351</td>\n",
       "      <td>205449</td>\n",
       "      <td>207548</td>\n",
       "      <td>207548</td>\n",
       "      <td>211728</td>\n",
       "      <td>213258</td>\n",
       "      <td>214214</td>\n",
       "      <td>214214</td>\n",
       "      <td>216087</td>\n",
       "      <td>217678</td>\n",
       "    </tr>\n",
       "    <tr>\n",
       "      <th>280</th>\n",
       "      <td>NaN</td>\n",
       "      <td>Québec</td>\n",
       "      <td>0</td>\n",
       "      <td>0</td>\n",
       "      <td>0</td>\n",
       "      <td>0</td>\n",
       "      <td>0</td>\n",
       "      <td>0</td>\n",
       "      <td>0</td>\n",
       "      <td>0</td>\n",
       "      <td>...</td>\n",
       "      <td>538205</td>\n",
       "      <td>546436</td>\n",
       "      <td>559269</td>\n",
       "      <td>572418</td>\n",
       "      <td>586606</td>\n",
       "      <td>603067</td>\n",
       "      <td>620189</td>\n",
       "      <td>636034</td>\n",
       "      <td>651327</td>\n",
       "      <td>651327</td>\n",
       "    </tr>\n",
       "  </tbody>\n",
       "</table>\n",
       "<p>281 rows × 716 columns</p>\n",
       "</div>"
      ],
      "text/plain": [
       "    Province/State      Country/Region  1/22/20  1/23/20  1/24/20  1/25/20  \\\n",
       "0              NaN         Afghanistan        0        0        0        0   \n",
       "1              NaN             Albania        0        0        0        0   \n",
       "2              NaN             Algeria        0        0        0        0   \n",
       "3              NaN             Andorra        0        0        0        0   \n",
       "4              NaN              Angola        0        0        0        0   \n",
       "..             ...                 ...      ...      ...      ...      ...   \n",
       "276            NaN  West Bank and Gaza        0        0        0        0   \n",
       "277            NaN               Yemen        0        0        0        0   \n",
       "278            NaN              Zambia        0        0        0        0   \n",
       "279            NaN            Zimbabwe        0        0        0        0   \n",
       "280            NaN              Québec        0        0        0        0   \n",
       "\n",
       "     1/26/20  1/27/20  1/28/20  1/29/20  ...  12/26/21  12/27/21  12/28/21  \\\n",
       "0          0        0        0        0  ...    157951    157967    157998   \n",
       "1          0        0        0        0  ...    207709    207709    208352   \n",
       "2          0        0        0        0  ...    216637    216930    217265   \n",
       "3          0        0        0        0  ...     21730     22332     22540   \n",
       "4          0        0        0        0  ...     71752     71752     76787   \n",
       "..       ...      ...      ...      ...  ...       ...       ...       ...   \n",
       "276        0        0        0        0  ...    467682    468619    469452   \n",
       "277        0        0        0        0  ...     10115     10118     10123   \n",
       "278        0        0        0        0  ...    233120    234476    238383   \n",
       "279        0        0        0        0  ...    204351    205449    207548   \n",
       "280        0        0        0        0  ...    538205    546436    559269   \n",
       "\n",
       "     12/29/21  12/30/21  12/31/21  1/1/22  1/2/22  1/3/22  1/4/22  \n",
       "0      158037    158056    158084  158107  158189  158183  158205  \n",
       "1      208899    208899    210224  210224  210885  210885  212021  \n",
       "2      217647    218037    218432  218818  219159  219532  219953  \n",
       "3       22823     23122     23740   23740   23740   24502   24802  \n",
       "4       78475     79871     81593   82398   82920   83764   84666  \n",
       "..        ...       ...       ...     ...     ...     ...     ...  \n",
       "276    469748    469748    469748  469748  469748  469748  471090  \n",
       "277     10125     10126     10126   10127   10130   10138   10143  \n",
       "278    243638    249193    254274  257948  259677  261221  265479  \n",
       "279    207548    211728    213258  214214  214214  216087  217678  \n",
       "280    572418    586606    603067  620189  636034  651327  651327  \n",
       "\n",
       "[281 rows x 716 columns]"
      ]
     },
     "execution_count": 451,
     "metadata": {},
     "output_type": "execute_result"
    }
   ],
   "source": [
    "quebec_df = series_chronologiques_COVID19_df[(series_chronologiques_COVID19_df['Country/Region']==\"Canada\") & \n",
    "                                (series_chronologiques_COVID19_df['Province/State']==\"Quebec\")]\n",
    "\n",
    "quebec_df.loc[51,'Country/Region'] = 'Québec'\n",
    "quebec_df.loc[51,'Province/State'] = np.nan\n",
    "\n",
    "series_chronologiques_COVID19_df = series_chronologiques_COVID19_df.append(quebec_df , ignore_index=True)\n",
    "series_chronologiques_COVID19_df\n"
   ]
  },
  {
   "cell_type": "markdown",
   "metadata": {},
   "source": [
    "### Regroupement des données des états et provinces\n",
    "**Note** : Pour avoir un total par pays, nous allons regrouper les états et les provinces d'un même pays. Utilisaton des fonctions `.groupby()` et `.sum()`. Aussi `.reset_index()`"
   ]
  },
  {
   "cell_type": "code",
   "execution_count": 452,
   "metadata": {},
   "outputs": [],
   "source": [
    "series_chronologiques_COVID19_df = series_chronologiques_COVID19_df.groupby(['Country/Region']).sum().reset_index()\n"
   ]
  },
  {
   "cell_type": "markdown",
   "metadata": {},
   "source": [
    "Vérifions que le regroupement est bien effectué, avec les données sur le Canada."
   ]
  },
  {
   "cell_type": "code",
   "execution_count": 453,
   "metadata": {},
   "outputs": [
    {
     "data": {
      "text/html": [
       "<div>\n",
       "<style scoped>\n",
       "    .dataframe tbody tr th:only-of-type {\n",
       "        vertical-align: middle;\n",
       "    }\n",
       "\n",
       "    .dataframe tbody tr th {\n",
       "        vertical-align: top;\n",
       "    }\n",
       "\n",
       "    .dataframe thead th {\n",
       "        text-align: right;\n",
       "    }\n",
       "</style>\n",
       "<table border=\"1\" class=\"dataframe\">\n",
       "  <thead>\n",
       "    <tr style=\"text-align: right;\">\n",
       "      <th></th>\n",
       "      <th>Country/Region</th>\n",
       "      <th>1/22/20</th>\n",
       "      <th>1/23/20</th>\n",
       "      <th>1/24/20</th>\n",
       "      <th>1/25/20</th>\n",
       "      <th>1/26/20</th>\n",
       "      <th>1/27/20</th>\n",
       "      <th>1/28/20</th>\n",
       "      <th>1/29/20</th>\n",
       "      <th>1/30/20</th>\n",
       "      <th>...</th>\n",
       "      <th>12/26/21</th>\n",
       "      <th>12/27/21</th>\n",
       "      <th>12/28/21</th>\n",
       "      <th>12/29/21</th>\n",
       "      <th>12/30/21</th>\n",
       "      <th>12/31/21</th>\n",
       "      <th>1/1/22</th>\n",
       "      <th>1/2/22</th>\n",
       "      <th>1/3/22</th>\n",
       "      <th>1/4/22</th>\n",
       "    </tr>\n",
       "  </thead>\n",
       "  <tbody>\n",
       "    <tr>\n",
       "      <th>32</th>\n",
       "      <td>Canada</td>\n",
       "      <td>0</td>\n",
       "      <td>0</td>\n",
       "      <td>0</td>\n",
       "      <td>0</td>\n",
       "      <td>1</td>\n",
       "      <td>1</td>\n",
       "      <td>2</td>\n",
       "      <td>2</td>\n",
       "      <td>2</td>\n",
       "      <td>...</td>\n",
       "      <td>2000709</td>\n",
       "      <td>2019852</td>\n",
       "      <td>2037618</td>\n",
       "      <td>2117629</td>\n",
       "      <td>2152633</td>\n",
       "      <td>2200044</td>\n",
       "      <td>2218837</td>\n",
       "      <td>2238448</td>\n",
       "      <td>2271347</td>\n",
       "      <td>2355537</td>\n",
       "    </tr>\n",
       "  </tbody>\n",
       "</table>\n",
       "<p>1 rows × 715 columns</p>\n",
       "</div>"
      ],
      "text/plain": [
       "   Country/Region  1/22/20  1/23/20  1/24/20  1/25/20  1/26/20  1/27/20  \\\n",
       "32         Canada        0        0        0        0        1        1   \n",
       "\n",
       "    1/28/20  1/29/20  1/30/20  ...  12/26/21  12/27/21  12/28/21  12/29/21  \\\n",
       "32        2        2        2  ...   2000709   2019852   2037618   2117629   \n",
       "\n",
       "    12/30/21  12/31/21   1/1/22   1/2/22   1/3/22   1/4/22  \n",
       "32   2152633   2200044  2218837  2238448  2271347  2355537  \n",
       "\n",
       "[1 rows x 715 columns]"
      ]
     },
     "execution_count": 453,
     "metadata": {},
     "output_type": "execute_result"
    }
   ],
   "source": [
    "series_chronologiques_COVID19_df[series_chronologiques_COVID19_df['Country/Region']==\"Canada\"]\n"
   ]
  },
  {
   "cell_type": "code",
   "execution_count": 454,
   "metadata": {},
   "outputs": [
    {
     "data": {
      "text/html": [
       "<div>\n",
       "<style scoped>\n",
       "    .dataframe tbody tr th:only-of-type {\n",
       "        vertical-align: middle;\n",
       "    }\n",
       "\n",
       "    .dataframe tbody tr th {\n",
       "        vertical-align: top;\n",
       "    }\n",
       "\n",
       "    .dataframe thead th {\n",
       "        text-align: right;\n",
       "    }\n",
       "</style>\n",
       "<table border=\"1\" class=\"dataframe\">\n",
       "  <thead>\n",
       "    <tr style=\"text-align: right;\">\n",
       "      <th></th>\n",
       "      <th>Country/Region</th>\n",
       "      <th>1/22/20</th>\n",
       "      <th>1/23/20</th>\n",
       "      <th>1/24/20</th>\n",
       "      <th>1/25/20</th>\n",
       "      <th>1/26/20</th>\n",
       "      <th>1/27/20</th>\n",
       "      <th>1/28/20</th>\n",
       "      <th>1/29/20</th>\n",
       "      <th>1/30/20</th>\n",
       "      <th>...</th>\n",
       "      <th>12/26/21</th>\n",
       "      <th>12/27/21</th>\n",
       "      <th>12/28/21</th>\n",
       "      <th>12/29/21</th>\n",
       "      <th>12/30/21</th>\n",
       "      <th>12/31/21</th>\n",
       "      <th>1/1/22</th>\n",
       "      <th>1/2/22</th>\n",
       "      <th>1/3/22</th>\n",
       "      <th>1/4/22</th>\n",
       "    </tr>\n",
       "  </thead>\n",
       "  <tbody>\n",
       "    <tr>\n",
       "      <th>143</th>\n",
       "      <td>Québec</td>\n",
       "      <td>0</td>\n",
       "      <td>0</td>\n",
       "      <td>0</td>\n",
       "      <td>0</td>\n",
       "      <td>0</td>\n",
       "      <td>0</td>\n",
       "      <td>0</td>\n",
       "      <td>0</td>\n",
       "      <td>0</td>\n",
       "      <td>...</td>\n",
       "      <td>538205</td>\n",
       "      <td>546436</td>\n",
       "      <td>559269</td>\n",
       "      <td>572418</td>\n",
       "      <td>586606</td>\n",
       "      <td>603067</td>\n",
       "      <td>620189</td>\n",
       "      <td>636034</td>\n",
       "      <td>651327</td>\n",
       "      <td>651327</td>\n",
       "    </tr>\n",
       "  </tbody>\n",
       "</table>\n",
       "<p>1 rows × 715 columns</p>\n",
       "</div>"
      ],
      "text/plain": [
       "    Country/Region  1/22/20  1/23/20  1/24/20  1/25/20  1/26/20  1/27/20  \\\n",
       "143         Québec        0        0        0        0        0        0   \n",
       "\n",
       "     1/28/20  1/29/20  1/30/20  ...  12/26/21  12/27/21  12/28/21  12/29/21  \\\n",
       "143        0        0        0  ...    538205    546436    559269    572418   \n",
       "\n",
       "     12/30/21  12/31/21  1/1/22  1/2/22  1/3/22  1/4/22  \n",
       "143    586606    603067  620189  636034  651327  651327  \n",
       "\n",
       "[1 rows x 715 columns]"
      ]
     },
     "execution_count": 454,
     "metadata": {},
     "output_type": "execute_result"
    }
   ],
   "source": [
    "series = series_chronologiques_COVID19_df[series_chronologiques_COVID19_df['Country/Region']==\"Québec\"]\n",
    "series\n"
   ]
  },
  {
   "cell_type": "code",
   "execution_count": 455,
   "metadata": {},
   "outputs": [
    {
     "data": {
      "text/html": [
       "<div>\n",
       "<style scoped>\n",
       "    .dataframe tbody tr th:only-of-type {\n",
       "        vertical-align: middle;\n",
       "    }\n",
       "\n",
       "    .dataframe tbody tr th {\n",
       "        vertical-align: top;\n",
       "    }\n",
       "\n",
       "    .dataframe thead th {\n",
       "        text-align: right;\n",
       "    }\n",
       "</style>\n",
       "<table border=\"1\" class=\"dataframe\">\n",
       "  <thead>\n",
       "    <tr style=\"text-align: right;\">\n",
       "      <th></th>\n",
       "      <th>Country/Region</th>\n",
       "      <th>1/22/20</th>\n",
       "      <th>1/23/20</th>\n",
       "      <th>1/24/20</th>\n",
       "      <th>1/25/20</th>\n",
       "      <th>1/26/20</th>\n",
       "      <th>1/27/20</th>\n",
       "      <th>1/28/20</th>\n",
       "      <th>1/29/20</th>\n",
       "      <th>1/30/20</th>\n",
       "      <th>...</th>\n",
       "      <th>12/26/21</th>\n",
       "      <th>12/27/21</th>\n",
       "      <th>12/28/21</th>\n",
       "      <th>12/29/21</th>\n",
       "      <th>12/30/21</th>\n",
       "      <th>12/31/21</th>\n",
       "      <th>1/1/22</th>\n",
       "      <th>1/2/22</th>\n",
       "      <th>1/3/22</th>\n",
       "      <th>1/4/22</th>\n",
       "    </tr>\n",
       "  </thead>\n",
       "  <tbody>\n",
       "    <tr>\n",
       "      <th>143</th>\n",
       "      <td>Québec</td>\n",
       "      <td>0</td>\n",
       "      <td>0</td>\n",
       "      <td>0</td>\n",
       "      <td>0</td>\n",
       "      <td>0</td>\n",
       "      <td>0</td>\n",
       "      <td>0</td>\n",
       "      <td>0</td>\n",
       "      <td>0</td>\n",
       "      <td>...</td>\n",
       "      <td>538205</td>\n",
       "      <td>546436</td>\n",
       "      <td>559269</td>\n",
       "      <td>572418</td>\n",
       "      <td>586606</td>\n",
       "      <td>603067</td>\n",
       "      <td>620189</td>\n",
       "      <td>636034</td>\n",
       "      <td>651327</td>\n",
       "      <td>651327</td>\n",
       "    </tr>\n",
       "  </tbody>\n",
       "</table>\n",
       "<p>1 rows × 715 columns</p>\n",
       "</div>"
      ],
      "text/plain": [
       "    Country/Region  1/22/20  1/23/20  1/24/20  1/25/20  1/26/20  1/27/20  \\\n",
       "143         Québec        0        0        0        0        0        0   \n",
       "\n",
       "     1/28/20  1/29/20  1/30/20  ...  12/26/21  12/27/21  12/28/21  12/29/21  \\\n",
       "143        0        0        0  ...    538205    546436    559269    572418   \n",
       "\n",
       "     12/30/21  12/31/21  1/1/22  1/2/22  1/3/22  1/4/22  \n",
       "143    586606    603067  620189  636034  651327  651327  \n",
       "\n",
       "[1 rows x 715 columns]"
      ]
     },
     "execution_count": 455,
     "metadata": {},
     "output_type": "execute_result"
    }
   ],
   "source": [
    "# Correction d'une erreur dans les données du 4 avril 2020\n",
    "series_chronologiques_COVID19_df.loc[140,'4/4/20']=6997\n",
    "# Correction des données du 25 et 26 décembre 2020\n",
    "series_chronologiques_COVID19_df.loc[140,'12/25/20']=185872+2235\n",
    "series_chronologiques_COVID19_df.loc[140,'12/26/20']=185872+4492\n",
    "# 2 808 nouveaux cas pour le 31 décembre, 1 986 pour le 1er janvier et de 2 869 pour le 2 janvier, \n",
    "series_chronologiques_COVID19_df.loc[140,'12/31/20']=199822+2808\n",
    "series_chronologiques_COVID19_df.loc[140,'1/1/21']=199822+2808+1986\n",
    "series_chronologiques_COVID19_df.loc[140,'1/2/21']=199822+2808+1986+2869\n",
    "series_chronologiques_COVID19_df[series_chronologiques_COVID19_df['Country/Region']==\"Québec\"]\n"
   ]
  },
  {
   "cell_type": "markdown",
   "metadata": {},
   "source": [
    "# Modèles prédictifs\n",
    "\n"
   ]
  },
  {
   "cell_type": "markdown",
   "metadata": {},
   "source": [
    "## L'évolution de l'épidémie au Québec\n",
    "Pour des raisons évidente d'intérêt, je me concentrerai sur la prévision de l'évolution de l'épidémie au Québec\n",
    "\n",
    "Rappel de la série chonologique "
   ]
  },
  {
   "cell_type": "code",
   "execution_count": 456,
   "metadata": {},
   "outputs": [
    {
     "name": "stdout",
     "output_type": "stream",
     "text": [
      "['Country/Region', '1/22/20', '1/23/20', '1/24/20', '1/25/20', '1/26/20', '1/27/20', '1/28/20', '1/29/20', '1/30/20', '1/31/20', '2/1/20', '2/2/20', '2/3/20', '2/4/20', '2/5/20', '2/6/20', '2/7/20', '2/8/20', '2/9/20', '2/10/20', '2/11/20', '2/12/20', '2/13/20', '2/14/20', '2/15/20', '2/16/20', '2/17/20', '2/18/20', '2/19/20', '2/20/20', '2/21/20', '2/22/20', '2/23/20', '2/24/20', '2/25/20', '2/26/20', '2/27/20', '2/28/20', '2/29/20', '3/1/20', '3/2/20', '3/3/20', '3/4/20', '3/5/20', '3/6/20', '3/7/20', '3/8/20', '3/9/20', '3/10/20', '3/11/20', '3/12/20', '3/13/20', '3/14/20', '3/15/20', '3/16/20', '3/17/20', '3/18/20', '3/19/20', '3/20/20', '3/21/20', '3/22/20', '3/23/20', '3/24/20', '3/25/20', '3/26/20', '3/27/20', '3/28/20', '3/29/20', '3/30/20', '3/31/20', '4/1/20', '4/2/20', '4/3/20', '4/4/20', '4/5/20', '4/6/20', '4/7/20', '4/8/20', '4/9/20', '4/10/20', '4/11/20', '4/12/20', '4/13/20', '4/14/20', '4/15/20', '4/16/20', '4/17/20', '4/18/20', '4/19/20', '4/20/20', '4/21/20', '4/22/20', '4/23/20', '4/24/20', '4/25/20', '4/26/20', '4/27/20', '4/28/20', '4/29/20', '4/30/20', '5/1/20', '5/2/20', '5/3/20', '5/4/20', '5/5/20', '5/6/20', '5/7/20', '5/8/20', '5/9/20', '5/10/20', '5/11/20', '5/12/20', '5/13/20', '5/14/20', '5/15/20', '5/16/20', '5/17/20', '5/18/20', '5/19/20', '5/20/20', '5/21/20', '5/22/20', '5/23/20', '5/24/20', '5/25/20', '5/26/20', '5/27/20', '5/28/20', '5/29/20', '5/30/20', '5/31/20', '6/1/20', '6/2/20', '6/3/20', '6/4/20', '6/5/20', '6/6/20', '6/7/20', '6/8/20', '6/9/20', '6/10/20', '6/11/20', '6/12/20', '6/13/20', '6/14/20', '6/15/20', '6/16/20', '6/17/20', '6/18/20', '6/19/20', '6/20/20', '6/21/20', '6/22/20', '6/23/20', '6/24/20', '6/25/20', '6/26/20', '6/27/20', '6/28/20', '6/29/20', '6/30/20', '7/1/20', '7/2/20', '7/3/20', '7/4/20', '7/5/20', '7/6/20', '7/7/20', '7/8/20', '7/9/20', '7/10/20', '7/11/20', '7/12/20', '7/13/20', '7/14/20', '7/15/20', '7/16/20', '7/17/20', '7/18/20', '7/19/20', '7/20/20', '7/21/20', '7/22/20', '7/23/20', '7/24/20', '7/25/20', '7/26/20', '7/27/20', '7/28/20', '7/29/20', '7/30/20', '7/31/20', '8/1/20', '8/2/20', '8/3/20', '8/4/20', '8/5/20', '8/6/20', '8/7/20', '8/8/20', '8/9/20', '8/10/20', '8/11/20', '8/12/20', '8/13/20', '8/14/20', '8/15/20', '8/16/20', '8/17/20', '8/18/20', '8/19/20', '8/20/20', '8/21/20', '8/22/20', '8/23/20', '8/24/20', '8/25/20', '8/26/20', '8/27/20', '8/28/20', '8/29/20', '8/30/20', '8/31/20', '9/1/20', '9/2/20', '9/3/20', '9/4/20', '9/5/20', '9/6/20', '9/7/20', '9/8/20', '9/9/20', '9/10/20', '9/11/20', '9/12/20', '9/13/20', '9/14/20', '9/15/20', '9/16/20', '9/17/20', '9/18/20', '9/19/20', '9/20/20', '9/21/20', '9/22/20', '9/23/20', '9/24/20', '9/25/20', '9/26/20', '9/27/20', '9/28/20', '9/29/20', '9/30/20', '10/1/20', '10/2/20', '10/3/20', '10/4/20', '10/5/20', '10/6/20', '10/7/20', '10/8/20', '10/9/20', '10/10/20', '10/11/20', '10/12/20', '10/13/20', '10/14/20', '10/15/20', '10/16/20', '10/17/20', '10/18/20', '10/19/20', '10/20/20', '10/21/20', '10/22/20', '10/23/20', '10/24/20', '10/25/20', '10/26/20', '10/27/20', '10/28/20', '10/29/20', '10/30/20', '10/31/20', '11/1/20', '11/2/20', '11/3/20', '11/4/20', '11/5/20', '11/6/20', '11/7/20', '11/8/20', '11/9/20', '11/10/20', '11/11/20', '11/12/20', '11/13/20', '11/14/20', '11/15/20', '11/16/20', '11/17/20', '11/18/20', '11/19/20', '11/20/20', '11/21/20', '11/22/20', '11/23/20', '11/24/20', '11/25/20', '11/26/20', '11/27/20', '11/28/20', '11/29/20', '11/30/20', '12/1/20', '12/2/20', '12/3/20', '12/4/20', '12/5/20', '12/6/20', '12/7/20', '12/8/20', '12/9/20', '12/10/20', '12/11/20', '12/12/20', '12/13/20', '12/14/20', '12/15/20', '12/16/20', '12/17/20', '12/18/20', '12/19/20', '12/20/20', '12/21/20', '12/22/20', '12/23/20', '12/24/20', '12/25/20', '12/26/20', '12/27/20', '12/28/20', '12/29/20', '12/30/20', '12/31/20', '1/1/21', '1/2/21', '1/3/21', '1/4/21', '1/5/21', '1/6/21', '1/7/21', '1/8/21', '1/9/21', '1/10/21', '1/11/21', '1/12/21', '1/13/21', '1/14/21', '1/15/21', '1/16/21', '1/17/21', '1/18/21', '1/19/21', '1/20/21', '1/21/21', '1/22/21', '1/23/21', '1/24/21', '1/25/21', '1/26/21', '1/27/21', '1/28/21', '1/29/21', '1/30/21', '1/31/21', '2/1/21', '2/2/21', '2/3/21', '2/4/21', '2/5/21', '2/6/21', '2/7/21', '2/8/21', '2/9/21', '2/10/21', '2/11/21', '2/12/21', '2/13/21', '2/14/21', '2/15/21', '2/16/21', '2/17/21', '2/18/21', '2/19/21', '2/20/21', '2/21/21', '2/22/21', '2/23/21', '2/24/21', '2/25/21', '2/26/21', '2/27/21', '2/28/21', '3/1/21', '3/2/21', '3/3/21', '3/4/21', '3/5/21', '3/6/21', '3/7/21', '3/8/21', '3/9/21', '3/10/21', '3/11/21', '3/12/21', '3/13/21', '3/14/21', '3/15/21', '3/16/21', '3/17/21', '3/18/21', '3/19/21', '3/20/21', '3/21/21', '3/22/21', '3/23/21', '3/24/21', '3/25/21', '3/26/21', '3/27/21', '3/28/21', '3/29/21', '3/30/21', '3/31/21', '4/1/21', '4/2/21', '4/3/21', '4/4/21', '4/5/21', '4/6/21', '4/7/21', '4/8/21', '4/9/21', '4/10/21', '4/11/21', '4/12/21', '4/13/21', '4/14/21', '4/15/21', '4/16/21', '4/17/21', '4/18/21', '4/19/21', '4/20/21', '4/21/21', '4/22/21', '4/23/21', '4/24/21', '4/25/21', '4/26/21', '4/27/21', '4/28/21', '4/29/21', '4/30/21', '5/1/21', '5/2/21', '5/3/21', '5/4/21', '5/5/21', '5/6/21', '5/7/21', '5/8/21', '5/9/21', '5/10/21', '5/11/21', '5/12/21', '5/13/21', '5/14/21', '5/15/21', '5/16/21', '5/17/21', '5/18/21', '5/19/21', '5/20/21', '5/21/21', '5/22/21', '5/23/21', '5/24/21', '5/25/21', '5/26/21', '5/27/21', '5/28/21', '5/29/21', '5/30/21', '5/31/21', '6/1/21', '6/2/21', '6/3/21', '6/4/21', '6/5/21', '6/6/21', '6/7/21', '6/8/21', '6/9/21', '6/10/21', '6/11/21', '6/12/21', '6/13/21', '6/14/21', '6/15/21', '6/16/21', '6/17/21', '6/18/21', '6/19/21', '6/20/21', '6/21/21', '6/22/21', '6/23/21', '6/24/21', '6/25/21', '6/26/21', '6/27/21', '6/28/21', '6/29/21', '6/30/21', '7/1/21', '7/2/21', '7/3/21', '7/4/21', '7/5/21', '7/6/21', '7/7/21', '7/8/21', '7/9/21', '7/10/21', '7/11/21', '7/12/21', '7/13/21', '7/14/21', '7/15/21', '7/16/21', '7/17/21', '7/18/21', '7/19/21', '7/20/21', '7/21/21', '7/22/21', '7/23/21', '7/24/21', '7/25/21', '7/26/21', '7/27/21', '7/28/21', '7/29/21', '7/30/21', '7/31/21', '8/1/21', '8/2/21', '8/3/21', '8/4/21', '8/5/21', '8/6/21', '8/7/21', '8/8/21', '8/9/21', '8/10/21', '8/11/21', '8/12/21', '8/13/21', '8/14/21', '8/15/21', '8/16/21', '8/17/21', '8/18/21', '8/19/21', '8/20/21', '8/21/21', '8/22/21', '8/23/21', '8/24/21', '8/25/21', '8/26/21', '8/27/21', '8/28/21', '8/29/21', '8/30/21', '8/31/21', '9/1/21', '9/2/21', '9/3/21', '9/4/21', '9/5/21', '9/6/21', '9/7/21', '9/8/21', '9/9/21', '9/10/21', '9/11/21', '9/12/21', '9/13/21', '9/14/21', '9/15/21', '9/16/21', '9/17/21', '9/18/21', '9/19/21', '9/20/21', '9/21/21', '9/22/21', '9/23/21', '9/24/21', '9/25/21', '9/26/21', '9/27/21', '9/28/21', '9/29/21', '9/30/21', '10/1/21', '10/2/21', '10/3/21', '10/4/21', '10/5/21', '10/6/21', '10/7/21', '10/8/21', '10/9/21', '10/10/21', '10/11/21', '10/12/21', '10/13/21', '10/14/21', '10/15/21', '10/16/21', '10/17/21', '10/18/21', '10/19/21', '10/20/21', '10/21/21', '10/22/21', '10/23/21', '10/24/21', '10/25/21', '10/26/21', '10/27/21', '10/28/21', '10/29/21', '10/30/21', '10/31/21', '11/1/21', '11/2/21', '11/3/21', '11/4/21', '11/5/21', '11/6/21', '11/7/21', '11/8/21', '11/9/21', '11/10/21', '11/11/21', '11/12/21', '11/13/21', '11/14/21', '11/15/21', '11/16/21', '11/17/21', '11/18/21', '11/19/21', '11/20/21', '11/21/21', '11/22/21', '11/23/21', '11/24/21', '11/25/21', '11/26/21', '11/27/21', '11/28/21', '11/29/21', '11/30/21', '12/1/21', '12/2/21', '12/3/21', '12/4/21', '12/5/21', '12/6/21', '12/7/21', '12/8/21', '12/9/21', '12/10/21', '12/11/21', '12/12/21', '12/13/21', '12/14/21', '12/15/21', '12/16/21', '12/17/21', '12/18/21', '12/19/21', '12/20/21', '12/21/21', '12/22/21', '12/23/21', '12/24/21', '12/25/21', '12/26/21', '12/27/21', '12/28/21', '12/29/21', '12/30/21', '12/31/21', '1/1/22', '1/2/22', '1/3/22', '1/4/22']\n"
     ]
    }
   ],
   "source": [
    "print(list(series))\n"
   ]
  },
  {
   "cell_type": "code",
   "execution_count": 457,
   "metadata": {},
   "outputs": [
    {
     "name": "stdout",
     "output_type": "stream",
     "text": [
      "    Country/Region  1/22/20  1/23/20  1/24/20  1/25/20  1/26/20  1/27/20  \\\n",
      "143         Québec        0        0        0        0        0        0   \n",
      "\n",
      "     1/28/20  1/29/20  1/30/20  ...  12/26/21  12/27/21  12/28/21  12/29/21  \\\n",
      "143        0        0        0  ...    538205    546436    559269    572418   \n",
      "\n",
      "     12/30/21  12/31/21  1/1/22  1/2/22  1/3/22  1/4/22  \n",
      "143    586606    603067  620189  636034  651327  651327  \n",
      "\n",
      "[1 rows x 715 columns]\n",
      "------------------------------------------------------------------------------------------\n",
      "values_list[-10:]:\n",
      "[538205, 546436, 559269, 572418, 586606, 603067, 620189, 636034, 651327, 651327]\n",
      "******************************************************************************************\n",
      "dates_list[-10:]:\n",
      "[datetime.datetime(2021, 12, 26, 0, 0), datetime.datetime(2021, 12, 27, 0, 0), datetime.datetime(2021, 12, 28, 0, 0), datetime.datetime(2021, 12, 29, 0, 0), datetime.datetime(2021, 12, 30, 0, 0), datetime.datetime(2021, 12, 31, 0, 0), datetime.datetime(2022, 1, 1, 0, 0), datetime.datetime(2022, 1, 2, 0, 0), datetime.datetime(2022, 1, 3, 0, 0), datetime.datetime(2022, 1, 4, 0, 0)]\n",
      "------------------------------------------------------------------------------------------\n",
      "series[-10:]:\n",
      "[538205, 546436, 559269, 572418, 586606, 603067, 620189, 636034, 651327, 651327]\n",
      "------------------------------------------------------------------------------------------\n",
      "series.index[-10:]:\n",
      "[Timestamp('2021-12-26 00:00:00'), Timestamp('2021-12-27 00:00:00'), Timestamp('2021-12-28 00:00:00'), Timestamp('2021-12-29 00:00:00'), Timestamp('2021-12-30 00:00:00'), Timestamp('2021-12-31 00:00:00'), Timestamp('2022-01-01 00:00:00'), Timestamp('2022-01-02 00:00:00'), Timestamp('2022-01-03 00:00:00'), Timestamp('2022-01-04 00:00:00')]\n",
      "******************************************************************************************\n"
     ]
    }
   ],
   "source": [
    "def parser(x):\n",
    "    return pd.datetime.strptime(x, '%m/%d/%y')\n",
    "\n",
    "series_raw = series_chronologiques_COVID19_df[series_chronologiques_COVID19_df['Country/Region']=='Québec']\n",
    "print(series_raw)\n",
    "dates_list = [parser(x) for x in list(series_raw.columns[1:])]\n",
    "values_list = list((series_raw.values)[0][1:])\n",
    "# Ici au besoin, on peut ajouter manuellement un nouveau point de données\n",
    "# lignes commentées\n",
    "# values_list += [15857]\n",
    "# dates_list += [parser('4/16/20')]                     \n",
    "print(\"-\"*90)\n",
    "print(\"values_list[-10:]:\")\n",
    "print(list(values_list[-10:]))\n",
    "print(\"*\"*90)\n",
    "print(\"dates_list[-10:]:\")\n",
    "print(dates_list[-10:])\n",
    "print(\"-\"*90)\n",
    "series = pd.Series(values_list,index=dates_list)\n",
    "series.index.name = 'date'\n",
    "print(\"series[-10:]:\")\n",
    "print(list(series)[-10:])\n",
    "print(\"-\"*90)\n",
    "print(\"series.index[-10:]:\")\n",
    "print(list(series.index)[-10:])\n",
    "print(\"*\"*90)\n"
   ]
  },
  {
   "cell_type": "markdown",
   "metadata": {},
   "source": [
    "### Affichage de la progression temporelle du nombre de malades confirmés"
   ]
  },
  {
   "cell_type": "code",
   "execution_count": 458,
   "metadata": {},
   "outputs": [
    {
     "data": {
      "image/png": "[encoded data removed]",
      "text/plain": [
       "<Figure size 684x432 with 1 Axes>"
      ]
     },
     "metadata": {
      "needs_background": "light"
     },
     "output_type": "display_data"
    }
   ],
   "source": [
    "nombre_dor = 1.618\n",
    "hauteur = 12\n",
    "longueur = int(nombre_dor * hauteur)\n",
    "\n",
    "plt.figure(figsize=(longueur/2,hauteur/2))\n",
    "series.plot()\n",
    "plt.title(\"Évolution du nombre de malades confirmés au Québec\",fontsize=18)\n",
    "plt.xlabel(\"date\",fontsize=18)\n",
    "plt.ylabel(\"nombre de malades confirmés - échelle linéaire\",fontsize=14)\n",
    "xticks(rotation=60)\n",
    "plt.show()\n"
   ]
  },
  {
   "cell_type": "code",
   "execution_count": 459,
   "metadata": {},
   "outputs": [
    {
     "data": {
      "image/png": "[encoded data removed]",
      "text/plain": [
       "<Figure size 684x432 with 1 Axes>"
      ]
     },
     "metadata": {
      "needs_background": "light"
     },
     "output_type": "display_data"
    }
   ],
   "source": [
    "fig, ax = plt.subplots(figsize=(longueur/2,hauteur/2))\n",
    "xticks(rotation=60)\n",
    "ax.set_yscale('log')\n",
    "series.plot()\n",
    "plt.title(\"Évolution du nombre de malades confirmés au Québec\",fontsize=18)\n",
    "plt.xlabel(\"date\",fontsize=18)\n",
    "plt.ylabel(\"nombre de malades confirmés - échelle log\",fontsize=16)\n",
    "xticks(rotation=60)\n",
    "plt.show()\n"
   ]
  },
  {
   "cell_type": "markdown",
   "metadata": {},
   "source": [
    " ## Modèle simple basé sur une régression et une fonction exponentielle\n",
    " ### Modéliser avec une fonction exponentielle de forme $a e^{bx}+c$ avec la fonction <a href=\"https://docs.scipy.org/doc/scipy/reference/generated/scipy.optimize.curve_fit.html\">`scipy.optimize.curve_fit`</a>"
   ]
  },
  {
   "cell_type": "code",
   "execution_count": 460,
   "metadata": {},
   "outputs": [
    {
     "name": "stdout",
     "output_type": "stream",
     "text": [
      "date\n",
      "2021-12-16    474477\n",
      "2021-12-17    478245\n",
      "2021-12-18    481876\n",
      "2021-12-19    485722\n",
      "2021-12-20    490293\n",
      "2021-12-21    495336\n",
      "2021-12-22    501697\n",
      "2021-12-23    511094\n",
      "2021-12-24    521125\n",
      "2021-12-25    530331\n",
      "2021-12-26    538205\n",
      "2021-12-27    546436\n",
      "2021-12-28    559269\n",
      "2021-12-29    572418\n",
      "2021-12-30    586606\n",
      "2021-12-31    603067\n",
      "2022-01-01    620189\n",
      "2022-01-02    636034\n",
      "2022-01-03    651327\n",
      "2022-01-04    651327\n",
      "dtype: int64\n"
     ]
    }
   ],
   "source": [
    "nbre_points = 20\n",
    "print(series[-nbre_points:])"
   ]
  },
  {
   "cell_type": "code",
   "execution_count": 461,
   "metadata": {},
   "outputs": [
    {
     "name": "stdout",
     "output_type": "stream",
     "text": [
      "[6.46881542e+04 7.30519720e-02 4.05471115e+05]\n"
     ]
    },
    {
     "data": {
      "image/png": "[encoded data removed]",
      "text/plain": [
       "<Figure size 684x432 with 1 Axes>"
      ]
     },
     "metadata": {
      "needs_background": "light"
     },
     "output_type": "display_data"
    }
   ],
   "source": [
    "import matplotlib.pyplot as plt\n",
    "from scipy.optimize import curve_fit\n",
    "\n",
    "y_data = np.array([y for y in series[-nbre_points:].values if y > 0])\n",
    "x_data = np.array([x for x in range(len(y_data))])\n",
    "\n",
    "def func(x, a, b, c):\n",
    "    return a * np.exp(b * x) + c\n",
    "\n",
    "popt, pcov = curve_fit(func, x_data, y_data, maxfev=5000)\n",
    "print(popt)\n",
    "\n",
    "plt.figure(figsize=(longueur/2,hauteur/2))\n",
    "plt.title(\"Régression appliquée à une fonction exponentielle\\n $a e^{bx}+c$\",fontsize=18)\n",
    "plt.xlabel(\"nombre de jours\",fontsize=18)\n",
    "plt.ylabel(\"nombre de malades\",fontsize=18)\n",
    "\n",
    "plt.scatter(x_data, y_data)\n",
    "\n",
    "_ = plt.plot(x_data, func(x_data, *popt), 'b--',\n",
    "             label='fit: a=%5.3f, b=%5.3f, c=%5.3f' % tuple(popt))\n",
    "\n",
    "plt.show()\n"
   ]
  },
  {
   "cell_type": "code",
   "execution_count": 462,
   "metadata": {},
   "outputs": [
    {
     "name": "stdout",
     "output_type": "stream",
     "text": [
      "[0, 1, 2, 3, 4, 5, 6, 7, 8, 9, 10, 11, 12, 13, 14, 15, 16, 17, 18, 19, 20, 21, 22]\n"
     ]
    }
   ],
   "source": [
    "def generate_xdata_predictions(x_data,n_predictions):\n",
    "    longueur_x_data = len(x_data)    \n",
    "    return [nouv_x for nouv_x in range(longueur_x_data,longueur_x_data+n_predictions)]\n",
    "    \n",
    "n_predictions = 3\n",
    "x_data_list_extended = x_data.tolist() + generate_xdata_predictions(x_data,n_predictions)\n",
    "x_data_extended = np.array(x_data_list_extended)\n",
    "print(list(x_data_extended))\n"
   ]
  },
  {
   "cell_type": "code",
   "execution_count": 463,
   "metadata": {},
   "outputs": [
    {
     "name": "stdout",
     "output_type": "stream",
     "text": [
      "------------------------------------------------------------------------------------------\n",
      "Vraies valeurs:\n",
      "x=0, y=474477\n",
      "x=1, y=478245\n",
      "x=2, y=481876\n",
      "x=3, y=485722\n",
      "x=4, y=490293\n",
      "x=5, y=495336\n",
      "x=6, y=501697\n",
      "x=7, y=511094\n",
      "x=8, y=521125\n",
      "x=9, y=530331\n",
      "x=10, y=538205\n",
      "x=11, y=546436\n",
      "x=12, y=559269\n",
      "x=13, y=572418\n",
      "x=14, y=586606\n",
      "x=15, y=603067\n",
      "x=16, y=620189\n",
      "x=17, y=636034\n",
      "x=18, y=651327\n",
      "x=19, y=651327\n",
      "------------------------------------------------------------------------------------------\n"
     ]
    },
    {
     "data": {
      "image/png": "[encoded data removed]",
      "text/plain": [
       "<Figure size 684x432 with 1 Axes>"
      ]
     },
     "metadata": {
      "needs_background": "light"
     },
     "output_type": "display_data"
    },
    {
     "name": "stdout",
     "output_type": "stream",
     "text": [
      "------------------------------------------------------------------------------------------\n",
      "Prédictions:\n",
      "x=20, y=684305\n",
      "x=21, y=705437\n",
      "x=22, y=728170\n",
      "------------------------------------------------------------------------------------------\n"
     ]
    }
   ],
   "source": [
    "plt.figure(figsize=(longueur/2,hauteur/2))\n",
    "plt.title(\"Régression appliquée à une fonction exponentielle\\n $a e^{bx}+c$\",fontsize=18)\n",
    "plt.xlabel(\"nombre de jours\",fontsize=18)\n",
    "plt.ylabel(\"nombre de malades\",fontsize=18)\n",
    "\n",
    "predictions = func(x_data_extended, *popt)\n",
    "\n",
    "plt.scatter(x_data, y_data)\n",
    "\n",
    "print(\"-\"*90)\n",
    "print(\"Vraies valeurs:\")\n",
    "for index in range(len(y_data)):\n",
    "    print('x=%i, y=%i' % (index,y_data[index]))\n",
    "print(\"-\"*90)\n",
    "\n",
    "plt.scatter(x_data_extended[-n_predictions:], predictions[-n_predictions:],marker=\"x\",color=\"r\")\n",
    "\n",
    "_ = plt.plot(x_data_extended, predictions, 'b--',\n",
    "             label='fit: a=%5.3f, b=%5.3f, c=%5.3f' % tuple(popt))\n",
    "\n",
    "plt.show()\n",
    "\n",
    "print(\"-\"*90)\n",
    "print(\"Prédictions:\")\n",
    "for index in range(len(x_data),len(x_data_extended)):\n",
    "    print('x=%i, y=%i' % (index,predictions[index]))\n",
    "print(\"-\"*90)\n"
   ]
  },
  {
   "cell_type": "code",
   "execution_count": 464,
   "metadata": {},
   "outputs": [
    {
     "data": {
      "text/plain": [
       "684305"
      ]
     },
     "execution_count": 464,
     "metadata": {},
     "output_type": "execute_result"
    }
   ],
   "source": [
    "prediction_regNonLin_exp = int(predictions[len(x_data)])\n",
    "prediction_regNonLin_exp\n"
   ]
  },
  {
   "cell_type": "markdown",
   "metadata": {},
   "source": [
    "## Modèle ARIMA\n",
    "\n",
    "Une méthode statistique populaire pour la prévision des séries chronologiques est le modèle ARIMA, un acronyme qui signifie AutoRegressive Integrated Moving Average, en français modèle de moyenne mobile autorégressive. Il s'agit d'une classe de modèle qui capture une suite de différentes structures temporelles dans les données d'une série chronologique. \n",
    "\n",
    "Trois hyperparamètres contrôlent l'algorithme ARIMA \n",
    "\n",
    "* p: l'ordre du modèle autorégressif (correspond au nombre de périodes antérieuses considérées)\n",
    "* d: le degré de différenciation des observations brutes (soustraction d'une observation au temps t à une observation à la période de temps précédente t-1) afin de rendre la série chronologique stationnaire\n",
    "* q: l'ordre de la moyenne mobile (dépendance entre une observation et l'erreur résiduelle d'une moyenne mobile apppliquée aux observations antérieures) \n",
    "\n",
    "Référence : \n",
    "\n",
    "* https://en.wikipedia.org/wiki/Autoregressive_integrated_moving_average\n",
    "\n",
    "* https://machinelearningmastery.com/arima-for-time-series-forecasting-with-python/\n"
   ]
  },
  {
   "cell_type": "markdown",
   "metadata": {},
   "source": [
    "### Autocorrélation\n",
    "Nous pouvons calculer la corrélation pour les observations de séries chronologiques avec des observations avec des périodes de temps précédentes, appelés périodes antérieures (en anglais, lag). Étant donné que la corrélation des observations de la série chronologique est calculée avec des valeurs de la même série à des périodes antérieures, cela s'appelle une autocorrélation, (en anglais. Autocorrelation Function, ACF)."
   ]
  },
  {
   "cell_type": "markdown",
   "metadata": {},
   "source": [
    "Ci-dessous, calcul et affichage de l'autocorrélation avec la fonction `.autocorrelation_plot()` de la bibliothèque Pandas."
   ]
  },
  {
   "cell_type": "code",
   "execution_count": 465,
   "metadata": {},
   "outputs": [
    {
     "data": {
      "image/png": "[encoded data removed]",
      "text/plain": [
       "<Figure size 684x432 with 1 Axes>"
      ]
     },
     "metadata": {
      "needs_background": "light"
     },
     "output_type": "display_data"
    }
   ],
   "source": [
    "from pandas import read_csv\n",
    "from pandas import datetime\n",
    "import matplotlib.pyplot as plt\n",
    "from pandas.plotting import autocorrelation_plot\n",
    "\n",
    "plt.figure(figsize=(longueur/2,hauteur/2))\n",
    "autocorrelation_plot(series)\n",
    "plt.xlabel(u'Périodes antérieures',fontsize=18)\n",
    "plt.ylabel(u'Autocorrélation',fontsize=18)\n",
    "plt.show()\n"
   ]
  },
  {
   "cell_type": "markdown",
   "metadata": {},
   "source": [
    "Le même calcul et affichage de l'autocorrélation avec la fonction `.plot_acf()` de la bibliothèque statsmodels."
   ]
  },
  {
   "cell_type": "code",
   "execution_count": 466,
   "metadata": {},
   "outputs": [
    {
     "data": {
      "image/png": "[encoded data removed]",
      "text/plain": [
       "<Figure size 684x432 with 1 Axes>"
      ]
     },
     "metadata": {
      "needs_background": "light"
     },
     "output_type": "display_data"
    }
   ],
   "source": [
    "import matplotlib.pyplot as plt\n",
    "from statsmodels.graphics.tsaplots import plot_acf\n",
    "fig, ax = plt.subplots(figsize=(longueur/2,hauteur/2))\n",
    "plot_acf(series,title='',ax=ax)\n",
    "plt.xlabel(u'Périodes antérieures',fontsize=18)\n",
    "plt.ylabel(u'Autocorrélation',fontsize=18)\n",
    "plt.show()\n"
   ]
  },
  {
   "cell_type": "markdown",
   "metadata": {},
   "source": [
    "### Autocorrélation partielle\n",
    "Une autocorrélation partielle (en anglais. Partial Autocorrelation Function, PACF) est un résumé de la relation entre une observation dans une série chronologique avec des observations à des périodes antérieures en supprimant les relations des observations intermédiaires. Utilisation de avec la fonction `.plot_pacf()` de la bibliothèque statsmodels."
   ]
  },
  {
   "cell_type": "code",
   "execution_count": 467,
   "metadata": {},
   "outputs": [
    {
     "data": {
      "image/png": "[encoded data removed]",
      "text/plain": [
       "<Figure size 684x432 with 1 Axes>"
      ]
     },
     "metadata": {
      "needs_background": "light"
     },
     "output_type": "display_data"
    }
   ],
   "source": [
    "import matplotlib.pyplot as plt\n",
    "from statsmodels.graphics.tsaplots import plot_pacf\n",
    "fig, ax = plt.subplots(figsize=(longueur/2,hauteur/2))\n",
    "try:\n",
    "    plot_pacf(series,title='',ax=ax)\n",
    "    plt.xlabel(u'Périodes antérieures',fontsize=18)\n",
    "    plt.ylabel(u'Autocorrelation',fontsize=18)\n",
    "    plt.show()\n",
    "except:\n",
    "    print(\"Matrice singulière\")\n",
    "    # Ajout de bruit\n",
    "    series = series+1.0e-09*np.random.rand(series.shape[0])\n",
    "    plot_pacf(series,title='',ax=ax)\n",
    "    plt.xlabel(u'Périodes antérieures',fontsize=18)\n",
    "    plt.ylabel(u'Autocorrelation',fontsize=18)\n",
    "    plt.show()\n"
   ]
  },
  {
   "cell_type": "markdown",
   "metadata": {},
   "source": [
    "### Auto ARIMA\n",
    "\n",
    "Auto ARIMA calcule les meilleurs modèles ARIMA à partir des données et de contraintes sur les hyperparamètres (p,d,q) de ARIMA selon diférents critères comme le <a href=\"https://fr.wikipedia.org/wiki/Crit%C3%A8re_d%27information_d%27Akaike\">critère d'information d'Akaike</a> (Akaike information criterion ou AIC) "
   ]
  },
  {
   "cell_type": "markdown",
   "metadata": {},
   "source": [
    "Installer la bibliothèque Python auto_arima\n",
    "\n",
    "#> sudo pip3 install pyramid-arima - deprecated\n",
    "\n",
    "   > sudo pip3 install pmdarima\n",
    "   \n",
    "Documentation: https://alkaline-ml.com/pmdarima/0.9.0/tips_and_tricks.html#tips-and-tricks\n",
    "\n",
    "Prise en main rapide: https://alkaline-ml.com/pmdarima/0.9.0/quickstart.html\n"
   ]
  },
  {
   "cell_type": "code",
   "execution_count": 468,
   "metadata": {},
   "outputs": [
    {
     "name": "stderr",
     "output_type": "stream",
     "text": [
      "/usr/local/lib/python3.8/dist-packages/pmdarima/arima/_validation.py:62: UserWarning: m (100) set for non-seasonal fit. Setting to 0\n",
      "  warnings.warn(\"m (%i) set for non-seasonal fit. Setting to 0\" % m)\n"
     ]
    },
    {
     "name": "stdout",
     "output_type": "stream",
     "text": [
      "pmdarima version: 1.8.3\n",
      "\n",
      "Performing stepwise search to minimize aic\n",
      " ARIMA(1,1,1)(0,0,0)[0] intercept   : AIC=11289.861, Time=0.25 sec\n",
      " ARIMA(0,1,0)(0,0,0)[0] intercept   : AIC=12651.093, Time=0.03 sec\n",
      " ARIMA(1,1,0)(0,0,0)[0] intercept   : AIC=11289.893, Time=0.07 sec\n",
      " ARIMA(0,1,1)(0,0,0)[0] intercept   : AIC=11969.218, Time=0.42 sec\n",
      " ARIMA(0,1,0)(0,0,0)[0]             : AIC=12826.287, Time=0.02 sec\n",
      " ARIMA(2,1,1)(0,0,0)[0] intercept   : AIC=11291.573, Time=0.62 sec\n",
      " ARIMA(1,1,2)(0,0,0)[0] intercept   : AIC=11239.530, Time=0.78 sec\n",
      " ARIMA(0,1,2)(0,0,0)[0] intercept   : AIC=11613.071, Time=1.30 sec\n",
      " ARIMA(2,1,2)(0,0,0)[0] intercept   : AIC=11248.390, Time=1.25 sec\n",
      " ARIMA(1,1,3)(0,0,0)[0] intercept   : AIC=11243.300, Time=1.14 sec\n",
      " ARIMA(0,1,3)(0,0,0)[0] intercept   : AIC=11410.700, Time=1.10 sec\n",
      " ARIMA(2,1,3)(0,0,0)[0] intercept   : AIC=11240.803, Time=0.78 sec\n",
      " ARIMA(1,1,2)(0,0,0)[0]             : AIC=11248.140, Time=0.18 sec\n",
      "\n",
      "Best model:  ARIMA(1,1,2)(0,0,0)[0] intercept\n",
      "Total fit time: 7.929 seconds\n",
      "\n"
     ]
    },
    {
     "data": {
      "text/html": [
       "<table class=\"simpletable\">\n",
       "<caption>SARIMAX Results</caption>\n",
       "<tr>\n",
       "  <th>Dep. Variable:</th>           <td>y</td>        <th>  No. Observations:  </th>    <td>714</td>   \n",
       "</tr>\n",
       "<tr>\n",
       "  <th>Model:</th>           <td>SARIMAX(1, 1, 2)</td> <th>  Log Likelihood     </th> <td>-5614.765</td>\n",
       "</tr>\n",
       "<tr>\n",
       "  <th>Date:</th>            <td>Wed, 05 Jan 2022</td> <th>  AIC                </th> <td>11239.530</td>\n",
       "</tr>\n",
       "<tr>\n",
       "  <th>Time:</th>                <td>20:46:30</td>     <th>  BIC                </th> <td>11262.377</td>\n",
       "</tr>\n",
       "<tr>\n",
       "  <th>Sample:</th>                  <td>0</td>        <th>  HQIC               </th> <td>11248.354</td>\n",
       "</tr>\n",
       "<tr>\n",
       "  <th></th>                      <td> - 714</td>      <th>                     </th>     <td> </td>    \n",
       "</tr>\n",
       "<tr>\n",
       "  <th>Covariance Type:</th>        <td>opg</td>       <th>                     </th>     <td> </td>    \n",
       "</tr>\n",
       "</table>\n",
       "<table class=\"simpletable\">\n",
       "<tr>\n",
       "      <td></td>         <th>coef</th>     <th>std err</th>      <th>z</th>      <th>P>|z|</th>  <th>[0.025</th>    <th>0.975]</th>  \n",
       "</tr>\n",
       "<tr>\n",
       "  <th>intercept</th> <td>  152.7878</td> <td>   93.449</td> <td>    1.635</td> <td> 0.102</td> <td>  -30.369</td> <td>  335.944</td>\n",
       "</tr>\n",
       "<tr>\n",
       "  <th>ar.L1</th>     <td>    0.8190</td> <td>    0.012</td> <td>   70.073</td> <td> 0.000</td> <td>    0.796</td> <td>    0.842</td>\n",
       "</tr>\n",
       "<tr>\n",
       "  <th>ma.L1</th>     <td>    0.1913</td> <td>    0.015</td> <td>   12.905</td> <td> 0.000</td> <td>    0.162</td> <td>    0.220</td>\n",
       "</tr>\n",
       "<tr>\n",
       "  <th>ma.L2</th>     <td>    0.5995</td> <td>    0.015</td> <td>   40.746</td> <td> 0.000</td> <td>    0.571</td> <td>    0.628</td>\n",
       "</tr>\n",
       "<tr>\n",
       "  <th>sigma2</th>    <td> 4.044e+05</td> <td> 4947.417</td> <td>   81.732</td> <td> 0.000</td> <td> 3.95e+05</td> <td> 4.14e+05</td>\n",
       "</tr>\n",
       "</table>\n",
       "<table class=\"simpletable\">\n",
       "<tr>\n",
       "  <th>Ljung-Box (L1) (Q):</th>      <td>0.01</td>  <th>  Jarque-Bera (JB):  </th> <td>1006084.54</td>\n",
       "</tr>\n",
       "<tr>\n",
       "  <th>Prob(Q):</th>                 <td>0.93</td>  <th>  Prob(JB):          </th>    <td>0.00</td>   \n",
       "</tr>\n",
       "<tr>\n",
       "  <th>Heteroskedasticity (H):</th> <td>114.68</td> <th>  Skew:              </th>    <td>-7.03</td>  \n",
       "</tr>\n",
       "<tr>\n",
       "  <th>Prob(H) (two-sided):</th>     <td>0.00</td>  <th>  Kurtosis:          </th>   <td>186.49</td>  \n",
       "</tr>\n",
       "</table><br/><br/>Warnings:<br/>[1] Covariance matrix calculated using the outer product of gradients (complex-step)."
      ],
      "text/plain": [
       "<class 'statsmodels.iolib.summary.Summary'>\n",
       "\"\"\"\n",
       "                               SARIMAX Results                                \n",
       "==============================================================================\n",
       "Dep. Variable:                      y   No. Observations:                  714\n",
       "Model:               SARIMAX(1, 1, 2)   Log Likelihood               -5614.765\n",
       "Date:                Wed, 05 Jan 2022   AIC                          11239.530\n",
       "Time:                        20:46:30   BIC                          11262.377\n",
       "Sample:                             0   HQIC                         11248.354\n",
       "                                - 714                                         \n",
       "Covariance Type:                  opg                                         \n",
       "==============================================================================\n",
       "                 coef    std err          z      P>|z|      [0.025      0.975]\n",
       "------------------------------------------------------------------------------\n",
       "intercept    152.7878     93.449      1.635      0.102     -30.369     335.944\n",
       "ar.L1          0.8190      0.012     70.073      0.000       0.796       0.842\n",
       "ma.L1          0.1913      0.015     12.905      0.000       0.162       0.220\n",
       "ma.L2          0.5995      0.015     40.746      0.000       0.571       0.628\n",
       "sigma2      4.044e+05   4947.417     81.732      0.000    3.95e+05    4.14e+05\n",
       "===================================================================================\n",
       "Ljung-Box (L1) (Q):                   0.01   Jarque-Bera (JB):           1006084.54\n",
       "Prob(Q):                              0.93   Prob(JB):                         0.00\n",
       "Heteroskedasticity (H):             114.68   Skew:                            -7.03\n",
       "Prob(H) (two-sided):                  0.00   Kurtosis:                       186.49\n",
       "===================================================================================\n",
       "\n",
       "Warnings:\n",
       "[1] Covariance matrix calculated using the outer product of gradients (complex-step).\n",
       "\"\"\""
      ]
     },
     "execution_count": 468,
     "metadata": {},
     "output_type": "execute_result"
    }
   ],
   "source": [
    "from io import StringIO\n",
    "import sys\n",
    "\n",
    "sortie_standard = sys.stdout\n",
    "sortie_autoarima = StringIO()\n",
    "sys.stdout =  sortie_autoarima\n",
    "\n",
    "# import pyramid as pm - deprecated\n",
    "import pmdarima as pm\n",
    "print(\"pmdarima version:\",pm.__version__)\n",
    "print()\n",
    "import warnings\n",
    "warnings.simplefilter(action='ignore', category=FutureWarning)\n",
    "\n",
    "# Entraîner auto-ARIMA\n",
    "meilleur_ARIMA = pm.auto_arima(series, start_p=1, start_q=1,\n",
    "                               max_p=3, max_q=3, m=100,\n",
    "                               start_P=0, seasonal=False,\n",
    "                               d=1, D=1, trace=True,\n",
    "                               error_action='ignore',  # pas de message d'erreur sur\n",
    "                               suppress_warnings=True, # pas de message de non convergence\n",
    "                               stepwise=True)  # calcul pas à pas\n",
    "\n",
    "# Restaurer la sortie standard\n",
    "sys.stdout = sortie_standard\n",
    "\n",
    "# Récupérer la sortie autoarima \n",
    "sortie_autoarima_str = sortie_autoarima.getvalue()\n",
    "\n",
    "print(sortie_autoarima_str)\n",
    "\n",
    "meilleur_ARIMA.summary()\n"
   ]
  },
  {
   "cell_type": "code",
   "execution_count": 469,
   "metadata": {},
   "outputs": [
    {
     "name": "stdout",
     "output_type": "stream",
     "text": [
      "['2', '1', '3']\n",
      "['1', '1', '3']\n",
      "['1', '1', '2']\n",
      "['2', '1', '2']\n",
      "['1', '1', '1']\n",
      "['1', '1', '0']\n",
      "['2', '1', '1']\n",
      "['0', '1', '3']\n",
      "['0', '1', '2']\n",
      "['0', '1', '1']\n",
      "['0', '1', '0']\n"
     ]
    },
    {
     "data": {
      "text/plain": [
       "[(2, 1, 3),\n",
       " (1, 1, 3),\n",
       " (1, 1, 2),\n",
       " (2, 1, 2),\n",
       " (1, 1, 1),\n",
       " (1, 1, 0),\n",
       " (2, 1, 1),\n",
       " (0, 1, 3),\n",
       " (0, 1, 2),\n",
       " (0, 1, 1),\n",
       " (0, 1, 0)]"
      ]
     },
     "execution_count": 469,
     "metadata": {},
     "output_type": "execute_result"
    }
   ],
   "source": [
    "import re\n",
    "\n",
    "liste_resultats_ARIMA = sortie_autoarima_str.split('\\n')\n",
    "# motif_extraction = \"order=\\((\\d),\\s(\\d),\\s(\\d)\\);\\s*AIC=(\\d*\\.\\d*|nan)\" \n",
    "motif_extraction = \"ARIMA\\((\\d),(\\d),(\\d)\\).*AIC=(\\d*\\.\\d*|nan)\" \n",
    "\n",
    "p = re.compile(motif_extraction)\n",
    "\n",
    "meilleurs_ARIMA_dict = {}\n",
    "for resultat_ARIMA_brut in liste_resultats_ARIMA:\n",
    "    if p.findall(resultat_ARIMA_brut):\n",
    "        resultat_ARIMA = p.findall(resultat_ARIMA_brut)[0]\n",
    "        arima_etiq = \"_\".join(resultat_ARIMA[:3])\n",
    "        aic = resultat_ARIMA[3]\n",
    "        if aic == \"nan\":\n",
    "            aic = 10000000\n",
    "        meilleurs_ARIMA_dict[arima_etiq]=int(float(aic))\n",
    "meilleurs_ARIMA_list = list({k: v for k, v in sorted(meilleurs_ARIMA_dict.items(), key=lambda item: item[1])})\n",
    "#meilleurs_ARIMA_list[:2]\n",
    "\n",
    "meilleurs_ARIMA = []\n",
    "#for meilleur_arima in meilleurs_ARIMA_list[:2]:\n",
    "for meilleur_arima in meilleurs_ARIMA_list:\n",
    "    print(meilleur_arima.split('_'))\n",
    "    meilleurs_ARIMA += [tuple([int(carac) for carac in meilleur_arima.split('_')])]\n",
    "meilleurs_ARIMA\n"
   ]
  },
  {
   "cell_type": "code",
   "execution_count": 470,
   "metadata": {},
   "outputs": [
    {
     "data": {
      "text/plain": [
       "[(2, 1, 3),\n",
       " (1, 1, 3),\n",
       " (1, 1, 2),\n",
       " (2, 1, 2),\n",
       " (1, 1, 1),\n",
       " (1, 1, 0),\n",
       " (2, 1, 1),\n",
       " (0, 1, 3),\n",
       " (0, 1, 2),\n",
       " (0, 1, 1),\n",
       " (0, 1, 0)]"
      ]
     },
     "execution_count": 470,
     "metadata": {},
     "output_type": "execute_result"
    }
   ],
   "source": [
    "meilleurs_ARIMA"
   ]
  },
  {
   "cell_type": "markdown",
   "metadata": {},
   "source": [
    "### Entraînement du meilleur modèle ARIMA\n",
    "\n",
    "Le critère de sélection selon le <a href=\"https://fr.wikipedia.org/wiki/Crit%C3%A8re_d%27information_d%27Akaike\">critère d'information d'Akaike</a> (Akaike information criterion ou AIC). On ne conserve que les deux ou trois meilleurs modèles ARIMAselon ce critère qui doit être minimisé.\n",
    "\n",
    "Certains modèles ARIMA sont retirés car ils ne convergent pas (`LinAlgError: SVD did not converge`) ou parce que le modèle n'est pas stationnaire."
   ]
  },
  {
   "cell_type": "code",
   "execution_count": 471,
   "metadata": {
    "scrolled": true
   },
   "outputs": [
    {
     "name": "stdout",
     "output_type": "stream",
     "text": [
      "******************************************************************************************\n",
      "Modèle meilleur_ARIMA: (2, 1, 3)\n",
      "Nombre de jours écoulés=448, t=0, prédiction=365065, vraie valeur=365049\n",
      "Modèle meilleur_ARIMA: (2, 1, 3)\n",
      "Nombre de jours écoulés=449, t=1, prédiction=365653, vraie valeur=365849\n",
      "Modèle meilleur_ARIMA: (2, 1, 3)\n",
      "Nombre de jours écoulés=450, t=2, prédiction=366618, vraie valeur=366525\n",
      "Modèle meilleur_ARIMA: (2, 1, 3)\n",
      "Nombre de jours écoulés=451, t=3, prédiction=367209, vraie valeur=367080\n",
      "Modèle meilleur_ARIMA: (2, 1, 3)\n",
      "Nombre de jours écoulés=452, t=4, prédiction=367635, vraie valeur=367575\n",
      "Modèle meilleur_ARIMA: (2, 1, 3)\n",
      "Nombre de jours écoulés=453, t=5, prédiction=368093, vraie valeur=367924\n",
      "Modèle meilleur_ARIMA: (2, 1, 3)\n",
      "Nombre de jours écoulés=454, t=6, prédiction=368319, vraie valeur=368307\n",
      "Modèle meilleur_ARIMA: (2, 1, 3)\n",
      "Nombre de jours écoulés=455, t=7, prédiction=368707, vraie valeur=368706\n",
      "Modèle meilleur_ARIMA: (2, 1, 3)\n",
      "Nombre de jours écoulés=456, t=8, prédiction=369126, vraie valeur=369167\n",
      "Modèle meilleur_ARIMA: (2, 1, 3)\n",
      "Nombre de jours écoulés=457, t=9, prédiction=369626, vraie valeur=369580\n",
      "Modèle meilleur_ARIMA: (2, 1, 3)\n",
      "Nombre de jours écoulés=458, t=10, prédiction=369999, vraie valeur=369980\n",
      "Modèle meilleur_ARIMA: (2, 1, 3)\n",
      "Nombre de jours écoulés=459, t=11, prédiction=370378, vraie valeur=370283\n",
      "Modèle meilleur_ARIMA: (2, 1, 3)\n",
      "Nombre de jours écoulés=460, t=12, prédiction=370606, vraie valeur=370556\n",
      "Modèle meilleur_ARIMA: (2, 1, 3)\n",
      "Nombre de jours écoulés=461, t=13, prédiction=370843, vraie valeur=370805\n",
      "Modèle meilleur_ARIMA: (2, 1, 3)\n",
      "Nombre de jours écoulés=462, t=14, prédiction=371073, vraie valeur=371088\n",
      "Modèle meilleur_ARIMA: (2, 1, 3)\n",
      "Nombre de jours écoulés=463, t=15, prédiction=371377, vraie valeur=371384\n",
      "Modèle meilleur_ARIMA: (2, 1, 3)\n",
      "Nombre de jours écoulés=464, t=16, prédiction=371684, vraie valeur=371655\n",
      "Modèle meilleur_ARIMA: (2, 1, 3)\n",
      "Nombre de jours écoulés=465, t=17, prédiction=371929, vraie valeur=371889\n",
      "Modèle meilleur_ARIMA: (2, 1, 3)\n"
     ]
    },
    {
     "name": "stderr",
     "output_type": "stream",
     "text": [
      "/usr/local/lib/python3.8/dist-packages/statsmodels/base/model.py:604: ConvergenceWarning: Maximum Likelihood optimization failed to converge. Check mle_retvals\n",
      "  warnings.warn(\"Maximum Likelihood optimization failed to \"\n"
     ]
    },
    {
     "name": "stdout",
     "output_type": "stream",
     "text": [
      "Nombre de jours écoulés=466, t=18, prédiction=372128, vraie valeur=372101\n",
      "Modèle meilleur_ARIMA: (2, 1, 3)\n",
      "Nombre de jours écoulés=467, t=19, prédiction=372322, vraie valeur=372254\n",
      "Modèle meilleur_ARIMA: (2, 1, 3)\n",
      "Nombre de jours écoulés=468, t=20, prédiction=372424, vraie valeur=372417\n",
      "Modèle meilleur_ARIMA: (2, 1, 3)\n",
      "Nombre de jours écoulés=469, t=21, prédiction=372587, vraie valeur=372616\n",
      "Modèle meilleur_ARIMA: (2, 1, 3)\n",
      "Nombre de jours écoulés=470, t=22, prédiction=372819, vraie valeur=372771\n",
      "Modèle meilleur_ARIMA: (2, 1, 3)\n",
      "Nombre de jours écoulés=471, t=23, prédiction=372934, vraie valeur=372987\n",
      "Modèle meilleur_ARIMA: (2, 1, 3)\n",
      "Nombre de jours écoulés=472, t=24, prédiction=373192, vraie valeur=373150\n",
      "Modèle meilleur_ARIMA: (2, 1, 3)\n",
      "Nombre de jours écoulés=473, t=25, prédiction=373322, vraie valeur=373283\n",
      "Modèle meilleur_ARIMA: (2, 1, 3)\n",
      "Nombre de jours écoulés=474, t=26, prédiction=373418, vraie valeur=373402\n",
      "Modèle meilleur_ARIMA: (2, 1, 3)\n",
      "Nombre de jours écoulés=475, t=27, prédiction=373529, vraie valeur=373512\n",
      "Modèle meilleur_ARIMA: (2, 1, 3)\n",
      "Nombre de jours écoulés=476, t=28, prédiction=373631, vraie valeur=373686\n",
      "Modèle meilleur_ARIMA: (2, 1, 3)\n",
      "Nombre de jours écoulés=477, t=29, prédiction=373854, vraie valeur=373836\n",
      "Modèle meilleur_ARIMA: (2, 1, 3)\n",
      "Nombre de jours écoulés=478, t=30, prédiction=373988, vraie valeur=373995\n",
      "Modèle meilleur_ARIMA: (2, 1, 3)\n",
      "Nombre de jours écoulés=479, t=31, prédiction=374146, vraie valeur=374125\n",
      "Modèle meilleur_ARIMA: (2, 1, 3)\n",
      "Nombre de jours écoulés=480, t=32, prédiction=374259, vraie valeur=374213\n",
      "Modèle meilleur_ARIMA: (2, 1, 3)\n",
      "Nombre de jours écoulés=481, t=33, prédiction=374308, vraie valeur=374307\n",
      "Modèle meilleur_ARIMA: (2, 1, 3)\n",
      "Nombre de jours écoulés=482, t=34, prédiction=374405, vraie valeur=374400\n",
      "Modèle meilleur_ARIMA: (2, 1, 3)\n",
      "Nombre de jours écoulés=483, t=35, prédiction=374499, vraie valeur=374528\n",
      "Modèle meilleur_ARIMA: (2, 1, 3)\n",
      "Nombre de jours écoulés=484, t=36, prédiction=374652, vraie valeur=374608\n",
      "Modèle meilleur_ARIMA: (2, 1, 3)\n",
      "Nombre de jours écoulés=485, t=37, prédiction=374694, vraie valeur=374689\n",
      "Modèle meilleur_ARIMA: (2, 1, 3)\n",
      "Nombre de jours écoulés=486, t=38, prédiction=374768, vraie valeur=374793\n",
      "Modèle meilleur_ARIMA: (2, 1, 3)\n",
      "Nombre de jours écoulés=487, t=39, prédiction=374897, vraie valeur=374872\n",
      "Modèle meilleur_ARIMA: (2, 1, 3)\n",
      "Nombre de jours écoulés=488, t=40, prédiction=374955, vraie valeur=374921\n",
      "Modèle meilleur_ARIMA: (2, 1, 3)\n",
      "Nombre de jours écoulés=489, t=41, prédiction=374973, vraie valeur=375018\n",
      "Modèle meilleur_ARIMA: (2, 1, 3)\n",
      "Nombre de jours écoulés=490, t=42, prédiction=375111, vraie valeur=375123\n",
      "Modèle meilleur_ARIMA: (2, 1, 3)\n",
      "Nombre de jours écoulés=491, t=43, prédiction=375228, vraie valeur=375197\n",
      "Modèle meilleur_ARIMA: (2, 1, 3)\n",
      "Nombre de jours écoulés=492, t=44, prédiction=375270, vraie valeur=375276\n",
      "Modèle meilleur_ARIMA: (2, 1, 3)\n",
      "Nombre de jours écoulés=493, t=45, prédiction=375352, vraie valeur=375342\n",
      "Modèle meilleur_ARIMA: (2, 1, 3)\n",
      "Nombre de jours écoulés=494, t=46, prédiction=375412, vraie valeur=375404\n",
      "Modèle meilleur_ARIMA: (2, 1, 3)\n",
      "Nombre de jours écoulés=495, t=47, prédiction=375467, vraie valeur=375444\n",
      "Modèle meilleur_ARIMA: (2, 1, 3)\n",
      "Nombre de jours écoulés=496, t=48, prédiction=375489, vraie valeur=375522\n",
      "Modèle meilleur_ARIMA: (2, 1, 3)\n",
      "Nombre de jours écoulés=497, t=49, prédiction=375596, vraie valeur=375609\n",
      "Modèle meilleur_ARIMA: (2, 1, 3)\n",
      "Nombre de jours écoulés=498, t=50, prédiction=375695, vraie valeur=375678\n",
      "Modèle meilleur_ARIMA: (2, 1, 3)\n",
      "Nombre de jours écoulés=499, t=51, prédiction=375745, vraie valeur=375751\n",
      "Modèle meilleur_ARIMA: (2, 1, 3)\n",
      "Nombre de jours écoulés=500, t=52, prédiction=375821, vraie valeur=375823\n",
      "Modèle meilleur_ARIMA: (2, 1, 3)\n",
      "Nombre de jours écoulés=501, t=53, prédiction=375896, vraie valeur=375883\n",
      "Modèle meilleur_ARIMA: (2, 1, 3)\n",
      "Nombre de jours écoulés=502, t=54, prédiction=375944, vraie valeur=375937\n",
      "Modèle meilleur_ARIMA: (2, 1, 3)\n",
      "Nombre de jours écoulés=503, t=55, prédiction=375992, vraie valeur=375997\n",
      "Modèle meilleur_ARIMA: (2, 1, 3)\n"
     ]
    },
    {
     "name": "stderr",
     "output_type": "stream",
     "text": [
      "/usr/local/lib/python3.8/dist-packages/statsmodels/base/model.py:604: ConvergenceWarning: Maximum Likelihood optimization failed to converge. Check mle_retvals\n",
      "  warnings.warn(\"Maximum Likelihood optimization failed to \"\n"
     ]
    },
    {
     "name": "stdout",
     "output_type": "stream",
     "text": [
      "Nombre de jours écoulés=504, t=56, prédiction=376057, vraie valeur=376077\n",
      "Modèle meilleur_ARIMA: (2, 1, 3)\n",
      "Nombre de jours écoulés=505, t=57, prédiction=376154, vraie valeur=376109\n",
      "Modèle meilleur_ARIMA: (2, 1, 3)\n",
      "Nombre de jours écoulés=506, t=58, prédiction=376147, vraie valeur=376149\n",
      "Modèle meilleur_ARIMA: (2, 1, 3)\n",
      "Nombre de jours écoulés=507, t=59, prédiction=376187, vraie valeur=376192\n",
      "Modèle meilleur_ARIMA: (2, 1, 3)\n",
      "Nombre de jours écoulés=508, t=60, prédiction=376239, vraie valeur=376289\n",
      "Modèle meilleur_ARIMA: (2, 1, 3)\n",
      "Nombre de jours écoulés=509, t=61, prédiction=376377, vraie valeur=376370\n",
      "Modèle meilleur_ARIMA: (2, 1, 3)\n",
      "Nombre de jours écoulés=510, t=62, prédiction=376449, vraie valeur=376431\n",
      "Modèle meilleur_ARIMA: (2, 1, 3)\n",
      "Nombre de jours écoulés=511, t=63, prédiction=376489, vraie valeur=376416\n",
      "Modèle meilleur_ARIMA: (2, 1, 3)\n",
      "Nombre de jours écoulés=512, t=64, prédiction=376413, vraie valeur=376519\n",
      "Modèle meilleur_ARIMA: (2, 1, 3)\n",
      "Nombre de jours écoulés=513, t=65, prédiction=376609, vraie valeur=376429\n",
      "Modèle meilleur_ARIMA: (2, 1, 3)\n",
      "Nombre de jours écoulés=514, t=66, prédiction=376375, vraie valeur=376530\n",
      "Modèle meilleur_ARIMA: (2, 1, 3)\n",
      "Nombre de jours écoulés=515, t=67, prédiction=376598, vraie valeur=376651\n",
      "Modèle meilleur_ARIMA: (2, 1, 3)\n",
      "Nombre de jours écoulés=516, t=68, prédiction=376777, vraie valeur=376753\n",
      "Modèle meilleur_ARIMA: (2, 1, 3)\n",
      "Nombre de jours écoulés=517, t=69, prédiction=376840, vraie valeur=376828\n",
      "Modèle meilleur_ARIMA: (2, 1, 3)\n",
      "Nombre de jours écoulés=518, t=70, prédiction=376896, vraie valeur=376901\n",
      "Modèle meilleur_ARIMA: (2, 1, 3)\n",
      "Nombre de jours écoulés=519, t=71, prédiction=376975, vraie valeur=377034\n",
      "Modèle meilleur_ARIMA: (2, 1, 3)\n",
      "Nombre de jours écoulés=520, t=72, prédiction=377158, vraie valeur=377172\n",
      "Modèle meilleur_ARIMA: (2, 1, 3)\n",
      "Nombre de jours écoulés=521, t=73, prédiction=377304, vraie valeur=377297\n",
      "Modèle meilleur_ARIMA: (2, 1, 3)\n",
      "Nombre de jours écoulés=522, t=74, prédiction=377414, vraie valeur=377486\n",
      "Modèle meilleur_ARIMA: (2, 1, 3)\n",
      "Nombre de jours écoulés=523, t=75, prédiction=377659, vraie valeur=377644\n",
      "Modèle meilleur_ARIMA: (2, 1, 3)\n",
      "Nombre de jours écoulés=524, t=76, prédiction=377801, vraie valeur=377798\n",
      "Modèle meilleur_ARIMA: (2, 1, 3)\n",
      "Nombre de jours écoulés=525, t=77, prédiction=377943, vraie valeur=377973\n",
      "Modèle meilleur_ARIMA: (2, 1, 3)\n",
      "Nombre de jours écoulés=526, t=78, prédiction=378143, vraie valeur=378157\n",
      "Modèle meilleur_ARIMA: (2, 1, 3)\n",
      "Nombre de jours écoulés=527, t=79, prédiction=378337, vraie valeur=378462\n",
      "Modèle meilleur_ARIMA: (2, 1, 3)\n",
      "Nombre de jours écoulés=528, t=80, prédiction=378740, vraie valeur=378680\n",
      "Modèle meilleur_ARIMA: (2, 1, 3)\n",
      "Nombre de jours écoulés=529, t=81, prédiction=378900, vraie valeur=378915\n",
      "Modèle meilleur_ARIMA: (2, 1, 3)\n",
      "Nombre de jours écoulés=530, t=82, prédiction=379132, vraie valeur=379189\n",
      "Modèle meilleur_ARIMA: (2, 1, 3)\n",
      "Nombre de jours écoulés=531, t=83, prédiction=379456, vraie valeur=379439\n",
      "Modèle meilleur_ARIMA: (2, 1, 3)\n",
      "Nombre de jours écoulés=532, t=84, prédiction=379688, vraie valeur=379673\n",
      "Modèle meilleur_ARIMA: (2, 1, 3)\n",
      "Nombre de jours écoulés=533, t=85, prédiction=379902, vraie valeur=380038\n",
      "Modèle meilleur_ARIMA: (2, 1, 3)\n"
     ]
    },
    {
     "name": "stderr",
     "output_type": "stream",
     "text": [
      "/usr/local/lib/python3.8/dist-packages/statsmodels/base/model.py:604: ConvergenceWarning: Maximum Likelihood optimization failed to converge. Check mle_retvals\n",
      "  warnings.warn(\"Maximum Likelihood optimization failed to \"\n"
     ]
    },
    {
     "name": "stdout",
     "output_type": "stream",
     "text": [
      "Nombre de jours écoulés=534, t=86, prédiction=380379, vraie valeur=380407\n",
      "Modèle meilleur_ARIMA: (2, 1, 3)\n",
      "Nombre de jours écoulés=535, t=87, prédiction=380766, vraie valeur=380833\n",
      "Modèle meilleur_ARIMA: (2, 1, 3)\n",
      "Nombre de jours écoulés=536, t=88, prédiction=381229, vraie valeur=381266\n",
      "Modèle meilleur_ARIMA: (2, 1, 3)\n",
      "Nombre de jours écoulés=537, t=89, prédiction=381683, vraie valeur=381587\n",
      "Modèle meilleur_ARIMA: (2, 1, 3)\n",
      "Nombre de jours écoulés=538, t=90, prédiction=381912, vraie valeur=381996\n",
      "Modèle meilleur_ARIMA: (2, 1, 3)\n",
      "Nombre de jours écoulés=539, t=91, prédiction=382387, vraie valeur=382319\n",
      "Modèle meilleur_ARIMA: (2, 1, 3)\n",
      "Nombre de jours écoulés=540, t=92, prédiction=382661, vraie valeur=382755\n",
      "Modèle meilleur_ARIMA: (2, 1, 3)\n",
      "Nombre de jours écoulés=541, t=93, prédiction=383166, vraie valeur=383191\n",
      "Modèle meilleur_ARIMA: (2, 1, 3)\n",
      "Nombre de jours écoulés=542, t=94, prédiction=383625, vraie valeur=383718\n",
      "Modèle meilleur_ARIMA: (2, 1, 3)\n",
      "Nombre de jours écoulés=543, t=95, prédiction=384215, vraie valeur=384281\n",
      "Modèle meilleur_ARIMA: (2, 1, 3)\n",
      "Nombre de jours écoulés=544, t=96, prédiction=384822, vraie valeur=384744\n",
      "Modèle meilleur_ARIMA: (2, 1, 3)\n",
      "Nombre de jours écoulés=545, t=97, prédiction=385204, vraie valeur=385120\n",
      "Modèle meilleur_ARIMA: (2, 1, 3)\n",
      "Nombre de jours écoulés=546, t=98, prédiction=385501, vraie valeur=385465\n",
      "Modèle meilleur_ARIMA: (2, 1, 3)\n",
      "Nombre de jours écoulés=547, t=99, prédiction=385826, vraie valeur=386015\n",
      "Modèle meilleur_ARIMA: (2, 1, 3)\n",
      "Nombre de jours écoulés=548, t=100, prédiction=386543, vraie valeur=386618\n",
      "Modèle meilleur_ARIMA: (2, 1, 3)\n",
      "Nombre de jours écoulés=549, t=101, prédiction=387205, vraie valeur=387230\n",
      "Modèle meilleur_ARIMA: (2, 1, 3)\n",
      "Nombre de jours écoulés=550, t=102, prédiction=387811, vraie valeur=387834\n",
      "Modèle meilleur_ARIMA: (2, 1, 3)\n",
      "Nombre de jours écoulés=551, t=103, prédiction=388419, vraie valeur=388413\n",
      "Modèle meilleur_ARIMA: (2, 1, 3)\n",
      "Nombre de jours écoulés=552, t=104, prédiction=388985, vraie valeur=388799\n",
      "Modèle meilleur_ARIMA: (2, 1, 3)\n",
      "Nombre de jours écoulés=553, t=105, prédiction=389212, vraie valeur=389224\n",
      "Modèle meilleur_ARIMA: (2, 1, 3)\n",
      "Nombre de jours écoulés=554, t=106, prédiction=389652, vraie valeur=389914\n",
      "Modèle meilleur_ARIMA: (2, 1, 3)\n",
      "Nombre de jours écoulés=555, t=107, prédiction=390580, vraie valeur=390613\n",
      "Modèle meilleur_ARIMA: (2, 1, 3)\n",
      "Nombre de jours écoulés=556, t=108, prédiction=391294, vraie valeur=391363\n",
      "Modèle meilleur_ARIMA: (2, 1, 3)\n"
     ]
    },
    {
     "name": "stderr",
     "output_type": "stream",
     "text": [
      "/usr/local/lib/python3.8/dist-packages/statsmodels/base/model.py:604: ConvergenceWarning: Maximum Likelihood optimization failed to converge. Check mle_retvals\n",
      "  warnings.warn(\"Maximum Likelihood optimization failed to \"\n"
     ]
    },
    {
     "name": "stdout",
     "output_type": "stream",
     "text": [
      "Nombre de jours écoulés=557, t=109, prédiction=392064, vraie valeur=392029\n",
      "Modèle meilleur_ARIMA: (2, 1, 3)\n",
      "Nombre de jours écoulés=558, t=110, prédiction=392687, vraie valeur=392807\n",
      "Modèle meilleur_ARIMA: (2, 1, 3)\n",
      "Nombre de jours écoulés=559, t=111, prédiction=393554, vraie valeur=393337\n",
      "Modèle meilleur_ARIMA: (2, 1, 3)\n",
      "Nombre de jours écoulés=560, t=112, prédiction=393902, vraie valeur=393852\n",
      "Modèle meilleur_ARIMA: (2, 1, 3)\n",
      "Nombre de jours écoulés=561, t=113, prédiction=394367, vraie valeur=394452\n",
      "Modèle meilleur_ARIMA: (2, 1, 3)\n",
      "Nombre de jours écoulés=562, t=114, prédiction=395062, vraie valeur=395155\n",
      "Modèle meilleur_ARIMA: (2, 1, 3)\n",
      "Nombre de jours écoulés=563, t=115, prédiction=395847, vraie valeur=396034\n",
      "Modèle meilleur_ARIMA: (2, 1, 3)\n",
      "Nombre de jours écoulés=564, t=116, prédiction=396864, vraie valeur=396034\n",
      "Modèle meilleur_ARIMA: (2, 1, 3)\n",
      "Nombre de jours écoulés=565, t=117, prédiction=396170, vraie valeur=397786\n",
      "Modèle meilleur_ARIMA: (2, 1, 3)\n",
      "Nombre de jours écoulés=566, t=118, prédiction=399018, vraie valeur=398425\n",
      "Modèle meilleur_ARIMA: (2, 1, 3)\n",
      "Nombre de jours écoulés=567, t=119, prédiction=399568, vraie valeur=399058\n",
      "Modèle meilleur_ARIMA: (2, 1, 3)\n",
      "Nombre de jours écoulés=568, t=120, prédiction=399831, vraie valeur=399843\n",
      "Modèle meilleur_ARIMA: (2, 1, 3)\n",
      "Nombre de jours écoulés=569, t=121, prédiction=400644, vraie valeur=400625\n",
      "Modèle meilleur_ARIMA: (2, 1, 3)\n",
      "Nombre de jours écoulés=570, t=122, prédiction=401425, vraie valeur=401462\n",
      "Modèle meilleur_ARIMA: (2, 1, 3)\n",
      "Nombre de jours écoulés=571, t=123, prédiction=402290, vraie valeur=402283\n",
      "Modèle meilleur_ARIMA: (2, 1, 3)\n",
      "Nombre de jours écoulés=572, t=124, prédiction=403109, vraie valeur=403025\n",
      "Modèle meilleur_ARIMA: (2, 1, 3)\n",
      "Nombre de jours écoulés=573, t=125, prédiction=403818, vraie valeur=403704\n",
      "Modèle meilleur_ARIMA: (2, 1, 3)\n",
      "Nombre de jours écoulés=574, t=126, prédiction=404458, vraie valeur=404291\n",
      "Modèle meilleur_ARIMA: (2, 1, 3)\n",
      "Nombre de jours écoulés=575, t=127, prédiction=404977, vraie valeur=404974\n",
      "Modèle meilleur_ARIMA: (2, 1, 3)\n",
      "Nombre de jours écoulés=576, t=128, prédiction=405668, vraie valeur=405728\n",
      "Modèle meilleur_ARIMA: (2, 1, 3)\n",
      "Nombre de jours écoulés=577, t=129, prédiction=406431, vraie valeur=406429\n",
      "Modèle meilleur_ARIMA: (2, 1, 3)\n",
      "Nombre de jours écoulés=578, t=130, prédiction=407105, vraie valeur=406429\n",
      "Modèle meilleur_ARIMA: (2, 1, 3)\n",
      "Nombre de jours écoulés=579, t=131, prédiction=406772, vraie valeur=406429\n",
      "Modèle meilleur_ARIMA: (2, 1, 3)\n",
      "Nombre de jours écoulés=580, t=132, prédiction=406673, vraie valeur=408462\n",
      "Modèle meilleur_ARIMA: (2, 1, 3)\n"
     ]
    },
    {
     "name": "stderr",
     "output_type": "stream",
     "text": [
      "/usr/local/lib/python3.8/dist-packages/statsmodels/tsa/statespace/sarimax.py:966: UserWarning: Non-stationary starting autoregressive parameters found. Using zeros as starting parameters.\n",
      "  warn('Non-stationary starting autoregressive parameters'\n",
      "/usr/local/lib/python3.8/dist-packages/statsmodels/tsa/statespace/sarimax.py:978: UserWarning: Non-invertible starting MA parameters found. Using zeros as starting parameters.\n",
      "  warn('Non-invertible starting MA parameters found.'\n",
      "/usr/local/lib/python3.8/dist-packages/statsmodels/base/model.py:604: ConvergenceWarning: Maximum Likelihood optimization failed to converge. Check mle_retvals\n",
      "  warnings.warn(\"Maximum Likelihood optimization failed to \"\n"
     ]
    },
    {
     "name": "stdout",
     "output_type": "stream",
     "text": [
      "Nombre de jours écoulés=581, t=133, prédiction=409605, vraie valeur=408931\n",
      "Modèle meilleur_ARIMA: (2, 1, 3)\n",
      "Nombre de jours écoulés=582, t=134, prédiction=409392, vraie valeur=409525\n",
      "Modèle meilleur_ARIMA: (2, 1, 3)\n"
     ]
    },
    {
     "name": "stderr",
     "output_type": "stream",
     "text": [
      "/usr/local/lib/python3.8/dist-packages/statsmodels/tsa/statespace/sarimax.py:966: UserWarning: Non-stationary starting autoregressive parameters found. Using zeros as starting parameters.\n",
      "  warn('Non-stationary starting autoregressive parameters'\n",
      "/usr/local/lib/python3.8/dist-packages/statsmodels/base/model.py:604: ConvergenceWarning: Maximum Likelihood optimization failed to converge. Check mle_retvals\n",
      "  warnings.warn(\"Maximum Likelihood optimization failed to \"\n",
      "/usr/local/lib/python3.8/dist-packages/statsmodels/tsa/statespace/sarimax.py:966: UserWarning: Non-stationary starting autoregressive parameters found. Using zeros as starting parameters.\n",
      "  warn('Non-stationary starting autoregressive parameters'\n"
     ]
    },
    {
     "name": "stdout",
     "output_type": "stream",
     "text": [
      "Nombre de jours écoulés=583, t=135, prédiction=410707, vraie valeur=410180\n",
      "Modèle meilleur_ARIMA: (2, 1, 3)\n"
     ]
    },
    {
     "name": "stderr",
     "output_type": "stream",
     "text": [
      "/usr/local/lib/python3.8/dist-packages/statsmodels/base/model.py:604: ConvergenceWarning: Maximum Likelihood optimization failed to converge. Check mle_retvals\n",
      "  warnings.warn(\"Maximum Likelihood optimization failed to \"\n",
      "/usr/local/lib/python3.8/dist-packages/statsmodels/tsa/statespace/sarimax.py:966: UserWarning: Non-stationary starting autoregressive parameters found. Using zeros as starting parameters.\n",
      "  warn('Non-stationary starting autoregressive parameters'\n",
      "/usr/local/lib/python3.8/dist-packages/statsmodels/tsa/statespace/sarimax.py:978: UserWarning: Non-invertible starting MA parameters found. Using zeros as starting parameters.\n",
      "  warn('Non-invertible starting MA parameters found.'\n"
     ]
    },
    {
     "name": "stdout",
     "output_type": "stream",
     "text": [
      "Nombre de jours écoulés=584, t=136, prédiction=409467, vraie valeur=410823\n",
      "Modèle meilleur_ARIMA: (2, 1, 3)\n",
      "Nombre de jours écoulés=585, t=137, prédiction=411496, vraie valeur=411463\n",
      "Modèle meilleur_ARIMA: (2, 1, 3)\n"
     ]
    },
    {
     "name": "stderr",
     "output_type": "stream",
     "text": [
      "/usr/local/lib/python3.8/dist-packages/statsmodels/tsa/statespace/sarimax.py:966: UserWarning: Non-stationary starting autoregressive parameters found. Using zeros as starting parameters.\n",
      "  warn('Non-stationary starting autoregressive parameters'\n",
      "/usr/local/lib/python3.8/dist-packages/statsmodels/tsa/statespace/sarimax.py:978: UserWarning: Non-invertible starting MA parameters found. Using zeros as starting parameters.\n",
      "  warn('Non-invertible starting MA parameters found.'\n"
     ]
    },
    {
     "name": "stdout",
     "output_type": "stream",
     "text": [
      "Nombre de jours écoulés=586, t=138, prédiction=412097, vraie valeur=411962\n",
      "Modèle meilleur_ARIMA: (2, 1, 3)\n"
     ]
    },
    {
     "name": "stderr",
     "output_type": "stream",
     "text": [
      "/usr/local/lib/python3.8/dist-packages/statsmodels/tsa/statespace/sarimax.py:966: UserWarning: Non-stationary starting autoregressive parameters found. Using zeros as starting parameters.\n",
      "  warn('Non-stationary starting autoregressive parameters'\n",
      "/usr/local/lib/python3.8/dist-packages/statsmodels/tsa/statespace/sarimax.py:978: UserWarning: Non-invertible starting MA parameters found. Using zeros as starting parameters.\n",
      "  warn('Non-invertible starting MA parameters found.'\n"
     ]
    },
    {
     "name": "stdout",
     "output_type": "stream",
     "text": [
      "Nombre de jours écoulés=587, t=139, prédiction=412554, vraie valeur=412364\n",
      "Modèle meilleur_ARIMA: (2, 1, 3)\n",
      "Nombre de jours écoulés=588, t=140, prédiction=412924, vraie valeur=412800\n",
      "Modèle meilleur_ARIMA: (2, 1, 3)\n",
      "Nombre de jours écoulés=589, t=141, prédiction=413326, vraie valeur=413305\n",
      "Modèle meilleur_ARIMA: (2, 1, 3)\n",
      "Nombre de jours écoulés=590, t=142, prédiction=413817, vraie valeur=413929\n",
      "Modèle meilleur_ARIMA: (2, 1, 3)\n",
      "Nombre de jours écoulés=591, t=143, prédiction=414457, vraie valeur=414572\n",
      "Modèle meilleur_ARIMA: (2, 1, 3)\n",
      "Nombre de jours écoulés=592, t=144, prédiction=415110, vraie valeur=415174\n",
      "Modèle meilleur_ARIMA: (2, 1, 3)\n",
      "Nombre de jours écoulés=593, t=145, prédiction=415712, vraie valeur=415786\n",
      "Modèle meilleur_ARIMA: (2, 1, 3)\n",
      "Nombre de jours écoulés=594, t=146, prédiction=416338, vraie valeur=416266\n",
      "Modèle meilleur_ARIMA: (2, 1, 3)\n"
     ]
    },
    {
     "name": "stderr",
     "output_type": "stream",
     "text": [
      "/usr/local/lib/python3.8/dist-packages/statsmodels/base/model.py:604: ConvergenceWarning: Maximum Likelihood optimization failed to converge. Check mle_retvals\n",
      "  warnings.warn(\"Maximum Likelihood optimization failed to \"\n"
     ]
    },
    {
     "name": "stdout",
     "output_type": "stream",
     "text": [
      "Nombre de jours écoulés=595, t=147, prédiction=416783, vraie valeur=416675\n",
      "Modèle meilleur_ARIMA: (2, 1, 3)\n",
      "Nombre de jours écoulés=596, t=148, prédiction=417168, vraie valeur=417187\n",
      "Modèle meilleur_ARIMA: (2, 1, 3)\n",
      "Nombre de jours écoulés=597, t=149, prédiction=417698, vraie valeur=417831\n",
      "Modèle meilleur_ARIMA: (2, 1, 3)\n"
     ]
    },
    {
     "name": "stderr",
     "output_type": "stream",
     "text": [
      "/usr/local/lib/python3.8/dist-packages/statsmodels/base/model.py:604: ConvergenceWarning: Maximum Likelihood optimization failed to converge. Check mle_retvals\n",
      "  warnings.warn(\"Maximum Likelihood optimization failed to \"\n"
     ]
    },
    {
     "name": "stdout",
     "output_type": "stream",
     "text": [
      "Nombre de jours écoulés=598, t=150, prédiction=418378, vraie valeur=418508\n",
      "Modèle meilleur_ARIMA: (2, 1, 3)\n",
      "Nombre de jours écoulés=599, t=151, prédiction=419082, vraie valeur=419186\n",
      "Modèle meilleur_ARIMA: (2, 1, 3)\n",
      "Nombre de jours écoulés=600, t=152, prédiction=419792, vraie valeur=419718\n",
      "Modèle meilleur_ARIMA: (2, 1, 3)\n",
      "Nombre de jours écoulés=601, t=153, prédiction=420293, vraie valeur=420128\n",
      "Modèle meilleur_ARIMA: (2, 1, 3)\n",
      "Nombre de jours écoulés=602, t=154, prédiction=420666, vraie valeur=420470\n",
      "Modèle meilleur_ARIMA: (2, 1, 3)\n"
     ]
    },
    {
     "name": "stderr",
     "output_type": "stream",
     "text": [
      "/usr/local/lib/python3.8/dist-packages/statsmodels/base/model.py:604: ConvergenceWarning: Maximum Likelihood optimization failed to converge. Check mle_retvals\n",
      "  warnings.warn(\"Maximum Likelihood optimization failed to \"\n"
     ]
    },
    {
     "name": "stdout",
     "output_type": "stream",
     "text": [
      "Nombre de jours écoulés=603, t=155, prédiction=420957, vraie valeur=420928\n",
      "Modèle meilleur_ARIMA: (2, 1, 3)\n",
      "Nombre de jours écoulés=604, t=156, prédiction=421420, vraie valeur=421356\n",
      "Modèle meilleur_ARIMA: (2, 1, 3)\n",
      "Nombre de jours écoulés=605, t=157, prédiction=421808, vraie valeur=421685\n",
      "Modèle meilleur_ARIMA: (2, 1, 3)\n",
      "Nombre de jours écoulés=606, t=158, prédiction=422079, vraie valeur=422241\n",
      "Modèle meilleur_ARIMA: (2, 1, 3)\n"
     ]
    },
    {
     "name": "stderr",
     "output_type": "stream",
     "text": [
      "/usr/local/lib/python3.8/dist-packages/statsmodels/base/model.py:604: ConvergenceWarning: Maximum Likelihood optimization failed to converge. Check mle_retvals\n",
      "  warnings.warn(\"Maximum Likelihood optimization failed to \"\n"
     ]
    },
    {
     "name": "stdout",
     "output_type": "stream",
     "text": [
      "Nombre de jours écoulés=607, t=159, prédiction=422690, vraie valeur=422670\n",
      "Modèle meilleur_ARIMA: (2, 1, 3)\n",
      "Nombre de jours écoulés=608, t=160, prédiction=423068, vraie valeur=422994\n",
      "Modèle meilleur_ARIMA: (2, 1, 3)\n"
     ]
    },
    {
     "name": "stderr",
     "output_type": "stream",
     "text": [
      "/usr/local/lib/python3.8/dist-packages/statsmodels/base/model.py:604: ConvergenceWarning: Maximum Likelihood optimization failed to converge. Check mle_retvals\n",
      "  warnings.warn(\"Maximum Likelihood optimization failed to \"\n"
     ]
    },
    {
     "name": "stdout",
     "output_type": "stream",
     "text": [
      "Nombre de jours écoulés=609, t=161, prédiction=423354, vraie valeur=423334\n",
      "Modèle meilleur_ARIMA: (2, 1, 3)\n",
      "Nombre de jours écoulés=610, t=162, prédiction=423683, vraie valeur=423812\n",
      "Modèle meilleur_ARIMA: (2, 1, 3)\n",
      "Nombre de jours écoulés=611, t=163, prédiction=424200, vraie valeur=424290\n",
      "Modèle meilleur_ARIMA: (2, 1, 3)\n",
      "Nombre de jours écoulés=612, t=164, prédiction=424682, vraie valeur=424801\n",
      "Modèle meilleur_ARIMA: (2, 1, 3)\n",
      "Nombre de jours écoulés=613, t=165, prédiction=425227, vraie valeur=425392\n",
      "Modèle meilleur_ARIMA: (2, 1, 3)\n"
     ]
    },
    {
     "name": "stderr",
     "output_type": "stream",
     "text": [
      "/usr/local/lib/python3.8/dist-packages/statsmodels/base/model.py:604: ConvergenceWarning: Maximum Likelihood optimization failed to converge. Check mle_retvals\n",
      "  warnings.warn(\"Maximum Likelihood optimization failed to \"\n"
     ]
    },
    {
     "name": "stdout",
     "output_type": "stream",
     "text": [
      "Nombre de jours écoulés=614, t=166, prédiction=425867, vraie valeur=425959\n",
      "Modèle meilleur_ARIMA: (2, 1, 3)\n",
      "Nombre de jours écoulés=615, t=167, prédiction=426464, vraie valeur=426456\n",
      "Modèle meilleur_ARIMA: (2, 1, 3)\n",
      "Nombre de jours écoulés=616, t=168, prédiction=426964, vraie valeur=426946\n",
      "Modèle meilleur_ARIMA: (2, 1, 3)\n",
      "Nombre de jours écoulés=617, t=169, prédiction=427468, vraie valeur=427471\n",
      "Modèle meilleur_ARIMA: (2, 1, 3)\n"
     ]
    },
    {
     "name": "stderr",
     "output_type": "stream",
     "text": [
      "/usr/local/lib/python3.8/dist-packages/statsmodels/base/model.py:604: ConvergenceWarning: Maximum Likelihood optimization failed to converge. Check mle_retvals\n",
      "  warnings.warn(\"Maximum Likelihood optimization failed to \"\n"
     ]
    },
    {
     "name": "stdout",
     "output_type": "stream",
     "text": [
      "Nombre de jours écoulés=618, t=170, prédiction=428013, vraie valeur=428059\n",
      "Modèle meilleur_ARIMA: (2, 1, 3)\n"
     ]
    },
    {
     "name": "stderr",
     "output_type": "stream",
     "text": [
      "/usr/local/lib/python3.8/dist-packages/statsmodels/base/model.py:604: ConvergenceWarning: Maximum Likelihood optimization failed to converge. Check mle_retvals\n",
      "  warnings.warn(\"Maximum Likelihood optimization failed to \"\n"
     ]
    },
    {
     "name": "stdout",
     "output_type": "stream",
     "text": [
      "Nombre de jours écoulés=619, t=171, prédiction=428630, vraie valeur=428630\n",
      "Modèle meilleur_ARIMA: (2, 1, 3)\n",
      "Nombre de jours écoulés=620, t=172, prédiction=429209, vraie valeur=429318\n",
      "Modèle meilleur_ARIMA: (2, 1, 3)\n"
     ]
    },
    {
     "name": "stderr",
     "output_type": "stream",
     "text": [
      "/usr/local/lib/python3.8/dist-packages/statsmodels/base/model.py:604: ConvergenceWarning: Maximum Likelihood optimization failed to converge. Check mle_retvals\n",
      "  warnings.warn(\"Maximum Likelihood optimization failed to \"\n"
     ]
    },
    {
     "name": "stdout",
     "output_type": "stream",
     "text": [
      "Nombre de jours écoulés=621, t=173, prédiction=429947, vraie valeur=429863\n",
      "Modèle meilleur_ARIMA: (2, 1, 3)\n"
     ]
    },
    {
     "name": "stderr",
     "output_type": "stream",
     "text": [
      "/usr/local/lib/python3.8/dist-packages/statsmodels/base/model.py:604: ConvergenceWarning: Maximum Likelihood optimization failed to converge. Check mle_retvals\n",
      "  warnings.warn(\"Maximum Likelihood optimization failed to \"\n"
     ]
    },
    {
     "name": "stdout",
     "output_type": "stream",
     "text": [
      "Nombre de jours écoulés=622, t=174, prédiction=430455, vraie valeur=430394\n",
      "Modèle meilleur_ARIMA: (2, 1, 3)\n",
      "Nombre de jours écoulés=623, t=175, prédiction=430989, vraie valeur=430939\n",
      "Modèle meilleur_ARIMA: (2, 1, 3)\n"
     ]
    },
    {
     "name": "stderr",
     "output_type": "stream",
     "text": [
      "/usr/local/lib/python3.8/dist-packages/statsmodels/base/model.py:604: ConvergenceWarning: Maximum Likelihood optimization failed to converge. Check mle_retvals\n",
      "  warnings.warn(\"Maximum Likelihood optimization failed to \"\n"
     ]
    },
    {
     "name": "stdout",
     "output_type": "stream",
     "text": [
      "Nombre de jours écoulés=624, t=176, prédiction=431524, vraie valeur=431611\n",
      "Modèle meilleur_ARIMA: (2, 1, 3)\n",
      "Nombre de jours écoulés=625, t=177, prédiction=432234, vraie valeur=432274\n",
      "Modèle meilleur_ARIMA: (2, 1, 3)\n"
     ]
    },
    {
     "name": "stderr",
     "output_type": "stream",
     "text": [
      "/usr/local/lib/python3.8/dist-packages/statsmodels/base/model.py:604: ConvergenceWarning: Maximum Likelihood optimization failed to converge. Check mle_retvals\n",
      "  warnings.warn(\"Maximum Likelihood optimization failed to \"\n"
     ]
    },
    {
     "name": "stdout",
     "output_type": "stream",
     "text": [
      "Nombre de jours écoulés=626, t=178, prédiction=432898, vraie valeur=432990\n",
      "Modèle meilleur_ARIMA: (2, 1, 3)\n"
     ]
    },
    {
     "name": "stderr",
     "output_type": "stream",
     "text": [
      "/usr/local/lib/python3.8/dist-packages/statsmodels/base/model.py:604: ConvergenceWarning: Maximum Likelihood optimization failed to converge. Check mle_retvals\n",
      "  warnings.warn(\"Maximum Likelihood optimization failed to \"\n"
     ]
    },
    {
     "name": "stdout",
     "output_type": "stream",
     "text": [
      "Nombre de jours écoulés=627, t=179, prédiction=433646, vraie valeur=433705\n",
      "Modèle meilleur_ARIMA: (2, 1, 3)\n",
      "Nombre de jours écoulés=628, t=180, prédiction=434382, vraie valeur=434339\n",
      "Modèle meilleur_ARIMA: (2, 1, 3)\n"
     ]
    },
    {
     "name": "stderr",
     "output_type": "stream",
     "text": [
      "/usr/local/lib/python3.8/dist-packages/statsmodels/base/model.py:604: ConvergenceWarning: Maximum Likelihood optimization failed to converge. Check mle_retvals\n",
      "  warnings.warn(\"Maximum Likelihood optimization failed to \"\n"
     ]
    },
    {
     "name": "stdout",
     "output_type": "stream",
     "text": [
      "Nombre de jours écoulés=629, t=181, prédiction=434997, vraie valeur=434848\n",
      "Modèle meilleur_ARIMA: (2, 1, 3)\n",
      "Nombre de jours écoulés=630, t=182, prédiction=435463, vraie valeur=435365\n",
      "Modèle meilleur_ARIMA: (2, 1, 3)\n"
     ]
    },
    {
     "name": "stderr",
     "output_type": "stream",
     "text": [
      "/usr/local/lib/python3.8/dist-packages/statsmodels/base/model.py:604: ConvergenceWarning: Maximum Likelihood optimization failed to converge. Check mle_retvals\n",
      "  warnings.warn(\"Maximum Likelihood optimization failed to \"\n"
     ]
    },
    {
     "name": "stdout",
     "output_type": "stream",
     "text": [
      "Nombre de jours écoulés=631, t=183, prédiction=435964, vraie valeur=436083\n",
      "Modèle meilleur_ARIMA: (2, 1, 3)\n"
     ]
    },
    {
     "name": "stderr",
     "output_type": "stream",
     "text": [
      "/usr/local/lib/python3.8/dist-packages/statsmodels/base/model.py:604: ConvergenceWarning: Maximum Likelihood optimization failed to converge. Check mle_retvals\n",
      "  warnings.warn(\"Maximum Likelihood optimization failed to \"\n"
     ]
    },
    {
     "name": "stdout",
     "output_type": "stream",
     "text": [
      "Nombre de jours écoulés=632, t=184, prédiction=436732, vraie valeur=436803\n",
      "Modèle meilleur_ARIMA: (2, 1, 3)\n",
      "Nombre de jours écoulés=633, t=185, prédiction=437458, vraie valeur=437548\n",
      "Modèle meilleur_ARIMA: (2, 1, 3)\n"
     ]
    },
    {
     "name": "stderr",
     "output_type": "stream",
     "text": [
      "/usr/local/lib/python3.8/dist-packages/statsmodels/base/model.py:604: ConvergenceWarning: Maximum Likelihood optimization failed to converge. Check mle_retvals\n",
      "  warnings.warn(\"Maximum Likelihood optimization failed to \"\n"
     ]
    },
    {
     "name": "stdout",
     "output_type": "stream",
     "text": [
      "Nombre de jours écoulés=634, t=186, prédiction=438222, vraie valeur=438363\n",
      "Modèle meilleur_ARIMA: (2, 1, 3)\n",
      "Nombre de jours écoulés=635, t=187, prédiction=439087, vraie valeur=439070\n",
      "Modèle meilleur_ARIMA: (2, 1, 3)\n"
     ]
    },
    {
     "name": "stderr",
     "output_type": "stream",
     "text": [
      "/usr/local/lib/python3.8/dist-packages/statsmodels/base/model.py:604: ConvergenceWarning: Maximum Likelihood optimization failed to converge. Check mle_retvals\n",
      "  warnings.warn(\"Maximum Likelihood optimization failed to \"\n"
     ]
    },
    {
     "name": "stdout",
     "output_type": "stream",
     "text": [
      "Nombre de jours écoulés=636, t=188, prédiction=439774, vraie valeur=439762\n",
      "Modèle meilleur_ARIMA: (2, 1, 3)\n",
      "Nombre de jours écoulés=637, t=189, prédiction=440481, vraie valeur=440461\n",
      "Modèle meilleur_ARIMA: (2, 1, 3)\n"
     ]
    },
    {
     "name": "stderr",
     "output_type": "stream",
     "text": [
      "/usr/local/lib/python3.8/dist-packages/statsmodels/base/model.py:604: ConvergenceWarning: Maximum Likelihood optimization failed to converge. Check mle_retvals\n",
      "  warnings.warn(\"Maximum Likelihood optimization failed to \"\n"
     ]
    },
    {
     "name": "stdout",
     "output_type": "stream",
     "text": [
      "Nombre de jours écoulés=638, t=190, prédiction=441181, vraie valeur=441343\n",
      "Modèle meilleur_ARIMA: (2, 1, 3)\n"
     ]
    },
    {
     "name": "stderr",
     "output_type": "stream",
     "text": [
      "/usr/local/lib/python3.8/dist-packages/statsmodels/base/model.py:604: ConvergenceWarning: Maximum Likelihood optimization failed to converge. Check mle_retvals\n",
      "  warnings.warn(\"Maximum Likelihood optimization failed to \"\n"
     ]
    },
    {
     "name": "stdout",
     "output_type": "stream",
     "text": [
      "Nombre de jours écoulés=639, t=191, prédiction=442134, vraie valeur=443547\n",
      "Modèle meilleur_ARIMA: (2, 1, 3)\n",
      "Nombre de jours écoulés=640, t=192, prédiction=444893, vraie valeur=444584\n",
      "Modèle meilleur_ARIMA: (2, 1, 3)\n",
      "Nombre de jours écoulés=641, t=193, prédiction=445652, vraie valeur=445755\n",
      "Modèle meilleur_ARIMA: (2, 1, 3)\n",
      "Nombre de jours écoulés=642, t=194, prédiction=447007, vraie valeur=446630\n",
      "Modèle meilleur_ARIMA: (2, 1, 3)\n",
      "Nombre de jours écoulés=643, t=195, prédiction=447797, vraie valeur=447386\n",
      "Modèle meilleur_ARIMA: (2, 1, 3)\n",
      "Nombre de jours écoulés=644, t=196, prédiction=448486, vraie valeur=448170\n",
      "Modèle meilleur_ARIMA: (2, 1, 3)\n",
      "Nombre de jours écoulés=645, t=197, prédiction=449216, vraie valeur=449366\n",
      "Modèle meilleur_ARIMA: (2, 1, 3)\n",
      "Nombre de jours écoulés=646, t=198, prédiction=450512, vraie valeur=450512\n",
      "Modèle meilleur_ARIMA: (2, 1, 3)\n",
      "Nombre de jours écoulés=647, t=199, prédiction=451620, vraie valeur=451867\n",
      "Modèle meilleur_ARIMA: (2, 1, 3)\n",
      "Nombre de jours écoulés=648, t=200, prédiction=453060, vraie valeur=453379\n",
      "Modèle meilleur_ARIMA: (2, 1, 3)\n",
      "Nombre de jours écoulés=649, t=201, prédiction=454667, vraie valeur=454635\n",
      "Modèle meilleur_ARIMA: (2, 1, 3)\n",
      "Nombre de jours écoulés=650, t=202, prédiction=455882, vraie valeur=455824\n",
      "Modèle meilleur_ARIMA: (2, 1, 3)\n",
      "Nombre de jours écoulés=651, t=203, prédiction=457077, vraie valeur=457058\n",
      "Modèle meilleur_ARIMA: (2, 1, 3)\n",
      "Nombre de jours écoulés=652, t=204, prédiction=458323, vraie valeur=458425\n",
      "Modèle meilleur_ARIMA: (2, 1, 3)\n",
      "Nombre de jours écoulés=653, t=205, prédiction=459749, vraie valeur=460232\n",
      "Modèle meilleur_ARIMA: (2, 1, 3)\n",
      "Nombre de jours écoulés=654, t=206, prédiction=461745, vraie valeur=460430\n",
      "Modèle meilleur_ARIMA: (2, 1, 3)\n"
     ]
    },
    {
     "name": "stderr",
     "output_type": "stream",
     "text": [
      "/usr/local/lib/python3.8/dist-packages/statsmodels/base/model.py:604: ConvergenceWarning: Maximum Likelihood optimization failed to converge. Check mle_retvals\n",
      "  warnings.warn(\"Maximum Likelihood optimization failed to \"\n",
      "/usr/local/lib/python3.8/dist-packages/statsmodels/tsa/statespace/sarimax.py:966: UserWarning: Non-stationary starting autoregressive parameters found. Using zeros as starting parameters.\n",
      "  warn('Non-stationary starting autoregressive parameters'\n"
     ]
    },
    {
     "name": "stdout",
     "output_type": "stream",
     "text": [
      "Nombre de jours écoulés=655, t=207, prédiction=461413, vraie valeur=464227\n",
      "Modèle meilleur_ARIMA: (2, 1, 3)\n",
      "Nombre de jours écoulés=656, t=208, prédiction=465853, vraie valeur=465980\n",
      "Modèle meilleur_ARIMA: (2, 1, 3)\n"
     ]
    },
    {
     "name": "stderr",
     "output_type": "stream",
     "text": [
      "/usr/local/lib/python3.8/dist-packages/statsmodels/tsa/statespace/sarimax.py:966: UserWarning: Non-stationary starting autoregressive parameters found. Using zeros as starting parameters.\n",
      "  warn('Non-stationary starting autoregressive parameters'\n"
     ]
    },
    {
     "name": "stdout",
     "output_type": "stream",
     "text": [
      "Nombre de jours écoulés=657, t=209, prédiction=468078, vraie valeur=467608\n",
      "Modèle meilleur_ARIMA: (2, 1, 3)\n"
     ]
    },
    {
     "name": "stderr",
     "output_type": "stream",
     "text": [
      "/usr/local/lib/python3.8/dist-packages/statsmodels/tsa/statespace/sarimax.py:966: UserWarning: Non-stationary starting autoregressive parameters found. Using zeros as starting parameters.\n",
      "  warn('Non-stationary starting autoregressive parameters'\n"
     ]
    },
    {
     "name": "stdout",
     "output_type": "stream",
     "text": [
      "Nombre de jours écoulés=658, t=210, prédiction=469486, vraie valeur=469355\n",
      "Modèle meilleur_ARIMA: (2, 1, 3)\n"
     ]
    },
    {
     "name": "stderr",
     "output_type": "stream",
     "text": [
      "/usr/local/lib/python3.8/dist-packages/statsmodels/tsa/statespace/sarimax.py:966: UserWarning: Non-stationary starting autoregressive parameters found. Using zeros as starting parameters.\n",
      "  warn('Non-stationary starting autoregressive parameters'\n"
     ]
    },
    {
     "name": "stdout",
     "output_type": "stream",
     "text": [
      "Nombre de jours écoulés=659, t=211, prédiction=471192, vraie valeur=471741\n",
      "Modèle meilleur_ARIMA: (2, 1, 3)\n"
     ]
    },
    {
     "name": "stderr",
     "output_type": "stream",
     "text": [
      "/usr/local/lib/python3.8/dist-packages/statsmodels/tsa/statespace/sarimax.py:966: UserWarning: Non-stationary starting autoregressive parameters found. Using zeros as starting parameters.\n",
      "  warn('Non-stationary starting autoregressive parameters'\n"
     ]
    },
    {
     "name": "stdout",
     "output_type": "stream",
     "text": [
      "Nombre de jours écoulés=660, t=212, prédiction=473612, vraie valeur=474477\n",
      "Modèle meilleur_ARIMA: (2, 1, 3)\n"
     ]
    },
    {
     "name": "stderr",
     "output_type": "stream",
     "text": [
      "/usr/local/lib/python3.8/dist-packages/statsmodels/tsa/statespace/sarimax.py:966: UserWarning: Non-stationary starting autoregressive parameters found. Using zeros as starting parameters.\n",
      "  warn('Non-stationary starting autoregressive parameters'\n"
     ]
    },
    {
     "name": "stdout",
     "output_type": "stream",
     "text": [
      "Nombre de jours écoulés=661, t=213, prédiction=476672, vraie valeur=478245\n",
      "Modèle meilleur_ARIMA: (2, 1, 3)\n"
     ]
    },
    {
     "name": "stderr",
     "output_type": "stream",
     "text": [
      "/usr/local/lib/python3.8/dist-packages/statsmodels/tsa/statespace/sarimax.py:966: UserWarning: Non-stationary starting autoregressive parameters found. Using zeros as starting parameters.\n",
      "  warn('Non-stationary starting autoregressive parameters'\n"
     ]
    },
    {
     "name": "stdout",
     "output_type": "stream",
     "text": [
      "Nombre de jours écoulés=662, t=214, prédiction=480909, vraie valeur=481876\n",
      "Modèle meilleur_ARIMA: (2, 1, 3)\n"
     ]
    },
    {
     "name": "stderr",
     "output_type": "stream",
     "text": [
      "/usr/local/lib/python3.8/dist-packages/statsmodels/tsa/statespace/sarimax.py:966: UserWarning: Non-stationary starting autoregressive parameters found. Using zeros as starting parameters.\n",
      "  warn('Non-stationary starting autoregressive parameters'\n"
     ]
    },
    {
     "name": "stdout",
     "output_type": "stream",
     "text": [
      "Nombre de jours écoulés=663, t=215, prédiction=485177, vraie valeur=485722\n",
      "Modèle meilleur_ARIMA: (2, 1, 3)\n"
     ]
    },
    {
     "name": "stderr",
     "output_type": "stream",
     "text": [
      "/usr/local/lib/python3.8/dist-packages/statsmodels/tsa/statespace/sarimax.py:966: UserWarning: Non-stationary starting autoregressive parameters found. Using zeros as starting parameters.\n",
      "  warn('Non-stationary starting autoregressive parameters'\n"
     ]
    },
    {
     "name": "stdout",
     "output_type": "stream",
     "text": [
      "Nombre de jours écoulés=664, t=216, prédiction=489140, vraie valeur=490293\n",
      "Modèle meilleur_ARIMA: (2, 1, 3)\n"
     ]
    },
    {
     "name": "stderr",
     "output_type": "stream",
     "text": [
      "/usr/local/lib/python3.8/dist-packages/statsmodels/tsa/statespace/sarimax.py:966: UserWarning: Non-stationary starting autoregressive parameters found. Using zeros as starting parameters.\n",
      "  warn('Non-stationary starting autoregressive parameters'\n",
      "/usr/local/lib/python3.8/dist-packages/statsmodels/base/model.py:604: ConvergenceWarning: Maximum Likelihood optimization failed to converge. Check mle_retvals\n",
      "  warnings.warn(\"Maximum Likelihood optimization failed to \"\n",
      "/usr/local/lib/python3.8/dist-packages/statsmodels/tsa/statespace/sarimax.py:966: UserWarning: Non-stationary starting autoregressive parameters found. Using zeros as starting parameters.\n",
      "  warn('Non-stationary starting autoregressive parameters'\n"
     ]
    },
    {
     "name": "stdout",
     "output_type": "stream",
     "text": [
      "Nombre de jours écoulés=665, t=217, prédiction=494344, vraie valeur=495336\n",
      "Modèle meilleur_ARIMA: (2, 1, 3)\n"
     ]
    },
    {
     "name": "stderr",
     "output_type": "stream",
     "text": [
      "/usr/local/lib/python3.8/dist-packages/statsmodels/base/model.py:604: ConvergenceWarning: Maximum Likelihood optimization failed to converge. Check mle_retvals\n",
      "  warnings.warn(\"Maximum Likelihood optimization failed to \"\n",
      "/usr/local/lib/python3.8/dist-packages/statsmodels/tsa/statespace/sarimax.py:966: UserWarning: Non-stationary starting autoregressive parameters found. Using zeros as starting parameters.\n",
      "  warn('Non-stationary starting autoregressive parameters'\n"
     ]
    },
    {
     "name": "stdout",
     "output_type": "stream",
     "text": [
      "Nombre de jours écoulés=666, t=218, prédiction=499830, vraie valeur=501697\n",
      "Modèle meilleur_ARIMA: (2, 1, 3)\n",
      "Nombre de jours écoulés=667, t=219, prédiction=507208, vraie valeur=511094\n",
      "Modèle meilleur_ARIMA: (2, 1, 3)\n"
     ]
    },
    {
     "name": "stderr",
     "output_type": "stream",
     "text": [
      "/usr/local/lib/python3.8/dist-packages/statsmodels/tsa/statespace/sarimax.py:966: UserWarning: Non-stationary starting autoregressive parameters found. Using zeros as starting parameters.\n",
      "  warn('Non-stationary starting autoregressive parameters'\n",
      "/usr/local/lib/python3.8/dist-packages/statsmodels/tsa/statespace/sarimax.py:978: UserWarning: Non-invertible starting MA parameters found. Using zeros as starting parameters.\n",
      "  warn('Non-invertible starting MA parameters found.'\n",
      "/usr/local/lib/python3.8/dist-packages/statsmodels/base/model.py:604: ConvergenceWarning: Maximum Likelihood optimization failed to converge. Check mle_retvals\n",
      "  warnings.warn(\"Maximum Likelihood optimization failed to \"\n",
      "/usr/local/lib/python3.8/dist-packages/statsmodels/tsa/statespace/sarimax.py:966: UserWarning: Non-stationary starting autoregressive parameters found. Using zeros as starting parameters.\n",
      "  warn('Non-stationary starting autoregressive parameters'\n",
      "/usr/local/lib/python3.8/dist-packages/statsmodels/tsa/statespace/sarimax.py:978: UserWarning: Non-invertible starting MA parameters found. Using zeros as starting parameters.\n",
      "  warn('Non-invertible starting MA parameters found.'\n"
     ]
    },
    {
     "name": "stdout",
     "output_type": "stream",
     "text": [
      "Nombre de jours écoulés=668, t=220, prédiction=519306, vraie valeur=521125\n",
      "Modèle meilleur_ARIMA: (2, 1, 3)\n",
      "Nombre de jours écoulés=669, t=221, prédiction=531509, vraie valeur=530331\n",
      "Modèle meilleur_ARIMA: (2, 1, 3)\n"
     ]
    },
    {
     "name": "stderr",
     "output_type": "stream",
     "text": [
      "/usr/local/lib/python3.8/dist-packages/statsmodels/tsa/statespace/sarimax.py:966: UserWarning: Non-stationary starting autoregressive parameters found. Using zeros as starting parameters.\n",
      "  warn('Non-stationary starting autoregressive parameters'\n",
      "/usr/local/lib/python3.8/dist-packages/statsmodels/tsa/statespace/sarimax.py:978: UserWarning: Non-invertible starting MA parameters found. Using zeros as starting parameters.\n",
      "  warn('Non-invertible starting MA parameters found.'\n",
      "/usr/local/lib/python3.8/dist-packages/statsmodels/base/model.py:604: ConvergenceWarning: Maximum Likelihood optimization failed to converge. Check mle_retvals\n",
      "  warnings.warn(\"Maximum Likelihood optimization failed to \"\n",
      "/usr/local/lib/python3.8/dist-packages/statsmodels/tsa/statespace/sarimax.py:966: UserWarning: Non-stationary starting autoregressive parameters found. Using zeros as starting parameters.\n",
      "  warn('Non-stationary starting autoregressive parameters'\n"
     ]
    },
    {
     "name": "stdout",
     "output_type": "stream",
     "text": [
      "Nombre de jours écoulés=670, t=222, prédiction=541085, vraie valeur=538205\n",
      "Modèle meilleur_ARIMA: (2, 1, 3)\n",
      "Nombre de jours écoulés=671, t=223, prédiction=546551, vraie valeur=546436\n",
      "Modèle meilleur_ARIMA: (2, 1, 3)\n"
     ]
    },
    {
     "name": "stderr",
     "output_type": "stream",
     "text": [
      "/usr/local/lib/python3.8/dist-packages/statsmodels/tsa/statespace/sarimax.py:966: UserWarning: Non-stationary starting autoregressive parameters found. Using zeros as starting parameters.\n",
      "  warn('Non-stationary starting autoregressive parameters'\n"
     ]
    },
    {
     "name": "stdout",
     "output_type": "stream",
     "text": [
      "Nombre de jours écoulés=672, t=224, prédiction=554491, vraie valeur=559269\n",
      "Modèle meilleur_ARIMA: (2, 1, 3)\n"
     ]
    },
    {
     "name": "stderr",
     "output_type": "stream",
     "text": [
      "/usr/local/lib/python3.8/dist-packages/statsmodels/tsa/statespace/sarimax.py:966: UserWarning: Non-stationary starting autoregressive parameters found. Using zeros as starting parameters.\n",
      "  warn('Non-stationary starting autoregressive parameters'\n"
     ]
    },
    {
     "name": "stdout",
     "output_type": "stream",
     "text": [
      "Nombre de jours écoulés=673, t=225, prédiction=570776, vraie valeur=572418\n",
      "Modèle meilleur_ARIMA: (2, 1, 3)\n"
     ]
    },
    {
     "name": "stderr",
     "output_type": "stream",
     "text": [
      "/usr/local/lib/python3.8/dist-packages/statsmodels/tsa/statespace/sarimax.py:966: UserWarning: Non-stationary starting autoregressive parameters found. Using zeros as starting parameters.\n",
      "  warn('Non-stationary starting autoregressive parameters'\n"
     ]
    },
    {
     "name": "stdout",
     "output_type": "stream",
     "text": [
      "Nombre de jours écoulés=674, t=226, prédiction=585143, vraie valeur=586606\n",
      "Modèle meilleur_ARIMA: (2, 1, 3)\n"
     ]
    },
    {
     "name": "stderr",
     "output_type": "stream",
     "text": [
      "/usr/local/lib/python3.8/dist-packages/statsmodels/tsa/statespace/sarimax.py:966: UserWarning: Non-stationary starting autoregressive parameters found. Using zeros as starting parameters.\n",
      "  warn('Non-stationary starting autoregressive parameters'\n"
     ]
    },
    {
     "name": "stdout",
     "output_type": "stream",
     "text": [
      "Nombre de jours écoulés=675, t=227, prédiction=0, vraie valeur=603067\n",
      "Modèle meilleur_ARIMA: (2, 1, 3)\n"
     ]
    },
    {
     "name": "stderr",
     "output_type": "stream",
     "text": [
      "/usr/local/lib/python3.8/dist-packages/statsmodels/tsa/statespace/sarimax.py:966: UserWarning: Non-stationary starting autoregressive parameters found. Using zeros as starting parameters.\n",
      "  warn('Non-stationary starting autoregressive parameters'\n",
      "/usr/local/lib/python3.8/dist-packages/statsmodels/base/model.py:604: ConvergenceWarning: Maximum Likelihood optimization failed to converge. Check mle_retvals\n",
      "  warnings.warn(\"Maximum Likelihood optimization failed to \"\n",
      "/usr/local/lib/python3.8/dist-packages/statsmodels/tsa/statespace/sarimax.py:966: UserWarning: Non-stationary starting autoregressive parameters found. Using zeros as starting parameters.\n",
      "  warn('Non-stationary starting autoregressive parameters'\n"
     ]
    },
    {
     "name": "stdout",
     "output_type": "stream",
     "text": [
      "Nombre de jours écoulés=676, t=228, prédiction=619305, vraie valeur=620189\n",
      "Modèle meilleur_ARIMA: (2, 1, 3)\n",
      "Nombre de jours écoulés=677, t=229, prédiction=637344, vraie valeur=636034\n",
      "Modèle meilleur_ARIMA: (2, 1, 3)\n"
     ]
    },
    {
     "name": "stderr",
     "output_type": "stream",
     "text": [
      "/usr/local/lib/python3.8/dist-packages/statsmodels/tsa/statespace/sarimax.py:966: UserWarning: Non-stationary starting autoregressive parameters found. Using zeros as starting parameters.\n",
      "  warn('Non-stationary starting autoregressive parameters'\n"
     ]
    },
    {
     "name": "stdout",
     "output_type": "stream",
     "text": [
      "Nombre de jours écoulés=678, t=230, prédiction=652098, vraie valeur=651327\n",
      "Modèle meilleur_ARIMA: (2, 1, 3)\n"
     ]
    },
    {
     "name": "stderr",
     "output_type": "stream",
     "text": [
      "/usr/local/lib/python3.8/dist-packages/statsmodels/tsa/statespace/sarimax.py:966: UserWarning: Non-stationary starting autoregressive parameters found. Using zeros as starting parameters.\n",
      "  warn('Non-stationary starting autoregressive parameters'\n",
      "/usr/local/lib/python3.8/dist-packages/statsmodels/base/model.py:604: ConvergenceWarning: Maximum Likelihood optimization failed to converge. Check mle_retvals\n",
      "  warnings.warn(\"Maximum Likelihood optimization failed to \"\n"
     ]
    },
    {
     "name": "stdout",
     "output_type": "stream",
     "text": [
      "Nombre de jours écoulés=679, t=231, prédiction=666624, vraie valeur=651327\n",
      "Modèle meilleur_ARIMA: (2, 1, 3)\n",
      "meilleur_ARIMA (2, 1, 3)\n",
      "Nombre de jours écoulés=680, t=232, prédiction=650811\n",
      "Modèle meilleur_ARIMA: (2, 1, 3)\n"
     ]
    },
    {
     "name": "stderr",
     "output_type": "stream",
     "text": [
      "/usr/local/lib/python3.8/dist-packages/statsmodels/tsa/statespace/sarimax.py:966: UserWarning: Non-stationary starting autoregressive parameters found. Using zeros as starting parameters.\n",
      "  warn('Non-stationary starting autoregressive parameters'\n",
      "/usr/local/lib/python3.8/dist-packages/statsmodels/tsa/statespace/sarimax.py:978: UserWarning: Non-invertible starting MA parameters found. Using zeros as starting parameters.\n",
      "  warn('Non-invertible starting MA parameters found.'\n"
     ]
    },
    {
     "name": "stdout",
     "output_type": "stream",
     "text": [
      "meilleur_ARIMA (2, 1, 3)\n",
      "Nombre de jours écoulés=681, t=233, prédiction=643591\n",
      "Modèle meilleur_ARIMA: (2, 1, 3)\n"
     ]
    },
    {
     "name": "stderr",
     "output_type": "stream",
     "text": [
      "/usr/local/lib/python3.8/dist-packages/statsmodels/tsa/statespace/sarimax.py:966: UserWarning: Non-stationary starting autoregressive parameters found. Using zeros as starting parameters.\n",
      "  warn('Non-stationary starting autoregressive parameters'\n",
      "/usr/local/lib/python3.8/dist-packages/statsmodels/tsa/statespace/sarimax.py:978: UserWarning: Non-invertible starting MA parameters found. Using zeros as starting parameters.\n",
      "  warn('Non-invertible starting MA parameters found.'\n"
     ]
    },
    {
     "name": "stdout",
     "output_type": "stream",
     "text": [
      "meilleur_ARIMA (2, 1, 3)\n",
      "Nombre de jours écoulés=682, t=234, prédiction=637987\n",
      "Test RMSE: 39611.123\n"
     ]
    },
    {
     "data": {
      "image/png": "[encoded data removed]",
      "text/plain": [
       "<Figure size 684x432 with 1 Axes>"
      ]
     },
     "metadata": {
      "needs_background": "light"
     },
     "output_type": "display_data"
    },
    {
     "name": "stdout",
     "output_type": "stream",
     "text": [
      "******************************************************************************************\n"
     ]
    }
   ],
   "source": [
    "from pandas import datetime\n",
    "import matplotlib.pyplot as plt\n",
    "from statsmodels.tsa.arima.model import ARIMA\n",
    "from sklearn.metrics import mean_squared_error\n",
    "from numpy.linalg import LinAlgError\n",
    "from math import sqrt\n",
    "\n",
    "X = series.values\n",
    "X = [x for x in X if x > 0]\n",
    "\n",
    "# Ici au besoin, on peut ajouter manuellement un nouveau point de données\n",
    "# X += [3430]\n",
    "taille_entrainement_data = int(len(X) * 0.66)\n",
    "\n",
    "# Séparation entre jeu de données d'entraînement et jeu de données de test\n",
    "entrainement_data, test_data = X[0:taille_entrainement_data], X[taille_entrainement_data:len(X)]\n",
    "\n",
    "predictions_ARIMA = {}\n",
    "print(\"*\"*90)\n",
    "\n",
    "for meilleur_ARIMA in meilleurs_ARIMA:\n",
    "    drapeau_erreur = False\n",
    "    historique = [x for x in entrainement_data]\n",
    "    predictions = list()\n",
    "    nbr_predictions = 3\n",
    "    nbr_jours_init = len(X)-len(test_data)\n",
    "\n",
    "    for t in range(len(test_data)+nbr_predictions):\n",
    "        try:\n",
    "            print(\"Modèle meilleur_ARIMA:\",meilleur_ARIMA)\n",
    "            modele_ARIMA = ARIMA(historique, order=meilleur_ARIMA)\n",
    "            # modele_ARIMA_entraine = modele_ARIMA.fit(disp=0)\n",
    "            modele_ARIMA_entraine = modele_ARIMA.fit()\n",
    "            sortie = modele_ARIMA_entraine.forecast()\n",
    "            une_prediction = sortie[0]\n",
    "            predictions.append(une_prediction)\n",
    "            if t < len(test_data):\n",
    "                vraie_valeur = test_data[t]\n",
    "                historique.append(vraie_valeur)\n",
    "                print('Nombre de jours écoulés=%i, t=%i, prédiction=%i, vraie valeur=%i' % (nbr_jours_init+t,t,une_prediction,vraie_valeur))\n",
    "            else:\n",
    "                historique.append(une_prediction)\n",
    "                print(\"meilleur_ARIMA\",meilleur_ARIMA)\n",
    "                etiq_ARIMA = \"_\".join([str(hyperparam) for hyperparam in meilleur_ARIMA])\n",
    "                if not etiq_ARIMA in predictions_ARIMA.keys():\n",
    "                    predictions_ARIMA[etiq_ARIMA]=int(une_prediction)\n",
    "                print('Nombre de jours écoulés=%i, t=%i, prédiction=%i' % (nbr_jours_init+t,t,une_prediction))\n",
    "        except:\n",
    "            print(\"*** Erreur! ***\")\n",
    "            drapeau_erreur = True\n",
    "            break\n",
    "    if drapeau_erreur:\n",
    "        continue\n",
    "    else:   \n",
    "        # Évaluation de l'erreur de prédiction\n",
    "        rmse = sqrt(mean_squared_error(test_data, predictions[:-nbr_predictions]))\n",
    "        print('Test RMSE: %.3f' % rmse)\n",
    "        # Afficher les vraies valeurs et les prédictions pour le jeu de données de test\n",
    "        plt.figure(figsize=(longueur/2,hauteur/2))\n",
    "        date = (dates_list[-1]+pd.Timedelta(days=1)).strftime(\"%d-%m-%Y\")\n",
    "        plt.title(u\"Prédictions pandémie COVID-19 - Québec - \" + date + \"\\n\" + \n",
    "                  \"modèle ARIMA (\" + etiq_ARIMA.replace(\"_\",\", \") + \")\",fontsize=18)\n",
    "        x_data = list(range(len(test_data)))\n",
    "        x_data_extension = list(range(len(test_data)+nbr_predictions))[-nbr_predictions:]\n",
    "        plt.scatter(x_data,test_data)\n",
    "        plt.plot(test_data,color='blue',label=\"vraies valeurs\")\n",
    "        plt.plot(x_data_extension[-nbr_predictions:],\n",
    "                 predictions[-nbr_predictions:],\n",
    "                 \"r--\",marker=\"x\",label=\"prédictions\")\n",
    "        point1 = [x_data[-1], test_data[-1]]\n",
    "        point2 = [x_data_extension[0],int(predictions[-nbr_predictions])]\n",
    "        x_values = [point1[0], point2[0]]\n",
    "        y_values = [point1[1], point2[1]]\n",
    "        plt.plot(x_values, y_values,\"r--\",marker=\"x\")\n",
    "        plt.legend(loc='best',fontsize=14)\n",
    "        plt.xlabel(\"nombre de jours\",fontsize=18)\n",
    "        plt.ylabel(\"nombre de malades\",fontsize=18)\n",
    "        plt.show()\n",
    "        print(\"*\"*90)\n",
    "        break"
   ]
  },
  {
   "cell_type": "markdown",
   "metadata": {},
   "source": [
    "### Afficher les vraies valeurs et la prédiction pour demain"
   ]
  },
  {
   "cell_type": "markdown",
   "metadata": {},
   "source": [
    "#### Modèle meilleurs ARIMA seulement"
   ]
  },
  {
   "cell_type": "code",
   "execution_count": 472,
   "metadata": {},
   "outputs": [
    {
     "name": "stdout",
     "output_type": "stream",
     "text": [
      "Prédictions ARIMA: (2, 1, 3) : 650811\n",
      "Prédictions pour 05-01-2022\n",
      " =>  650811  <= \n"
     ]
    }
   ],
   "source": [
    "# Composante du modèle exponentiel\n",
    "ponderation_exp = 0\n",
    "total_predictions = prediction_regNonLin_exp * ponderation_exp\n",
    "#total_predictions = 0 \n",
    "# print(\"Prédictions régr. non-lin.: \",prediction_regNonLin_exp)\n",
    "for etiq_ARIMA in predictions_ARIMA.keys():\n",
    "    print(\"Prédictions ARIMA: (\" + etiq_ARIMA.replace(\"_\",\", \") + \") : \" + str(predictions_ARIMA[etiq_ARIMA]))\n",
    "    total_predictions += predictions_ARIMA[etiq_ARIMA]\n",
    "print(\"Prédictions pour \"+(dates_list[-1]+pd.Timedelta(days=1)).strftime(\"%d-%m-%Y\"))\n",
    "# Modèle exponentiel utilisé avant le 1er avril 2020\n",
    "# ligne commentée\n",
    "prediction_pur_ARIMA = int(total_predictions/(len(predictions_ARIMA)+1*ponderation_exp))\n",
    "print(\" => \",prediction_pur_ARIMA,\" <= \")\n",
    "#print(\" => \",int(total_predictions/len(predictions_ARIMA)),\" <= \")\n"
   ]
  },
  {
   "cell_type": "markdown",
   "metadata": {},
   "source": [
    "### Afficher les vraies valeurs et la prédiction pour demain"
   ]
  },
  {
   "cell_type": "markdown",
   "metadata": {},
   "source": [
    "#### Modèle meilleurs ARIMA"
   ]
  },
  {
   "cell_type": "code",
   "execution_count": 473,
   "metadata": {
    "scrolled": false
   },
   "outputs": [
    {
     "data": {
      "image/png": "[encoded data removed]",
      "text/plain": [
       "<Figure size 684x432 with 1 Axes>"
      ]
     },
     "metadata": {
      "needs_background": "light"
     },
     "output_type": "display_data"
    }
   ],
   "source": [
    "plt.figure(figsize=(longueur/2,hauteur/2))\n",
    "date_demain = (dates_list[-1]+pd.Timedelta(days=1)).strftime(\"%d-%m-%Y\")\n",
    "prediction_demain = prediction_pur_ARIMA\n",
    "x_data = list(range(len(test_data)))\n",
    "x_data_extension = list(range(len(test_data)+nbr_predictions))[-nbr_predictions:]\n",
    "plt.scatter(x_data,test_data)\n",
    "plt.plot(test_data,color='blue',label=\"vraies valeurs\")\n",
    "point1 = [x_data[-1], test_data[-1]]\n",
    "point2 = [x_data_extension[0],prediction_demain]\n",
    "x_values = [point1[0], point2[0]]\n",
    "y_values = [point1[1], point2[1]]\n",
    "plt.plot(x_values, y_values,\"r--\",marker=\"x\",label=\"prédiction\")\n",
    "plt.axhline(prediction_demain,linestyle='--',linewidth=0.5,color='r')\n",
    "plt.axvline(x=point2[0],linestyle='--',linewidth=0.5,color='r')\n",
    "plt.text(point2[0]-0.5, point2[1], date_demain + \"\\n\" +\" \"*6 + str(prediction_demain),fontsize=12)\n",
    "plt.plot(x_values, y_values,\"r--\",marker=\"x\")\n",
    "xlim(right=point2[0]+x_values[-1]/6)\n",
    "ylim(top=point2[1]+y_values[-1]/15)\n",
    "plt.legend(loc='best',fontsize=14)\n",
    "plt.xlabel(\"nombre de jours\",fontsize=18)\n",
    "plt.ylabel(\"nombre de malades\",fontsize=18)\n",
    "plt.title(u\"Prédiction pandémie COVID-19 - Québec - pour le \" + date_demain + \"\\n\" + \n",
    "          \"modèle ARIMA => nouveaux malades: \" + str(prediction_demain-test_data[-1]) + \" - Total: \"+ str(prediction_demain) + \" <=\",fontsize=18)\n",
    "plt.savefig('images/Prediction-ARIMA_seul-COVID19-Quebec.png')\n",
    "plt.show()\n"
   ]
  },
  {
   "cell_type": "markdown",
   "metadata": {},
   "source": [
    "## Modèle combiné \n",
    "\n",
    "Moyenne des prédictions du meilleur modèle ARIMA plus une partie exponentielle issue d'un calcul de régression non linéaire. \n",
    "\n",
    "<!--\n",
    "Les résultats depuis quelques mois semblent confirmer que le modèle combiné est plus réaliste, du moins à ce stade de l'épidémie au Québec.\n",
    "-->"
   ]
  },
  {
   "cell_type": "code",
   "execution_count": 474,
   "metadata": {},
   "outputs": [
    {
     "name": "stdout",
     "output_type": "stream",
     "text": [
      "Prédictions régr. non-lin.:  32978\n",
      "Prédictions pur ARIMA:  -516\n",
      "Prédictions pour 05-01-2022\n",
      "Prédictions modèle combiné:  2833\n",
      "Nouveaux malades =>  2833  <= \n"
     ]
    }
   ],
   "source": [
    "# Composante du modèle exponentiel\n",
    "ponderation_exp = 1.0\n",
    "ponderation_arima = 9.0\n",
    "total_predictions = prediction_regNonLin_exp * ponderation_exp\n",
    "print(\"Prédictions régr. non-lin.: \",prediction_regNonLin_exp-y_data[-1])\n",
    "print(\"Prédictions pur ARIMA: \",prediction_pur_ARIMA-y_data[-1])\n",
    "total_predictions += prediction_pur_ARIMA*ponderation_arima\n",
    "print(\"Prédictions pour \"+(dates_list[-1]+pd.Timedelta(days=1)).strftime(\"%d-%m-%Y\"))\n",
    "# Modèle exponentiel utilisé avant le 1er avril 2020\n",
    "# ligne commentée\n",
    "prediction_modele_combine = int(total_predictions/(ponderation_exp+ponderation_arima))\n",
    "print(\"Prédictions modèle combiné: \",prediction_modele_combine-y_data[-1])\n",
    "print(\"Nouveaux malades => \",prediction_modele_combine-y_data[-1],\" <= \")\n"
   ]
  },
  {
   "cell_type": "code",
   "execution_count": 475,
   "metadata": {
    "scrolled": false
   },
   "outputs": [
    {
     "data": {
      "image/png": "[encoded data removed]",
      "text/plain": [
       "<Figure size 684x432 with 1 Axes>"
      ]
     },
     "metadata": {
      "needs_background": "light"
     },
     "output_type": "display_data"
    }
   ],
   "source": [
    "plt.figure(figsize=(longueur/2,hauteur/2))\n",
    "date_demain = (dates_list[-1]+pd.Timedelta(days=1)).strftime(\"%d-%m-%Y\")\n",
    "prediction_demain = prediction_modele_combine\n",
    "x_data = list(range(len(test_data)))\n",
    "x_data_extension = list(range(len(test_data)+nbr_predictions))[-nbr_predictions:]\n",
    "plt.scatter(x_data,test_data)\n",
    "plt.plot(test_data,color='blue',label=\"vraies valeurs\")\n",
    "point1 = [x_data[-1], test_data[-1]]\n",
    "point2 = [x_data_extension[0],prediction_demain]\n",
    "x_values = [point1[0], point2[0]]\n",
    "y_values = [point1[1], point2[1]]\n",
    "plt.plot(x_values, y_values,\"r--\",marker=\"x\",label=\"prédiction\")\n",
    "plt.axhline(prediction_demain,linestyle='--',linewidth=0.5,color='r')\n",
    "plt.axvline(x=point2[0],linestyle='--',linewidth=0.5,color='r')\n",
    "plt.text(point2[0]-0.5, point2[1], date_demain + \"\\n\" +\" \"*6 + str(prediction_demain),fontsize=12)\n",
    "plt.plot(x_values, y_values,\"r--\",marker=\"x\")\n",
    "xlim(right=point2[0]+x_values[-1]/6)\n",
    "ylim(top=point2[1]+y_values[-1]/15)\n",
    "plt.legend(loc='best',fontsize=14)\n",
    "plt.xlabel(\"nombre de jours\",fontsize=18)\n",
    "plt.ylabel(\"nombre de malades\",fontsize=18)\n",
    "plt.title(u\"Prédiction pandémie COVID-19 - Québec - pour le \" + date_demain + \"\\n\" + \n",
    "          \"modèle combiné exp.+ARIMA => nouveaux cas: \" + str(prediction_demain-test_data[-1]) + \" - Total: \"+ str(prediction_demain) + \" <=\",fontsize=18)\n",
    "plt.savefig('images/Prediction-modele_combine-COVID19-Quebec.png')\n",
    "plt.show()\n"
   ]
  },
  {
   "cell_type": "code",
   "execution_count": 476,
   "metadata": {},
   "outputs": [
    {
     "name": "stdout",
     "output_type": "stream",
     "text": [
      "Fin du carnet IPython\n"
     ]
    }
   ],
   "source": [
    "print(\"Fin du carnet IPython\")"
   ]
  },
  {
   "cell_type": "code",
   "execution_count": null,
   "metadata": {},
   "outputs": [],
   "source": []
  }
 ],
 "metadata": {
  "kernelspec": {
   "display_name": "Python 3 (ipykernel)",
   "language": "python",
   "name": "python3"
  },
  "language_info": {
   "codemirror_mode": {
    "name": "ipython",
    "version": 3
   },
   "file_extension": ".py",
   "mimetype": "text/x-python",
   "name": "python",
   "nbconvert_exporter": "python",
   "pygments_lexer": "ipython3",
   "version": "3.8.12"
  }
 },
 "nbformat": 4,
 "nbformat_minor": 1
}

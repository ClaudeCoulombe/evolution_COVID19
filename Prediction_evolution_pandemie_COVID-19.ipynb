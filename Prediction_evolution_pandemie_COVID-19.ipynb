{
 "cells": [
  {
   "cell_type": "markdown",
   "metadata": {},
   "source": [
    "<img src=\"images/ScDo-Bandeau_Lingua_Technologies.png\" style=\"width: 100%;float:center;\"/>\n",
    "\n",
    "<h1 style=\"font-size:250%;text-align:center\">Prédiction de l'évolution temporelle de la</h1>\n",
    "<h1 style=\"font-size:250%;text-align:center\">pandémie du COVID-19</h1>\n",
    "<h1 style=\"font-size:250%;text-align:center\">modèles prédictifs</h1>\n",
    "<h4 style=\"font-size:150%;text-align:center\">par Claude COULOMBE</h4>\n",
    "<h5 style=\"font-size:100%;text-align:center\">PhD, scientifique de données, consultant Lingua Technologies</h5>\n",
    "\n",
    "\n",
    "<img src=\"images/ScDo-pandas_logo.png\" width=400 />\n",
    "\n",
    "Pour contrer l'anxiété de la pandémie de COVID-19, rien de mieux que d'agir. J'ai donc préparé un petit carnet Web Python, prétexte pour un petit exercice d'exploration de données avec Pandas. Maintenant un petit carnet web IPython avec des modèles prédictifs. \n",
    "\n",
    "**Attention!** Je ne suis pas épidémiologiste! Il s'agit d'un exercice «amateur» réalisé comme un loisir scientifique. Je suis ouvert à la discussion pour améliorer mes modèles et pour le plaisir d'apprendre. Aussi ces modèles ne sont bons que pour faire des prédictions à court terme. Par exemple. pour prédire un cycle épidémique, un modèle ARIMA ou d'ajustement de courbes doit disposer d'au moins un cycle complet de données. \n",
    "\n",
    "Une autre approche consisterait à se baser sur le comportement de l'épidémie en Chine et ajuster les paramètres aux données locales. J'ignore toutefois si cela donnerait des résultats fiables. \n",
    "\n",
    "**Note:** Pour faire des prédictions plus complètes et à plus long terme, des simulations avec des modèles mathématiques à base d'équations différentielles seraient plus appropriées (https://bit.ly/2JEMe3g). D'ailleurs certains paramètres de ces modèles peuvent être extraits des données. Pour avoir une idée du fonctionnment de tels modèles, avec des simulations-jouets, allez voir les capsules vidéos de Grant Sanderson (3Blue1Brown), mon infographiste scientifique préféré: https://bit.ly/33Umjhe\n",
    "\n",
    "<hr style=\"height:1px\">\n",
    "\n",
    "**Références:**\n",
    "\n",
    "COVID-19: Time Series Analysis With ARIMA Modelling<br/>\n",
    "https://bit.ly/2xK3GAI\n",
    "\n",
    "Epidemiology and ARIMA model of positive-rate of influenza viruses among children in Wuhan, China: A nine-year retrospective study<br/>\n",
    "https://bit.ly/3dJAfiJ\n",
    "\n",
    "Application of the ARIMA model on the COVID-2019 epidemic dataset<br/>\n",
    "https://bit.ly/2xMfFNR\n",
    "\n",
    "Forecasting of COVID-19 Confirmed Cases in Different Countries with ARIMA Models<br/>\n",
    "https://bit.ly/2UTRe9b\n",
    "\n",
    "<hr style=\"height:1px\">\n",
    "\n",
    "<h3><i>« Prédire est difficile, surtout lorsqu’il s’agit de l’avenir »</i></h3><br/>\n",
    "<div style=\"margin-left:450px\">proverbe danois</div>\n",
    "\n",
    "<hr style=\"height:1px\">"
   ]
  },
  {
   "cell_type": "markdown",
   "metadata": {},
   "source": [
    "### Importation des bibliothèques utilisées"
   ]
  },
  {
   "cell_type": "code",
   "execution_count": 171,
   "metadata": {},
   "outputs": [
    {
     "name": "stdout",
     "output_type": "stream",
     "text": [
      "Bibliothèques importées!\n"
     ]
    }
   ],
   "source": [
    "# Importation des bibliothèques\n",
    "import numpy as np\n",
    "import pandas as pd\n",
    "import matplotlib.pyplot as plt\n",
    "from pylab import *\n",
    "%matplotlib inline\n",
    "\n",
    "print(\"Bibliothèques importées!\")"
   ]
  },
  {
   "cell_type": "markdown",
   "metadata": {
    "collapsed": true
   },
   "source": [
    "## Données\n",
    "\n",
    "### Dépôt de données ouvertes du COVID-19 - John Hopkins University\n",
    "\n",
    "\n",
    "https://github.com/CSSEGISandData/COVID-19\n",
    "\n",
    "<img src=\"\" style=\"width: 100%;float:center;\"/>\n",
    "\n",
    "**Note** : Les données contenues dans le répertoire DATA doivent être mise à jour régulièrement pour refléter l'évolution de la pandémie dans le temps. \n"
   ]
  },
  {
   "cell_type": "markdown",
   "metadata": {},
   "source": [
    "### Lecture des données\n",
    "\n",
    "Nous nous intéressons au fichier `time_series_19-covid-Confirmed.csv` qui contient les données sur les cas confirmés de COVID-19\n",
    "\n",
    "wget --no-check-certificate https://raw.githubusercontent.com/CSSEGISandData/COVID-19/master/csse_covid_19_data/csse_covid_19_time_series/time_series_covid19_confirmed_global.csv?raw=True -O time_series_covid19_confirmed_global.csv"
   ]
  },
  {
   "cell_type": "code",
   "execution_count": 172,
   "metadata": {},
   "outputs": [],
   "source": [
    "# Note - bonne pratique de postfixer les Dataframe par _df (Rappel: Python n'est pas typé)\n",
    "series_chronologiques_COVID19_df = pd.read_csv('DATA/csse_covid_19_time_series/time_series_covid19_confirmed_global.csv',sep=',')\n"
   ]
  },
  {
   "cell_type": "code",
   "execution_count": 173,
   "metadata": {},
   "outputs": [
    {
     "name": "stdout",
     "output_type": "stream",
     "text": [
      "/home/user/evolution_COVID19\r\n"
     ]
    }
   ],
   "source": [
    "!pwd"
   ]
  },
  {
   "cell_type": "code",
   "execution_count": 174,
   "metadata": {},
   "outputs": [
    {
     "data": {
      "text/html": [
       "<div>\n",
       "<style scoped>\n",
       "    .dataframe tbody tr th:only-of-type {\n",
       "        vertical-align: middle;\n",
       "    }\n",
       "\n",
       "    .dataframe tbody tr th {\n",
       "        vertical-align: top;\n",
       "    }\n",
       "\n",
       "    .dataframe thead th {\n",
       "        text-align: right;\n",
       "    }\n",
       "</style>\n",
       "<table border=\"1\" class=\"dataframe\">\n",
       "  <thead>\n",
       "    <tr style=\"text-align: right;\">\n",
       "      <th></th>\n",
       "      <th>Province/State</th>\n",
       "      <th>Country/Region</th>\n",
       "      <th>Lat</th>\n",
       "      <th>Long</th>\n",
       "      <th>1/22/20</th>\n",
       "      <th>1/23/20</th>\n",
       "      <th>1/24/20</th>\n",
       "      <th>1/25/20</th>\n",
       "      <th>1/26/20</th>\n",
       "      <th>1/27/20</th>\n",
       "      <th>...</th>\n",
       "      <th>2/28/22</th>\n",
       "      <th>3/1/22</th>\n",
       "      <th>3/2/22</th>\n",
       "      <th>3/3/22</th>\n",
       "      <th>3/4/22</th>\n",
       "      <th>3/5/22</th>\n",
       "      <th>3/6/22</th>\n",
       "      <th>3/7/22</th>\n",
       "      <th>3/8/22</th>\n",
       "      <th>3/9/22</th>\n",
       "    </tr>\n",
       "  </thead>\n",
       "  <tbody>\n",
       "    <tr>\n",
       "      <th>0</th>\n",
       "      <td>NaN</td>\n",
       "      <td>Afghanistan</td>\n",
       "      <td>33.939110</td>\n",
       "      <td>67.709953</td>\n",
       "      <td>0</td>\n",
       "      <td>0</td>\n",
       "      <td>0</td>\n",
       "      <td>0</td>\n",
       "      <td>0</td>\n",
       "      <td>0</td>\n",
       "      <td>...</td>\n",
       "      <td>173659</td>\n",
       "      <td>173879</td>\n",
       "      <td>174073</td>\n",
       "      <td>174214</td>\n",
       "      <td>174214</td>\n",
       "      <td>174331</td>\n",
       "      <td>174582</td>\n",
       "      <td>175000</td>\n",
       "      <td>175353</td>\n",
       "      <td>175525</td>\n",
       "    </tr>\n",
       "    <tr>\n",
       "      <th>1</th>\n",
       "      <td>NaN</td>\n",
       "      <td>Albania</td>\n",
       "      <td>41.153300</td>\n",
       "      <td>20.168300</td>\n",
       "      <td>0</td>\n",
       "      <td>0</td>\n",
       "      <td>0</td>\n",
       "      <td>0</td>\n",
       "      <td>0</td>\n",
       "      <td>0</td>\n",
       "      <td>...</td>\n",
       "      <td>271563</td>\n",
       "      <td>271702</td>\n",
       "      <td>271825</td>\n",
       "      <td>271825</td>\n",
       "      <td>272030</td>\n",
       "      <td>272030</td>\n",
       "      <td>272210</td>\n",
       "      <td>272250</td>\n",
       "      <td>272337</td>\n",
       "      <td>272412</td>\n",
       "    </tr>\n",
       "    <tr>\n",
       "      <th>2</th>\n",
       "      <td>NaN</td>\n",
       "      <td>Algeria</td>\n",
       "      <td>28.033900</td>\n",
       "      <td>1.659600</td>\n",
       "      <td>0</td>\n",
       "      <td>0</td>\n",
       "      <td>0</td>\n",
       "      <td>0</td>\n",
       "      <td>0</td>\n",
       "      <td>0</td>\n",
       "      <td>...</td>\n",
       "      <td>264936</td>\n",
       "      <td>265010</td>\n",
       "      <td>265079</td>\n",
       "      <td>265130</td>\n",
       "      <td>265186</td>\n",
       "      <td>265227</td>\n",
       "      <td>265265</td>\n",
       "      <td>265297</td>\n",
       "      <td>265323</td>\n",
       "      <td>265346</td>\n",
       "    </tr>\n",
       "    <tr>\n",
       "      <th>3</th>\n",
       "      <td>NaN</td>\n",
       "      <td>Andorra</td>\n",
       "      <td>42.506300</td>\n",
       "      <td>1.521800</td>\n",
       "      <td>0</td>\n",
       "      <td>0</td>\n",
       "      <td>0</td>\n",
       "      <td>0</td>\n",
       "      <td>0</td>\n",
       "      <td>0</td>\n",
       "      <td>...</td>\n",
       "      <td>37999</td>\n",
       "      <td>38165</td>\n",
       "      <td>38249</td>\n",
       "      <td>38342</td>\n",
       "      <td>38434</td>\n",
       "      <td>38434</td>\n",
       "      <td>38434</td>\n",
       "      <td>38620</td>\n",
       "      <td>38710</td>\n",
       "      <td>38794</td>\n",
       "    </tr>\n",
       "    <tr>\n",
       "      <th>4</th>\n",
       "      <td>NaN</td>\n",
       "      <td>Angola</td>\n",
       "      <td>-11.202700</td>\n",
       "      <td>17.873900</td>\n",
       "      <td>0</td>\n",
       "      <td>0</td>\n",
       "      <td>0</td>\n",
       "      <td>0</td>\n",
       "      <td>0</td>\n",
       "      <td>0</td>\n",
       "      <td>...</td>\n",
       "      <td>98741</td>\n",
       "      <td>98746</td>\n",
       "      <td>98746</td>\n",
       "      <td>98746</td>\n",
       "      <td>98796</td>\n",
       "      <td>98796</td>\n",
       "      <td>98806</td>\n",
       "      <td>98806</td>\n",
       "      <td>98829</td>\n",
       "      <td>98855</td>\n",
       "    </tr>\n",
       "    <tr>\n",
       "      <th>...</th>\n",
       "      <td>...</td>\n",
       "      <td>...</td>\n",
       "      <td>...</td>\n",
       "      <td>...</td>\n",
       "      <td>...</td>\n",
       "      <td>...</td>\n",
       "      <td>...</td>\n",
       "      <td>...</td>\n",
       "      <td>...</td>\n",
       "      <td>...</td>\n",
       "      <td>...</td>\n",
       "      <td>...</td>\n",
       "      <td>...</td>\n",
       "      <td>...</td>\n",
       "      <td>...</td>\n",
       "      <td>...</td>\n",
       "      <td>...</td>\n",
       "      <td>...</td>\n",
       "      <td>...</td>\n",
       "      <td>...</td>\n",
       "      <td>...</td>\n",
       "    </tr>\n",
       "    <tr>\n",
       "      <th>279</th>\n",
       "      <td>NaN</td>\n",
       "      <td>West Bank and Gaza</td>\n",
       "      <td>31.952200</td>\n",
       "      <td>35.233200</td>\n",
       "      <td>0</td>\n",
       "      <td>0</td>\n",
       "      <td>0</td>\n",
       "      <td>0</td>\n",
       "      <td>0</td>\n",
       "      <td>0</td>\n",
       "      <td>...</td>\n",
       "      <td>645947</td>\n",
       "      <td>647203</td>\n",
       "      <td>648039</td>\n",
       "      <td>649110</td>\n",
       "      <td>649971</td>\n",
       "      <td>649971</td>\n",
       "      <td>649971</td>\n",
       "      <td>651700</td>\n",
       "      <td>652298</td>\n",
       "      <td>652763</td>\n",
       "    </tr>\n",
       "    <tr>\n",
       "      <th>280</th>\n",
       "      <td>NaN</td>\n",
       "      <td>Winter Olympics 2022</td>\n",
       "      <td>39.904200</td>\n",
       "      <td>116.407400</td>\n",
       "      <td>0</td>\n",
       "      <td>0</td>\n",
       "      <td>0</td>\n",
       "      <td>0</td>\n",
       "      <td>0</td>\n",
       "      <td>0</td>\n",
       "      <td>...</td>\n",
       "      <td>521</td>\n",
       "      <td>524</td>\n",
       "      <td>524</td>\n",
       "      <td>526</td>\n",
       "      <td>530</td>\n",
       "      <td>530</td>\n",
       "      <td>532</td>\n",
       "      <td>532</td>\n",
       "      <td>533</td>\n",
       "      <td>533</td>\n",
       "    </tr>\n",
       "    <tr>\n",
       "      <th>281</th>\n",
       "      <td>NaN</td>\n",
       "      <td>Yemen</td>\n",
       "      <td>15.552727</td>\n",
       "      <td>48.516388</td>\n",
       "      <td>0</td>\n",
       "      <td>0</td>\n",
       "      <td>0</td>\n",
       "      <td>0</td>\n",
       "      <td>0</td>\n",
       "      <td>0</td>\n",
       "      <td>...</td>\n",
       "      <td>11771</td>\n",
       "      <td>11771</td>\n",
       "      <td>11771</td>\n",
       "      <td>11772</td>\n",
       "      <td>11774</td>\n",
       "      <td>11775</td>\n",
       "      <td>11777</td>\n",
       "      <td>11781</td>\n",
       "      <td>11781</td>\n",
       "      <td>11781</td>\n",
       "    </tr>\n",
       "    <tr>\n",
       "      <th>282</th>\n",
       "      <td>NaN</td>\n",
       "      <td>Zambia</td>\n",
       "      <td>-13.133897</td>\n",
       "      <td>27.849332</td>\n",
       "      <td>0</td>\n",
       "      <td>0</td>\n",
       "      <td>0</td>\n",
       "      <td>0</td>\n",
       "      <td>0</td>\n",
       "      <td>0</td>\n",
       "      <td>...</td>\n",
       "      <td>312750</td>\n",
       "      <td>312970</td>\n",
       "      <td>313203</td>\n",
       "      <td>313394</td>\n",
       "      <td>313613</td>\n",
       "      <td>313744</td>\n",
       "      <td>313821</td>\n",
       "      <td>313910</td>\n",
       "      <td>314159</td>\n",
       "      <td>314641</td>\n",
       "    </tr>\n",
       "    <tr>\n",
       "      <th>283</th>\n",
       "      <td>NaN</td>\n",
       "      <td>Zimbabwe</td>\n",
       "      <td>-19.015438</td>\n",
       "      <td>29.154857</td>\n",
       "      <td>0</td>\n",
       "      <td>0</td>\n",
       "      <td>0</td>\n",
       "      <td>0</td>\n",
       "      <td>0</td>\n",
       "      <td>0</td>\n",
       "      <td>...</td>\n",
       "      <td>236380</td>\n",
       "      <td>236871</td>\n",
       "      <td>237503</td>\n",
       "      <td>237503</td>\n",
       "      <td>238739</td>\n",
       "      <td>239019</td>\n",
       "      <td>239209</td>\n",
       "      <td>239710</td>\n",
       "      <td>240343</td>\n",
       "      <td>240343</td>\n",
       "    </tr>\n",
       "  </tbody>\n",
       "</table>\n",
       "<p>284 rows × 782 columns</p>\n",
       "</div>"
      ],
      "text/plain": [
       "    Province/State        Country/Region        Lat        Long  1/22/20  \\\n",
       "0              NaN           Afghanistan  33.939110   67.709953        0   \n",
       "1              NaN               Albania  41.153300   20.168300        0   \n",
       "2              NaN               Algeria  28.033900    1.659600        0   \n",
       "3              NaN               Andorra  42.506300    1.521800        0   \n",
       "4              NaN                Angola -11.202700   17.873900        0   \n",
       "..             ...                   ...        ...         ...      ...   \n",
       "279            NaN    West Bank and Gaza  31.952200   35.233200        0   \n",
       "280            NaN  Winter Olympics 2022  39.904200  116.407400        0   \n",
       "281            NaN                 Yemen  15.552727   48.516388        0   \n",
       "282            NaN                Zambia -13.133897   27.849332        0   \n",
       "283            NaN              Zimbabwe -19.015438   29.154857        0   \n",
       "\n",
       "     1/23/20  1/24/20  1/25/20  1/26/20  1/27/20  ...  2/28/22  3/1/22  \\\n",
       "0          0        0        0        0        0  ...   173659  173879   \n",
       "1          0        0        0        0        0  ...   271563  271702   \n",
       "2          0        0        0        0        0  ...   264936  265010   \n",
       "3          0        0        0        0        0  ...    37999   38165   \n",
       "4          0        0        0        0        0  ...    98741   98746   \n",
       "..       ...      ...      ...      ...      ...  ...      ...     ...   \n",
       "279        0        0        0        0        0  ...   645947  647203   \n",
       "280        0        0        0        0        0  ...      521     524   \n",
       "281        0        0        0        0        0  ...    11771   11771   \n",
       "282        0        0        0        0        0  ...   312750  312970   \n",
       "283        0        0        0        0        0  ...   236380  236871   \n",
       "\n",
       "     3/2/22  3/3/22  3/4/22  3/5/22  3/6/22  3/7/22  3/8/22  3/9/22  \n",
       "0    174073  174214  174214  174331  174582  175000  175353  175525  \n",
       "1    271825  271825  272030  272030  272210  272250  272337  272412  \n",
       "2    265079  265130  265186  265227  265265  265297  265323  265346  \n",
       "3     38249   38342   38434   38434   38434   38620   38710   38794  \n",
       "4     98746   98746   98796   98796   98806   98806   98829   98855  \n",
       "..      ...     ...     ...     ...     ...     ...     ...     ...  \n",
       "279  648039  649110  649971  649971  649971  651700  652298  652763  \n",
       "280     524     526     530     530     532     532     533     533  \n",
       "281   11771   11772   11774   11775   11777   11781   11781   11781  \n",
       "282  313203  313394  313613  313744  313821  313910  314159  314641  \n",
       "283  237503  237503  238739  239019  239209  239710  240343  240343  \n",
       "\n",
       "[284 rows x 782 columns]"
      ]
     },
     "execution_count": 174,
     "metadata": {},
     "output_type": "execute_result"
    }
   ],
   "source": [
    "series_chronologiques_COVID19_df\n"
   ]
  },
  {
   "cell_type": "markdown",
   "metadata": {},
   "source": [
    "### Retrait d'attributs «superflus»\n",
    "\n",
    "Puisque nous nous intéressons à l'évolution du nombre de malades dans le temps, certains attributs (colonnes du tableau de données) sont superflus ou «inutiles» et alourdissent notre analyse.\n",
    "\n",
    "Ci-dessous une liste d'attributs à retirer:"
   ]
  },
  {
   "cell_type": "code",
   "execution_count": 175,
   "metadata": {},
   "outputs": [],
   "source": [
    "attributs_a_retirer = [\"Lat\",\"Long\"]\n"
   ]
  },
  {
   "cell_type": "markdown",
   "metadata": {},
   "source": [
    "Retirer les attributs «superflus» avec la fonction `.drop()`"
   ]
  },
  {
   "cell_type": "code",
   "execution_count": 176,
   "metadata": {},
   "outputs": [],
   "source": [
    "series_chronologiques_COVID19_df = series_chronologiques_COVID19_df.drop(attributs_a_retirer,axis='columns')\n"
   ]
  },
  {
   "cell_type": "code",
   "execution_count": 177,
   "metadata": {},
   "outputs": [
    {
     "data": {
      "text/html": [
       "<div>\n",
       "<style scoped>\n",
       "    .dataframe tbody tr th:only-of-type {\n",
       "        vertical-align: middle;\n",
       "    }\n",
       "\n",
       "    .dataframe tbody tr th {\n",
       "        vertical-align: top;\n",
       "    }\n",
       "\n",
       "    .dataframe thead th {\n",
       "        text-align: right;\n",
       "    }\n",
       "</style>\n",
       "<table border=\"1\" class=\"dataframe\">\n",
       "  <thead>\n",
       "    <tr style=\"text-align: right;\">\n",
       "      <th></th>\n",
       "      <th>Province/State</th>\n",
       "      <th>Country/Region</th>\n",
       "      <th>1/22/20</th>\n",
       "      <th>1/23/20</th>\n",
       "      <th>1/24/20</th>\n",
       "      <th>1/25/20</th>\n",
       "      <th>1/26/20</th>\n",
       "      <th>1/27/20</th>\n",
       "      <th>1/28/20</th>\n",
       "      <th>1/29/20</th>\n",
       "      <th>...</th>\n",
       "      <th>2/28/22</th>\n",
       "      <th>3/1/22</th>\n",
       "      <th>3/2/22</th>\n",
       "      <th>3/3/22</th>\n",
       "      <th>3/4/22</th>\n",
       "      <th>3/5/22</th>\n",
       "      <th>3/6/22</th>\n",
       "      <th>3/7/22</th>\n",
       "      <th>3/8/22</th>\n",
       "      <th>3/9/22</th>\n",
       "    </tr>\n",
       "  </thead>\n",
       "  <tbody>\n",
       "    <tr>\n",
       "      <th>0</th>\n",
       "      <td>NaN</td>\n",
       "      <td>Afghanistan</td>\n",
       "      <td>0</td>\n",
       "      <td>0</td>\n",
       "      <td>0</td>\n",
       "      <td>0</td>\n",
       "      <td>0</td>\n",
       "      <td>0</td>\n",
       "      <td>0</td>\n",
       "      <td>0</td>\n",
       "      <td>...</td>\n",
       "      <td>173659</td>\n",
       "      <td>173879</td>\n",
       "      <td>174073</td>\n",
       "      <td>174214</td>\n",
       "      <td>174214</td>\n",
       "      <td>174331</td>\n",
       "      <td>174582</td>\n",
       "      <td>175000</td>\n",
       "      <td>175353</td>\n",
       "      <td>175525</td>\n",
       "    </tr>\n",
       "    <tr>\n",
       "      <th>1</th>\n",
       "      <td>NaN</td>\n",
       "      <td>Albania</td>\n",
       "      <td>0</td>\n",
       "      <td>0</td>\n",
       "      <td>0</td>\n",
       "      <td>0</td>\n",
       "      <td>0</td>\n",
       "      <td>0</td>\n",
       "      <td>0</td>\n",
       "      <td>0</td>\n",
       "      <td>...</td>\n",
       "      <td>271563</td>\n",
       "      <td>271702</td>\n",
       "      <td>271825</td>\n",
       "      <td>271825</td>\n",
       "      <td>272030</td>\n",
       "      <td>272030</td>\n",
       "      <td>272210</td>\n",
       "      <td>272250</td>\n",
       "      <td>272337</td>\n",
       "      <td>272412</td>\n",
       "    </tr>\n",
       "    <tr>\n",
       "      <th>2</th>\n",
       "      <td>NaN</td>\n",
       "      <td>Algeria</td>\n",
       "      <td>0</td>\n",
       "      <td>0</td>\n",
       "      <td>0</td>\n",
       "      <td>0</td>\n",
       "      <td>0</td>\n",
       "      <td>0</td>\n",
       "      <td>0</td>\n",
       "      <td>0</td>\n",
       "      <td>...</td>\n",
       "      <td>264936</td>\n",
       "      <td>265010</td>\n",
       "      <td>265079</td>\n",
       "      <td>265130</td>\n",
       "      <td>265186</td>\n",
       "      <td>265227</td>\n",
       "      <td>265265</td>\n",
       "      <td>265297</td>\n",
       "      <td>265323</td>\n",
       "      <td>265346</td>\n",
       "    </tr>\n",
       "    <tr>\n",
       "      <th>3</th>\n",
       "      <td>NaN</td>\n",
       "      <td>Andorra</td>\n",
       "      <td>0</td>\n",
       "      <td>0</td>\n",
       "      <td>0</td>\n",
       "      <td>0</td>\n",
       "      <td>0</td>\n",
       "      <td>0</td>\n",
       "      <td>0</td>\n",
       "      <td>0</td>\n",
       "      <td>...</td>\n",
       "      <td>37999</td>\n",
       "      <td>38165</td>\n",
       "      <td>38249</td>\n",
       "      <td>38342</td>\n",
       "      <td>38434</td>\n",
       "      <td>38434</td>\n",
       "      <td>38434</td>\n",
       "      <td>38620</td>\n",
       "      <td>38710</td>\n",
       "      <td>38794</td>\n",
       "    </tr>\n",
       "    <tr>\n",
       "      <th>4</th>\n",
       "      <td>NaN</td>\n",
       "      <td>Angola</td>\n",
       "      <td>0</td>\n",
       "      <td>0</td>\n",
       "      <td>0</td>\n",
       "      <td>0</td>\n",
       "      <td>0</td>\n",
       "      <td>0</td>\n",
       "      <td>0</td>\n",
       "      <td>0</td>\n",
       "      <td>...</td>\n",
       "      <td>98741</td>\n",
       "      <td>98746</td>\n",
       "      <td>98746</td>\n",
       "      <td>98746</td>\n",
       "      <td>98796</td>\n",
       "      <td>98796</td>\n",
       "      <td>98806</td>\n",
       "      <td>98806</td>\n",
       "      <td>98829</td>\n",
       "      <td>98855</td>\n",
       "    </tr>\n",
       "  </tbody>\n",
       "</table>\n",
       "<p>5 rows × 780 columns</p>\n",
       "</div>"
      ],
      "text/plain": [
       "  Province/State Country/Region  1/22/20  1/23/20  1/24/20  1/25/20  1/26/20  \\\n",
       "0            NaN    Afghanistan        0        0        0        0        0   \n",
       "1            NaN        Albania        0        0        0        0        0   \n",
       "2            NaN        Algeria        0        0        0        0        0   \n",
       "3            NaN        Andorra        0        0        0        0        0   \n",
       "4            NaN         Angola        0        0        0        0        0   \n",
       "\n",
       "   1/27/20  1/28/20  1/29/20  ...  2/28/22  3/1/22  3/2/22  3/3/22  3/4/22  \\\n",
       "0        0        0        0  ...   173659  173879  174073  174214  174214   \n",
       "1        0        0        0  ...   271563  271702  271825  271825  272030   \n",
       "2        0        0        0  ...   264936  265010  265079  265130  265186   \n",
       "3        0        0        0  ...    37999   38165   38249   38342   38434   \n",
       "4        0        0        0  ...    98741   98746   98746   98746   98796   \n",
       "\n",
       "   3/5/22  3/6/22  3/7/22  3/8/22  3/9/22  \n",
       "0  174331  174582  175000  175353  175525  \n",
       "1  272030  272210  272250  272337  272412  \n",
       "2  265227  265265  265297  265323  265346  \n",
       "3   38434   38434   38620   38710   38794  \n",
       "4   98796   98806   98806   98829   98855  \n",
       "\n",
       "[5 rows x 780 columns]"
      ]
     },
     "execution_count": 177,
     "metadata": {},
     "output_type": "execute_result"
    }
   ],
   "source": [
    "series_chronologiques_COVID19_df.head()\n"
   ]
  },
  {
   "cell_type": "markdown",
   "metadata": {},
   "source": [
    "#### Maintenant, examinons les données pour les différentes provinces canadiennes."
   ]
  },
  {
   "cell_type": "code",
   "execution_count": 178,
   "metadata": {},
   "outputs": [
    {
     "data": {
      "text/html": [
       "<div>\n",
       "<style scoped>\n",
       "    .dataframe tbody tr th:only-of-type {\n",
       "        vertical-align: middle;\n",
       "    }\n",
       "\n",
       "    .dataframe tbody tr th {\n",
       "        vertical-align: top;\n",
       "    }\n",
       "\n",
       "    .dataframe thead th {\n",
       "        text-align: right;\n",
       "    }\n",
       "</style>\n",
       "<table border=\"1\" class=\"dataframe\">\n",
       "  <thead>\n",
       "    <tr style=\"text-align: right;\">\n",
       "      <th></th>\n",
       "      <th>Province/State</th>\n",
       "      <th>Country/Region</th>\n",
       "      <th>1/22/20</th>\n",
       "      <th>1/23/20</th>\n",
       "      <th>1/24/20</th>\n",
       "      <th>1/25/20</th>\n",
       "      <th>1/26/20</th>\n",
       "      <th>1/27/20</th>\n",
       "      <th>1/28/20</th>\n",
       "      <th>1/29/20</th>\n",
       "      <th>...</th>\n",
       "      <th>2/28/22</th>\n",
       "      <th>3/1/22</th>\n",
       "      <th>3/2/22</th>\n",
       "      <th>3/3/22</th>\n",
       "      <th>3/4/22</th>\n",
       "      <th>3/5/22</th>\n",
       "      <th>3/6/22</th>\n",
       "      <th>3/7/22</th>\n",
       "      <th>3/8/22</th>\n",
       "      <th>3/9/22</th>\n",
       "    </tr>\n",
       "  </thead>\n",
       "  <tbody>\n",
       "    <tr>\n",
       "      <th>40</th>\n",
       "      <td>Alberta</td>\n",
       "      <td>Canada</td>\n",
       "      <td>0</td>\n",
       "      <td>0</td>\n",
       "      <td>0</td>\n",
       "      <td>0</td>\n",
       "      <td>0</td>\n",
       "      <td>0</td>\n",
       "      <td>0</td>\n",
       "      <td>0</td>\n",
       "      <td>...</td>\n",
       "      <td>525816</td>\n",
       "      <td>525816</td>\n",
       "      <td>526563</td>\n",
       "      <td>527102</td>\n",
       "      <td>527604</td>\n",
       "      <td>527604</td>\n",
       "      <td>527604</td>\n",
       "      <td>528717</td>\n",
       "      <td>529184</td>\n",
       "      <td>529736</td>\n",
       "    </tr>\n",
       "    <tr>\n",
       "      <th>41</th>\n",
       "      <td>British Columbia</td>\n",
       "      <td>Canada</td>\n",
       "      <td>0</td>\n",
       "      <td>0</td>\n",
       "      <td>0</td>\n",
       "      <td>0</td>\n",
       "      <td>0</td>\n",
       "      <td>0</td>\n",
       "      <td>1</td>\n",
       "      <td>1</td>\n",
       "      <td>...</td>\n",
       "      <td>348305</td>\n",
       "      <td>348771</td>\n",
       "      <td>349213</td>\n",
       "      <td>349604</td>\n",
       "      <td>349944</td>\n",
       "      <td>349944</td>\n",
       "      <td>349944</td>\n",
       "      <td>350941</td>\n",
       "      <td>351141</td>\n",
       "      <td>351415</td>\n",
       "    </tr>\n",
       "    <tr>\n",
       "      <th>42</th>\n",
       "      <td>Diamond Princess</td>\n",
       "      <td>Canada</td>\n",
       "      <td>0</td>\n",
       "      <td>0</td>\n",
       "      <td>0</td>\n",
       "      <td>0</td>\n",
       "      <td>0</td>\n",
       "      <td>0</td>\n",
       "      <td>0</td>\n",
       "      <td>0</td>\n",
       "      <td>...</td>\n",
       "      <td>0</td>\n",
       "      <td>0</td>\n",
       "      <td>0</td>\n",
       "      <td>0</td>\n",
       "      <td>0</td>\n",
       "      <td>0</td>\n",
       "      <td>0</td>\n",
       "      <td>0</td>\n",
       "      <td>0</td>\n",
       "      <td>0</td>\n",
       "    </tr>\n",
       "    <tr>\n",
       "      <th>43</th>\n",
       "      <td>Grand Princess</td>\n",
       "      <td>Canada</td>\n",
       "      <td>0</td>\n",
       "      <td>0</td>\n",
       "      <td>0</td>\n",
       "      <td>0</td>\n",
       "      <td>0</td>\n",
       "      <td>0</td>\n",
       "      <td>0</td>\n",
       "      <td>0</td>\n",
       "      <td>...</td>\n",
       "      <td>13</td>\n",
       "      <td>13</td>\n",
       "      <td>13</td>\n",
       "      <td>13</td>\n",
       "      <td>13</td>\n",
       "      <td>13</td>\n",
       "      <td>13</td>\n",
       "      <td>13</td>\n",
       "      <td>13</td>\n",
       "      <td>13</td>\n",
       "    </tr>\n",
       "    <tr>\n",
       "      <th>44</th>\n",
       "      <td>Manitoba</td>\n",
       "      <td>Canada</td>\n",
       "      <td>0</td>\n",
       "      <td>0</td>\n",
       "      <td>0</td>\n",
       "      <td>0</td>\n",
       "      <td>0</td>\n",
       "      <td>0</td>\n",
       "      <td>0</td>\n",
       "      <td>0</td>\n",
       "      <td>...</td>\n",
       "      <td>130813</td>\n",
       "      <td>131034</td>\n",
       "      <td>131193</td>\n",
       "      <td>131355</td>\n",
       "      <td>131526</td>\n",
       "      <td>131526</td>\n",
       "      <td>131526</td>\n",
       "      <td>131948</td>\n",
       "      <td>132089</td>\n",
       "      <td>132295</td>\n",
       "    </tr>\n",
       "    <tr>\n",
       "      <th>45</th>\n",
       "      <td>New Brunswick</td>\n",
       "      <td>Canada</td>\n",
       "      <td>0</td>\n",
       "      <td>0</td>\n",
       "      <td>0</td>\n",
       "      <td>0</td>\n",
       "      <td>0</td>\n",
       "      <td>0</td>\n",
       "      <td>0</td>\n",
       "      <td>0</td>\n",
       "      <td>...</td>\n",
       "      <td>37482</td>\n",
       "      <td>37769</td>\n",
       "      <td>38155</td>\n",
       "      <td>38546</td>\n",
       "      <td>38937</td>\n",
       "      <td>38937</td>\n",
       "      <td>38937</td>\n",
       "      <td>40070</td>\n",
       "      <td>40312</td>\n",
       "      <td>40654</td>\n",
       "    </tr>\n",
       "    <tr>\n",
       "      <th>46</th>\n",
       "      <td>Newfoundland and Labrador</td>\n",
       "      <td>Canada</td>\n",
       "      <td>0</td>\n",
       "      <td>0</td>\n",
       "      <td>0</td>\n",
       "      <td>0</td>\n",
       "      <td>0</td>\n",
       "      <td>0</td>\n",
       "      <td>0</td>\n",
       "      <td>0</td>\n",
       "      <td>...</td>\n",
       "      <td>24026</td>\n",
       "      <td>24026</td>\n",
       "      <td>24781</td>\n",
       "      <td>24781</td>\n",
       "      <td>25728</td>\n",
       "      <td>25728</td>\n",
       "      <td>25728</td>\n",
       "      <td>25728</td>\n",
       "      <td>26972</td>\n",
       "      <td>28103</td>\n",
       "    </tr>\n",
       "    <tr>\n",
       "      <th>47</th>\n",
       "      <td>Northwest Territories</td>\n",
       "      <td>Canada</td>\n",
       "      <td>0</td>\n",
       "      <td>0</td>\n",
       "      <td>0</td>\n",
       "      <td>0</td>\n",
       "      <td>0</td>\n",
       "      <td>0</td>\n",
       "      <td>0</td>\n",
       "      <td>0</td>\n",
       "      <td>...</td>\n",
       "      <td>8797</td>\n",
       "      <td>8924</td>\n",
       "      <td>9007</td>\n",
       "      <td>9080</td>\n",
       "      <td>9122</td>\n",
       "      <td>9122</td>\n",
       "      <td>9122</td>\n",
       "      <td>9231</td>\n",
       "      <td>9325</td>\n",
       "      <td>9400</td>\n",
       "    </tr>\n",
       "    <tr>\n",
       "      <th>48</th>\n",
       "      <td>Nova Scotia</td>\n",
       "      <td>Canada</td>\n",
       "      <td>0</td>\n",
       "      <td>0</td>\n",
       "      <td>0</td>\n",
       "      <td>0</td>\n",
       "      <td>0</td>\n",
       "      <td>0</td>\n",
       "      <td>0</td>\n",
       "      <td>0</td>\n",
       "      <td>...</td>\n",
       "      <td>44908</td>\n",
       "      <td>45795</td>\n",
       "      <td>46012</td>\n",
       "      <td>46374</td>\n",
       "      <td>46795</td>\n",
       "      <td>46795</td>\n",
       "      <td>46795</td>\n",
       "      <td>47089</td>\n",
       "      <td>47089</td>\n",
       "      <td>47089</td>\n",
       "    </tr>\n",
       "    <tr>\n",
       "      <th>49</th>\n",
       "      <td>Nunavut</td>\n",
       "      <td>Canada</td>\n",
       "      <td>0</td>\n",
       "      <td>0</td>\n",
       "      <td>0</td>\n",
       "      <td>0</td>\n",
       "      <td>0</td>\n",
       "      <td>0</td>\n",
       "      <td>0</td>\n",
       "      <td>0</td>\n",
       "      <td>...</td>\n",
       "      <td>2813</td>\n",
       "      <td>2813</td>\n",
       "      <td>2954</td>\n",
       "      <td>2954</td>\n",
       "      <td>3055</td>\n",
       "      <td>3055</td>\n",
       "      <td>3055</td>\n",
       "      <td>3163</td>\n",
       "      <td>3170</td>\n",
       "      <td>3200</td>\n",
       "    </tr>\n",
       "    <tr>\n",
       "      <th>50</th>\n",
       "      <td>Ontario</td>\n",
       "      <td>Canada</td>\n",
       "      <td>0</td>\n",
       "      <td>2</td>\n",
       "      <td>3</td>\n",
       "      <td>3</td>\n",
       "      <td>3</td>\n",
       "      <td>3</td>\n",
       "      <td>3</td>\n",
       "      <td>3</td>\n",
       "      <td>...</td>\n",
       "      <td>1112584</td>\n",
       "      <td>1114534</td>\n",
       "      <td>1115285</td>\n",
       "      <td>1119966</td>\n",
       "      <td>1123556</td>\n",
       "      <td>1125074</td>\n",
       "      <td>1126445</td>\n",
       "      <td>1128149</td>\n",
       "      <td>1129672</td>\n",
       "      <td>1131621</td>\n",
       "    </tr>\n",
       "    <tr>\n",
       "      <th>51</th>\n",
       "      <td>Prince Edward Island</td>\n",
       "      <td>Canada</td>\n",
       "      <td>0</td>\n",
       "      <td>0</td>\n",
       "      <td>0</td>\n",
       "      <td>0</td>\n",
       "      <td>0</td>\n",
       "      <td>0</td>\n",
       "      <td>0</td>\n",
       "      <td>0</td>\n",
       "      <td>...</td>\n",
       "      <td>14305</td>\n",
       "      <td>14305</td>\n",
       "      <td>15267</td>\n",
       "      <td>15267</td>\n",
       "      <td>16296</td>\n",
       "      <td>16296</td>\n",
       "      <td>16296</td>\n",
       "      <td>17623</td>\n",
       "      <td>17623</td>\n",
       "      <td>18905</td>\n",
       "    </tr>\n",
       "    <tr>\n",
       "      <th>52</th>\n",
       "      <td>Quebec</td>\n",
       "      <td>Canada</td>\n",
       "      <td>0</td>\n",
       "      <td>0</td>\n",
       "      <td>0</td>\n",
       "      <td>0</td>\n",
       "      <td>0</td>\n",
       "      <td>0</td>\n",
       "      <td>0</td>\n",
       "      <td>0</td>\n",
       "      <td>...</td>\n",
       "      <td>921875</td>\n",
       "      <td>922677</td>\n",
       "      <td>924307</td>\n",
       "      <td>925564</td>\n",
       "      <td>926918</td>\n",
       "      <td>928128</td>\n",
       "      <td>929038</td>\n",
       "      <td>929813</td>\n",
       "      <td>930748</td>\n",
       "      <td>932174</td>\n",
       "    </tr>\n",
       "    <tr>\n",
       "      <th>53</th>\n",
       "      <td>Repatriated Travellers</td>\n",
       "      <td>Canada</td>\n",
       "      <td>0</td>\n",
       "      <td>0</td>\n",
       "      <td>0</td>\n",
       "      <td>0</td>\n",
       "      <td>0</td>\n",
       "      <td>0</td>\n",
       "      <td>0</td>\n",
       "      <td>0</td>\n",
       "      <td>...</td>\n",
       "      <td>13</td>\n",
       "      <td>13</td>\n",
       "      <td>13</td>\n",
       "      <td>13</td>\n",
       "      <td>13</td>\n",
       "      <td>13</td>\n",
       "      <td>13</td>\n",
       "      <td>13</td>\n",
       "      <td>13</td>\n",
       "      <td>13</td>\n",
       "    </tr>\n",
       "    <tr>\n",
       "      <th>54</th>\n",
       "      <td>Saskatchewan</td>\n",
       "      <td>Canada</td>\n",
       "      <td>0</td>\n",
       "      <td>0</td>\n",
       "      <td>0</td>\n",
       "      <td>0</td>\n",
       "      <td>0</td>\n",
       "      <td>0</td>\n",
       "      <td>0</td>\n",
       "      <td>0</td>\n",
       "      <td>...</td>\n",
       "      <td>127187</td>\n",
       "      <td>127187</td>\n",
       "      <td>127187</td>\n",
       "      <td>127187</td>\n",
       "      <td>128289</td>\n",
       "      <td>128289</td>\n",
       "      <td>128289</td>\n",
       "      <td>128289</td>\n",
       "      <td>128289</td>\n",
       "      <td>128289</td>\n",
       "    </tr>\n",
       "    <tr>\n",
       "      <th>55</th>\n",
       "      <td>Yukon</td>\n",
       "      <td>Canada</td>\n",
       "      <td>0</td>\n",
       "      <td>0</td>\n",
       "      <td>0</td>\n",
       "      <td>0</td>\n",
       "      <td>0</td>\n",
       "      <td>0</td>\n",
       "      <td>0</td>\n",
       "      <td>0</td>\n",
       "      <td>...</td>\n",
       "      <td>3463</td>\n",
       "      <td>3467</td>\n",
       "      <td>3473</td>\n",
       "      <td>3475</td>\n",
       "      <td>3485</td>\n",
       "      <td>3485</td>\n",
       "      <td>3485</td>\n",
       "      <td>3515</td>\n",
       "      <td>3524</td>\n",
       "      <td>3533</td>\n",
       "    </tr>\n",
       "  </tbody>\n",
       "</table>\n",
       "<p>16 rows × 780 columns</p>\n",
       "</div>"
      ],
      "text/plain": [
       "               Province/State Country/Region  1/22/20  1/23/20  1/24/20  \\\n",
       "40                    Alberta         Canada        0        0        0   \n",
       "41           British Columbia         Canada        0        0        0   \n",
       "42           Diamond Princess         Canada        0        0        0   \n",
       "43             Grand Princess         Canada        0        0        0   \n",
       "44                   Manitoba         Canada        0        0        0   \n",
       "45              New Brunswick         Canada        0        0        0   \n",
       "46  Newfoundland and Labrador         Canada        0        0        0   \n",
       "47      Northwest Territories         Canada        0        0        0   \n",
       "48                Nova Scotia         Canada        0        0        0   \n",
       "49                    Nunavut         Canada        0        0        0   \n",
       "50                    Ontario         Canada        0        2        3   \n",
       "51       Prince Edward Island         Canada        0        0        0   \n",
       "52                     Quebec         Canada        0        0        0   \n",
       "53     Repatriated Travellers         Canada        0        0        0   \n",
       "54               Saskatchewan         Canada        0        0        0   \n",
       "55                      Yukon         Canada        0        0        0   \n",
       "\n",
       "    1/25/20  1/26/20  1/27/20  1/28/20  1/29/20  ...  2/28/22   3/1/22  \\\n",
       "40        0        0        0        0        0  ...   525816   525816   \n",
       "41        0        0        0        1        1  ...   348305   348771   \n",
       "42        0        0        0        0        0  ...        0        0   \n",
       "43        0        0        0        0        0  ...       13       13   \n",
       "44        0        0        0        0        0  ...   130813   131034   \n",
       "45        0        0        0        0        0  ...    37482    37769   \n",
       "46        0        0        0        0        0  ...    24026    24026   \n",
       "47        0        0        0        0        0  ...     8797     8924   \n",
       "48        0        0        0        0        0  ...    44908    45795   \n",
       "49        0        0        0        0        0  ...     2813     2813   \n",
       "50        3        3        3        3        3  ...  1112584  1114534   \n",
       "51        0        0        0        0        0  ...    14305    14305   \n",
       "52        0        0        0        0        0  ...   921875   922677   \n",
       "53        0        0        0        0        0  ...       13       13   \n",
       "54        0        0        0        0        0  ...   127187   127187   \n",
       "55        0        0        0        0        0  ...     3463     3467   \n",
       "\n",
       "     3/2/22   3/3/22   3/4/22   3/5/22   3/6/22   3/7/22   3/8/22   3/9/22  \n",
       "40   526563   527102   527604   527604   527604   528717   529184   529736  \n",
       "41   349213   349604   349944   349944   349944   350941   351141   351415  \n",
       "42        0        0        0        0        0        0        0        0  \n",
       "43       13       13       13       13       13       13       13       13  \n",
       "44   131193   131355   131526   131526   131526   131948   132089   132295  \n",
       "45    38155    38546    38937    38937    38937    40070    40312    40654  \n",
       "46    24781    24781    25728    25728    25728    25728    26972    28103  \n",
       "47     9007     9080     9122     9122     9122     9231     9325     9400  \n",
       "48    46012    46374    46795    46795    46795    47089    47089    47089  \n",
       "49     2954     2954     3055     3055     3055     3163     3170     3200  \n",
       "50  1115285  1119966  1123556  1125074  1126445  1128149  1129672  1131621  \n",
       "51    15267    15267    16296    16296    16296    17623    17623    18905  \n",
       "52   924307   925564   926918   928128   929038   929813   930748   932174  \n",
       "53       13       13       13       13       13       13       13       13  \n",
       "54   127187   127187   128289   128289   128289   128289   128289   128289  \n",
       "55     3473     3475     3485     3485     3485     3515     3524     3533  \n",
       "\n",
       "[16 rows x 780 columns]"
      ]
     },
     "execution_count": 178,
     "metadata": {},
     "output_type": "execute_result"
    }
   ],
   "source": [
    "series_chronologiques_COVID19_df[series_chronologiques_COVID19_df['Country/Region']==\"Canada\"]\n"
   ]
  },
  {
   "cell_type": "markdown",
   "metadata": {},
   "source": [
    "### Création d'une entrée supplémentaire spécifique pour le Québec (avec accent aigu) "
   ]
  },
  {
   "cell_type": "code",
   "execution_count": 179,
   "metadata": {},
   "outputs": [
    {
     "name": "stderr",
     "output_type": "stream",
     "text": [
      "/usr/local/lib/python3.8/dist-packages/pandas/core/indexing.py:1817: SettingWithCopyWarning: \n",
      "A value is trying to be set on a copy of a slice from a DataFrame.\n",
      "Try using .loc[row_indexer,col_indexer] = value instead\n",
      "\n",
      "See the caveats in the documentation: https://pandas.pydata.org/pandas-docs/stable/user_guide/indexing.html#returning-a-view-versus-a-copy\n",
      "  self._setitem_single_column(loc, value, pi)\n"
     ]
    },
    {
     "data": {
      "text/html": [
       "<div>\n",
       "<style scoped>\n",
       "    .dataframe tbody tr th:only-of-type {\n",
       "        vertical-align: middle;\n",
       "    }\n",
       "\n",
       "    .dataframe tbody tr th {\n",
       "        vertical-align: top;\n",
       "    }\n",
       "\n",
       "    .dataframe thead th {\n",
       "        text-align: right;\n",
       "    }\n",
       "</style>\n",
       "<table border=\"1\" class=\"dataframe\">\n",
       "  <thead>\n",
       "    <tr style=\"text-align: right;\">\n",
       "      <th></th>\n",
       "      <th>Province/State</th>\n",
       "      <th>Country/Region</th>\n",
       "      <th>1/22/20</th>\n",
       "      <th>1/23/20</th>\n",
       "      <th>1/24/20</th>\n",
       "      <th>1/25/20</th>\n",
       "      <th>1/26/20</th>\n",
       "      <th>1/27/20</th>\n",
       "      <th>1/28/20</th>\n",
       "      <th>1/29/20</th>\n",
       "      <th>...</th>\n",
       "      <th>2/28/22</th>\n",
       "      <th>3/1/22</th>\n",
       "      <th>3/2/22</th>\n",
       "      <th>3/3/22</th>\n",
       "      <th>3/4/22</th>\n",
       "      <th>3/5/22</th>\n",
       "      <th>3/6/22</th>\n",
       "      <th>3/7/22</th>\n",
       "      <th>3/8/22</th>\n",
       "      <th>3/9/22</th>\n",
       "    </tr>\n",
       "  </thead>\n",
       "  <tbody>\n",
       "    <tr>\n",
       "      <th>0</th>\n",
       "      <td>NaN</td>\n",
       "      <td>Afghanistan</td>\n",
       "      <td>0</td>\n",
       "      <td>0</td>\n",
       "      <td>0</td>\n",
       "      <td>0</td>\n",
       "      <td>0</td>\n",
       "      <td>0</td>\n",
       "      <td>0</td>\n",
       "      <td>0</td>\n",
       "      <td>...</td>\n",
       "      <td>173659</td>\n",
       "      <td>173879</td>\n",
       "      <td>174073</td>\n",
       "      <td>174214</td>\n",
       "      <td>174214</td>\n",
       "      <td>174331</td>\n",
       "      <td>174582</td>\n",
       "      <td>175000</td>\n",
       "      <td>175353</td>\n",
       "      <td>175525</td>\n",
       "    </tr>\n",
       "    <tr>\n",
       "      <th>1</th>\n",
       "      <td>NaN</td>\n",
       "      <td>Albania</td>\n",
       "      <td>0</td>\n",
       "      <td>0</td>\n",
       "      <td>0</td>\n",
       "      <td>0</td>\n",
       "      <td>0</td>\n",
       "      <td>0</td>\n",
       "      <td>0</td>\n",
       "      <td>0</td>\n",
       "      <td>...</td>\n",
       "      <td>271563</td>\n",
       "      <td>271702</td>\n",
       "      <td>271825</td>\n",
       "      <td>271825</td>\n",
       "      <td>272030</td>\n",
       "      <td>272030</td>\n",
       "      <td>272210</td>\n",
       "      <td>272250</td>\n",
       "      <td>272337</td>\n",
       "      <td>272412</td>\n",
       "    </tr>\n",
       "    <tr>\n",
       "      <th>2</th>\n",
       "      <td>NaN</td>\n",
       "      <td>Algeria</td>\n",
       "      <td>0</td>\n",
       "      <td>0</td>\n",
       "      <td>0</td>\n",
       "      <td>0</td>\n",
       "      <td>0</td>\n",
       "      <td>0</td>\n",
       "      <td>0</td>\n",
       "      <td>0</td>\n",
       "      <td>...</td>\n",
       "      <td>264936</td>\n",
       "      <td>265010</td>\n",
       "      <td>265079</td>\n",
       "      <td>265130</td>\n",
       "      <td>265186</td>\n",
       "      <td>265227</td>\n",
       "      <td>265265</td>\n",
       "      <td>265297</td>\n",
       "      <td>265323</td>\n",
       "      <td>265346</td>\n",
       "    </tr>\n",
       "    <tr>\n",
       "      <th>3</th>\n",
       "      <td>NaN</td>\n",
       "      <td>Andorra</td>\n",
       "      <td>0</td>\n",
       "      <td>0</td>\n",
       "      <td>0</td>\n",
       "      <td>0</td>\n",
       "      <td>0</td>\n",
       "      <td>0</td>\n",
       "      <td>0</td>\n",
       "      <td>0</td>\n",
       "      <td>...</td>\n",
       "      <td>37999</td>\n",
       "      <td>38165</td>\n",
       "      <td>38249</td>\n",
       "      <td>38342</td>\n",
       "      <td>38434</td>\n",
       "      <td>38434</td>\n",
       "      <td>38434</td>\n",
       "      <td>38620</td>\n",
       "      <td>38710</td>\n",
       "      <td>38794</td>\n",
       "    </tr>\n",
       "    <tr>\n",
       "      <th>4</th>\n",
       "      <td>NaN</td>\n",
       "      <td>Angola</td>\n",
       "      <td>0</td>\n",
       "      <td>0</td>\n",
       "      <td>0</td>\n",
       "      <td>0</td>\n",
       "      <td>0</td>\n",
       "      <td>0</td>\n",
       "      <td>0</td>\n",
       "      <td>0</td>\n",
       "      <td>...</td>\n",
       "      <td>98741</td>\n",
       "      <td>98746</td>\n",
       "      <td>98746</td>\n",
       "      <td>98746</td>\n",
       "      <td>98796</td>\n",
       "      <td>98796</td>\n",
       "      <td>98806</td>\n",
       "      <td>98806</td>\n",
       "      <td>98829</td>\n",
       "      <td>98855</td>\n",
       "    </tr>\n",
       "    <tr>\n",
       "      <th>...</th>\n",
       "      <td>...</td>\n",
       "      <td>...</td>\n",
       "      <td>...</td>\n",
       "      <td>...</td>\n",
       "      <td>...</td>\n",
       "      <td>...</td>\n",
       "      <td>...</td>\n",
       "      <td>...</td>\n",
       "      <td>...</td>\n",
       "      <td>...</td>\n",
       "      <td>...</td>\n",
       "      <td>...</td>\n",
       "      <td>...</td>\n",
       "      <td>...</td>\n",
       "      <td>...</td>\n",
       "      <td>...</td>\n",
       "      <td>...</td>\n",
       "      <td>...</td>\n",
       "      <td>...</td>\n",
       "      <td>...</td>\n",
       "      <td>...</td>\n",
       "    </tr>\n",
       "    <tr>\n",
       "      <th>280</th>\n",
       "      <td>NaN</td>\n",
       "      <td>Winter Olympics 2022</td>\n",
       "      <td>0</td>\n",
       "      <td>0</td>\n",
       "      <td>0</td>\n",
       "      <td>0</td>\n",
       "      <td>0</td>\n",
       "      <td>0</td>\n",
       "      <td>0</td>\n",
       "      <td>0</td>\n",
       "      <td>...</td>\n",
       "      <td>521</td>\n",
       "      <td>524</td>\n",
       "      <td>524</td>\n",
       "      <td>526</td>\n",
       "      <td>530</td>\n",
       "      <td>530</td>\n",
       "      <td>532</td>\n",
       "      <td>532</td>\n",
       "      <td>533</td>\n",
       "      <td>533</td>\n",
       "    </tr>\n",
       "    <tr>\n",
       "      <th>281</th>\n",
       "      <td>NaN</td>\n",
       "      <td>Yemen</td>\n",
       "      <td>0</td>\n",
       "      <td>0</td>\n",
       "      <td>0</td>\n",
       "      <td>0</td>\n",
       "      <td>0</td>\n",
       "      <td>0</td>\n",
       "      <td>0</td>\n",
       "      <td>0</td>\n",
       "      <td>...</td>\n",
       "      <td>11771</td>\n",
       "      <td>11771</td>\n",
       "      <td>11771</td>\n",
       "      <td>11772</td>\n",
       "      <td>11774</td>\n",
       "      <td>11775</td>\n",
       "      <td>11777</td>\n",
       "      <td>11781</td>\n",
       "      <td>11781</td>\n",
       "      <td>11781</td>\n",
       "    </tr>\n",
       "    <tr>\n",
       "      <th>282</th>\n",
       "      <td>NaN</td>\n",
       "      <td>Zambia</td>\n",
       "      <td>0</td>\n",
       "      <td>0</td>\n",
       "      <td>0</td>\n",
       "      <td>0</td>\n",
       "      <td>0</td>\n",
       "      <td>0</td>\n",
       "      <td>0</td>\n",
       "      <td>0</td>\n",
       "      <td>...</td>\n",
       "      <td>312750</td>\n",
       "      <td>312970</td>\n",
       "      <td>313203</td>\n",
       "      <td>313394</td>\n",
       "      <td>313613</td>\n",
       "      <td>313744</td>\n",
       "      <td>313821</td>\n",
       "      <td>313910</td>\n",
       "      <td>314159</td>\n",
       "      <td>314641</td>\n",
       "    </tr>\n",
       "    <tr>\n",
       "      <th>283</th>\n",
       "      <td>NaN</td>\n",
       "      <td>Zimbabwe</td>\n",
       "      <td>0</td>\n",
       "      <td>0</td>\n",
       "      <td>0</td>\n",
       "      <td>0</td>\n",
       "      <td>0</td>\n",
       "      <td>0</td>\n",
       "      <td>0</td>\n",
       "      <td>0</td>\n",
       "      <td>...</td>\n",
       "      <td>236380</td>\n",
       "      <td>236871</td>\n",
       "      <td>237503</td>\n",
       "      <td>237503</td>\n",
       "      <td>238739</td>\n",
       "      <td>239019</td>\n",
       "      <td>239209</td>\n",
       "      <td>239710</td>\n",
       "      <td>240343</td>\n",
       "      <td>240343</td>\n",
       "    </tr>\n",
       "    <tr>\n",
       "      <th>284</th>\n",
       "      <td>NaN</td>\n",
       "      <td>Québec</td>\n",
       "      <td>0</td>\n",
       "      <td>0</td>\n",
       "      <td>0</td>\n",
       "      <td>0</td>\n",
       "      <td>0</td>\n",
       "      <td>0</td>\n",
       "      <td>0</td>\n",
       "      <td>0</td>\n",
       "      <td>...</td>\n",
       "      <td>921875</td>\n",
       "      <td>922677</td>\n",
       "      <td>924307</td>\n",
       "      <td>925564</td>\n",
       "      <td>926918</td>\n",
       "      <td>928128</td>\n",
       "      <td>929038</td>\n",
       "      <td>929813</td>\n",
       "      <td>930748</td>\n",
       "      <td>932174</td>\n",
       "    </tr>\n",
       "  </tbody>\n",
       "</table>\n",
       "<p>285 rows × 780 columns</p>\n",
       "</div>"
      ],
      "text/plain": [
       "    Province/State        Country/Region  1/22/20  1/23/20  1/24/20  1/25/20  \\\n",
       "0              NaN           Afghanistan        0        0        0        0   \n",
       "1              NaN               Albania        0        0        0        0   \n",
       "2              NaN               Algeria        0        0        0        0   \n",
       "3              NaN               Andorra        0        0        0        0   \n",
       "4              NaN                Angola        0        0        0        0   \n",
       "..             ...                   ...      ...      ...      ...      ...   \n",
       "280            NaN  Winter Olympics 2022        0        0        0        0   \n",
       "281            NaN                 Yemen        0        0        0        0   \n",
       "282            NaN                Zambia        0        0        0        0   \n",
       "283            NaN              Zimbabwe        0        0        0        0   \n",
       "284            NaN                Québec        0        0        0        0   \n",
       "\n",
       "     1/26/20  1/27/20  1/28/20  1/29/20  ...  2/28/22  3/1/22  3/2/22  3/3/22  \\\n",
       "0          0        0        0        0  ...   173659  173879  174073  174214   \n",
       "1          0        0        0        0  ...   271563  271702  271825  271825   \n",
       "2          0        0        0        0  ...   264936  265010  265079  265130   \n",
       "3          0        0        0        0  ...    37999   38165   38249   38342   \n",
       "4          0        0        0        0  ...    98741   98746   98746   98746   \n",
       "..       ...      ...      ...      ...  ...      ...     ...     ...     ...   \n",
       "280        0        0        0        0  ...      521     524     524     526   \n",
       "281        0        0        0        0  ...    11771   11771   11771   11772   \n",
       "282        0        0        0        0  ...   312750  312970  313203  313394   \n",
       "283        0        0        0        0  ...   236380  236871  237503  237503   \n",
       "284        0        0        0        0  ...   921875  922677  924307  925564   \n",
       "\n",
       "     3/4/22  3/5/22  3/6/22  3/7/22  3/8/22  3/9/22  \n",
       "0    174214  174331  174582  175000  175353  175525  \n",
       "1    272030  272030  272210  272250  272337  272412  \n",
       "2    265186  265227  265265  265297  265323  265346  \n",
       "3     38434   38434   38434   38620   38710   38794  \n",
       "4     98796   98796   98806   98806   98829   98855  \n",
       "..      ...     ...     ...     ...     ...     ...  \n",
       "280     530     530     532     532     533     533  \n",
       "281   11774   11775   11777   11781   11781   11781  \n",
       "282  313613  313744  313821  313910  314159  314641  \n",
       "283  238739  239019  239209  239710  240343  240343  \n",
       "284  926918  928128  929038  929813  930748  932174  \n",
       "\n",
       "[285 rows x 780 columns]"
      ]
     },
     "execution_count": 179,
     "metadata": {},
     "output_type": "execute_result"
    }
   ],
   "source": [
    "quebec_df = series_chronologiques_COVID19_df[(series_chronologiques_COVID19_df['Country/Region']==\"Canada\") & \n",
    "                                (series_chronologiques_COVID19_df['Province/State']==\"Quebec\")]\n",
    "\n",
    "quebec_df.loc[52,'Country/Region'] = 'Québec'\n",
    "quebec_df.loc[52,'Province/State'] = np.nan\n",
    "\n",
    "series_chronologiques_COVID19_df = series_chronologiques_COVID19_df.append(quebec_df , ignore_index=True)\n",
    "series_chronologiques_COVID19_df\n"
   ]
  },
  {
   "cell_type": "markdown",
   "metadata": {},
   "source": [
    "### Regroupement des données des états et provinces\n",
    "**Note** : Pour avoir un total par pays, nous allons regrouper les états et les provinces d'un même pays. Utilisaton des fonctions `.groupby()` et `.sum()`. Aussi `.reset_index()`"
   ]
  },
  {
   "cell_type": "code",
   "execution_count": 180,
   "metadata": {},
   "outputs": [],
   "source": [
    "series_chronologiques_COVID19_df = series_chronologiques_COVID19_df.groupby(['Country/Region']).sum().reset_index()\n"
   ]
  },
  {
   "cell_type": "markdown",
   "metadata": {},
   "source": [
    "Vérifions que le regroupement est bien effectué, avec les données sur le Canada."
   ]
  },
  {
   "cell_type": "code",
   "execution_count": 181,
   "metadata": {},
   "outputs": [
    {
     "data": {
      "text/html": [
       "<div>\n",
       "<style scoped>\n",
       "    .dataframe tbody tr th:only-of-type {\n",
       "        vertical-align: middle;\n",
       "    }\n",
       "\n",
       "    .dataframe tbody tr th {\n",
       "        vertical-align: top;\n",
       "    }\n",
       "\n",
       "    .dataframe thead th {\n",
       "        text-align: right;\n",
       "    }\n",
       "</style>\n",
       "<table border=\"1\" class=\"dataframe\">\n",
       "  <thead>\n",
       "    <tr style=\"text-align: right;\">\n",
       "      <th></th>\n",
       "      <th>Country/Region</th>\n",
       "      <th>1/22/20</th>\n",
       "      <th>1/23/20</th>\n",
       "      <th>1/24/20</th>\n",
       "      <th>1/25/20</th>\n",
       "      <th>1/26/20</th>\n",
       "      <th>1/27/20</th>\n",
       "      <th>1/28/20</th>\n",
       "      <th>1/29/20</th>\n",
       "      <th>1/30/20</th>\n",
       "      <th>...</th>\n",
       "      <th>2/28/22</th>\n",
       "      <th>3/1/22</th>\n",
       "      <th>3/2/22</th>\n",
       "      <th>3/3/22</th>\n",
       "      <th>3/4/22</th>\n",
       "      <th>3/5/22</th>\n",
       "      <th>3/6/22</th>\n",
       "      <th>3/7/22</th>\n",
       "      <th>3/8/22</th>\n",
       "      <th>3/9/22</th>\n",
       "    </tr>\n",
       "  </thead>\n",
       "  <tbody>\n",
       "    <tr>\n",
       "      <th>33</th>\n",
       "      <td>Canada</td>\n",
       "      <td>0</td>\n",
       "      <td>2</td>\n",
       "      <td>3</td>\n",
       "      <td>3</td>\n",
       "      <td>3</td>\n",
       "      <td>3</td>\n",
       "      <td>4</td>\n",
       "      <td>4</td>\n",
       "      <td>4</td>\n",
       "      <td>...</td>\n",
       "      <td>3302400</td>\n",
       "      <td>3307144</td>\n",
       "      <td>3313423</td>\n",
       "      <td>3321281</td>\n",
       "      <td>3331281</td>\n",
       "      <td>3334009</td>\n",
       "      <td>3336290</td>\n",
       "      <td>3344302</td>\n",
       "      <td>3349164</td>\n",
       "      <td>3356440</td>\n",
       "    </tr>\n",
       "  </tbody>\n",
       "</table>\n",
       "<p>1 rows × 779 columns</p>\n",
       "</div>"
      ],
      "text/plain": [
       "   Country/Region  1/22/20  1/23/20  1/24/20  1/25/20  1/26/20  1/27/20  \\\n",
       "33         Canada        0        2        3        3        3        3   \n",
       "\n",
       "    1/28/20  1/29/20  1/30/20  ...  2/28/22   3/1/22   3/2/22   3/3/22  \\\n",
       "33        4        4        4  ...  3302400  3307144  3313423  3321281   \n",
       "\n",
       "     3/4/22   3/5/22   3/6/22   3/7/22   3/8/22   3/9/22  \n",
       "33  3331281  3334009  3336290  3344302  3349164  3356440  \n",
       "\n",
       "[1 rows x 779 columns]"
      ]
     },
     "execution_count": 181,
     "metadata": {},
     "output_type": "execute_result"
    }
   ],
   "source": [
    "series_chronologiques_COVID19_df[series_chronologiques_COVID19_df['Country/Region']==\"Canada\"]\n"
   ]
  },
  {
   "cell_type": "code",
   "execution_count": 182,
   "metadata": {},
   "outputs": [
    {
     "data": {
      "text/html": [
       "<div>\n",
       "<style scoped>\n",
       "    .dataframe tbody tr th:only-of-type {\n",
       "        vertical-align: middle;\n",
       "    }\n",
       "\n",
       "    .dataframe tbody tr th {\n",
       "        vertical-align: top;\n",
       "    }\n",
       "\n",
       "    .dataframe thead th {\n",
       "        text-align: right;\n",
       "    }\n",
       "</style>\n",
       "<table border=\"1\" class=\"dataframe\">\n",
       "  <thead>\n",
       "    <tr style=\"text-align: right;\">\n",
       "      <th></th>\n",
       "      <th>Country/Region</th>\n",
       "      <th>1/22/20</th>\n",
       "      <th>1/23/20</th>\n",
       "      <th>1/24/20</th>\n",
       "      <th>1/25/20</th>\n",
       "      <th>1/26/20</th>\n",
       "      <th>1/27/20</th>\n",
       "      <th>1/28/20</th>\n",
       "      <th>1/29/20</th>\n",
       "      <th>1/30/20</th>\n",
       "      <th>...</th>\n",
       "      <th>2/28/22</th>\n",
       "      <th>3/1/22</th>\n",
       "      <th>3/2/22</th>\n",
       "      <th>3/3/22</th>\n",
       "      <th>3/4/22</th>\n",
       "      <th>3/5/22</th>\n",
       "      <th>3/6/22</th>\n",
       "      <th>3/7/22</th>\n",
       "      <th>3/8/22</th>\n",
       "      <th>3/9/22</th>\n",
       "    </tr>\n",
       "  </thead>\n",
       "  <tbody>\n",
       "    <tr>\n",
       "      <th>144</th>\n",
       "      <td>Québec</td>\n",
       "      <td>0</td>\n",
       "      <td>0</td>\n",
       "      <td>0</td>\n",
       "      <td>0</td>\n",
       "      <td>0</td>\n",
       "      <td>0</td>\n",
       "      <td>0</td>\n",
       "      <td>0</td>\n",
       "      <td>0</td>\n",
       "      <td>...</td>\n",
       "      <td>921875</td>\n",
       "      <td>922677</td>\n",
       "      <td>924307</td>\n",
       "      <td>925564</td>\n",
       "      <td>926918</td>\n",
       "      <td>928128</td>\n",
       "      <td>929038</td>\n",
       "      <td>929813</td>\n",
       "      <td>930748</td>\n",
       "      <td>932174</td>\n",
       "    </tr>\n",
       "  </tbody>\n",
       "</table>\n",
       "<p>1 rows × 779 columns</p>\n",
       "</div>"
      ],
      "text/plain": [
       "    Country/Region  1/22/20  1/23/20  1/24/20  1/25/20  1/26/20  1/27/20  \\\n",
       "144         Québec        0        0        0        0        0        0   \n",
       "\n",
       "     1/28/20  1/29/20  1/30/20  ...  2/28/22  3/1/22  3/2/22  3/3/22  3/4/22  \\\n",
       "144        0        0        0  ...   921875  922677  924307  925564  926918   \n",
       "\n",
       "     3/5/22  3/6/22  3/7/22  3/8/22  3/9/22  \n",
       "144  928128  929038  929813  930748  932174  \n",
       "\n",
       "[1 rows x 779 columns]"
      ]
     },
     "execution_count": 182,
     "metadata": {},
     "output_type": "execute_result"
    }
   ],
   "source": [
    "series = series_chronologiques_COVID19_df[series_chronologiques_COVID19_df['Country/Region']==\"Québec\"]\n",
    "series\n"
   ]
  },
  {
   "cell_type": "code",
   "execution_count": 183,
   "metadata": {},
   "outputs": [
    {
     "data": {
      "text/html": [
       "<div>\n",
       "<style scoped>\n",
       "    .dataframe tbody tr th:only-of-type {\n",
       "        vertical-align: middle;\n",
       "    }\n",
       "\n",
       "    .dataframe tbody tr th {\n",
       "        vertical-align: top;\n",
       "    }\n",
       "\n",
       "    .dataframe thead th {\n",
       "        text-align: right;\n",
       "    }\n",
       "</style>\n",
       "<table border=\"1\" class=\"dataframe\">\n",
       "  <thead>\n",
       "    <tr style=\"text-align: right;\">\n",
       "      <th></th>\n",
       "      <th>Country/Region</th>\n",
       "      <th>1/22/20</th>\n",
       "      <th>1/23/20</th>\n",
       "      <th>1/24/20</th>\n",
       "      <th>1/25/20</th>\n",
       "      <th>1/26/20</th>\n",
       "      <th>1/27/20</th>\n",
       "      <th>1/28/20</th>\n",
       "      <th>1/29/20</th>\n",
       "      <th>1/30/20</th>\n",
       "      <th>...</th>\n",
       "      <th>2/28/22</th>\n",
       "      <th>3/1/22</th>\n",
       "      <th>3/2/22</th>\n",
       "      <th>3/3/22</th>\n",
       "      <th>3/4/22</th>\n",
       "      <th>3/5/22</th>\n",
       "      <th>3/6/22</th>\n",
       "      <th>3/7/22</th>\n",
       "      <th>3/8/22</th>\n",
       "      <th>3/9/22</th>\n",
       "    </tr>\n",
       "  </thead>\n",
       "  <tbody>\n",
       "  </tbody>\n",
       "</table>\n",
       "<p>0 rows × 779 columns</p>\n",
       "</div>"
      ],
      "text/plain": [
       "Empty DataFrame\n",
       "Columns: [Country/Region, 1/22/20, 1/23/20, 1/24/20, 1/25/20, 1/26/20, 1/27/20, 1/28/20, 1/29/20, 1/30/20, 1/31/20, 2/1/20, 2/2/20, 2/3/20, 2/4/20, 2/5/20, 2/6/20, 2/7/20, 2/8/20, 2/9/20, 2/10/20, 2/11/20, 2/12/20, 2/13/20, 2/14/20, 2/15/20, 2/16/20, 2/17/20, 2/18/20, 2/19/20, 2/20/20, 2/21/20, 2/22/20, 2/23/20, 2/24/20, 2/25/20, 2/26/20, 2/27/20, 2/28/20, 2/29/20, 3/1/20, 3/2/20, 3/3/20, 3/4/20, 3/5/20, 3/6/20, 3/7/20, 3/8/20, 3/9/20, 3/10/20, 3/11/20, 3/12/20, 3/13/20, 3/14/20, 3/15/20, 3/16/20, 3/17/20, 3/18/20, 3/19/20, 3/20/20, 3/21/20, 3/22/20, 3/23/20, 3/24/20, 3/25/20, 3/26/20, 3/27/20, 3/28/20, 3/29/20, 3/30/20, 3/31/20, 4/1/20, 4/2/20, 4/3/20, 4/4/20, 4/5/20, 4/6/20, 4/7/20, 4/8/20, 4/9/20, 4/10/20, 4/11/20, 4/12/20, 4/13/20, 4/14/20, 4/15/20, 4/16/20, 4/17/20, 4/18/20, 4/19/20, 4/20/20, 4/21/20, 4/22/20, 4/23/20, 4/24/20, 4/25/20, 4/26/20, 4/27/20, 4/28/20, 4/29/20, ...]\n",
       "Index: []\n",
       "\n",
       "[0 rows x 779 columns]"
      ]
     },
     "execution_count": 183,
     "metadata": {},
     "output_type": "execute_result"
    }
   ],
   "source": [
    "# Correction d'une erreur dans les données du 4 avril 2020\n",
    "series_chronologiques_COVID19_df.loc[140,'4/4/20']=6997\n",
    "# Correction des données du 25 et 26 décembre 2020\n",
    "series_chronologiques_COVID19_df.loc[140,'12/25/20']=185872+2235\n",
    "series_chronologiques_COVID19_df.loc[140,'12/26/20']=185872+4492\n",
    "# 2 808 nouveaux cas pour le 31 décembre, 1 986 pour le 1er janvier et de 2 869 pour le 2 janvier, \n",
    "series_chronologiques_COVID19_df.loc[140,'12/31/20']=199822+2808\n",
    "series_chronologiques_COVID19_df.loc[140,'1/1/21']=199822+2808+1986\n",
    "series_chronologiques_COVID19_df.loc[140,'1/2/21']=199822+2808+1986+2869\n",
    "series_chronologiques_COVID19_df[series_chronologiques_COVID19_df['Country/Region']==\"Quebec\"]\n"
   ]
  },
  {
   "cell_type": "markdown",
   "metadata": {},
   "source": [
    "# Modèles prédictifs\n",
    "\n"
   ]
  },
  {
   "cell_type": "markdown",
   "metadata": {},
   "source": [
    "## L'évolution de l'épidémie au Québec\n",
    "Pour des raisons évidente d'intérêt, je me concentrerai sur la prévision de l'évolution de l'épidémie au Québec\n",
    "\n",
    "Rappel de la série chonologique "
   ]
  },
  {
   "cell_type": "code",
   "execution_count": 184,
   "metadata": {},
   "outputs": [
    {
     "name": "stdout",
     "output_type": "stream",
     "text": [
      "['Country/Region', '1/22/20', '1/23/20', '1/24/20', '1/25/20', '1/26/20', '1/27/20', '1/28/20', '1/29/20', '1/30/20', '1/31/20', '2/1/20', '2/2/20', '2/3/20', '2/4/20', '2/5/20', '2/6/20', '2/7/20', '2/8/20', '2/9/20', '2/10/20', '2/11/20', '2/12/20', '2/13/20', '2/14/20', '2/15/20', '2/16/20', '2/17/20', '2/18/20', '2/19/20', '2/20/20', '2/21/20', '2/22/20', '2/23/20', '2/24/20', '2/25/20', '2/26/20', '2/27/20', '2/28/20', '2/29/20', '3/1/20', '3/2/20', '3/3/20', '3/4/20', '3/5/20', '3/6/20', '3/7/20', '3/8/20', '3/9/20', '3/10/20', '3/11/20', '3/12/20', '3/13/20', '3/14/20', '3/15/20', '3/16/20', '3/17/20', '3/18/20', '3/19/20', '3/20/20', '3/21/20', '3/22/20', '3/23/20', '3/24/20', '3/25/20', '3/26/20', '3/27/20', '3/28/20', '3/29/20', '3/30/20', '3/31/20', '4/1/20', '4/2/20', '4/3/20', '4/4/20', '4/5/20', '4/6/20', '4/7/20', '4/8/20', '4/9/20', '4/10/20', '4/11/20', '4/12/20', '4/13/20', '4/14/20', '4/15/20', '4/16/20', '4/17/20', '4/18/20', '4/19/20', '4/20/20', '4/21/20', '4/22/20', '4/23/20', '4/24/20', '4/25/20', '4/26/20', '4/27/20', '4/28/20', '4/29/20', '4/30/20', '5/1/20', '5/2/20', '5/3/20', '5/4/20', '5/5/20', '5/6/20', '5/7/20', '5/8/20', '5/9/20', '5/10/20', '5/11/20', '5/12/20', '5/13/20', '5/14/20', '5/15/20', '5/16/20', '5/17/20', '5/18/20', '5/19/20', '5/20/20', '5/21/20', '5/22/20', '5/23/20', '5/24/20', '5/25/20', '5/26/20', '5/27/20', '5/28/20', '5/29/20', '5/30/20', '5/31/20', '6/1/20', '6/2/20', '6/3/20', '6/4/20', '6/5/20', '6/6/20', '6/7/20', '6/8/20', '6/9/20', '6/10/20', '6/11/20', '6/12/20', '6/13/20', '6/14/20', '6/15/20', '6/16/20', '6/17/20', '6/18/20', '6/19/20', '6/20/20', '6/21/20', '6/22/20', '6/23/20', '6/24/20', '6/25/20', '6/26/20', '6/27/20', '6/28/20', '6/29/20', '6/30/20', '7/1/20', '7/2/20', '7/3/20', '7/4/20', '7/5/20', '7/6/20', '7/7/20', '7/8/20', '7/9/20', '7/10/20', '7/11/20', '7/12/20', '7/13/20', '7/14/20', '7/15/20', '7/16/20', '7/17/20', '7/18/20', '7/19/20', '7/20/20', '7/21/20', '7/22/20', '7/23/20', '7/24/20', '7/25/20', '7/26/20', '7/27/20', '7/28/20', '7/29/20', '7/30/20', '7/31/20', '8/1/20', '8/2/20', '8/3/20', '8/4/20', '8/5/20', '8/6/20', '8/7/20', '8/8/20', '8/9/20', '8/10/20', '8/11/20', '8/12/20', '8/13/20', '8/14/20', '8/15/20', '8/16/20', '8/17/20', '8/18/20', '8/19/20', '8/20/20', '8/21/20', '8/22/20', '8/23/20', '8/24/20', '8/25/20', '8/26/20', '8/27/20', '8/28/20', '8/29/20', '8/30/20', '8/31/20', '9/1/20', '9/2/20', '9/3/20', '9/4/20', '9/5/20', '9/6/20', '9/7/20', '9/8/20', '9/9/20', '9/10/20', '9/11/20', '9/12/20', '9/13/20', '9/14/20', '9/15/20', '9/16/20', '9/17/20', '9/18/20', '9/19/20', '9/20/20', '9/21/20', '9/22/20', '9/23/20', '9/24/20', '9/25/20', '9/26/20', '9/27/20', '9/28/20', '9/29/20', '9/30/20', '10/1/20', '10/2/20', '10/3/20', '10/4/20', '10/5/20', '10/6/20', '10/7/20', '10/8/20', '10/9/20', '10/10/20', '10/11/20', '10/12/20', '10/13/20', '10/14/20', '10/15/20', '10/16/20', '10/17/20', '10/18/20', '10/19/20', '10/20/20', '10/21/20', '10/22/20', '10/23/20', '10/24/20', '10/25/20', '10/26/20', '10/27/20', '10/28/20', '10/29/20', '10/30/20', '10/31/20', '11/1/20', '11/2/20', '11/3/20', '11/4/20', '11/5/20', '11/6/20', '11/7/20', '11/8/20', '11/9/20', '11/10/20', '11/11/20', '11/12/20', '11/13/20', '11/14/20', '11/15/20', '11/16/20', '11/17/20', '11/18/20', '11/19/20', '11/20/20', '11/21/20', '11/22/20', '11/23/20', '11/24/20', '11/25/20', '11/26/20', '11/27/20', '11/28/20', '11/29/20', '11/30/20', '12/1/20', '12/2/20', '12/3/20', '12/4/20', '12/5/20', '12/6/20', '12/7/20', '12/8/20', '12/9/20', '12/10/20', '12/11/20', '12/12/20', '12/13/20', '12/14/20', '12/15/20', '12/16/20', '12/17/20', '12/18/20', '12/19/20', '12/20/20', '12/21/20', '12/22/20', '12/23/20', '12/24/20', '12/25/20', '12/26/20', '12/27/20', '12/28/20', '12/29/20', '12/30/20', '12/31/20', '1/1/21', '1/2/21', '1/3/21', '1/4/21', '1/5/21', '1/6/21', '1/7/21', '1/8/21', '1/9/21', '1/10/21', '1/11/21', '1/12/21', '1/13/21', '1/14/21', '1/15/21', '1/16/21', '1/17/21', '1/18/21', '1/19/21', '1/20/21', '1/21/21', '1/22/21', '1/23/21', '1/24/21', '1/25/21', '1/26/21', '1/27/21', '1/28/21', '1/29/21', '1/30/21', '1/31/21', '2/1/21', '2/2/21', '2/3/21', '2/4/21', '2/5/21', '2/6/21', '2/7/21', '2/8/21', '2/9/21', '2/10/21', '2/11/21', '2/12/21', '2/13/21', '2/14/21', '2/15/21', '2/16/21', '2/17/21', '2/18/21', '2/19/21', '2/20/21', '2/21/21', '2/22/21', '2/23/21', '2/24/21', '2/25/21', '2/26/21', '2/27/21', '2/28/21', '3/1/21', '3/2/21', '3/3/21', '3/4/21', '3/5/21', '3/6/21', '3/7/21', '3/8/21', '3/9/21', '3/10/21', '3/11/21', '3/12/21', '3/13/21', '3/14/21', '3/15/21', '3/16/21', '3/17/21', '3/18/21', '3/19/21', '3/20/21', '3/21/21', '3/22/21', '3/23/21', '3/24/21', '3/25/21', '3/26/21', '3/27/21', '3/28/21', '3/29/21', '3/30/21', '3/31/21', '4/1/21', '4/2/21', '4/3/21', '4/4/21', '4/5/21', '4/6/21', '4/7/21', '4/8/21', '4/9/21', '4/10/21', '4/11/21', '4/12/21', '4/13/21', '4/14/21', '4/15/21', '4/16/21', '4/17/21', '4/18/21', '4/19/21', '4/20/21', '4/21/21', '4/22/21', '4/23/21', '4/24/21', '4/25/21', '4/26/21', '4/27/21', '4/28/21', '4/29/21', '4/30/21', '5/1/21', '5/2/21', '5/3/21', '5/4/21', '5/5/21', '5/6/21', '5/7/21', '5/8/21', '5/9/21', '5/10/21', '5/11/21', '5/12/21', '5/13/21', '5/14/21', '5/15/21', '5/16/21', '5/17/21', '5/18/21', '5/19/21', '5/20/21', '5/21/21', '5/22/21', '5/23/21', '5/24/21', '5/25/21', '5/26/21', '5/27/21', '5/28/21', '5/29/21', '5/30/21', '5/31/21', '6/1/21', '6/2/21', '6/3/21', '6/4/21', '6/5/21', '6/6/21', '6/7/21', '6/8/21', '6/9/21', '6/10/21', '6/11/21', '6/12/21', '6/13/21', '6/14/21', '6/15/21', '6/16/21', '6/17/21', '6/18/21', '6/19/21', '6/20/21', '6/21/21', '6/22/21', '6/23/21', '6/24/21', '6/25/21', '6/26/21', '6/27/21', '6/28/21', '6/29/21', '6/30/21', '7/1/21', '7/2/21', '7/3/21', '7/4/21', '7/5/21', '7/6/21', '7/7/21', '7/8/21', '7/9/21', '7/10/21', '7/11/21', '7/12/21', '7/13/21', '7/14/21', '7/15/21', '7/16/21', '7/17/21', '7/18/21', '7/19/21', '7/20/21', '7/21/21', '7/22/21', '7/23/21', '7/24/21', '7/25/21', '7/26/21', '7/27/21', '7/28/21', '7/29/21', '7/30/21', '7/31/21', '8/1/21', '8/2/21', '8/3/21', '8/4/21', '8/5/21', '8/6/21', '8/7/21', '8/8/21', '8/9/21', '8/10/21', '8/11/21', '8/12/21', '8/13/21', '8/14/21', '8/15/21', '8/16/21', '8/17/21', '8/18/21', '8/19/21', '8/20/21', '8/21/21', '8/22/21', '8/23/21', '8/24/21', '8/25/21', '8/26/21', '8/27/21', '8/28/21', '8/29/21', '8/30/21', '8/31/21', '9/1/21', '9/2/21', '9/3/21', '9/4/21', '9/5/21', '9/6/21', '9/7/21', '9/8/21', '9/9/21', '9/10/21', '9/11/21', '9/12/21', '9/13/21', '9/14/21', '9/15/21', '9/16/21', '9/17/21', '9/18/21', '9/19/21', '9/20/21', '9/21/21', '9/22/21', '9/23/21', '9/24/21', '9/25/21', '9/26/21', '9/27/21', '9/28/21', '9/29/21', '9/30/21', '10/1/21', '10/2/21', '10/3/21', '10/4/21', '10/5/21', '10/6/21', '10/7/21', '10/8/21', '10/9/21', '10/10/21', '10/11/21', '10/12/21', '10/13/21', '10/14/21', '10/15/21', '10/16/21', '10/17/21', '10/18/21', '10/19/21', '10/20/21', '10/21/21', '10/22/21', '10/23/21', '10/24/21', '10/25/21', '10/26/21', '10/27/21', '10/28/21', '10/29/21', '10/30/21', '10/31/21', '11/1/21', '11/2/21', '11/3/21', '11/4/21', '11/5/21', '11/6/21', '11/7/21', '11/8/21', '11/9/21', '11/10/21', '11/11/21', '11/12/21', '11/13/21', '11/14/21', '11/15/21', '11/16/21', '11/17/21', '11/18/21', '11/19/21', '11/20/21', '11/21/21', '11/22/21', '11/23/21', '11/24/21', '11/25/21', '11/26/21', '11/27/21', '11/28/21', '11/29/21', '11/30/21', '12/1/21', '12/2/21', '12/3/21', '12/4/21', '12/5/21', '12/6/21', '12/7/21', '12/8/21', '12/9/21', '12/10/21', '12/11/21', '12/12/21', '12/13/21', '12/14/21', '12/15/21', '12/16/21', '12/17/21', '12/18/21', '12/19/21', '12/20/21', '12/21/21', '12/22/21', '12/23/21', '12/24/21', '12/25/21', '12/26/21', '12/27/21', '12/28/21', '12/29/21', '12/30/21', '12/31/21', '1/1/22', '1/2/22', '1/3/22', '1/4/22', '1/5/22', '1/6/22', '1/7/22', '1/8/22', '1/9/22', '1/10/22', '1/11/22', '1/12/22', '1/13/22', '1/14/22', '1/15/22', '1/16/22', '1/17/22', '1/18/22', '1/19/22', '1/20/22', '1/21/22', '1/22/22', '1/23/22', '1/24/22', '1/25/22', '1/26/22', '1/27/22', '1/28/22', '1/29/22', '1/30/22', '1/31/22', '2/1/22', '2/2/22', '2/3/22', '2/4/22', '2/5/22', '2/6/22', '2/7/22', '2/8/22', '2/9/22', '2/10/22', '2/11/22', '2/12/22', '2/13/22', '2/14/22', '2/15/22', '2/16/22', '2/17/22', '2/18/22', '2/19/22', '2/20/22', '2/21/22', '2/22/22', '2/23/22', '2/24/22', '2/25/22', '2/26/22', '2/27/22', '2/28/22', '3/1/22', '3/2/22', '3/3/22', '3/4/22', '3/5/22', '3/6/22', '3/7/22', '3/8/22', '3/9/22']\n"
     ]
    }
   ],
   "source": [
    "print(list(series))\n"
   ]
  },
  {
   "cell_type": "code",
   "execution_count": 185,
   "metadata": {},
   "outputs": [
    {
     "name": "stdout",
     "output_type": "stream",
     "text": [
      "    Country/Region  1/22/20  1/23/20  1/24/20  1/25/20  1/26/20  1/27/20  \\\n",
      "144         Québec        0        0        0        0        0        0   \n",
      "\n",
      "     1/28/20  1/29/20  1/30/20  ...  2/28/22  3/1/22  3/2/22  3/3/22  3/4/22  \\\n",
      "144        0        0        0  ...   921875  922677  924307  925564  926918   \n",
      "\n",
      "     3/5/22  3/6/22  3/7/22  3/8/22  3/9/22  \n",
      "144  928128  929038  929813  930748  932174  \n",
      "\n",
      "[1 rows x 779 columns]\n",
      "------------------------------------------------------------------------------------------\n",
      "values_list[-10:]:\n",
      "[921875, 922677, 924307, 925564, 926918, 928128, 929038, 929813, 930748, 932174]\n",
      "******************************************************************************************\n",
      "dates_list[-10:]:\n",
      "[datetime.datetime(2022, 2, 28, 0, 0), datetime.datetime(2022, 3, 1, 0, 0), datetime.datetime(2022, 3, 2, 0, 0), datetime.datetime(2022, 3, 3, 0, 0), datetime.datetime(2022, 3, 4, 0, 0), datetime.datetime(2022, 3, 5, 0, 0), datetime.datetime(2022, 3, 6, 0, 0), datetime.datetime(2022, 3, 7, 0, 0), datetime.datetime(2022, 3, 8, 0, 0), datetime.datetime(2022, 3, 9, 0, 0)]\n",
      "------------------------------------------------------------------------------------------\n",
      "series[-10:]:\n",
      "[921875, 922677, 924307, 925564, 926918, 928128, 929038, 929813, 930748, 932174]\n",
      "------------------------------------------------------------------------------------------\n",
      "series.index[-10:]:\n",
      "[Timestamp('2022-02-28 00:00:00'), Timestamp('2022-03-01 00:00:00'), Timestamp('2022-03-02 00:00:00'), Timestamp('2022-03-03 00:00:00'), Timestamp('2022-03-04 00:00:00'), Timestamp('2022-03-05 00:00:00'), Timestamp('2022-03-06 00:00:00'), Timestamp('2022-03-07 00:00:00'), Timestamp('2022-03-08 00:00:00'), Timestamp('2022-03-09 00:00:00')]\n",
      "******************************************************************************************\n"
     ]
    }
   ],
   "source": [
    "def parser(x):\n",
    "    return pd.datetime.strptime(x, '%m/%d/%y')\n",
    "\n",
    "series_raw = series_chronologiques_COVID19_df[series_chronologiques_COVID19_df['Country/Region']=='Québec']\n",
    "print(series_raw)\n",
    "dates_list = [parser(x) for x in list(series_raw.columns[1:])]\n",
    "values_list = list((series_raw.values)[0][1:])\n",
    "# Ici au besoin, on peut ajouter manuellement un nouveau point de données\n",
    "# lignes commentées\n",
    "# values_list += [15857]\n",
    "# dates_list += [parser('4/16/20')]                     \n",
    "print(\"-\"*90)\n",
    "print(\"values_list[-10:]:\")\n",
    "print(list(values_list[-10:]))\n",
    "print(\"*\"*90)\n",
    "print(\"dates_list[-10:]:\")\n",
    "print(dates_list[-10:])\n",
    "print(\"-\"*90)\n",
    "series = pd.Series(values_list,index=dates_list)\n",
    "series.index.name = 'date'\n",
    "print(\"series[-10:]:\")\n",
    "print(list(series)[-10:])\n",
    "print(\"-\"*90)\n",
    "print(\"series.index[-10:]:\")\n",
    "print(list(series.index)[-10:])\n",
    "print(\"*\"*90)\n"
   ]
  },
  {
   "cell_type": "markdown",
   "metadata": {},
   "source": [
    "### Affichage de la progression temporelle du nombre de malades confirmés"
   ]
  },
  {
   "cell_type": "code",
   "execution_count": 186,
   "metadata": {},
   "outputs": [
    {
     "data": {
      "image/png": "[encoded data removed]",
      "text/plain": [
       "<Figure size 684x432 with 1 Axes>"
      ]
     },
     "metadata": {
      "needs_background": "light"
     },
     "output_type": "display_data"
    }
   ],
   "source": [
    "nombre_dor = 1.618\n",
    "hauteur = 12\n",
    "longueur = int(nombre_dor * hauteur)\n",
    "\n",
    "plt.figure(figsize=(longueur/2,hauteur/2))\n",
    "series.plot()\n",
    "plt.title(\"Évolution du nombre de malades confirmés au Québec\",fontsize=18)\n",
    "plt.xlabel(\"date\",fontsize=18)\n",
    "plt.ylabel(\"nombre de malades confirmés - échelle linéaire\",fontsize=14)\n",
    "xticks(rotation=60)\n",
    "plt.show()\n"
   ]
  },
  {
   "cell_type": "code",
   "execution_count": 187,
   "metadata": {},
   "outputs": [
    {
     "data": {
      "image/png": "[encoded data removed]",
      "text/plain": [
       "<Figure size 684x432 with 1 Axes>"
      ]
     },
     "metadata": {
      "needs_background": "light"
     },
     "output_type": "display_data"
    }
   ],
   "source": [
    "fig, ax = plt.subplots(figsize=(longueur/2,hauteur/2))\n",
    "xticks(rotation=60)\n",
    "ax.set_yscale('log')\n",
    "series.plot()\n",
    "plt.title(\"Évolution du nombre de malades confirmés au Québec\",fontsize=18)\n",
    "plt.xlabel(\"date\",fontsize=18)\n",
    "plt.ylabel(\"nombre de malades confirmés - échelle log\",fontsize=16)\n",
    "xticks(rotation=60)\n",
    "plt.show()\n"
   ]
  },
  {
   "cell_type": "markdown",
   "metadata": {},
   "source": [
    " ## Modèle simple basé sur une régression et une fonction exponentielle\n",
    " ### Modéliser avec une fonction exponentielle de forme $a e^{bx}+c$ avec la fonction <a href=\"https://docs.scipy.org/doc/scipy/reference/generated/scipy.optimize.curve_fit.html\">`scipy.optimize.curve_fit`</a>"
   ]
  },
  {
   "cell_type": "code",
   "execution_count": 188,
   "metadata": {},
   "outputs": [
    {
     "name": "stdout",
     "output_type": "stream",
     "text": [
      "date\n",
      "2022-02-18    908464\n",
      "2022-02-19    910200\n",
      "2022-02-20    911397\n",
      "2022-02-21    912461\n",
      "2022-02-22    913899\n",
      "2022-02-23    915760\n",
      "2022-02-24    917277\n",
      "2022-02-25    918819\n",
      "2022-02-26    918819\n",
      "2022-02-27    921030\n",
      "2022-02-28    921875\n",
      "2022-03-01    922677\n",
      "2022-03-02    924307\n",
      "2022-03-03    925564\n",
      "2022-03-04    926918\n",
      "2022-03-05    928128\n",
      "2022-03-06    929038\n",
      "2022-03-07    929813\n",
      "2022-03-08    930748\n",
      "2022-03-09    932174\n",
      "dtype: int64\n"
     ]
    }
   ],
   "source": [
    "nbre_points = 20\n",
    "print(series[-nbre_points:])"
   ]
  },
  {
   "cell_type": "code",
   "execution_count": 189,
   "metadata": {},
   "outputs": [
    {
     "name": "stdout",
     "output_type": "stream",
     "text": [
      "[ 8.14681972e+07  1.51921663e-05 -8.05589879e+07]\n"
     ]
    },
    {
     "data": {
      "image/png": "[encoded data removed]",
      "text/plain": [
       "<Figure size 684x432 with 1 Axes>"
      ]
     },
     "metadata": {
      "needs_background": "light"
     },
     "output_type": "display_data"
    }
   ],
   "source": [
    "import matplotlib.pyplot as plt\n",
    "from scipy.optimize import curve_fit\n",
    "\n",
    "y_data = np.array([y for y in series[-nbre_points:].values if y > 0])\n",
    "x_data = np.array([x for x in range(len(y_data))])\n",
    "\n",
    "def func(x, a, b, c):\n",
    "    return a * np.exp(b * x) + c\n",
    "\n",
    "popt, pcov = curve_fit(func, x_data, y_data, maxfev=5000)\n",
    "print(popt)\n",
    "\n",
    "plt.figure(figsize=(longueur/2,hauteur/2))\n",
    "plt.title(\"Régression appliquée à une fonction exponentielle\\n $a e^{bx}+c$\",fontsize=18)\n",
    "plt.xlabel(\"nombre de jours\",fontsize=18)\n",
    "plt.ylabel(\"nombre de malades\",fontsize=18)\n",
    "\n",
    "plt.scatter(x_data, y_data)\n",
    "\n",
    "_ = plt.plot(x_data, func(x_data, *popt), 'b--',\n",
    "             label='fit: a=%5.3f, b=%5.3f, c=%5.3f' % tuple(popt))\n",
    "\n",
    "plt.show()\n"
   ]
  },
  {
   "cell_type": "code",
   "execution_count": 190,
   "metadata": {},
   "outputs": [
    {
     "name": "stdout",
     "output_type": "stream",
     "text": [
      "[0, 1, 2, 3, 4, 5, 6, 7, 8, 9, 10, 11, 12, 13, 14, 15, 16, 17, 18, 19, 20, 21, 22]\n"
     ]
    }
   ],
   "source": [
    "def generate_xdata_predictions(x_data,n_predictions):\n",
    "    longueur_x_data = len(x_data)    \n",
    "    return [nouv_x for nouv_x in range(longueur_x_data,longueur_x_data+n_predictions)]\n",
    "    \n",
    "n_predictions = 3\n",
    "x_data_list_extended = x_data.tolist() + generate_xdata_predictions(x_data,n_predictions)\n",
    "x_data_extended = np.array(x_data_list_extended)\n",
    "print(list(x_data_extended))\n"
   ]
  },
  {
   "cell_type": "code",
   "execution_count": 191,
   "metadata": {},
   "outputs": [
    {
     "name": "stdout",
     "output_type": "stream",
     "text": [
      "------------------------------------------------------------------------------------------\n",
      "Vraies valeurs:\n",
      "x=0, y=908464\n",
      "x=1, y=910200\n",
      "x=2, y=911397\n",
      "x=3, y=912461\n",
      "x=4, y=913899\n",
      "x=5, y=915760\n",
      "x=6, y=917277\n",
      "x=7, y=918819\n",
      "x=8, y=918819\n",
      "x=9, y=921030\n",
      "x=10, y=921875\n",
      "x=11, y=922677\n",
      "x=12, y=924307\n",
      "x=13, y=925564\n",
      "x=14, y=926918\n",
      "x=15, y=928128\n",
      "x=16, y=929038\n",
      "x=17, y=929813\n",
      "x=18, y=930748\n",
      "x=19, y=932174\n",
      "------------------------------------------------------------------------------------------\n"
     ]
    },
    {
     "data": {
      "image/png": "[encoded data removed]",
      "text/plain": [
       "<Figure size 684x432 with 1 Axes>"
      ]
     },
     "metadata": {
      "needs_background": "light"
     },
     "output_type": "display_data"
    },
    {
     "name": "stdout",
     "output_type": "stream",
     "text": [
      "------------------------------------------------------------------------------------------\n",
      "Prédictions:\n",
      "x=20, y=933966\n",
      "x=21, y=935204\n",
      "x=22, y=936442\n",
      "------------------------------------------------------------------------------------------\n"
     ]
    }
   ],
   "source": [
    "plt.figure(figsize=(longueur/2,hauteur/2))\n",
    "plt.title(\"Régression appliquée à une fonction exponentielle\\n $a e^{bx}+c$\",fontsize=18)\n",
    "plt.xlabel(\"nombre de jours\",fontsize=18)\n",
    "plt.ylabel(\"nombre de malades\",fontsize=18)\n",
    "\n",
    "predictions = func(x_data_extended, *popt)\n",
    "\n",
    "plt.scatter(x_data, y_data)\n",
    "\n",
    "print(\"-\"*90)\n",
    "print(\"Vraies valeurs:\")\n",
    "for index in range(len(y_data)):\n",
    "    print('x=%i, y=%i' % (index,y_data[index]))\n",
    "print(\"-\"*90)\n",
    "\n",
    "plt.scatter(x_data_extended[-n_predictions:], predictions[-n_predictions:],marker=\"x\",color=\"r\")\n",
    "\n",
    "_ = plt.plot(x_data_extended, predictions, 'b--',\n",
    "             label='fit: a=%5.3f, b=%5.3f, c=%5.3f' % tuple(popt))\n",
    "\n",
    "plt.show()\n",
    "\n",
    "print(\"-\"*90)\n",
    "print(\"Prédictions:\")\n",
    "for index in range(len(x_data),len(x_data_extended)):\n",
    "    print('x=%i, y=%i' % (index,predictions[index]))\n",
    "print(\"-\"*90)\n"
   ]
  },
  {
   "cell_type": "code",
   "execution_count": 192,
   "metadata": {},
   "outputs": [
    {
     "data": {
      "text/plain": [
       "933966"
      ]
     },
     "execution_count": 192,
     "metadata": {},
     "output_type": "execute_result"
    }
   ],
   "source": [
    "prediction_regNonLin_exp = int(predictions[len(x_data)])\n",
    "prediction_regNonLin_exp\n"
   ]
  },
  {
   "cell_type": "markdown",
   "metadata": {},
   "source": [
    "## Modèle ARIMA\n",
    "\n",
    "Une méthode statistique populaire pour la prévision des séries chronologiques est le modèle ARIMA, un acronyme qui signifie AutoRegressive Integrated Moving Average, en français modèle de moyenne mobile autorégressive. Il s'agit d'une classe de modèle qui capture une suite de différentes structures temporelles dans les données d'une série chronologique. \n",
    "\n",
    "Trois hyperparamètres contrôlent l'algorithme ARIMA \n",
    "\n",
    "* p: l'ordre du modèle autorégressif (correspond au nombre de périodes antérieuses considérées)\n",
    "* d: le degré de différenciation des observations brutes (soustraction d'une observation au temps t à une observation à la période de temps précédente t-1) afin de rendre la série chronologique stationnaire\n",
    "* q: l'ordre de la moyenne mobile (dépendance entre une observation et l'erreur résiduelle d'une moyenne mobile apppliquée aux observations antérieures) \n",
    "\n",
    "Référence : \n",
    "\n",
    "* https://en.wikipedia.org/wiki/Autoregressive_integrated_moving_average\n",
    "\n",
    "* https://machinelearningmastery.com/arima-for-time-series-forecasting-with-python/\n"
   ]
  },
  {
   "cell_type": "markdown",
   "metadata": {},
   "source": [
    "### Autocorrélation\n",
    "Nous pouvons calculer la corrélation pour les observations de séries chronologiques avec des observations avec des périodes de temps précédentes, appelés périodes antérieures (en anglais, lag). Étant donné que la corrélation des observations de la série chronologique est calculée avec des valeurs de la même série à des périodes antérieures, cela s'appelle une autocorrélation, (en anglais. Autocorrelation Function, ACF)."
   ]
  },
  {
   "cell_type": "markdown",
   "metadata": {},
   "source": [
    "Ci-dessous, calcul et affichage de l'autocorrélation avec la fonction `.autocorrelation_plot()` de la bibliothèque Pandas."
   ]
  },
  {
   "cell_type": "code",
   "execution_count": 193,
   "metadata": {},
   "outputs": [
    {
     "data": {
      "image/png": "[encoded data removed]",
      "text/plain": [
       "<Figure size 684x432 with 1 Axes>"
      ]
     },
     "metadata": {
      "needs_background": "light"
     },
     "output_type": "display_data"
    }
   ],
   "source": [
    "from pandas import read_csv\n",
    "from pandas import datetime\n",
    "import matplotlib.pyplot as plt\n",
    "from pandas.plotting import autocorrelation_plot\n",
    "\n",
    "plt.figure(figsize=(longueur/2,hauteur/2))\n",
    "autocorrelation_plot(series)\n",
    "plt.xlabel(u'Périodes antérieures',fontsize=18)\n",
    "plt.ylabel(u'Autocorrélation',fontsize=18)\n",
    "plt.show()\n"
   ]
  },
  {
   "cell_type": "markdown",
   "metadata": {},
   "source": [
    "Le même calcul et affichage de l'autocorrélation avec la fonction `.plot_acf()` de la bibliothèque statsmodels."
   ]
  },
  {
   "cell_type": "code",
   "execution_count": 194,
   "metadata": {},
   "outputs": [
    {
     "data": {
      "image/png": "[encoded data removed]",
      "text/plain": [
       "<Figure size 684x432 with 1 Axes>"
      ]
     },
     "metadata": {
      "needs_background": "light"
     },
     "output_type": "display_data"
    }
   ],
   "source": [
    "import matplotlib.pyplot as plt\n",
    "from statsmodels.graphics.tsaplots import plot_acf\n",
    "fig, ax = plt.subplots(figsize=(longueur/2,hauteur/2))\n",
    "plot_acf(series,title='',ax=ax)\n",
    "plt.xlabel(u'Périodes antérieures',fontsize=18)\n",
    "plt.ylabel(u'Autocorrélation',fontsize=18)\n",
    "plt.show()\n"
   ]
  },
  {
   "cell_type": "markdown",
   "metadata": {},
   "source": [
    "### Autocorrélation partielle\n",
    "Une autocorrélation partielle (en anglais. Partial Autocorrelation Function, PACF) est un résumé de la relation entre une observation dans une série chronologique avec des observations à des périodes antérieures en supprimant les relations des observations intermédiaires. Utilisation de avec la fonction `.plot_pacf()` de la bibliothèque statsmodels."
   ]
  },
  {
   "cell_type": "code",
   "execution_count": 195,
   "metadata": {},
   "outputs": [
    {
     "data": {
      "image/png": "[encoded data removed]",
      "text/plain": [
       "<Figure size 684x432 with 1 Axes>"
      ]
     },
     "metadata": {
      "needs_background": "light"
     },
     "output_type": "display_data"
    }
   ],
   "source": [
    "import matplotlib.pyplot as plt\n",
    "from statsmodels.graphics.tsaplots import plot_pacf\n",
    "fig, ax = plt.subplots(figsize=(longueur/2,hauteur/2))\n",
    "try:\n",
    "    plot_pacf(series,title='',ax=ax)\n",
    "    plt.xlabel(u'Périodes antérieures',fontsize=18)\n",
    "    plt.ylabel(u'Autocorrelation',fontsize=18)\n",
    "    plt.show()\n",
    "except:\n",
    "    print(\"Matrice singulière\")\n",
    "    # Ajout de bruit\n",
    "    series = series+1.0e-09*np.random.rand(series.shape[0])\n",
    "    plot_pacf(series,title='',ax=ax)\n",
    "    plt.xlabel(u'Périodes antérieures',fontsize=18)\n",
    "    plt.ylabel(u'Autocorrelation',fontsize=18)\n",
    "    plt.show()\n"
   ]
  },
  {
   "cell_type": "markdown",
   "metadata": {},
   "source": [
    "### Auto ARIMA\n",
    "\n",
    "Auto ARIMA calcule les meilleurs modèles ARIMA à partir des données et de contraintes sur les hyperparamètres (p,d,q) de ARIMA selon diférents critères comme le <a href=\"https://fr.wikipedia.org/wiki/Crit%C3%A8re_d%27information_d%27Akaike\">critère d'information d'Akaike</a> (Akaike information criterion ou AIC) "
   ]
  },
  {
   "cell_type": "markdown",
   "metadata": {},
   "source": [
    "Installer la bibliothèque Python auto_arima\n",
    "\n",
    "#> sudo pip3 install pyramid-arima - deprecated\n",
    "\n",
    "   > sudo pip3 install pmdarima\n",
    "   \n",
    "Documentation: https://alkaline-ml.com/pmdarima/0.9.0/tips_and_tricks.html#tips-and-tricks\n",
    "\n",
    "Prise en main rapide: https://alkaline-ml.com/pmdarima/0.9.0/quickstart.html\n"
   ]
  },
  {
   "cell_type": "code",
   "execution_count": 196,
   "metadata": {},
   "outputs": [
    {
     "name": "stderr",
     "output_type": "stream",
     "text": [
      "/usr/local/lib/python3.8/dist-packages/pmdarima/arima/_validation.py:62: UserWarning: m (100) set for non-seasonal fit. Setting to 0\n",
      "  warnings.warn(\"m (%i) set for non-seasonal fit. Setting to 0\" % m)\n"
     ]
    },
    {
     "name": "stdout",
     "output_type": "stream",
     "text": [
      "pmdarima version: 1.8.3\n",
      "\n",
      "Performing stepwise search to minimize aic\n",
      " ARIMA(1,1,1)(0,0,0)[0] intercept   : AIC=12884.271, Time=0.71 sec\n",
      " ARIMA(0,1,0)(0,0,0)[0] intercept   : AIC=14225.972, Time=0.05 sec\n",
      " ARIMA(1,1,0)(0,0,0)[0] intercept   : AIC=13084.986, Time=0.10 sec\n",
      " ARIMA(0,1,1)(0,0,0)[0] intercept   : AIC=13720.297, Time=0.36 sec\n",
      " ARIMA(0,1,0)(0,0,0)[0]             : AIC=14413.553, Time=0.03 sec\n",
      " ARIMA(2,1,1)(0,0,0)[0] intercept   : AIC=12885.829, Time=0.64 sec\n",
      " ARIMA(1,1,2)(0,0,0)[0] intercept   : AIC=12885.857, Time=0.84 sec\n",
      " ARIMA(0,1,2)(0,0,0)[0] intercept   : AIC=13508.384, Time=0.73 sec\n",
      " ARIMA(2,1,0)(0,0,0)[0] intercept   : AIC=12940.764, Time=0.22 sec\n",
      " ARIMA(2,1,2)(0,0,0)[0] intercept   : AIC=12874.931, Time=1.75 sec\n",
      " ARIMA(3,1,2)(0,0,0)[0] intercept   : AIC=12874.724, Time=1.47 sec\n",
      " ARIMA(3,1,1)(0,0,0)[0] intercept   : AIC=12887.759, Time=1.67 sec\n",
      " ARIMA(3,1,3)(0,0,0)[0] intercept   : AIC=inf, Time=3.68 sec\n",
      " ARIMA(2,1,3)(0,0,0)[0] intercept   : AIC=12875.573, Time=2.00 sec\n",
      " ARIMA(3,1,2)(0,0,0)[0]             : AIC=12874.552, Time=1.25 sec\n",
      " ARIMA(2,1,2)(0,0,0)[0]             : AIC=12874.715, Time=0.74 sec\n",
      " ARIMA(3,1,1)(0,0,0)[0]             : AIC=12887.825, Time=0.30 sec\n",
      " ARIMA(3,1,3)(0,0,0)[0]             : AIC=inf, Time=2.43 sec\n",
      " ARIMA(2,1,1)(0,0,0)[0]             : AIC=12885.857, Time=0.17 sec\n",
      " ARIMA(2,1,3)(0,0,0)[0]             : AIC=12875.252, Time=1.45 sec\n",
      "\n",
      "Best model:  ARIMA(3,1,2)(0,0,0)[0]          \n",
      "Total fit time: 20.623 seconds\n",
      "\n"
     ]
    },
    {
     "data": {
      "text/html": [
       "<table class=\"simpletable\">\n",
       "<caption>SARIMAX Results</caption>\n",
       "<tr>\n",
       "  <th>Dep. Variable:</th>           <td>y</td>        <th>  No. Observations:  </th>    <td>778</td>   \n",
       "</tr>\n",
       "<tr>\n",
       "  <th>Model:</th>           <td>SARIMAX(3, 1, 2)</td> <th>  Log Likelihood     </th> <td>-6431.276</td>\n",
       "</tr>\n",
       "<tr>\n",
       "  <th>Date:</th>            <td>Thu, 10 Mar 2022</td> <th>  AIC                </th> <td>12874.552</td>\n",
       "</tr>\n",
       "<tr>\n",
       "  <th>Time:</th>                <td>23:49:23</td>     <th>  BIC                </th> <td>12902.484</td>\n",
       "</tr>\n",
       "<tr>\n",
       "  <th>Sample:</th>                  <td>0</td>        <th>  HQIC               </th> <td>12885.297</td>\n",
       "</tr>\n",
       "<tr>\n",
       "  <th></th>                      <td> - 778</td>      <th>                     </th>     <td> </td>    \n",
       "</tr>\n",
       "<tr>\n",
       "  <th>Covariance Type:</th>        <td>opg</td>       <th>                     </th>     <td> </td>    \n",
       "</tr>\n",
       "</table>\n",
       "<table class=\"simpletable\">\n",
       "<tr>\n",
       "     <td></td>       <th>coef</th>     <th>std err</th>      <th>z</th>      <th>P>|z|</th>  <th>[0.025</th>    <th>0.975]</th>  \n",
       "</tr>\n",
       "<tr>\n",
       "  <th>ar.L1</th>  <td>   -0.0290</td> <td>    0.020</td> <td>   -1.475</td> <td> 0.140</td> <td>   -0.068</td> <td>    0.010</td>\n",
       "</tr>\n",
       "<tr>\n",
       "  <th>ar.L2</th>  <td>    0.9206</td> <td>    0.011</td> <td>   81.696</td> <td> 0.000</td> <td>    0.899</td> <td>    0.943</td>\n",
       "</tr>\n",
       "<tr>\n",
       "  <th>ar.L3</th>  <td>    0.0802</td> <td>    0.018</td> <td>    4.387</td> <td> 0.000</td> <td>    0.044</td> <td>    0.116</td>\n",
       "</tr>\n",
       "<tr>\n",
       "  <th>ma.L1</th>  <td>    0.4314</td> <td>    0.020</td> <td>   21.779</td> <td> 0.000</td> <td>    0.393</td> <td>    0.470</td>\n",
       "</tr>\n",
       "<tr>\n",
       "  <th>ma.L2</th>  <td>   -0.5422</td> <td>    0.020</td> <td>  -27.654</td> <td> 0.000</td> <td>   -0.581</td> <td>   -0.504</td>\n",
       "</tr>\n",
       "<tr>\n",
       "  <th>sigma2</th> <td> 9.032e+05</td> <td> 1.13e+04</td> <td>   80.202</td> <td> 0.000</td> <td> 8.81e+05</td> <td> 9.25e+05</td>\n",
       "</tr>\n",
       "</table>\n",
       "<table class=\"simpletable\">\n",
       "<tr>\n",
       "  <th>Ljung-Box (L1) (Q):</th>      <td>0.00</td>  <th>  Jarque-Bera (JB):  </th> <td>261870.80</td>\n",
       "</tr>\n",
       "<tr>\n",
       "  <th>Prob(Q):</th>                 <td>0.98</td>  <th>  Prob(JB):          </th>   <td>0.00</td>   \n",
       "</tr>\n",
       "<tr>\n",
       "  <th>Heteroskedasticity (H):</th> <td>458.08</td> <th>  Skew:              </th>   <td>-4.18</td>  \n",
       "</tr>\n",
       "<tr>\n",
       "  <th>Prob(H) (two-sided):</th>     <td>0.00</td>  <th>  Kurtosis:          </th>   <td>92.55</td>  \n",
       "</tr>\n",
       "</table><br/><br/>Warnings:<br/>[1] Covariance matrix calculated using the outer product of gradients (complex-step)."
      ],
      "text/plain": [
       "<class 'statsmodels.iolib.summary.Summary'>\n",
       "\"\"\"\n",
       "                               SARIMAX Results                                \n",
       "==============================================================================\n",
       "Dep. Variable:                      y   No. Observations:                  778\n",
       "Model:               SARIMAX(3, 1, 2)   Log Likelihood               -6431.276\n",
       "Date:                Thu, 10 Mar 2022   AIC                          12874.552\n",
       "Time:                        23:49:23   BIC                          12902.484\n",
       "Sample:                             0   HQIC                         12885.297\n",
       "                                - 778                                         \n",
       "Covariance Type:                  opg                                         \n",
       "==============================================================================\n",
       "                 coef    std err          z      P>|z|      [0.025      0.975]\n",
       "------------------------------------------------------------------------------\n",
       "ar.L1         -0.0290      0.020     -1.475      0.140      -0.068       0.010\n",
       "ar.L2          0.9206      0.011     81.696      0.000       0.899       0.943\n",
       "ar.L3          0.0802      0.018      4.387      0.000       0.044       0.116\n",
       "ma.L1          0.4314      0.020     21.779      0.000       0.393       0.470\n",
       "ma.L2         -0.5422      0.020    -27.654      0.000      -0.581      -0.504\n",
       "sigma2      9.032e+05   1.13e+04     80.202      0.000    8.81e+05    9.25e+05\n",
       "===================================================================================\n",
       "Ljung-Box (L1) (Q):                   0.00   Jarque-Bera (JB):            261870.80\n",
       "Prob(Q):                              0.98   Prob(JB):                         0.00\n",
       "Heteroskedasticity (H):             458.08   Skew:                            -4.18\n",
       "Prob(H) (two-sided):                  0.00   Kurtosis:                        92.55\n",
       "===================================================================================\n",
       "\n",
       "Warnings:\n",
       "[1] Covariance matrix calculated using the outer product of gradients (complex-step).\n",
       "\"\"\""
      ]
     },
     "execution_count": 196,
     "metadata": {},
     "output_type": "execute_result"
    }
   ],
   "source": [
    "from io import StringIO\n",
    "import sys\n",
    "\n",
    "sortie_standard = sys.stdout\n",
    "sortie_autoarima = StringIO()\n",
    "sys.stdout =  sortie_autoarima\n",
    "\n",
    "# import pyramid as pm - deprecated\n",
    "import pmdarima as pm\n",
    "print(\"pmdarima version:\",pm.__version__)\n",
    "print()\n",
    "import warnings\n",
    "warnings.simplefilter(action='ignore', category=FutureWarning)\n",
    "\n",
    "# Entraîner auto-ARIMA\n",
    "meilleur_ARIMA = pm.auto_arima(series, start_p=1, start_q=1,\n",
    "                               max_p=3, max_q=3, m=100,\n",
    "                               start_P=0, seasonal=False,\n",
    "                               d=1, D=1, trace=True,\n",
    "                               error_action='ignore',  # pas de message d'erreur sur\n",
    "                               suppress_warnings=True, # pas de message de non convergence\n",
    "                               stepwise=True)  # calcul pas à pas\n",
    "\n",
    "# Restaurer la sortie standard\n",
    "sys.stdout = sortie_standard\n",
    "\n",
    "# Récupérer la sortie autoarima \n",
    "sortie_autoarima_str = sortie_autoarima.getvalue()\n",
    "\n",
    "print(sortie_autoarima_str)\n",
    "\n",
    "meilleur_ARIMA.summary()\n"
   ]
  },
  {
   "cell_type": "code",
   "execution_count": 197,
   "metadata": {},
   "outputs": [
    {
     "name": "stdout",
     "output_type": "stream",
     "text": [
      "['2', '1', '2']\n",
      "['3', '1', '2']\n",
      "['2', '1', '3']\n",
      "['1', '1', '1']\n",
      "['2', '1', '1']\n",
      "['1', '1', '2']\n",
      "['3', '1', '1']\n",
      "['2', '1', '0']\n",
      "['1', '1', '0']\n",
      "['0', '1', '2']\n",
      "['0', '1', '1']\n",
      "['0', '1', '0']\n"
     ]
    },
    {
     "data": {
      "text/plain": [
       "[(2, 1, 2),\n",
       " (3, 1, 2),\n",
       " (2, 1, 3),\n",
       " (1, 1, 1),\n",
       " (2, 1, 1),\n",
       " (1, 1, 2),\n",
       " (3, 1, 1),\n",
       " (2, 1, 0),\n",
       " (1, 1, 0),\n",
       " (0, 1, 2),\n",
       " (0, 1, 1),\n",
       " (0, 1, 0)]"
      ]
     },
     "execution_count": 197,
     "metadata": {},
     "output_type": "execute_result"
    }
   ],
   "source": [
    "import re\n",
    "\n",
    "liste_resultats_ARIMA = sortie_autoarima_str.split('\\n')\n",
    "# motif_extraction = \"order=\\((\\d),\\s(\\d),\\s(\\d)\\);\\s*AIC=(\\d*\\.\\d*|nan)\" \n",
    "motif_extraction = \"ARIMA\\((\\d),(\\d),(\\d)\\).*AIC=(\\d*\\.\\d*|nan)\" \n",
    "\n",
    "p = re.compile(motif_extraction)\n",
    "\n",
    "meilleurs_ARIMA_dict = {}\n",
    "for resultat_ARIMA_brut in liste_resultats_ARIMA:\n",
    "    if p.findall(resultat_ARIMA_brut):\n",
    "        resultat_ARIMA = p.findall(resultat_ARIMA_brut)[0]\n",
    "        arima_etiq = \"_\".join(resultat_ARIMA[:3])\n",
    "        aic = resultat_ARIMA[3]\n",
    "        if aic == \"nan\":\n",
    "            aic = 10000000\n",
    "        meilleurs_ARIMA_dict[arima_etiq]=int(float(aic))\n",
    "meilleurs_ARIMA_list = list({k: v for k, v in sorted(meilleurs_ARIMA_dict.items(), key=lambda item: item[1])})\n",
    "#meilleurs_ARIMA_list[:2]\n",
    "\n",
    "meilleurs_ARIMA = []\n",
    "#for meilleur_arima in meilleurs_ARIMA_list[:2]:\n",
    "for meilleur_arima in meilleurs_ARIMA_list:\n",
    "    print(meilleur_arima.split('_'))\n",
    "    meilleurs_ARIMA += [tuple([int(carac) for carac in meilleur_arima.split('_')])]\n",
    "meilleurs_ARIMA\n"
   ]
  },
  {
   "cell_type": "code",
   "execution_count": 198,
   "metadata": {},
   "outputs": [
    {
     "data": {
      "text/plain": [
       "[(2, 1, 2),\n",
       " (3, 1, 2),\n",
       " (2, 1, 3),\n",
       " (1, 1, 1),\n",
       " (2, 1, 1),\n",
       " (1, 1, 2),\n",
       " (3, 1, 1),\n",
       " (2, 1, 0),\n",
       " (1, 1, 0),\n",
       " (0, 1, 2),\n",
       " (0, 1, 1),\n",
       " (0, 1, 0)]"
      ]
     },
     "execution_count": 198,
     "metadata": {},
     "output_type": "execute_result"
    }
   ],
   "source": [
    "meilleurs_ARIMA"
   ]
  },
  {
   "cell_type": "markdown",
   "metadata": {},
   "source": [
    "### Entraînement du meilleur modèle ARIMA\n",
    "\n",
    "Le critère de sélection selon le <a href=\"https://fr.wikipedia.org/wiki/Crit%C3%A8re_d%27information_d%27Akaike\">critère d'information d'Akaike</a> (Akaike information criterion ou AIC). On ne conserve que les deux ou trois meilleurs modèles ARIMAselon ce critère qui doit être minimisé.\n",
    "\n",
    "Certains modèles ARIMA sont retirés car ils ne convergent pas (`LinAlgError: SVD did not converge`) ou parce que le modèle n'est pas stationnaire."
   ]
  },
  {
   "cell_type": "code",
   "execution_count": null,
   "metadata": {
    "scrolled": true
   },
   "outputs": [
    {
     "name": "stdout",
     "output_type": "stream",
     "text": [
      "******************************************************************************************\n",
      "Modèle meilleur_ARIMA: (2, 1, 2)\n"
     ]
    },
    {
     "name": "stderr",
     "output_type": "stream",
     "text": [
      "/usr/local/lib/python3.8/dist-packages/statsmodels/tsa/statespace/sarimax.py:966: UserWarning: Non-stationary starting autoregressive parameters found. Using zeros as starting parameters.\n",
      "  warn('Non-stationary starting autoregressive parameters'\n",
      "/usr/local/lib/python3.8/dist-packages/statsmodels/tsa/statespace/sarimax.py:978: UserWarning: Non-invertible starting MA parameters found. Using zeros as starting parameters.\n",
      "  warn('Non-invertible starting MA parameters found.'\n"
     ]
    },
    {
     "name": "stdout",
     "output_type": "stream",
     "text": [
      "Nombre de jours écoulés=491, t=0, prédiction=375227, vraie valeur=375197\n",
      "Modèle meilleur_ARIMA: (2, 1, 2)\n"
     ]
    },
    {
     "name": "stderr",
     "output_type": "stream",
     "text": [
      "/usr/local/lib/python3.8/dist-packages/statsmodels/tsa/statespace/sarimax.py:966: UserWarning: Non-stationary starting autoregressive parameters found. Using zeros as starting parameters.\n",
      "  warn('Non-stationary starting autoregressive parameters'\n",
      "/usr/local/lib/python3.8/dist-packages/statsmodels/tsa/statespace/sarimax.py:978: UserWarning: Non-invertible starting MA parameters found. Using zeros as starting parameters.\n",
      "  warn('Non-invertible starting MA parameters found.'\n"
     ]
    },
    {
     "name": "stdout",
     "output_type": "stream",
     "text": [
      "Nombre de jours écoulés=492, t=1, prédiction=375272, vraie valeur=375276\n",
      "Modèle meilleur_ARIMA: (2, 1, 2)\n"
     ]
    },
    {
     "name": "stderr",
     "output_type": "stream",
     "text": [
      "/usr/local/lib/python3.8/dist-packages/statsmodels/tsa/statespace/sarimax.py:966: UserWarning: Non-stationary starting autoregressive parameters found. Using zeros as starting parameters.\n",
      "  warn('Non-stationary starting autoregressive parameters'\n",
      "/usr/local/lib/python3.8/dist-packages/statsmodels/tsa/statespace/sarimax.py:978: UserWarning: Non-invertible starting MA parameters found. Using zeros as starting parameters.\n",
      "  warn('Non-invertible starting MA parameters found.'\n"
     ]
    },
    {
     "name": "stdout",
     "output_type": "stream",
     "text": [
      "Nombre de jours écoulés=493, t=2, prédiction=375356, vraie valeur=375342\n",
      "Modèle meilleur_ARIMA: (2, 1, 2)\n"
     ]
    },
    {
     "name": "stderr",
     "output_type": "stream",
     "text": [
      "/usr/local/lib/python3.8/dist-packages/statsmodels/tsa/statespace/sarimax.py:966: UserWarning: Non-stationary starting autoregressive parameters found. Using zeros as starting parameters.\n",
      "  warn('Non-stationary starting autoregressive parameters'\n",
      "/usr/local/lib/python3.8/dist-packages/statsmodels/tsa/statespace/sarimax.py:978: UserWarning: Non-invertible starting MA parameters found. Using zeros as starting parameters.\n",
      "  warn('Non-invertible starting MA parameters found.'\n"
     ]
    },
    {
     "name": "stdout",
     "output_type": "stream",
     "text": [
      "Nombre de jours écoulés=494, t=3, prédiction=375407, vraie valeur=375404\n",
      "Modèle meilleur_ARIMA: (2, 1, 2)\n"
     ]
    },
    {
     "name": "stderr",
     "output_type": "stream",
     "text": [
      "/usr/local/lib/python3.8/dist-packages/statsmodels/tsa/statespace/sarimax.py:966: UserWarning: Non-stationary starting autoregressive parameters found. Using zeros as starting parameters.\n",
      "  warn('Non-stationary starting autoregressive parameters'\n",
      "/usr/local/lib/python3.8/dist-packages/statsmodels/tsa/statespace/sarimax.py:978: UserWarning: Non-invertible starting MA parameters found. Using zeros as starting parameters.\n",
      "  warn('Non-invertible starting MA parameters found.'\n"
     ]
    },
    {
     "name": "stdout",
     "output_type": "stream",
     "text": [
      "Nombre de jours écoulés=495, t=4, prédiction=375468, vraie valeur=375444\n",
      "Modèle meilleur_ARIMA: (2, 1, 2)\n"
     ]
    },
    {
     "name": "stderr",
     "output_type": "stream",
     "text": [
      "/usr/local/lib/python3.8/dist-packages/statsmodels/tsa/statespace/sarimax.py:966: UserWarning: Non-stationary starting autoregressive parameters found. Using zeros as starting parameters.\n",
      "  warn('Non-stationary starting autoregressive parameters'\n",
      "/usr/local/lib/python3.8/dist-packages/statsmodels/tsa/statespace/sarimax.py:978: UserWarning: Non-invertible starting MA parameters found. Using zeros as starting parameters.\n",
      "  warn('Non-invertible starting MA parameters found.'\n"
     ]
    },
    {
     "name": "stdout",
     "output_type": "stream",
     "text": [
      "Nombre de jours écoulés=496, t=5, prédiction=375485, vraie valeur=375522\n",
      "Modèle meilleur_ARIMA: (2, 1, 2)\n"
     ]
    },
    {
     "name": "stderr",
     "output_type": "stream",
     "text": [
      "/usr/local/lib/python3.8/dist-packages/statsmodels/tsa/statespace/sarimax.py:966: UserWarning: Non-stationary starting autoregressive parameters found. Using zeros as starting parameters.\n",
      "  warn('Non-stationary starting autoregressive parameters'\n",
      "/usr/local/lib/python3.8/dist-packages/statsmodels/tsa/statespace/sarimax.py:978: UserWarning: Non-invertible starting MA parameters found. Using zeros as starting parameters.\n",
      "  warn('Non-invertible starting MA parameters found.'\n"
     ]
    },
    {
     "name": "stdout",
     "output_type": "stream",
     "text": [
      "Nombre de jours écoulés=497, t=6, prédiction=375596, vraie valeur=375609\n",
      "Modèle meilleur_ARIMA: (2, 1, 2)\n"
     ]
    },
    {
     "name": "stderr",
     "output_type": "stream",
     "text": [
      "/usr/local/lib/python3.8/dist-packages/statsmodels/tsa/statespace/sarimax.py:966: UserWarning: Non-stationary starting autoregressive parameters found. Using zeros as starting parameters.\n",
      "  warn('Non-stationary starting autoregressive parameters'\n",
      "/usr/local/lib/python3.8/dist-packages/statsmodels/tsa/statespace/sarimax.py:978: UserWarning: Non-invertible starting MA parameters found. Using zeros as starting parameters.\n",
      "  warn('Non-invertible starting MA parameters found.'\n"
     ]
    },
    {
     "name": "stdout",
     "output_type": "stream",
     "text": [
      "Nombre de jours écoulés=498, t=7, prédiction=375691, vraie valeur=375678\n",
      "Modèle meilleur_ARIMA: (2, 1, 2)\n"
     ]
    },
    {
     "name": "stderr",
     "output_type": "stream",
     "text": [
      "/usr/local/lib/python3.8/dist-packages/statsmodels/tsa/statespace/sarimax.py:966: UserWarning: Non-stationary starting autoregressive parameters found. Using zeros as starting parameters.\n",
      "  warn('Non-stationary starting autoregressive parameters'\n",
      "/usr/local/lib/python3.8/dist-packages/statsmodels/tsa/statespace/sarimax.py:978: UserWarning: Non-invertible starting MA parameters found. Using zeros as starting parameters.\n",
      "  warn('Non-invertible starting MA parameters found.'\n"
     ]
    },
    {
     "name": "stdout",
     "output_type": "stream",
     "text": [
      "Nombre de jours écoulés=499, t=8, prédiction=375750, vraie valeur=375751\n",
      "Modèle meilleur_ARIMA: (2, 1, 2)\n"
     ]
    },
    {
     "name": "stderr",
     "output_type": "stream",
     "text": [
      "/usr/local/lib/python3.8/dist-packages/statsmodels/tsa/statespace/sarimax.py:966: UserWarning: Non-stationary starting autoregressive parameters found. Using zeros as starting parameters.\n",
      "  warn('Non-stationary starting autoregressive parameters'\n",
      "/usr/local/lib/python3.8/dist-packages/statsmodels/tsa/statespace/sarimax.py:978: UserWarning: Non-invertible starting MA parameters found. Using zeros as starting parameters.\n",
      "  warn('Non-invertible starting MA parameters found.'\n"
     ]
    },
    {
     "name": "stdout",
     "output_type": "stream",
     "text": [
      "Nombre de jours écoulés=500, t=9, prédiction=375821, vraie valeur=375823\n",
      "Modèle meilleur_ARIMA: (2, 1, 2)\n"
     ]
    },
    {
     "name": "stderr",
     "output_type": "stream",
     "text": [
      "/usr/local/lib/python3.8/dist-packages/statsmodels/tsa/statespace/sarimax.py:966: UserWarning: Non-stationary starting autoregressive parameters found. Using zeros as starting parameters.\n",
      "  warn('Non-stationary starting autoregressive parameters'\n",
      "/usr/local/lib/python3.8/dist-packages/statsmodels/tsa/statespace/sarimax.py:978: UserWarning: Non-invertible starting MA parameters found. Using zeros as starting parameters.\n",
      "  warn('Non-invertible starting MA parameters found.'\n"
     ]
    },
    {
     "name": "stdout",
     "output_type": "stream",
     "text": [
      "Nombre de jours écoulés=501, t=10, prédiction=375896, vraie valeur=375883\n",
      "Modèle meilleur_ARIMA: (2, 1, 2)\n"
     ]
    },
    {
     "name": "stderr",
     "output_type": "stream",
     "text": [
      "/usr/local/lib/python3.8/dist-packages/statsmodels/tsa/statespace/sarimax.py:966: UserWarning: Non-stationary starting autoregressive parameters found. Using zeros as starting parameters.\n",
      "  warn('Non-stationary starting autoregressive parameters'\n",
      "/usr/local/lib/python3.8/dist-packages/statsmodels/tsa/statespace/sarimax.py:978: UserWarning: Non-invertible starting MA parameters found. Using zeros as starting parameters.\n",
      "  warn('Non-invertible starting MA parameters found.'\n"
     ]
    },
    {
     "name": "stdout",
     "output_type": "stream",
     "text": [
      "Nombre de jours écoulés=502, t=11, prédiction=375942, vraie valeur=375937\n",
      "Modèle meilleur_ARIMA: (2, 1, 2)\n"
     ]
    },
    {
     "name": "stderr",
     "output_type": "stream",
     "text": [
      "/usr/local/lib/python3.8/dist-packages/statsmodels/tsa/statespace/sarimax.py:966: UserWarning: Non-stationary starting autoregressive parameters found. Using zeros as starting parameters.\n",
      "  warn('Non-stationary starting autoregressive parameters'\n",
      "/usr/local/lib/python3.8/dist-packages/statsmodels/tsa/statespace/sarimax.py:978: UserWarning: Non-invertible starting MA parameters found. Using zeros as starting parameters.\n",
      "  warn('Non-invertible starting MA parameters found.'\n"
     ]
    },
    {
     "name": "stdout",
     "output_type": "stream",
     "text": [
      "Nombre de jours écoulés=503, t=12, prédiction=375993, vraie valeur=375997\n",
      "Modèle meilleur_ARIMA: (2, 1, 2)\n"
     ]
    },
    {
     "name": "stderr",
     "output_type": "stream",
     "text": [
      "/usr/local/lib/python3.8/dist-packages/statsmodels/tsa/statespace/sarimax.py:966: UserWarning: Non-stationary starting autoregressive parameters found. Using zeros as starting parameters.\n",
      "  warn('Non-stationary starting autoregressive parameters'\n",
      "/usr/local/lib/python3.8/dist-packages/statsmodels/tsa/statespace/sarimax.py:978: UserWarning: Non-invertible starting MA parameters found. Using zeros as starting parameters.\n",
      "  warn('Non-invertible starting MA parameters found.'\n"
     ]
    },
    {
     "name": "stdout",
     "output_type": "stream",
     "text": [
      "Nombre de jours écoulés=504, t=13, prédiction=376054, vraie valeur=376077\n",
      "Modèle meilleur_ARIMA: (2, 1, 2)\n"
     ]
    },
    {
     "name": "stderr",
     "output_type": "stream",
     "text": [
      "/usr/local/lib/python3.8/dist-packages/statsmodels/tsa/statespace/sarimax.py:966: UserWarning: Non-stationary starting autoregressive parameters found. Using zeros as starting parameters.\n",
      "  warn('Non-stationary starting autoregressive parameters'\n",
      "/usr/local/lib/python3.8/dist-packages/statsmodels/tsa/statespace/sarimax.py:978: UserWarning: Non-invertible starting MA parameters found. Using zeros as starting parameters.\n",
      "  warn('Non-invertible starting MA parameters found.'\n"
     ]
    },
    {
     "name": "stdout",
     "output_type": "stream",
     "text": [
      "Nombre de jours écoulés=505, t=14, prédiction=376155, vraie valeur=376109\n",
      "Modèle meilleur_ARIMA: (2, 1, 2)\n"
     ]
    },
    {
     "name": "stderr",
     "output_type": "stream",
     "text": [
      "/usr/local/lib/python3.8/dist-packages/statsmodels/tsa/statespace/sarimax.py:966: UserWarning: Non-stationary starting autoregressive parameters found. Using zeros as starting parameters.\n",
      "  warn('Non-stationary starting autoregressive parameters'\n",
      "/usr/local/lib/python3.8/dist-packages/statsmodels/tsa/statespace/sarimax.py:978: UserWarning: Non-invertible starting MA parameters found. Using zeros as starting parameters.\n",
      "  warn('Non-invertible starting MA parameters found.'\n"
     ]
    },
    {
     "name": "stdout",
     "output_type": "stream",
     "text": [
      "Nombre de jours écoulés=506, t=15, prédiction=376145, vraie valeur=376149\n",
      "Modèle meilleur_ARIMA: (2, 1, 2)\n"
     ]
    },
    {
     "name": "stderr",
     "output_type": "stream",
     "text": [
      "/usr/local/lib/python3.8/dist-packages/statsmodels/tsa/statespace/sarimax.py:966: UserWarning: Non-stationary starting autoregressive parameters found. Using zeros as starting parameters.\n",
      "  warn('Non-stationary starting autoregressive parameters'\n",
      "/usr/local/lib/python3.8/dist-packages/statsmodels/tsa/statespace/sarimax.py:978: UserWarning: Non-invertible starting MA parameters found. Using zeros as starting parameters.\n",
      "  warn('Non-invertible starting MA parameters found.'\n"
     ]
    },
    {
     "name": "stdout",
     "output_type": "stream",
     "text": [
      "Nombre de jours écoulés=507, t=16, prédiction=376190, vraie valeur=376192\n",
      "Modèle meilleur_ARIMA: (2, 1, 2)\n"
     ]
    },
    {
     "name": "stderr",
     "output_type": "stream",
     "text": [
      "/usr/local/lib/python3.8/dist-packages/statsmodels/tsa/statespace/sarimax.py:966: UserWarning: Non-stationary starting autoregressive parameters found. Using zeros as starting parameters.\n",
      "  warn('Non-stationary starting autoregressive parameters'\n",
      "/usr/local/lib/python3.8/dist-packages/statsmodels/tsa/statespace/sarimax.py:978: UserWarning: Non-invertible starting MA parameters found. Using zeros as starting parameters.\n",
      "  warn('Non-invertible starting MA parameters found.'\n"
     ]
    },
    {
     "name": "stdout",
     "output_type": "stream",
     "text": [
      "Nombre de jours écoulés=508, t=17, prédiction=376232, vraie valeur=376289\n",
      "Modèle meilleur_ARIMA: (2, 1, 2)\n"
     ]
    },
    {
     "name": "stderr",
     "output_type": "stream",
     "text": [
      "/usr/local/lib/python3.8/dist-packages/statsmodels/tsa/statespace/sarimax.py:966: UserWarning: Non-stationary starting autoregressive parameters found. Using zeros as starting parameters.\n",
      "  warn('Non-stationary starting autoregressive parameters'\n",
      "/usr/local/lib/python3.8/dist-packages/statsmodels/tsa/statespace/sarimax.py:978: UserWarning: Non-invertible starting MA parameters found. Using zeros as starting parameters.\n",
      "  warn('Non-invertible starting MA parameters found.'\n"
     ]
    },
    {
     "name": "stdout",
     "output_type": "stream",
     "text": [
      "Nombre de jours écoulés=509, t=18, prédiction=376379, vraie valeur=376370\n",
      "Modèle meilleur_ARIMA: (2, 1, 2)\n"
     ]
    },
    {
     "name": "stderr",
     "output_type": "stream",
     "text": [
      "/usr/local/lib/python3.8/dist-packages/statsmodels/tsa/statespace/sarimax.py:966: UserWarning: Non-stationary starting autoregressive parameters found. Using zeros as starting parameters.\n",
      "  warn('Non-stationary starting autoregressive parameters'\n",
      "/usr/local/lib/python3.8/dist-packages/statsmodels/tsa/statespace/sarimax.py:978: UserWarning: Non-invertible starting MA parameters found. Using zeros as starting parameters.\n",
      "  warn('Non-invertible starting MA parameters found.'\n"
     ]
    },
    {
     "name": "stdout",
     "output_type": "stream",
     "text": [
      "Nombre de jours écoulés=510, t=19, prédiction=376449, vraie valeur=376431\n",
      "Modèle meilleur_ARIMA: (2, 1, 2)\n"
     ]
    },
    {
     "name": "stderr",
     "output_type": "stream",
     "text": [
      "/usr/local/lib/python3.8/dist-packages/statsmodels/tsa/statespace/sarimax.py:966: UserWarning: Non-stationary starting autoregressive parameters found. Using zeros as starting parameters.\n",
      "  warn('Non-stationary starting autoregressive parameters'\n",
      "/usr/local/lib/python3.8/dist-packages/statsmodels/tsa/statespace/sarimax.py:978: UserWarning: Non-invertible starting MA parameters found. Using zeros as starting parameters.\n",
      "  warn('Non-invertible starting MA parameters found.'\n"
     ]
    },
    {
     "name": "stdout",
     "output_type": "stream",
     "text": [
      "Nombre de jours écoulés=511, t=20, prédiction=376496, vraie valeur=376416\n",
      "Modèle meilleur_ARIMA: (2, 1, 2)\n"
     ]
    },
    {
     "name": "stderr",
     "output_type": "stream",
     "text": [
      "/usr/local/lib/python3.8/dist-packages/statsmodels/tsa/statespace/sarimax.py:966: UserWarning: Non-stationary starting autoregressive parameters found. Using zeros as starting parameters.\n",
      "  warn('Non-stationary starting autoregressive parameters'\n",
      "/usr/local/lib/python3.8/dist-packages/statsmodels/tsa/statespace/sarimax.py:978: UserWarning: Non-invertible starting MA parameters found. Using zeros as starting parameters.\n",
      "  warn('Non-invertible starting MA parameters found.'\n"
     ]
    },
    {
     "name": "stdout",
     "output_type": "stream",
     "text": [
      "Nombre de jours écoulés=512, t=21, prédiction=376410, vraie valeur=376519\n",
      "Modèle meilleur_ARIMA: (2, 1, 2)\n"
     ]
    },
    {
     "name": "stderr",
     "output_type": "stream",
     "text": [
      "/usr/local/lib/python3.8/dist-packages/statsmodels/tsa/statespace/sarimax.py:966: UserWarning: Non-stationary starting autoregressive parameters found. Using zeros as starting parameters.\n",
      "  warn('Non-stationary starting autoregressive parameters'\n",
      "/usr/local/lib/python3.8/dist-packages/statsmodels/tsa/statespace/sarimax.py:978: UserWarning: Non-invertible starting MA parameters found. Using zeros as starting parameters.\n",
      "  warn('Non-invertible starting MA parameters found.'\n"
     ]
    },
    {
     "name": "stdout",
     "output_type": "stream",
     "text": [
      "Nombre de jours écoulés=513, t=22, prédiction=376608, vraie valeur=376429\n",
      "Modèle meilleur_ARIMA: (2, 1, 2)\n"
     ]
    },
    {
     "name": "stderr",
     "output_type": "stream",
     "text": [
      "/usr/local/lib/python3.8/dist-packages/statsmodels/tsa/statespace/sarimax.py:966: UserWarning: Non-stationary starting autoregressive parameters found. Using zeros as starting parameters.\n",
      "  warn('Non-stationary starting autoregressive parameters'\n",
      "/usr/local/lib/python3.8/dist-packages/statsmodels/tsa/statespace/sarimax.py:978: UserWarning: Non-invertible starting MA parameters found. Using zeros as starting parameters.\n",
      "  warn('Non-invertible starting MA parameters found.'\n"
     ]
    },
    {
     "name": "stdout",
     "output_type": "stream",
     "text": [
      "Nombre de jours écoulés=514, t=23, prédiction=376361, vraie valeur=376530\n",
      "Modèle meilleur_ARIMA: (2, 1, 2)\n"
     ]
    },
    {
     "name": "stderr",
     "output_type": "stream",
     "text": [
      "/usr/local/lib/python3.8/dist-packages/statsmodels/tsa/statespace/sarimax.py:966: UserWarning: Non-stationary starting autoregressive parameters found. Using zeros as starting parameters.\n",
      "  warn('Non-stationary starting autoregressive parameters'\n",
      "/usr/local/lib/python3.8/dist-packages/statsmodels/tsa/statespace/sarimax.py:978: UserWarning: Non-invertible starting MA parameters found. Using zeros as starting parameters.\n",
      "  warn('Non-invertible starting MA parameters found.'\n"
     ]
    },
    {
     "name": "stdout",
     "output_type": "stream",
     "text": [
      "Nombre de jours écoulés=515, t=24, prédiction=376611, vraie valeur=376651\n",
      "Modèle meilleur_ARIMA: (2, 1, 2)\n"
     ]
    },
    {
     "name": "stderr",
     "output_type": "stream",
     "text": [
      "/usr/local/lib/python3.8/dist-packages/statsmodels/tsa/statespace/sarimax.py:966: UserWarning: Non-stationary starting autoregressive parameters found. Using zeros as starting parameters.\n",
      "  warn('Non-stationary starting autoregressive parameters'\n",
      "/usr/local/lib/python3.8/dist-packages/statsmodels/tsa/statespace/sarimax.py:978: UserWarning: Non-invertible starting MA parameters found. Using zeros as starting parameters.\n",
      "  warn('Non-invertible starting MA parameters found.'\n"
     ]
    },
    {
     "name": "stdout",
     "output_type": "stream",
     "text": [
      "Nombre de jours écoulés=516, t=25, prédiction=376757, vraie valeur=376753\n",
      "Modèle meilleur_ARIMA: (2, 1, 2)\n"
     ]
    },
    {
     "name": "stderr",
     "output_type": "stream",
     "text": [
      "/usr/local/lib/python3.8/dist-packages/statsmodels/tsa/statespace/sarimax.py:966: UserWarning: Non-stationary starting autoregressive parameters found. Using zeros as starting parameters.\n",
      "  warn('Non-stationary starting autoregressive parameters'\n",
      "/usr/local/lib/python3.8/dist-packages/statsmodels/tsa/statespace/sarimax.py:978: UserWarning: Non-invertible starting MA parameters found. Using zeros as starting parameters.\n",
      "  warn('Non-invertible starting MA parameters found.'\n"
     ]
    },
    {
     "name": "stdout",
     "output_type": "stream",
     "text": [
      "Nombre de jours écoulés=517, t=26, prédiction=376862, vraie valeur=376828\n",
      "Modèle meilleur_ARIMA: (2, 1, 2)\n"
     ]
    },
    {
     "name": "stderr",
     "output_type": "stream",
     "text": [
      "/usr/local/lib/python3.8/dist-packages/statsmodels/tsa/statespace/sarimax.py:966: UserWarning: Non-stationary starting autoregressive parameters found. Using zeros as starting parameters.\n",
      "  warn('Non-stationary starting autoregressive parameters'\n",
      "/usr/local/lib/python3.8/dist-packages/statsmodels/tsa/statespace/sarimax.py:978: UserWarning: Non-invertible starting MA parameters found. Using zeros as starting parameters.\n",
      "  warn('Non-invertible starting MA parameters found.'\n"
     ]
    },
    {
     "name": "stdout",
     "output_type": "stream",
     "text": [
      "Nombre de jours écoulés=518, t=27, prédiction=376900, vraie valeur=376901\n",
      "Modèle meilleur_ARIMA: (2, 1, 2)\n"
     ]
    },
    {
     "name": "stderr",
     "output_type": "stream",
     "text": [
      "/usr/local/lib/python3.8/dist-packages/statsmodels/tsa/statespace/sarimax.py:966: UserWarning: Non-stationary starting autoregressive parameters found. Using zeros as starting parameters.\n",
      "  warn('Non-stationary starting autoregressive parameters'\n",
      "/usr/local/lib/python3.8/dist-packages/statsmodels/tsa/statespace/sarimax.py:978: UserWarning: Non-invertible starting MA parameters found. Using zeros as starting parameters.\n",
      "  warn('Non-invertible starting MA parameters found.'\n"
     ]
    },
    {
     "name": "stdout",
     "output_type": "stream",
     "text": [
      "Nombre de jours écoulés=519, t=28, prédiction=376980, vraie valeur=377034\n",
      "Modèle meilleur_ARIMA: (2, 1, 2)\n"
     ]
    },
    {
     "name": "stderr",
     "output_type": "stream",
     "text": [
      "/usr/local/lib/python3.8/dist-packages/statsmodels/tsa/statespace/sarimax.py:966: UserWarning: Non-stationary starting autoregressive parameters found. Using zeros as starting parameters.\n",
      "  warn('Non-stationary starting autoregressive parameters'\n",
      "/usr/local/lib/python3.8/dist-packages/statsmodels/tsa/statespace/sarimax.py:978: UserWarning: Non-invertible starting MA parameters found. Using zeros as starting parameters.\n",
      "  warn('Non-invertible starting MA parameters found.'\n"
     ]
    },
    {
     "name": "stdout",
     "output_type": "stream",
     "text": [
      "Nombre de jours écoulés=520, t=29, prédiction=377151, vraie valeur=377172\n",
      "Modèle meilleur_ARIMA: (2, 1, 2)\n"
     ]
    },
    {
     "name": "stderr",
     "output_type": "stream",
     "text": [
      "/usr/local/lib/python3.8/dist-packages/statsmodels/tsa/statespace/sarimax.py:966: UserWarning: Non-stationary starting autoregressive parameters found. Using zeros as starting parameters.\n",
      "  warn('Non-stationary starting autoregressive parameters'\n",
      "/usr/local/lib/python3.8/dist-packages/statsmodels/tsa/statespace/sarimax.py:978: UserWarning: Non-invertible starting MA parameters found. Using zeros as starting parameters.\n",
      "  warn('Non-invertible starting MA parameters found.'\n"
     ]
    },
    {
     "name": "stdout",
     "output_type": "stream",
     "text": [
      "Nombre de jours écoulés=521, t=30, prédiction=377312, vraie valeur=377297\n",
      "Modèle meilleur_ARIMA: (2, 1, 2)\n"
     ]
    },
    {
     "name": "stderr",
     "output_type": "stream",
     "text": [
      "/usr/local/lib/python3.8/dist-packages/statsmodels/tsa/statespace/sarimax.py:966: UserWarning: Non-stationary starting autoregressive parameters found. Using zeros as starting parameters.\n",
      "  warn('Non-stationary starting autoregressive parameters'\n",
      "/usr/local/lib/python3.8/dist-packages/statsmodels/tsa/statespace/sarimax.py:978: UserWarning: Non-invertible starting MA parameters found. Using zeros as starting parameters.\n",
      "  warn('Non-invertible starting MA parameters found.'\n"
     ]
    },
    {
     "name": "stdout",
     "output_type": "stream",
     "text": [
      "Nombre de jours écoulés=522, t=31, prédiction=377417, vraie valeur=377486\n",
      "Modèle meilleur_ARIMA: (2, 1, 2)\n"
     ]
    },
    {
     "name": "stderr",
     "output_type": "stream",
     "text": [
      "/usr/local/lib/python3.8/dist-packages/statsmodels/tsa/statespace/sarimax.py:966: UserWarning: Non-stationary starting autoregressive parameters found. Using zeros as starting parameters.\n",
      "  warn('Non-stationary starting autoregressive parameters'\n",
      "/usr/local/lib/python3.8/dist-packages/statsmodels/tsa/statespace/sarimax.py:978: UserWarning: Non-invertible starting MA parameters found. Using zeros as starting parameters.\n",
      "  warn('Non-invertible starting MA parameters found.'\n"
     ]
    },
    {
     "name": "stdout",
     "output_type": "stream",
     "text": [
      "Nombre de jours écoulés=523, t=32, prédiction=377670, vraie valeur=377644\n",
      "Modèle meilleur_ARIMA: (2, 1, 2)\n"
     ]
    },
    {
     "name": "stderr",
     "output_type": "stream",
     "text": [
      "/usr/local/lib/python3.8/dist-packages/statsmodels/tsa/statespace/sarimax.py:966: UserWarning: Non-stationary starting autoregressive parameters found. Using zeros as starting parameters.\n",
      "  warn('Non-stationary starting autoregressive parameters'\n",
      "/usr/local/lib/python3.8/dist-packages/statsmodels/tsa/statespace/sarimax.py:978: UserWarning: Non-invertible starting MA parameters found. Using zeros as starting parameters.\n",
      "  warn('Non-invertible starting MA parameters found.'\n"
     ]
    },
    {
     "name": "stdout",
     "output_type": "stream",
     "text": [
      "Nombre de jours écoulés=524, t=33, prédiction=377797, vraie valeur=377798\n",
      "Modèle meilleur_ARIMA: (2, 1, 2)\n"
     ]
    },
    {
     "name": "stderr",
     "output_type": "stream",
     "text": [
      "/usr/local/lib/python3.8/dist-packages/statsmodels/tsa/statespace/sarimax.py:966: UserWarning: Non-stationary starting autoregressive parameters found. Using zeros as starting parameters.\n",
      "  warn('Non-stationary starting autoregressive parameters'\n",
      "/usr/local/lib/python3.8/dist-packages/statsmodels/tsa/statespace/sarimax.py:978: UserWarning: Non-invertible starting MA parameters found. Using zeros as starting parameters.\n",
      "  warn('Non-invertible starting MA parameters found.'\n"
     ]
    },
    {
     "name": "stdout",
     "output_type": "stream",
     "text": [
      "Nombre de jours écoulés=525, t=34, prédiction=377958, vraie valeur=377973\n",
      "Modèle meilleur_ARIMA: (2, 1, 2)\n"
     ]
    },
    {
     "name": "stderr",
     "output_type": "stream",
     "text": [
      "/usr/local/lib/python3.8/dist-packages/statsmodels/tsa/statespace/sarimax.py:966: UserWarning: Non-stationary starting autoregressive parameters found. Using zeros as starting parameters.\n",
      "  warn('Non-stationary starting autoregressive parameters'\n",
      "/usr/local/lib/python3.8/dist-packages/statsmodels/tsa/statespace/sarimax.py:978: UserWarning: Non-invertible starting MA parameters found. Using zeros as starting parameters.\n",
      "  warn('Non-invertible starting MA parameters found.'\n"
     ]
    },
    {
     "name": "stdout",
     "output_type": "stream",
     "text": [
      "Nombre de jours écoulés=526, t=35, prédiction=378137, vraie valeur=378157\n",
      "Modèle meilleur_ARIMA: (2, 1, 2)\n"
     ]
    },
    {
     "name": "stderr",
     "output_type": "stream",
     "text": [
      "/usr/local/lib/python3.8/dist-packages/statsmodels/tsa/statespace/sarimax.py:966: UserWarning: Non-stationary starting autoregressive parameters found. Using zeros as starting parameters.\n",
      "  warn('Non-stationary starting autoregressive parameters'\n",
      "/usr/local/lib/python3.8/dist-packages/statsmodels/tsa/statespace/sarimax.py:978: UserWarning: Non-invertible starting MA parameters found. Using zeros as starting parameters.\n",
      "  warn('Non-invertible starting MA parameters found.'\n"
     ]
    },
    {
     "name": "stdout",
     "output_type": "stream",
     "text": [
      "Nombre de jours écoulés=527, t=36, prédiction=378343, vraie valeur=378462\n",
      "Modèle meilleur_ARIMA: (2, 1, 2)\n"
     ]
    },
    {
     "name": "stderr",
     "output_type": "stream",
     "text": [
      "/usr/local/lib/python3.8/dist-packages/statsmodels/tsa/statespace/sarimax.py:966: UserWarning: Non-stationary starting autoregressive parameters found. Using zeros as starting parameters.\n",
      "  warn('Non-stationary starting autoregressive parameters'\n",
      "/usr/local/lib/python3.8/dist-packages/statsmodels/tsa/statespace/sarimax.py:978: UserWarning: Non-invertible starting MA parameters found. Using zeros as starting parameters.\n",
      "  warn('Non-invertible starting MA parameters found.'\n"
     ]
    },
    {
     "name": "stdout",
     "output_type": "stream",
     "text": [
      "Nombre de jours écoulés=528, t=37, prédiction=378740, vraie valeur=378680\n",
      "Modèle meilleur_ARIMA: (2, 1, 2)\n"
     ]
    },
    {
     "name": "stderr",
     "output_type": "stream",
     "text": [
      "/usr/local/lib/python3.8/dist-packages/statsmodels/tsa/statespace/sarimax.py:966: UserWarning: Non-stationary starting autoregressive parameters found. Using zeros as starting parameters.\n",
      "  warn('Non-stationary starting autoregressive parameters'\n",
      "/usr/local/lib/python3.8/dist-packages/statsmodels/tsa/statespace/sarimax.py:978: UserWarning: Non-invertible starting MA parameters found. Using zeros as starting parameters.\n",
      "  warn('Non-invertible starting MA parameters found.'\n"
     ]
    },
    {
     "name": "stdout",
     "output_type": "stream",
     "text": [
      "Nombre de jours écoulés=529, t=38, prédiction=378911, vraie valeur=378915\n",
      "Modèle meilleur_ARIMA: (2, 1, 2)\n"
     ]
    },
    {
     "name": "stderr",
     "output_type": "stream",
     "text": [
      "/usr/local/lib/python3.8/dist-packages/statsmodels/tsa/statespace/sarimax.py:966: UserWarning: Non-stationary starting autoregressive parameters found. Using zeros as starting parameters.\n",
      "  warn('Non-stationary starting autoregressive parameters'\n",
      "/usr/local/lib/python3.8/dist-packages/statsmodels/tsa/statespace/sarimax.py:978: UserWarning: Non-invertible starting MA parameters found. Using zeros as starting parameters.\n",
      "  warn('Non-invertible starting MA parameters found.'\n"
     ]
    },
    {
     "name": "stdout",
     "output_type": "stream",
     "text": [
      "Nombre de jours écoulés=530, t=39, prédiction=379143, vraie valeur=379189\n",
      "Modèle meilleur_ARIMA: (2, 1, 2)\n"
     ]
    },
    {
     "name": "stderr",
     "output_type": "stream",
     "text": [
      "/usr/local/lib/python3.8/dist-packages/statsmodels/tsa/statespace/sarimax.py:966: UserWarning: Non-stationary starting autoregressive parameters found. Using zeros as starting parameters.\n",
      "  warn('Non-stationary starting autoregressive parameters'\n",
      "/usr/local/lib/python3.8/dist-packages/statsmodels/tsa/statespace/sarimax.py:978: UserWarning: Non-invertible starting MA parameters found. Using zeros as starting parameters.\n",
      "  warn('Non-invertible starting MA parameters found.'\n"
     ]
    },
    {
     "name": "stdout",
     "output_type": "stream",
     "text": [
      "Nombre de jours écoulés=531, t=40, prédiction=379459, vraie valeur=379439\n",
      "Modèle meilleur_ARIMA: (2, 1, 2)\n"
     ]
    },
    {
     "name": "stderr",
     "output_type": "stream",
     "text": [
      "/usr/local/lib/python3.8/dist-packages/statsmodels/tsa/statespace/sarimax.py:966: UserWarning: Non-stationary starting autoregressive parameters found. Using zeros as starting parameters.\n",
      "  warn('Non-stationary starting autoregressive parameters'\n",
      "/usr/local/lib/python3.8/dist-packages/statsmodels/tsa/statespace/sarimax.py:978: UserWarning: Non-invertible starting MA parameters found. Using zeros as starting parameters.\n",
      "  warn('Non-invertible starting MA parameters found.'\n"
     ]
    },
    {
     "name": "stdout",
     "output_type": "stream",
     "text": [
      "Nombre de jours écoulés=532, t=41, prédiction=379685, vraie valeur=379673\n",
      "Modèle meilleur_ARIMA: (2, 1, 2)\n"
     ]
    },
    {
     "name": "stderr",
     "output_type": "stream",
     "text": [
      "/usr/local/lib/python3.8/dist-packages/statsmodels/tsa/statespace/sarimax.py:966: UserWarning: Non-stationary starting autoregressive parameters found. Using zeros as starting parameters.\n",
      "  warn('Non-stationary starting autoregressive parameters'\n",
      "/usr/local/lib/python3.8/dist-packages/statsmodels/tsa/statespace/sarimax.py:978: UserWarning: Non-invertible starting MA parameters found. Using zeros as starting parameters.\n",
      "  warn('Non-invertible starting MA parameters found.'\n"
     ]
    },
    {
     "name": "stdout",
     "output_type": "stream",
     "text": [
      "Nombre de jours écoulés=533, t=42, prédiction=379912, vraie valeur=380038\n",
      "Modèle meilleur_ARIMA: (2, 1, 2)\n"
     ]
    },
    {
     "name": "stderr",
     "output_type": "stream",
     "text": [
      "/usr/local/lib/python3.8/dist-packages/statsmodels/tsa/statespace/sarimax.py:966: UserWarning: Non-stationary starting autoregressive parameters found. Using zeros as starting parameters.\n",
      "  warn('Non-stationary starting autoregressive parameters'\n",
      "/usr/local/lib/python3.8/dist-packages/statsmodels/tsa/statespace/sarimax.py:978: UserWarning: Non-invertible starting MA parameters found. Using zeros as starting parameters.\n",
      "  warn('Non-invertible starting MA parameters found.'\n"
     ]
    },
    {
     "name": "stdout",
     "output_type": "stream",
     "text": [
      "Nombre de jours écoulés=534, t=43, prédiction=380377, vraie valeur=380407\n",
      "Modèle meilleur_ARIMA: (2, 1, 2)\n"
     ]
    },
    {
     "name": "stderr",
     "output_type": "stream",
     "text": [
      "/usr/local/lib/python3.8/dist-packages/statsmodels/tsa/statespace/sarimax.py:966: UserWarning: Non-stationary starting autoregressive parameters found. Using zeros as starting parameters.\n",
      "  warn('Non-stationary starting autoregressive parameters'\n",
      "/usr/local/lib/python3.8/dist-packages/statsmodels/tsa/statespace/sarimax.py:978: UserWarning: Non-invertible starting MA parameters found. Using zeros as starting parameters.\n",
      "  warn('Non-invertible starting MA parameters found.'\n"
     ]
    },
    {
     "name": "stdout",
     "output_type": "stream",
     "text": [
      "Nombre de jours écoulés=535, t=44, prédiction=380772, vraie valeur=380833\n",
      "Modèle meilleur_ARIMA: (2, 1, 2)\n"
     ]
    },
    {
     "name": "stderr",
     "output_type": "stream",
     "text": [
      "/usr/local/lib/python3.8/dist-packages/statsmodels/tsa/statespace/sarimax.py:966: UserWarning: Non-stationary starting autoregressive parameters found. Using zeros as starting parameters.\n",
      "  warn('Non-stationary starting autoregressive parameters'\n",
      "/usr/local/lib/python3.8/dist-packages/statsmodels/tsa/statespace/sarimax.py:978: UserWarning: Non-invertible starting MA parameters found. Using zeros as starting parameters.\n",
      "  warn('Non-invertible starting MA parameters found.'\n"
     ]
    },
    {
     "name": "stdout",
     "output_type": "stream",
     "text": [
      "Nombre de jours écoulés=536, t=45, prédiction=381243, vraie valeur=381266\n",
      "Modèle meilleur_ARIMA: (2, 1, 2)\n"
     ]
    },
    {
     "name": "stderr",
     "output_type": "stream",
     "text": [
      "/usr/local/lib/python3.8/dist-packages/statsmodels/tsa/statespace/sarimax.py:966: UserWarning: Non-stationary starting autoregressive parameters found. Using zeros as starting parameters.\n",
      "  warn('Non-stationary starting autoregressive parameters'\n",
      "/usr/local/lib/python3.8/dist-packages/statsmodels/tsa/statespace/sarimax.py:978: UserWarning: Non-invertible starting MA parameters found. Using zeros as starting parameters.\n",
      "  warn('Non-invertible starting MA parameters found.'\n"
     ]
    },
    {
     "name": "stdout",
     "output_type": "stream",
     "text": [
      "Nombre de jours écoulés=537, t=46, prédiction=381695, vraie valeur=381587\n",
      "Modèle meilleur_ARIMA: (2, 1, 2)\n"
     ]
    },
    {
     "name": "stderr",
     "output_type": "stream",
     "text": [
      "/usr/local/lib/python3.8/dist-packages/statsmodels/tsa/statespace/sarimax.py:966: UserWarning: Non-stationary starting autoregressive parameters found. Using zeros as starting parameters.\n",
      "  warn('Non-stationary starting autoregressive parameters'\n",
      "/usr/local/lib/python3.8/dist-packages/statsmodels/tsa/statespace/sarimax.py:978: UserWarning: Non-invertible starting MA parameters found. Using zeros as starting parameters.\n",
      "  warn('Non-invertible starting MA parameters found.'\n"
     ]
    },
    {
     "name": "stdout",
     "output_type": "stream",
     "text": [
      "Nombre de jours écoulés=538, t=47, prédiction=381919, vraie valeur=381996\n",
      "Modèle meilleur_ARIMA: (2, 1, 2)\n"
     ]
    },
    {
     "name": "stderr",
     "output_type": "stream",
     "text": [
      "/usr/local/lib/python3.8/dist-packages/statsmodels/tsa/statespace/sarimax.py:966: UserWarning: Non-stationary starting autoregressive parameters found. Using zeros as starting parameters.\n",
      "  warn('Non-stationary starting autoregressive parameters'\n",
      "/usr/local/lib/python3.8/dist-packages/statsmodels/tsa/statespace/sarimax.py:978: UserWarning: Non-invertible starting MA parameters found. Using zeros as starting parameters.\n",
      "  warn('Non-invertible starting MA parameters found.'\n"
     ]
    },
    {
     "name": "stdout",
     "output_type": "stream",
     "text": [
      "Nombre de jours écoulés=539, t=48, prédiction=382395, vraie valeur=382319\n",
      "Modèle meilleur_ARIMA: (2, 1, 2)\n"
     ]
    },
    {
     "name": "stderr",
     "output_type": "stream",
     "text": [
      "/usr/local/lib/python3.8/dist-packages/statsmodels/tsa/statespace/sarimax.py:966: UserWarning: Non-stationary starting autoregressive parameters found. Using zeros as starting parameters.\n",
      "  warn('Non-stationary starting autoregressive parameters'\n",
      "/usr/local/lib/python3.8/dist-packages/statsmodels/tsa/statespace/sarimax.py:978: UserWarning: Non-invertible starting MA parameters found. Using zeros as starting parameters.\n",
      "  warn('Non-invertible starting MA parameters found.'\n"
     ]
    },
    {
     "name": "stdout",
     "output_type": "stream",
     "text": [
      "Nombre de jours écoulés=540, t=49, prédiction=382646, vraie valeur=382755\n",
      "Modèle meilleur_ARIMA: (2, 1, 2)\n"
     ]
    },
    {
     "name": "stderr",
     "output_type": "stream",
     "text": [
      "/usr/local/lib/python3.8/dist-packages/statsmodels/tsa/statespace/sarimax.py:966: UserWarning: Non-stationary starting autoregressive parameters found. Using zeros as starting parameters.\n",
      "  warn('Non-stationary starting autoregressive parameters'\n",
      "/usr/local/lib/python3.8/dist-packages/statsmodels/tsa/statespace/sarimax.py:978: UserWarning: Non-invertible starting MA parameters found. Using zeros as starting parameters.\n",
      "  warn('Non-invertible starting MA parameters found.'\n"
     ]
    },
    {
     "name": "stdout",
     "output_type": "stream",
     "text": [
      "Nombre de jours écoulés=541, t=50, prédiction=383177, vraie valeur=383191\n",
      "Modèle meilleur_ARIMA: (2, 1, 2)\n"
     ]
    },
    {
     "name": "stderr",
     "output_type": "stream",
     "text": [
      "/usr/local/lib/python3.8/dist-packages/statsmodels/tsa/statespace/sarimax.py:966: UserWarning: Non-stationary starting autoregressive parameters found. Using zeros as starting parameters.\n",
      "  warn('Non-stationary starting autoregressive parameters'\n",
      "/usr/local/lib/python3.8/dist-packages/statsmodels/tsa/statespace/sarimax.py:978: UserWarning: Non-invertible starting MA parameters found. Using zeros as starting parameters.\n",
      "  warn('Non-invertible starting MA parameters found.'\n"
     ]
    },
    {
     "name": "stdout",
     "output_type": "stream",
     "text": [
      "Nombre de jours écoulés=542, t=51, prédiction=383615, vraie valeur=383718\n",
      "Modèle meilleur_ARIMA: (2, 1, 2)\n"
     ]
    },
    {
     "name": "stderr",
     "output_type": "stream",
     "text": [
      "/usr/local/lib/python3.8/dist-packages/statsmodels/tsa/statespace/sarimax.py:966: UserWarning: Non-stationary starting autoregressive parameters found. Using zeros as starting parameters.\n",
      "  warn('Non-stationary starting autoregressive parameters'\n",
      "/usr/local/lib/python3.8/dist-packages/statsmodels/tsa/statespace/sarimax.py:978: UserWarning: Non-invertible starting MA parameters found. Using zeros as starting parameters.\n",
      "  warn('Non-invertible starting MA parameters found.'\n"
     ]
    },
    {
     "name": "stdout",
     "output_type": "stream",
     "text": [
      "Nombre de jours écoulés=543, t=52, prédiction=384233, vraie valeur=384281\n",
      "Modèle meilleur_ARIMA: (2, 1, 2)\n"
     ]
    },
    {
     "name": "stderr",
     "output_type": "stream",
     "text": [
      "/usr/local/lib/python3.8/dist-packages/statsmodels/tsa/statespace/sarimax.py:966: UserWarning: Non-stationary starting autoregressive parameters found. Using zeros as starting parameters.\n",
      "  warn('Non-stationary starting autoregressive parameters'\n",
      "/usr/local/lib/python3.8/dist-packages/statsmodels/tsa/statespace/sarimax.py:978: UserWarning: Non-invertible starting MA parameters found. Using zeros as starting parameters.\n",
      "  warn('Non-invertible starting MA parameters found.'\n"
     ]
    },
    {
     "name": "stdout",
     "output_type": "stream",
     "text": [
      "Nombre de jours écoulés=544, t=53, prédiction=384825, vraie valeur=384744\n",
      "Modèle meilleur_ARIMA: (2, 1, 2)\n"
     ]
    },
    {
     "name": "stderr",
     "output_type": "stream",
     "text": [
      "/usr/local/lib/python3.8/dist-packages/statsmodels/tsa/statespace/sarimax.py:966: UserWarning: Non-stationary starting autoregressive parameters found. Using zeros as starting parameters.\n",
      "  warn('Non-stationary starting autoregressive parameters'\n",
      "/usr/local/lib/python3.8/dist-packages/statsmodels/tsa/statespace/sarimax.py:978: UserWarning: Non-invertible starting MA parameters found. Using zeros as starting parameters.\n",
      "  warn('Non-invertible starting MA parameters found.'\n"
     ]
    },
    {
     "name": "stdout",
     "output_type": "stream",
     "text": [
      "Nombre de jours écoulés=545, t=54, prédiction=385223, vraie valeur=385120\n",
      "Modèle meilleur_ARIMA: (2, 1, 2)\n"
     ]
    },
    {
     "name": "stderr",
     "output_type": "stream",
     "text": [
      "/usr/local/lib/python3.8/dist-packages/statsmodels/tsa/statespace/sarimax.py:966: UserWarning: Non-stationary starting autoregressive parameters found. Using zeros as starting parameters.\n",
      "  warn('Non-stationary starting autoregressive parameters'\n",
      "/usr/local/lib/python3.8/dist-packages/statsmodels/tsa/statespace/sarimax.py:978: UserWarning: Non-invertible starting MA parameters found. Using zeros as starting parameters.\n",
      "  warn('Non-invertible starting MA parameters found.'\n"
     ]
    },
    {
     "name": "stdout",
     "output_type": "stream",
     "text": [
      "Nombre de jours écoulés=546, t=55, prédiction=385503, vraie valeur=385465\n",
      "Modèle meilleur_ARIMA: (2, 1, 2)\n"
     ]
    },
    {
     "name": "stderr",
     "output_type": "stream",
     "text": [
      "/usr/local/lib/python3.8/dist-packages/statsmodels/tsa/statespace/sarimax.py:966: UserWarning: Non-stationary starting autoregressive parameters found. Using zeros as starting parameters.\n",
      "  warn('Non-stationary starting autoregressive parameters'\n",
      "/usr/local/lib/python3.8/dist-packages/statsmodels/tsa/statespace/sarimax.py:978: UserWarning: Non-invertible starting MA parameters found. Using zeros as starting parameters.\n",
      "  warn('Non-invertible starting MA parameters found.'\n"
     ]
    },
    {
     "name": "stdout",
     "output_type": "stream",
     "text": [
      "Nombre de jours écoulés=547, t=56, prédiction=385820, vraie valeur=386015\n",
      "Modèle meilleur_ARIMA: (2, 1, 2)\n"
     ]
    },
    {
     "name": "stderr",
     "output_type": "stream",
     "text": [
      "/usr/local/lib/python3.8/dist-packages/statsmodels/tsa/statespace/sarimax.py:966: UserWarning: Non-stationary starting autoregressive parameters found. Using zeros as starting parameters.\n",
      "  warn('Non-stationary starting autoregressive parameters'\n",
      "/usr/local/lib/python3.8/dist-packages/statsmodels/tsa/statespace/sarimax.py:978: UserWarning: Non-invertible starting MA parameters found. Using zeros as starting parameters.\n",
      "  warn('Non-invertible starting MA parameters found.'\n"
     ]
    },
    {
     "name": "stdout",
     "output_type": "stream",
     "text": [
      "Nombre de jours écoulés=548, t=57, prédiction=386525, vraie valeur=386618\n",
      "Modèle meilleur_ARIMA: (2, 1, 2)\n"
     ]
    },
    {
     "name": "stderr",
     "output_type": "stream",
     "text": [
      "/usr/local/lib/python3.8/dist-packages/statsmodels/tsa/statespace/sarimax.py:966: UserWarning: Non-stationary starting autoregressive parameters found. Using zeros as starting parameters.\n",
      "  warn('Non-stationary starting autoregressive parameters'\n",
      "/usr/local/lib/python3.8/dist-packages/statsmodels/tsa/statespace/sarimax.py:978: UserWarning: Non-invertible starting MA parameters found. Using zeros as starting parameters.\n",
      "  warn('Non-invertible starting MA parameters found.'\n"
     ]
    },
    {
     "name": "stdout",
     "output_type": "stream",
     "text": [
      "Nombre de jours écoulés=549, t=58, prédiction=387207, vraie valeur=387230\n",
      "Modèle meilleur_ARIMA: (2, 1, 2)\n"
     ]
    },
    {
     "name": "stderr",
     "output_type": "stream",
     "text": [
      "/usr/local/lib/python3.8/dist-packages/statsmodels/tsa/statespace/sarimax.py:966: UserWarning: Non-stationary starting autoregressive parameters found. Using zeros as starting parameters.\n",
      "  warn('Non-stationary starting autoregressive parameters'\n",
      "/usr/local/lib/python3.8/dist-packages/statsmodels/tsa/statespace/sarimax.py:978: UserWarning: Non-invertible starting MA parameters found. Using zeros as starting parameters.\n",
      "  warn('Non-invertible starting MA parameters found.'\n"
     ]
    },
    {
     "name": "stdout",
     "output_type": "stream",
     "text": [
      "Nombre de jours écoulés=550, t=59, prédiction=387830, vraie valeur=387834\n",
      "Modèle meilleur_ARIMA: (2, 1, 2)\n"
     ]
    },
    {
     "name": "stderr",
     "output_type": "stream",
     "text": [
      "/usr/local/lib/python3.8/dist-packages/statsmodels/tsa/statespace/sarimax.py:966: UserWarning: Non-stationary starting autoregressive parameters found. Using zeros as starting parameters.\n",
      "  warn('Non-stationary starting autoregressive parameters'\n",
      "/usr/local/lib/python3.8/dist-packages/statsmodels/tsa/statespace/sarimax.py:978: UserWarning: Non-invertible starting MA parameters found. Using zeros as starting parameters.\n",
      "  warn('Non-invertible starting MA parameters found.'\n"
     ]
    },
    {
     "name": "stdout",
     "output_type": "stream",
     "text": [
      "Nombre de jours écoulés=551, t=60, prédiction=388438, vraie valeur=388413\n",
      "Modèle meilleur_ARIMA: (2, 1, 2)\n"
     ]
    },
    {
     "name": "stderr",
     "output_type": "stream",
     "text": [
      "/usr/local/lib/python3.8/dist-packages/statsmodels/tsa/statespace/sarimax.py:966: UserWarning: Non-stationary starting autoregressive parameters found. Using zeros as starting parameters.\n",
      "  warn('Non-stationary starting autoregressive parameters'\n",
      "/usr/local/lib/python3.8/dist-packages/statsmodels/tsa/statespace/sarimax.py:978: UserWarning: Non-invertible starting MA parameters found. Using zeros as starting parameters.\n",
      "  warn('Non-invertible starting MA parameters found.'\n"
     ]
    },
    {
     "name": "stdout",
     "output_type": "stream",
     "text": [
      "Nombre de jours écoulés=552, t=61, prédiction=388987, vraie valeur=388799\n",
      "Modèle meilleur_ARIMA: (2, 1, 2)\n"
     ]
    },
    {
     "name": "stderr",
     "output_type": "stream",
     "text": [
      "/usr/local/lib/python3.8/dist-packages/statsmodels/tsa/statespace/sarimax.py:966: UserWarning: Non-stationary starting autoregressive parameters found. Using zeros as starting parameters.\n",
      "  warn('Non-stationary starting autoregressive parameters'\n",
      "/usr/local/lib/python3.8/dist-packages/statsmodels/tsa/statespace/sarimax.py:978: UserWarning: Non-invertible starting MA parameters found. Using zeros as starting parameters.\n",
      "  warn('Non-invertible starting MA parameters found.'\n"
     ]
    },
    {
     "name": "stdout",
     "output_type": "stream",
     "text": [
      "Nombre de jours écoulés=553, t=62, prédiction=389215, vraie valeur=389224\n",
      "Modèle meilleur_ARIMA: (2, 1, 2)\n"
     ]
    },
    {
     "name": "stderr",
     "output_type": "stream",
     "text": [
      "/usr/local/lib/python3.8/dist-packages/statsmodels/tsa/statespace/sarimax.py:966: UserWarning: Non-stationary starting autoregressive parameters found. Using zeros as starting parameters.\n",
      "  warn('Non-stationary starting autoregressive parameters'\n",
      "/usr/local/lib/python3.8/dist-packages/statsmodels/tsa/statespace/sarimax.py:978: UserWarning: Non-invertible starting MA parameters found. Using zeros as starting parameters.\n",
      "  warn('Non-invertible starting MA parameters found.'\n"
     ]
    },
    {
     "name": "stdout",
     "output_type": "stream",
     "text": [
      "Nombre de jours écoulés=554, t=63, prédiction=389642, vraie valeur=389914\n",
      "Modèle meilleur_ARIMA: (2, 1, 2)\n"
     ]
    },
    {
     "name": "stderr",
     "output_type": "stream",
     "text": [
      "/usr/local/lib/python3.8/dist-packages/statsmodels/tsa/statespace/sarimax.py:966: UserWarning: Non-stationary starting autoregressive parameters found. Using zeros as starting parameters.\n",
      "  warn('Non-stationary starting autoregressive parameters'\n",
      "/usr/local/lib/python3.8/dist-packages/statsmodels/tsa/statespace/sarimax.py:978: UserWarning: Non-invertible starting MA parameters found. Using zeros as starting parameters.\n",
      "  warn('Non-invertible starting MA parameters found.'\n"
     ]
    },
    {
     "name": "stdout",
     "output_type": "stream",
     "text": [
      "Nombre de jours écoulés=555, t=64, prédiction=390561, vraie valeur=390613\n",
      "Modèle meilleur_ARIMA: (2, 1, 2)\n"
     ]
    },
    {
     "name": "stderr",
     "output_type": "stream",
     "text": [
      "/usr/local/lib/python3.8/dist-packages/statsmodels/tsa/statespace/sarimax.py:966: UserWarning: Non-stationary starting autoregressive parameters found. Using zeros as starting parameters.\n",
      "  warn('Non-stationary starting autoregressive parameters'\n",
      "/usr/local/lib/python3.8/dist-packages/statsmodels/tsa/statespace/sarimax.py:978: UserWarning: Non-invertible starting MA parameters found. Using zeros as starting parameters.\n",
      "  warn('Non-invertible starting MA parameters found.'\n"
     ]
    },
    {
     "name": "stdout",
     "output_type": "stream",
     "text": [
      "Nombre de jours écoulés=556, t=65, prédiction=391294, vraie valeur=391363\n",
      "Modèle meilleur_ARIMA: (2, 1, 2)\n"
     ]
    },
    {
     "name": "stderr",
     "output_type": "stream",
     "text": [
      "/usr/local/lib/python3.8/dist-packages/statsmodels/tsa/statespace/sarimax.py:966: UserWarning: Non-stationary starting autoregressive parameters found. Using zeros as starting parameters.\n",
      "  warn('Non-stationary starting autoregressive parameters'\n",
      "/usr/local/lib/python3.8/dist-packages/statsmodels/tsa/statespace/sarimax.py:978: UserWarning: Non-invertible starting MA parameters found. Using zeros as starting parameters.\n",
      "  warn('Non-invertible starting MA parameters found.'\n"
     ]
    },
    {
     "name": "stdout",
     "output_type": "stream",
     "text": [
      "Nombre de jours écoulés=557, t=66, prédiction=392103, vraie valeur=392029\n",
      "Modèle meilleur_ARIMA: (2, 1, 2)\n"
     ]
    },
    {
     "name": "stderr",
     "output_type": "stream",
     "text": [
      "/usr/local/lib/python3.8/dist-packages/statsmodels/tsa/statespace/sarimax.py:966: UserWarning: Non-stationary starting autoregressive parameters found. Using zeros as starting parameters.\n",
      "  warn('Non-stationary starting autoregressive parameters'\n",
      "/usr/local/lib/python3.8/dist-packages/statsmodels/tsa/statespace/sarimax.py:978: UserWarning: Non-invertible starting MA parameters found. Using zeros as starting parameters.\n",
      "  warn('Non-invertible starting MA parameters found.'\n"
     ]
    },
    {
     "name": "stdout",
     "output_type": "stream",
     "text": [
      "Nombre de jours écoulés=558, t=67, prédiction=392696, vraie valeur=392807\n",
      "Modèle meilleur_ARIMA: (2, 1, 2)\n"
     ]
    },
    {
     "name": "stderr",
     "output_type": "stream",
     "text": [
      "/usr/local/lib/python3.8/dist-packages/statsmodels/tsa/statespace/sarimax.py:966: UserWarning: Non-stationary starting autoregressive parameters found. Using zeros as starting parameters.\n",
      "  warn('Non-stationary starting autoregressive parameters'\n",
      "/usr/local/lib/python3.8/dist-packages/statsmodels/tsa/statespace/sarimax.py:978: UserWarning: Non-invertible starting MA parameters found. Using zeros as starting parameters.\n",
      "  warn('Non-invertible starting MA parameters found.'\n"
     ]
    },
    {
     "name": "stdout",
     "output_type": "stream",
     "text": [
      "Nombre de jours écoulés=559, t=68, prédiction=393570, vraie valeur=393337\n",
      "Modèle meilleur_ARIMA: (2, 1, 2)\n"
     ]
    },
    {
     "name": "stderr",
     "output_type": "stream",
     "text": [
      "/usr/local/lib/python3.8/dist-packages/statsmodels/tsa/statespace/sarimax.py:966: UserWarning: Non-stationary starting autoregressive parameters found. Using zeros as starting parameters.\n",
      "  warn('Non-stationary starting autoregressive parameters'\n",
      "/usr/local/lib/python3.8/dist-packages/statsmodels/tsa/statespace/sarimax.py:978: UserWarning: Non-invertible starting MA parameters found. Using zeros as starting parameters.\n",
      "  warn('Non-invertible starting MA parameters found.'\n"
     ]
    },
    {
     "name": "stdout",
     "output_type": "stream",
     "text": [
      "Nombre de jours écoulés=560, t=69, prédiction=393891, vraie valeur=393852\n",
      "Modèle meilleur_ARIMA: (2, 1, 2)\n"
     ]
    },
    {
     "name": "stderr",
     "output_type": "stream",
     "text": [
      "/usr/local/lib/python3.8/dist-packages/statsmodels/tsa/statespace/sarimax.py:966: UserWarning: Non-stationary starting autoregressive parameters found. Using zeros as starting parameters.\n",
      "  warn('Non-stationary starting autoregressive parameters'\n",
      "/usr/local/lib/python3.8/dist-packages/statsmodels/tsa/statespace/sarimax.py:978: UserWarning: Non-invertible starting MA parameters found. Using zeros as starting parameters.\n",
      "  warn('Non-invertible starting MA parameters found.'\n"
     ]
    },
    {
     "name": "stdout",
     "output_type": "stream",
     "text": [
      "Nombre de jours écoulés=561, t=70, prédiction=394380, vraie valeur=394452\n",
      "Modèle meilleur_ARIMA: (2, 1, 2)\n"
     ]
    },
    {
     "name": "stderr",
     "output_type": "stream",
     "text": [
      "/usr/local/lib/python3.8/dist-packages/statsmodels/tsa/statespace/sarimax.py:966: UserWarning: Non-stationary starting autoregressive parameters found. Using zeros as starting parameters.\n",
      "  warn('Non-stationary starting autoregressive parameters'\n",
      "/usr/local/lib/python3.8/dist-packages/statsmodels/tsa/statespace/sarimax.py:978: UserWarning: Non-invertible starting MA parameters found. Using zeros as starting parameters.\n",
      "  warn('Non-invertible starting MA parameters found.'\n"
     ]
    },
    {
     "name": "stdout",
     "output_type": "stream",
     "text": [
      "Nombre de jours écoulés=562, t=71, prédiction=395028, vraie valeur=395155\n",
      "Modèle meilleur_ARIMA: (2, 1, 2)\n"
     ]
    },
    {
     "name": "stderr",
     "output_type": "stream",
     "text": [
      "/usr/local/lib/python3.8/dist-packages/statsmodels/tsa/statespace/sarimax.py:966: UserWarning: Non-stationary starting autoregressive parameters found. Using zeros as starting parameters.\n",
      "  warn('Non-stationary starting autoregressive parameters'\n",
      "/usr/local/lib/python3.8/dist-packages/statsmodels/tsa/statespace/sarimax.py:978: UserWarning: Non-invertible starting MA parameters found. Using zeros as starting parameters.\n",
      "  warn('Non-invertible starting MA parameters found.'\n"
     ]
    },
    {
     "name": "stdout",
     "output_type": "stream",
     "text": [
      "Nombre de jours écoulés=563, t=72, prédiction=395843, vraie valeur=396034\n",
      "Modèle meilleur_ARIMA: (2, 1, 2)\n"
     ]
    },
    {
     "name": "stderr",
     "output_type": "stream",
     "text": [
      "/usr/local/lib/python3.8/dist-packages/statsmodels/tsa/statespace/sarimax.py:966: UserWarning: Non-stationary starting autoregressive parameters found. Using zeros as starting parameters.\n",
      "  warn('Non-stationary starting autoregressive parameters'\n",
      "/usr/local/lib/python3.8/dist-packages/statsmodels/tsa/statespace/sarimax.py:978: UserWarning: Non-invertible starting MA parameters found. Using zeros as starting parameters.\n",
      "  warn('Non-invertible starting MA parameters found.'\n"
     ]
    },
    {
     "name": "stdout",
     "output_type": "stream",
     "text": [
      "Nombre de jours écoulés=564, t=73, prédiction=396870, vraie valeur=396034\n",
      "Modèle meilleur_ARIMA: (2, 1, 2)\n"
     ]
    },
    {
     "name": "stderr",
     "output_type": "stream",
     "text": [
      "/usr/local/lib/python3.8/dist-packages/statsmodels/tsa/statespace/sarimax.py:966: UserWarning: Non-stationary starting autoregressive parameters found. Using zeros as starting parameters.\n",
      "  warn('Non-stationary starting autoregressive parameters'\n",
      "/usr/local/lib/python3.8/dist-packages/statsmodels/tsa/statespace/sarimax.py:978: UserWarning: Non-invertible starting MA parameters found. Using zeros as starting parameters.\n",
      "  warn('Non-invertible starting MA parameters found.'\n"
     ]
    },
    {
     "name": "stdout",
     "output_type": "stream",
     "text": [
      "Nombre de jours écoulés=565, t=74, prédiction=396190, vraie valeur=397786\n",
      "Modèle meilleur_ARIMA: (2, 1, 2)\n",
      "Nombre de jours écoulés=566, t=75, prédiction=399061, vraie valeur=398425\n",
      "Modèle meilleur_ARIMA: (2, 1, 2)\n",
      "Nombre de jours écoulés=567, t=76, prédiction=399413, vraie valeur=399058\n",
      "Modèle meilleur_ARIMA: (2, 1, 2)\n",
      "Nombre de jours écoulés=568, t=77, prédiction=399770, vraie valeur=399843\n",
      "Modèle meilleur_ARIMA: (2, 1, 2)\n",
      "Nombre de jours écoulés=569, t=78, prédiction=400604, vraie valeur=400625\n",
      "Modèle meilleur_ARIMA: (2, 1, 2)\n",
      "Nombre de jours écoulés=570, t=79, prédiction=401395, vraie valeur=401462\n",
      "Modèle meilleur_ARIMA: (2, 1, 2)\n",
      "Nombre de jours écoulés=571, t=80, prédiction=402267, vraie valeur=402283\n",
      "Modèle meilleur_ARIMA: (2, 1, 2)\n",
      "Nombre de jours écoulés=572, t=81, prédiction=403091, vraie valeur=403025\n",
      "Modèle meilleur_ARIMA: (2, 1, 2)\n",
      "Nombre de jours écoulés=573, t=82, prédiction=403791, vraie valeur=403704\n",
      "Modèle meilleur_ARIMA: (2, 1, 2)\n",
      "Nombre de jours écoulés=574, t=83, prédiction=404419, vraie valeur=404291\n",
      "Modèle meilleur_ARIMA: (2, 1, 2)\n",
      "Nombre de jours écoulés=575, t=84, prédiction=404934, vraie valeur=404974\n",
      "Modèle meilleur_ARIMA: (2, 1, 2)\n",
      "Nombre de jours écoulés=576, t=85, prédiction=405644, vraie valeur=405728\n",
      "Modèle meilleur_ARIMA: (2, 1, 2)\n",
      "Nombre de jours écoulés=577, t=86, prédiction=406444, vraie valeur=406429\n",
      "Modèle meilleur_ARIMA: (2, 1, 2)\n",
      "Nombre de jours écoulés=578, t=87, prédiction=407130, vraie valeur=406429\n",
      "Modèle meilleur_ARIMA: (2, 1, 2)\n",
      "Nombre de jours écoulés=579, t=88, prédiction=406723, vraie valeur=406429\n",
      "Modèle meilleur_ARIMA: (2, 1, 2)\n",
      "Nombre de jours écoulés=580, t=89, prédiction=406575, vraie valeur=408462\n",
      "Modèle meilleur_ARIMA: (2, 1, 2)\n",
      "Nombre de jours écoulés=581, t=90, prédiction=409684, vraie valeur=408931\n",
      "Modèle meilleur_ARIMA: (2, 1, 2)\n"
     ]
    },
    {
     "name": "stderr",
     "output_type": "stream",
     "text": [
      "/usr/local/lib/python3.8/dist-packages/statsmodels/tsa/statespace/sarimax.py:966: UserWarning: Non-stationary starting autoregressive parameters found. Using zeros as starting parameters.\n",
      "  warn('Non-stationary starting autoregressive parameters'\n",
      "/usr/local/lib/python3.8/dist-packages/statsmodels/tsa/statespace/sarimax.py:978: UserWarning: Non-invertible starting MA parameters found. Using zeros as starting parameters.\n",
      "  warn('Non-invertible starting MA parameters found.'\n"
     ]
    },
    {
     "name": "stdout",
     "output_type": "stream",
     "text": [
      "Nombre de jours écoulés=582, t=91, prédiction=409675, vraie valeur=409525\n",
      "Modèle meilleur_ARIMA: (2, 1, 2)\n"
     ]
    },
    {
     "name": "stderr",
     "output_type": "stream",
     "text": [
      "/usr/local/lib/python3.8/dist-packages/statsmodels/tsa/statespace/sarimax.py:966: UserWarning: Non-stationary starting autoregressive parameters found. Using zeros as starting parameters.\n",
      "  warn('Non-stationary starting autoregressive parameters'\n",
      "/usr/local/lib/python3.8/dist-packages/statsmodels/tsa/statespace/sarimax.py:978: UserWarning: Non-invertible starting MA parameters found. Using zeros as starting parameters.\n",
      "  warn('Non-invertible starting MA parameters found.'\n"
     ]
    },
    {
     "name": "stdout",
     "output_type": "stream",
     "text": [
      "Nombre de jours écoulés=583, t=92, prédiction=410231, vraie valeur=410180\n",
      "Modèle meilleur_ARIMA: (2, 1, 2)\n"
     ]
    },
    {
     "name": "stderr",
     "output_type": "stream",
     "text": [
      "/usr/local/lib/python3.8/dist-packages/statsmodels/tsa/statespace/sarimax.py:966: UserWarning: Non-stationary starting autoregressive parameters found. Using zeros as starting parameters.\n",
      "  warn('Non-stationary starting autoregressive parameters'\n",
      "/usr/local/lib/python3.8/dist-packages/statsmodels/tsa/statespace/sarimax.py:978: UserWarning: Non-invertible starting MA parameters found. Using zeros as starting parameters.\n",
      "  warn('Non-invertible starting MA parameters found.'\n"
     ]
    },
    {
     "name": "stdout",
     "output_type": "stream",
     "text": [
      "Nombre de jours écoulés=584, t=93, prédiction=410838, vraie valeur=410823\n",
      "Modèle meilleur_ARIMA: (2, 1, 2)\n"
     ]
    },
    {
     "name": "stderr",
     "output_type": "stream",
     "text": [
      "/usr/local/lib/python3.8/dist-packages/statsmodels/tsa/statespace/sarimax.py:966: UserWarning: Non-stationary starting autoregressive parameters found. Using zeros as starting parameters.\n",
      "  warn('Non-stationary starting autoregressive parameters'\n",
      "/usr/local/lib/python3.8/dist-packages/statsmodels/tsa/statespace/sarimax.py:978: UserWarning: Non-invertible starting MA parameters found. Using zeros as starting parameters.\n",
      "  warn('Non-invertible starting MA parameters found.'\n"
     ]
    },
    {
     "name": "stdout",
     "output_type": "stream",
     "text": [
      "Nombre de jours écoulés=585, t=94, prédiction=411496, vraie valeur=411463\n",
      "Modèle meilleur_ARIMA: (2, 1, 2)\n"
     ]
    },
    {
     "name": "stderr",
     "output_type": "stream",
     "text": [
      "/usr/local/lib/python3.8/dist-packages/statsmodels/tsa/statespace/sarimax.py:966: UserWarning: Non-stationary starting autoregressive parameters found. Using zeros as starting parameters.\n",
      "  warn('Non-stationary starting autoregressive parameters'\n",
      "/usr/local/lib/python3.8/dist-packages/statsmodels/tsa/statespace/sarimax.py:978: UserWarning: Non-invertible starting MA parameters found. Using zeros as starting parameters.\n",
      "  warn('Non-invertible starting MA parameters found.'\n"
     ]
    },
    {
     "name": "stdout",
     "output_type": "stream",
     "text": [
      "Nombre de jours écoulés=586, t=95, prédiction=412096, vraie valeur=411962\n",
      "Modèle meilleur_ARIMA: (2, 1, 2)\n"
     ]
    },
    {
     "name": "stderr",
     "output_type": "stream",
     "text": [
      "/usr/local/lib/python3.8/dist-packages/statsmodels/tsa/statespace/sarimax.py:966: UserWarning: Non-stationary starting autoregressive parameters found. Using zeros as starting parameters.\n",
      "  warn('Non-stationary starting autoregressive parameters'\n",
      "/usr/local/lib/python3.8/dist-packages/statsmodels/tsa/statespace/sarimax.py:978: UserWarning: Non-invertible starting MA parameters found. Using zeros as starting parameters.\n",
      "  warn('Non-invertible starting MA parameters found.'\n"
     ]
    },
    {
     "name": "stdout",
     "output_type": "stream",
     "text": [
      "Nombre de jours écoulés=587, t=96, prédiction=412554, vraie valeur=412364\n",
      "Modèle meilleur_ARIMA: (2, 1, 2)\n"
     ]
    },
    {
     "name": "stderr",
     "output_type": "stream",
     "text": [
      "/usr/local/lib/python3.8/dist-packages/statsmodels/tsa/statespace/sarimax.py:966: UserWarning: Non-stationary starting autoregressive parameters found. Using zeros as starting parameters.\n",
      "  warn('Non-stationary starting autoregressive parameters'\n",
      "/usr/local/lib/python3.8/dist-packages/statsmodels/tsa/statespace/sarimax.py:978: UserWarning: Non-invertible starting MA parameters found. Using zeros as starting parameters.\n",
      "  warn('Non-invertible starting MA parameters found.'\n"
     ]
    },
    {
     "name": "stdout",
     "output_type": "stream",
     "text": [
      "Nombre de jours écoulés=588, t=97, prédiction=412853, vraie valeur=412800\n",
      "Modèle meilleur_ARIMA: (2, 1, 2)\n"
     ]
    },
    {
     "name": "stderr",
     "output_type": "stream",
     "text": [
      "/usr/local/lib/python3.8/dist-packages/statsmodels/tsa/statespace/sarimax.py:966: UserWarning: Non-stationary starting autoregressive parameters found. Using zeros as starting parameters.\n",
      "  warn('Non-stationary starting autoregressive parameters'\n",
      "/usr/local/lib/python3.8/dist-packages/statsmodels/tsa/statespace/sarimax.py:978: UserWarning: Non-invertible starting MA parameters found. Using zeros as starting parameters.\n",
      "  warn('Non-invertible starting MA parameters found.'\n"
     ]
    },
    {
     "name": "stdout",
     "output_type": "stream",
     "text": [
      "Nombre de jours écoulés=589, t=98, prédiction=413287, vraie valeur=413305\n",
      "Modèle meilleur_ARIMA: (2, 1, 2)\n"
     ]
    },
    {
     "name": "stderr",
     "output_type": "stream",
     "text": [
      "/usr/local/lib/python3.8/dist-packages/statsmodels/tsa/statespace/sarimax.py:966: UserWarning: Non-stationary starting autoregressive parameters found. Using zeros as starting parameters.\n",
      "  warn('Non-stationary starting autoregressive parameters'\n",
      "/usr/local/lib/python3.8/dist-packages/statsmodels/tsa/statespace/sarimax.py:978: UserWarning: Non-invertible starting MA parameters found. Using zeros as starting parameters.\n",
      "  warn('Non-invertible starting MA parameters found.'\n"
     ]
    },
    {
     "name": "stdout",
     "output_type": "stream",
     "text": [
      "Nombre de jours écoulés=590, t=99, prédiction=413779, vraie valeur=413929\n",
      "Modèle meilleur_ARIMA: (2, 1, 2)\n"
     ]
    },
    {
     "name": "stderr",
     "output_type": "stream",
     "text": [
      "/usr/local/lib/python3.8/dist-packages/statsmodels/tsa/statespace/sarimax.py:966: UserWarning: Non-stationary starting autoregressive parameters found. Using zeros as starting parameters.\n",
      "  warn('Non-stationary starting autoregressive parameters'\n",
      "/usr/local/lib/python3.8/dist-packages/statsmodels/tsa/statespace/sarimax.py:978: UserWarning: Non-invertible starting MA parameters found. Using zeros as starting parameters.\n",
      "  warn('Non-invertible starting MA parameters found.'\n"
     ]
    },
    {
     "name": "stdout",
     "output_type": "stream",
     "text": [
      "Nombre de jours écoulés=591, t=100, prédiction=414488, vraie valeur=414572\n",
      "Modèle meilleur_ARIMA: (2, 1, 2)\n"
     ]
    },
    {
     "name": "stderr",
     "output_type": "stream",
     "text": [
      "/usr/local/lib/python3.8/dist-packages/statsmodels/tsa/statespace/sarimax.py:966: UserWarning: Non-stationary starting autoregressive parameters found. Using zeros as starting parameters.\n",
      "  warn('Non-stationary starting autoregressive parameters'\n",
      "/usr/local/lib/python3.8/dist-packages/statsmodels/tsa/statespace/sarimax.py:978: UserWarning: Non-invertible starting MA parameters found. Using zeros as starting parameters.\n",
      "  warn('Non-invertible starting MA parameters found.'\n"
     ]
    },
    {
     "name": "stdout",
     "output_type": "stream",
     "text": [
      "Nombre de jours écoulés=592, t=101, prédiction=415142, vraie valeur=415174\n",
      "Modèle meilleur_ARIMA: (2, 1, 2)\n"
     ]
    },
    {
     "name": "stderr",
     "output_type": "stream",
     "text": [
      "/usr/local/lib/python3.8/dist-packages/statsmodels/tsa/statespace/sarimax.py:966: UserWarning: Non-stationary starting autoregressive parameters found. Using zeros as starting parameters.\n",
      "  warn('Non-stationary starting autoregressive parameters'\n",
      "/usr/local/lib/python3.8/dist-packages/statsmodels/tsa/statespace/sarimax.py:978: UserWarning: Non-invertible starting MA parameters found. Using zeros as starting parameters.\n",
      "  warn('Non-invertible starting MA parameters found.'\n"
     ]
    },
    {
     "name": "stdout",
     "output_type": "stream",
     "text": [
      "Nombre de jours écoulés=593, t=102, prédiction=415776, vraie valeur=415786\n",
      "Modèle meilleur_ARIMA: (2, 1, 2)\n"
     ]
    },
    {
     "name": "stderr",
     "output_type": "stream",
     "text": [
      "/usr/local/lib/python3.8/dist-packages/statsmodels/tsa/statespace/sarimax.py:966: UserWarning: Non-stationary starting autoregressive parameters found. Using zeros as starting parameters.\n",
      "  warn('Non-stationary starting autoregressive parameters'\n",
      "/usr/local/lib/python3.8/dist-packages/statsmodels/tsa/statespace/sarimax.py:978: UserWarning: Non-invertible starting MA parameters found. Using zeros as starting parameters.\n",
      "  warn('Non-invertible starting MA parameters found.'\n"
     ]
    },
    {
     "name": "stdout",
     "output_type": "stream",
     "text": [
      "Nombre de jours écoulés=594, t=103, prédiction=416370, vraie valeur=416266\n",
      "Modèle meilleur_ARIMA: (2, 1, 2)\n"
     ]
    },
    {
     "name": "stderr",
     "output_type": "stream",
     "text": [
      "/usr/local/lib/python3.8/dist-packages/statsmodels/tsa/statespace/sarimax.py:966: UserWarning: Non-stationary starting autoregressive parameters found. Using zeros as starting parameters.\n",
      "  warn('Non-stationary starting autoregressive parameters'\n",
      "/usr/local/lib/python3.8/dist-packages/statsmodels/tsa/statespace/sarimax.py:978: UserWarning: Non-invertible starting MA parameters found. Using zeros as starting parameters.\n",
      "  warn('Non-invertible starting MA parameters found.'\n"
     ]
    },
    {
     "name": "stdout",
     "output_type": "stream",
     "text": [
      "Nombre de jours écoulés=595, t=104, prédiction=416818, vraie valeur=416675\n",
      "Modèle meilleur_ARIMA: (2, 1, 2)\n"
     ]
    },
    {
     "name": "stderr",
     "output_type": "stream",
     "text": [
      "/usr/local/lib/python3.8/dist-packages/statsmodels/tsa/statespace/sarimax.py:966: UserWarning: Non-stationary starting autoregressive parameters found. Using zeros as starting parameters.\n",
      "  warn('Non-stationary starting autoregressive parameters'\n",
      "/usr/local/lib/python3.8/dist-packages/statsmodels/tsa/statespace/sarimax.py:978: UserWarning: Non-invertible starting MA parameters found. Using zeros as starting parameters.\n",
      "  warn('Non-invertible starting MA parameters found.'\n"
     ]
    },
    {
     "name": "stdout",
     "output_type": "stream",
     "text": [
      "Nombre de jours écoulés=596, t=105, prédiction=417148, vraie valeur=417187\n",
      "Modèle meilleur_ARIMA: (2, 1, 2)\n"
     ]
    },
    {
     "name": "stderr",
     "output_type": "stream",
     "text": [
      "/usr/local/lib/python3.8/dist-packages/statsmodels/tsa/statespace/sarimax.py:966: UserWarning: Non-stationary starting autoregressive parameters found. Using zeros as starting parameters.\n",
      "  warn('Non-stationary starting autoregressive parameters'\n",
      "/usr/local/lib/python3.8/dist-packages/statsmodels/tsa/statespace/sarimax.py:978: UserWarning: Non-invertible starting MA parameters found. Using zeros as starting parameters.\n",
      "  warn('Non-invertible starting MA parameters found.'\n"
     ]
    },
    {
     "name": "stdout",
     "output_type": "stream",
     "text": [
      "Nombre de jours écoulés=597, t=106, prédiction=417696, vraie valeur=417831\n",
      "Modèle meilleur_ARIMA: (2, 1, 2)\n"
     ]
    },
    {
     "name": "stderr",
     "output_type": "stream",
     "text": [
      "/usr/local/lib/python3.8/dist-packages/statsmodels/tsa/statespace/sarimax.py:966: UserWarning: Non-stationary starting autoregressive parameters found. Using zeros as starting parameters.\n",
      "  warn('Non-stationary starting autoregressive parameters'\n",
      "/usr/local/lib/python3.8/dist-packages/statsmodels/tsa/statespace/sarimax.py:978: UserWarning: Non-invertible starting MA parameters found. Using zeros as starting parameters.\n",
      "  warn('Non-invertible starting MA parameters found.'\n"
     ]
    },
    {
     "name": "stdout",
     "output_type": "stream",
     "text": [
      "Nombre de jours écoulés=598, t=107, prédiction=418380, vraie valeur=418508\n",
      "Modèle meilleur_ARIMA: (2, 1, 2)\n"
     ]
    },
    {
     "name": "stderr",
     "output_type": "stream",
     "text": [
      "/usr/local/lib/python3.8/dist-packages/statsmodels/tsa/statespace/sarimax.py:966: UserWarning: Non-stationary starting autoregressive parameters found. Using zeros as starting parameters.\n",
      "  warn('Non-stationary starting autoregressive parameters'\n",
      "/usr/local/lib/python3.8/dist-packages/statsmodels/tsa/statespace/sarimax.py:978: UserWarning: Non-invertible starting MA parameters found. Using zeros as starting parameters.\n",
      "  warn('Non-invertible starting MA parameters found.'\n"
     ]
    },
    {
     "name": "stdout",
     "output_type": "stream",
     "text": [
      "Nombre de jours écoulés=599, t=108, prédiction=419125, vraie valeur=419186\n",
      "Modèle meilleur_ARIMA: (2, 1, 2)\n"
     ]
    },
    {
     "name": "stderr",
     "output_type": "stream",
     "text": [
      "/usr/local/lib/python3.8/dist-packages/statsmodels/tsa/statespace/sarimax.py:966: UserWarning: Non-stationary starting autoregressive parameters found. Using zeros as starting parameters.\n",
      "  warn('Non-stationary starting autoregressive parameters'\n",
      "/usr/local/lib/python3.8/dist-packages/statsmodels/tsa/statespace/sarimax.py:978: UserWarning: Non-invertible starting MA parameters found. Using zeros as starting parameters.\n",
      "  warn('Non-invertible starting MA parameters found.'\n"
     ]
    },
    {
     "name": "stdout",
     "output_type": "stream",
     "text": [
      "Nombre de jours écoulés=600, t=109, prédiction=419811, vraie valeur=419718\n",
      "Modèle meilleur_ARIMA: (2, 1, 2)\n"
     ]
    },
    {
     "name": "stderr",
     "output_type": "stream",
     "text": [
      "/usr/local/lib/python3.8/dist-packages/statsmodels/tsa/statespace/sarimax.py:966: UserWarning: Non-stationary starting autoregressive parameters found. Using zeros as starting parameters.\n",
      "  warn('Non-stationary starting autoregressive parameters'\n",
      "/usr/local/lib/python3.8/dist-packages/statsmodels/tsa/statespace/sarimax.py:978: UserWarning: Non-invertible starting MA parameters found. Using zeros as starting parameters.\n",
      "  warn('Non-invertible starting MA parameters found.'\n"
     ]
    },
    {
     "name": "stdout",
     "output_type": "stream",
     "text": [
      "Nombre de jours écoulés=601, t=110, prédiction=420310, vraie valeur=420128\n",
      "Modèle meilleur_ARIMA: (2, 1, 2)\n"
     ]
    },
    {
     "name": "stderr",
     "output_type": "stream",
     "text": [
      "/usr/local/lib/python3.8/dist-packages/statsmodels/tsa/statespace/sarimax.py:966: UserWarning: Non-stationary starting autoregressive parameters found. Using zeros as starting parameters.\n",
      "  warn('Non-stationary starting autoregressive parameters'\n",
      "/usr/local/lib/python3.8/dist-packages/statsmodels/tsa/statespace/sarimax.py:978: UserWarning: Non-invertible starting MA parameters found. Using zeros as starting parameters.\n",
      "  warn('Non-invertible starting MA parameters found.'\n"
     ]
    },
    {
     "name": "stdout",
     "output_type": "stream",
     "text": [
      "Nombre de jours écoulés=602, t=111, prédiction=420627, vraie valeur=420470\n",
      "Modèle meilleur_ARIMA: (2, 1, 2)\n"
     ]
    },
    {
     "name": "stderr",
     "output_type": "stream",
     "text": [
      "/usr/local/lib/python3.8/dist-packages/statsmodels/tsa/statespace/sarimax.py:966: UserWarning: Non-stationary starting autoregressive parameters found. Using zeros as starting parameters.\n",
      "  warn('Non-stationary starting autoregressive parameters'\n",
      "/usr/local/lib/python3.8/dist-packages/statsmodels/tsa/statespace/sarimax.py:978: UserWarning: Non-invertible starting MA parameters found. Using zeros as starting parameters.\n",
      "  warn('Non-invertible starting MA parameters found.'\n"
     ]
    },
    {
     "name": "stdout",
     "output_type": "stream",
     "text": [
      "Nombre de jours écoulés=603, t=112, prédiction=420912, vraie valeur=420928\n",
      "Modèle meilleur_ARIMA: (2, 1, 2)\n"
     ]
    },
    {
     "name": "stderr",
     "output_type": "stream",
     "text": [
      "/usr/local/lib/python3.8/dist-packages/statsmodels/tsa/statespace/sarimax.py:966: UserWarning: Non-stationary starting autoregressive parameters found. Using zeros as starting parameters.\n",
      "  warn('Non-stationary starting autoregressive parameters'\n",
      "/usr/local/lib/python3.8/dist-packages/statsmodels/tsa/statespace/sarimax.py:978: UserWarning: Non-invertible starting MA parameters found. Using zeros as starting parameters.\n",
      "  warn('Non-invertible starting MA parameters found.'\n"
     ]
    },
    {
     "name": "stdout",
     "output_type": "stream",
     "text": [
      "Nombre de jours écoulés=604, t=113, prédiction=421370, vraie valeur=421356\n",
      "Modèle meilleur_ARIMA: (2, 1, 2)\n"
     ]
    },
    {
     "name": "stderr",
     "output_type": "stream",
     "text": [
      "/usr/local/lib/python3.8/dist-packages/statsmodels/tsa/statespace/sarimax.py:966: UserWarning: Non-stationary starting autoregressive parameters found. Using zeros as starting parameters.\n",
      "  warn('Non-stationary starting autoregressive parameters'\n",
      "/usr/local/lib/python3.8/dist-packages/statsmodels/tsa/statespace/sarimax.py:978: UserWarning: Non-invertible starting MA parameters found. Using zeros as starting parameters.\n",
      "  warn('Non-invertible starting MA parameters found.'\n"
     ]
    },
    {
     "name": "stdout",
     "output_type": "stream",
     "text": [
      "Nombre de jours écoulés=605, t=114, prédiction=421794, vraie valeur=421685\n",
      "Modèle meilleur_ARIMA: (2, 1, 2)\n"
     ]
    },
    {
     "name": "stderr",
     "output_type": "stream",
     "text": [
      "/usr/local/lib/python3.8/dist-packages/statsmodels/tsa/statespace/sarimax.py:966: UserWarning: Non-stationary starting autoregressive parameters found. Using zeros as starting parameters.\n",
      "  warn('Non-stationary starting autoregressive parameters'\n",
      "/usr/local/lib/python3.8/dist-packages/statsmodels/tsa/statespace/sarimax.py:978: UserWarning: Non-invertible starting MA parameters found. Using zeros as starting parameters.\n",
      "  warn('Non-invertible starting MA parameters found.'\n"
     ]
    },
    {
     "name": "stdout",
     "output_type": "stream",
     "text": [
      "Nombre de jours écoulés=606, t=115, prédiction=422067, vraie valeur=422241\n",
      "Modèle meilleur_ARIMA: (2, 1, 2)\n"
     ]
    },
    {
     "name": "stderr",
     "output_type": "stream",
     "text": [
      "/usr/local/lib/python3.8/dist-packages/statsmodels/tsa/statespace/sarimax.py:966: UserWarning: Non-stationary starting autoregressive parameters found. Using zeros as starting parameters.\n",
      "  warn('Non-stationary starting autoregressive parameters'\n",
      "/usr/local/lib/python3.8/dist-packages/statsmodels/tsa/statespace/sarimax.py:978: UserWarning: Non-invertible starting MA parameters found. Using zeros as starting parameters.\n",
      "  warn('Non-invertible starting MA parameters found.'\n"
     ]
    },
    {
     "name": "stdout",
     "output_type": "stream",
     "text": [
      "Nombre de jours écoulés=607, t=116, prédiction=422714, vraie valeur=422670\n",
      "Modèle meilleur_ARIMA: (2, 1, 2)\n"
     ]
    },
    {
     "name": "stderr",
     "output_type": "stream",
     "text": [
      "/usr/local/lib/python3.8/dist-packages/statsmodels/tsa/statespace/sarimax.py:966: UserWarning: Non-stationary starting autoregressive parameters found. Using zeros as starting parameters.\n",
      "  warn('Non-stationary starting autoregressive parameters'\n",
      "/usr/local/lib/python3.8/dist-packages/statsmodels/tsa/statespace/sarimax.py:978: UserWarning: Non-invertible starting MA parameters found. Using zeros as starting parameters.\n",
      "  warn('Non-invertible starting MA parameters found.'\n"
     ]
    },
    {
     "name": "stdout",
     "output_type": "stream",
     "text": [
      "Nombre de jours écoulés=608, t=117, prédiction=423098, vraie valeur=422994\n",
      "Modèle meilleur_ARIMA: (2, 1, 2)\n"
     ]
    },
    {
     "name": "stderr",
     "output_type": "stream",
     "text": [
      "/usr/local/lib/python3.8/dist-packages/statsmodels/tsa/statespace/sarimax.py:966: UserWarning: Non-stationary starting autoregressive parameters found. Using zeros as starting parameters.\n",
      "  warn('Non-stationary starting autoregressive parameters'\n",
      "/usr/local/lib/python3.8/dist-packages/statsmodels/tsa/statespace/sarimax.py:978: UserWarning: Non-invertible starting MA parameters found. Using zeros as starting parameters.\n",
      "  warn('Non-invertible starting MA parameters found.'\n"
     ]
    },
    {
     "name": "stdout",
     "output_type": "stream",
     "text": [
      "Nombre de jours écoulés=609, t=118, prédiction=423396, vraie valeur=423334\n",
      "Modèle meilleur_ARIMA: (2, 1, 2)\n"
     ]
    },
    {
     "name": "stderr",
     "output_type": "stream",
     "text": [
      "/usr/local/lib/python3.8/dist-packages/statsmodels/tsa/statespace/sarimax.py:966: UserWarning: Non-stationary starting autoregressive parameters found. Using zeros as starting parameters.\n",
      "  warn('Non-stationary starting autoregressive parameters'\n",
      "/usr/local/lib/python3.8/dist-packages/statsmodels/tsa/statespace/sarimax.py:978: UserWarning: Non-invertible starting MA parameters found. Using zeros as starting parameters.\n",
      "  warn('Non-invertible starting MA parameters found.'\n"
     ]
    },
    {
     "name": "stdout",
     "output_type": "stream",
     "text": [
      "Nombre de jours écoulés=610, t=119, prédiction=423690, vraie valeur=423812\n",
      "Modèle meilleur_ARIMA: (2, 1, 2)\n"
     ]
    },
    {
     "name": "stderr",
     "output_type": "stream",
     "text": [
      "/usr/local/lib/python3.8/dist-packages/statsmodels/tsa/statespace/sarimax.py:966: UserWarning: Non-stationary starting autoregressive parameters found. Using zeros as starting parameters.\n",
      "  warn('Non-stationary starting autoregressive parameters'\n",
      "/usr/local/lib/python3.8/dist-packages/statsmodels/tsa/statespace/sarimax.py:978: UserWarning: Non-invertible starting MA parameters found. Using zeros as starting parameters.\n",
      "  warn('Non-invertible starting MA parameters found.'\n"
     ]
    },
    {
     "name": "stdout",
     "output_type": "stream",
     "text": [
      "Nombre de jours écoulés=611, t=120, prédiction=424242, vraie valeur=424290\n",
      "Modèle meilleur_ARIMA: (2, 1, 2)\n"
     ]
    },
    {
     "name": "stderr",
     "output_type": "stream",
     "text": [
      "/usr/local/lib/python3.8/dist-packages/statsmodels/tsa/statespace/sarimax.py:966: UserWarning: Non-stationary starting autoregressive parameters found. Using zeros as starting parameters.\n",
      "  warn('Non-stationary starting autoregressive parameters'\n",
      "/usr/local/lib/python3.8/dist-packages/statsmodels/tsa/statespace/sarimax.py:978: UserWarning: Non-invertible starting MA parameters found. Using zeros as starting parameters.\n",
      "  warn('Non-invertible starting MA parameters found.'\n"
     ]
    },
    {
     "name": "stdout",
     "output_type": "stream",
     "text": [
      "Nombre de jours écoulés=612, t=121, prédiction=424714, vraie valeur=424801\n",
      "Modèle meilleur_ARIMA: (2, 1, 2)\n"
     ]
    },
    {
     "name": "stderr",
     "output_type": "stream",
     "text": [
      "/usr/local/lib/python3.8/dist-packages/statsmodels/tsa/statespace/sarimax.py:966: UserWarning: Non-stationary starting autoregressive parameters found. Using zeros as starting parameters.\n",
      "  warn('Non-stationary starting autoregressive parameters'\n",
      "/usr/local/lib/python3.8/dist-packages/statsmodels/tsa/statespace/sarimax.py:978: UserWarning: Non-invertible starting MA parameters found. Using zeros as starting parameters.\n",
      "  warn('Non-invertible starting MA parameters found.'\n"
     ]
    },
    {
     "name": "stdout",
     "output_type": "stream",
     "text": [
      "Nombre de jours écoulés=613, t=122, prédiction=425286, vraie valeur=425392\n",
      "Modèle meilleur_ARIMA: (2, 1, 2)\n"
     ]
    },
    {
     "name": "stderr",
     "output_type": "stream",
     "text": [
      "/usr/local/lib/python3.8/dist-packages/statsmodels/tsa/statespace/sarimax.py:966: UserWarning: Non-stationary starting autoregressive parameters found. Using zeros as starting parameters.\n",
      "  warn('Non-stationary starting autoregressive parameters'\n",
      "/usr/local/lib/python3.8/dist-packages/statsmodels/tsa/statespace/sarimax.py:978: UserWarning: Non-invertible starting MA parameters found. Using zeros as starting parameters.\n",
      "  warn('Non-invertible starting MA parameters found.'\n"
     ]
    },
    {
     "name": "stdout",
     "output_type": "stream",
     "text": [
      "Nombre de jours écoulés=614, t=123, prédiction=425898, vraie valeur=425959\n",
      "Modèle meilleur_ARIMA: (2, 1, 2)\n"
     ]
    },
    {
     "name": "stderr",
     "output_type": "stream",
     "text": [
      "/usr/local/lib/python3.8/dist-packages/statsmodels/tsa/statespace/sarimax.py:966: UserWarning: Non-stationary starting autoregressive parameters found. Using zeros as starting parameters.\n",
      "  warn('Non-stationary starting autoregressive parameters'\n",
      "/usr/local/lib/python3.8/dist-packages/statsmodels/tsa/statespace/sarimax.py:978: UserWarning: Non-invertible starting MA parameters found. Using zeros as starting parameters.\n",
      "  warn('Non-invertible starting MA parameters found.'\n"
     ]
    },
    {
     "name": "stdout",
     "output_type": "stream",
     "text": [
      "Nombre de jours écoulés=615, t=124, prédiction=426509, vraie valeur=426456\n",
      "Modèle meilleur_ARIMA: (2, 1, 2)\n"
     ]
    },
    {
     "name": "stderr",
     "output_type": "stream",
     "text": [
      "/usr/local/lib/python3.8/dist-packages/statsmodels/tsa/statespace/sarimax.py:966: UserWarning: Non-stationary starting autoregressive parameters found. Using zeros as starting parameters.\n",
      "  warn('Non-stationary starting autoregressive parameters'\n",
      "/usr/local/lib/python3.8/dist-packages/statsmodels/tsa/statespace/sarimax.py:978: UserWarning: Non-invertible starting MA parameters found. Using zeros as starting parameters.\n",
      "  warn('Non-invertible starting MA parameters found.'\n"
     ]
    },
    {
     "name": "stdout",
     "output_type": "stream",
     "text": [
      "Nombre de jours écoulés=616, t=125, prédiction=426959, vraie valeur=426946\n",
      "Modèle meilleur_ARIMA: (2, 1, 2)\n"
     ]
    },
    {
     "name": "stderr",
     "output_type": "stream",
     "text": [
      "/usr/local/lib/python3.8/dist-packages/statsmodels/tsa/statespace/sarimax.py:966: UserWarning: Non-stationary starting autoregressive parameters found. Using zeros as starting parameters.\n",
      "  warn('Non-stationary starting autoregressive parameters'\n",
      "/usr/local/lib/python3.8/dist-packages/statsmodels/tsa/statespace/sarimax.py:978: UserWarning: Non-invertible starting MA parameters found. Using zeros as starting parameters.\n",
      "  warn('Non-invertible starting MA parameters found.'\n"
     ]
    },
    {
     "name": "stdout",
     "output_type": "stream",
     "text": [
      "Nombre de jours écoulés=617, t=126, prédiction=427464, vraie valeur=427471\n",
      "Modèle meilleur_ARIMA: (2, 1, 2)\n"
     ]
    },
    {
     "name": "stderr",
     "output_type": "stream",
     "text": [
      "/usr/local/lib/python3.8/dist-packages/statsmodels/tsa/statespace/sarimax.py:966: UserWarning: Non-stationary starting autoregressive parameters found. Using zeros as starting parameters.\n",
      "  warn('Non-stationary starting autoregressive parameters'\n",
      "/usr/local/lib/python3.8/dist-packages/statsmodels/tsa/statespace/sarimax.py:978: UserWarning: Non-invertible starting MA parameters found. Using zeros as starting parameters.\n",
      "  warn('Non-invertible starting MA parameters found.'\n"
     ]
    },
    {
     "name": "stdout",
     "output_type": "stream",
     "text": [
      "Nombre de jours écoulés=618, t=127, prédiction=427969, vraie valeur=428059\n",
      "Modèle meilleur_ARIMA: (2, 1, 2)\n"
     ]
    },
    {
     "name": "stderr",
     "output_type": "stream",
     "text": [
      "/usr/local/lib/python3.8/dist-packages/statsmodels/tsa/statespace/sarimax.py:966: UserWarning: Non-stationary starting autoregressive parameters found. Using zeros as starting parameters.\n",
      "  warn('Non-stationary starting autoregressive parameters'\n",
      "/usr/local/lib/python3.8/dist-packages/statsmodels/tsa/statespace/sarimax.py:978: UserWarning: Non-invertible starting MA parameters found. Using zeros as starting parameters.\n",
      "  warn('Non-invertible starting MA parameters found.'\n"
     ]
    },
    {
     "name": "stdout",
     "output_type": "stream",
     "text": [
      "Nombre de jours écoulés=619, t=128, prédiction=428616, vraie valeur=428630\n",
      "Modèle meilleur_ARIMA: (2, 1, 2)\n"
     ]
    },
    {
     "name": "stderr",
     "output_type": "stream",
     "text": [
      "/usr/local/lib/python3.8/dist-packages/statsmodels/tsa/statespace/sarimax.py:966: UserWarning: Non-stationary starting autoregressive parameters found. Using zeros as starting parameters.\n",
      "  warn('Non-stationary starting autoregressive parameters'\n",
      "/usr/local/lib/python3.8/dist-packages/statsmodels/tsa/statespace/sarimax.py:978: UserWarning: Non-invertible starting MA parameters found. Using zeros as starting parameters.\n",
      "  warn('Non-invertible starting MA parameters found.'\n"
     ]
    },
    {
     "name": "stdout",
     "output_type": "stream",
     "text": [
      "Nombre de jours écoulés=620, t=129, prédiction=429167, vraie valeur=429318\n",
      "Modèle meilleur_ARIMA: (2, 1, 2)\n"
     ]
    },
    {
     "name": "stderr",
     "output_type": "stream",
     "text": [
      "/usr/local/lib/python3.8/dist-packages/statsmodels/tsa/statespace/sarimax.py:966: UserWarning: Non-stationary starting autoregressive parameters found. Using zeros as starting parameters.\n",
      "  warn('Non-stationary starting autoregressive parameters'\n",
      "/usr/local/lib/python3.8/dist-packages/statsmodels/tsa/statespace/sarimax.py:978: UserWarning: Non-invertible starting MA parameters found. Using zeros as starting parameters.\n",
      "  warn('Non-invertible starting MA parameters found.'\n"
     ]
    },
    {
     "name": "stdout",
     "output_type": "stream",
     "text": [
      "Nombre de jours écoulés=621, t=130, prédiction=429946, vraie valeur=429863\n",
      "Modèle meilleur_ARIMA: (2, 1, 2)\n"
     ]
    },
    {
     "name": "stderr",
     "output_type": "stream",
     "text": [
      "/usr/local/lib/python3.8/dist-packages/statsmodels/tsa/statespace/sarimax.py:966: UserWarning: Non-stationary starting autoregressive parameters found. Using zeros as starting parameters.\n",
      "  warn('Non-stationary starting autoregressive parameters'\n",
      "/usr/local/lib/python3.8/dist-packages/statsmodels/tsa/statespace/sarimax.py:978: UserWarning: Non-invertible starting MA parameters found. Using zeros as starting parameters.\n",
      "  warn('Non-invertible starting MA parameters found.'\n"
     ]
    },
    {
     "name": "stdout",
     "output_type": "stream",
     "text": [
      "Nombre de jours écoulés=622, t=131, prédiction=430419, vraie valeur=430394\n",
      "Modèle meilleur_ARIMA: (2, 1, 2)\n"
     ]
    },
    {
     "name": "stderr",
     "output_type": "stream",
     "text": [
      "/usr/local/lib/python3.8/dist-packages/statsmodels/tsa/statespace/sarimax.py:966: UserWarning: Non-stationary starting autoregressive parameters found. Using zeros as starting parameters.\n",
      "  warn('Non-stationary starting autoregressive parameters'\n",
      "/usr/local/lib/python3.8/dist-packages/statsmodels/tsa/statespace/sarimax.py:978: UserWarning: Non-invertible starting MA parameters found. Using zeros as starting parameters.\n",
      "  warn('Non-invertible starting MA parameters found.'\n"
     ]
    },
    {
     "name": "stdout",
     "output_type": "stream",
     "text": [
      "Nombre de jours écoulés=623, t=132, prédiction=430971, vraie valeur=430939\n",
      "Modèle meilleur_ARIMA: (2, 1, 2)\n"
     ]
    },
    {
     "name": "stderr",
     "output_type": "stream",
     "text": [
      "/usr/local/lib/python3.8/dist-packages/statsmodels/tsa/statespace/sarimax.py:966: UserWarning: Non-stationary starting autoregressive parameters found. Using zeros as starting parameters.\n",
      "  warn('Non-stationary starting autoregressive parameters'\n",
      "/usr/local/lib/python3.8/dist-packages/statsmodels/tsa/statespace/sarimax.py:978: UserWarning: Non-invertible starting MA parameters found. Using zeros as starting parameters.\n",
      "  warn('Non-invertible starting MA parameters found.'\n"
     ]
    },
    {
     "name": "stdout",
     "output_type": "stream",
     "text": [
      "Nombre de jours écoulés=624, t=133, prédiction=431468, vraie valeur=431611\n",
      "Modèle meilleur_ARIMA: (2, 1, 2)\n"
     ]
    },
    {
     "name": "stderr",
     "output_type": "stream",
     "text": [
      "/usr/local/lib/python3.8/dist-packages/statsmodels/tsa/statespace/sarimax.py:966: UserWarning: Non-stationary starting autoregressive parameters found. Using zeros as starting parameters.\n",
      "  warn('Non-stationary starting autoregressive parameters'\n",
      "/usr/local/lib/python3.8/dist-packages/statsmodels/tsa/statespace/sarimax.py:978: UserWarning: Non-invertible starting MA parameters found. Using zeros as starting parameters.\n",
      "  warn('Non-invertible starting MA parameters found.'\n"
     ]
    },
    {
     "name": "stdout",
     "output_type": "stream",
     "text": [
      "Nombre de jours écoulés=625, t=134, prédiction=432236, vraie valeur=432274\n",
      "Modèle meilleur_ARIMA: (2, 1, 2)\n"
     ]
    },
    {
     "name": "stderr",
     "output_type": "stream",
     "text": [
      "/usr/local/lib/python3.8/dist-packages/statsmodels/tsa/statespace/sarimax.py:966: UserWarning: Non-stationary starting autoregressive parameters found. Using zeros as starting parameters.\n",
      "  warn('Non-stationary starting autoregressive parameters'\n",
      "/usr/local/lib/python3.8/dist-packages/statsmodels/tsa/statespace/sarimax.py:978: UserWarning: Non-invertible starting MA parameters found. Using zeros as starting parameters.\n",
      "  warn('Non-invertible starting MA parameters found.'\n"
     ]
    },
    {
     "name": "stdout",
     "output_type": "stream",
     "text": [
      "Nombre de jours écoulés=626, t=135, prédiction=432875, vraie valeur=432990\n",
      "Modèle meilleur_ARIMA: (2, 1, 2)\n"
     ]
    },
    {
     "name": "stderr",
     "output_type": "stream",
     "text": [
      "/usr/local/lib/python3.8/dist-packages/statsmodels/tsa/statespace/sarimax.py:966: UserWarning: Non-stationary starting autoregressive parameters found. Using zeros as starting parameters.\n",
      "  warn('Non-stationary starting autoregressive parameters'\n",
      "/usr/local/lib/python3.8/dist-packages/statsmodels/tsa/statespace/sarimax.py:978: UserWarning: Non-invertible starting MA parameters found. Using zeros as starting parameters.\n",
      "  warn('Non-invertible starting MA parameters found.'\n"
     ]
    },
    {
     "name": "stdout",
     "output_type": "stream",
     "text": [
      "Nombre de jours écoulés=627, t=136, prédiction=433677, vraie valeur=433705\n",
      "Modèle meilleur_ARIMA: (2, 1, 2)\n"
     ]
    },
    {
     "name": "stderr",
     "output_type": "stream",
     "text": [
      "/usr/local/lib/python3.8/dist-packages/statsmodels/tsa/statespace/sarimax.py:966: UserWarning: Non-stationary starting autoregressive parameters found. Using zeros as starting parameters.\n",
      "  warn('Non-stationary starting autoregressive parameters'\n",
      "/usr/local/lib/python3.8/dist-packages/statsmodels/tsa/statespace/sarimax.py:978: UserWarning: Non-invertible starting MA parameters found. Using zeros as starting parameters.\n",
      "  warn('Non-invertible starting MA parameters found.'\n"
     ]
    },
    {
     "name": "stdout",
     "output_type": "stream",
     "text": [
      "Nombre de jours écoulés=628, t=137, prédiction=434363, vraie valeur=434339\n",
      "Modèle meilleur_ARIMA: (2, 1, 2)\n"
     ]
    },
    {
     "name": "stderr",
     "output_type": "stream",
     "text": [
      "/usr/local/lib/python3.8/dist-packages/statsmodels/tsa/statespace/sarimax.py:966: UserWarning: Non-stationary starting autoregressive parameters found. Using zeros as starting parameters.\n",
      "  warn('Non-stationary starting autoregressive parameters'\n",
      "/usr/local/lib/python3.8/dist-packages/statsmodels/tsa/statespace/sarimax.py:978: UserWarning: Non-invertible starting MA parameters found. Using zeros as starting parameters.\n",
      "  warn('Non-invertible starting MA parameters found.'\n"
     ]
    },
    {
     "name": "stdout",
     "output_type": "stream",
     "text": [
      "Nombre de jours écoulés=629, t=138, prédiction=435019, vraie valeur=434848\n",
      "Modèle meilleur_ARIMA: (2, 1, 2)\n"
     ]
    },
    {
     "name": "stderr",
     "output_type": "stream",
     "text": [
      "/usr/local/lib/python3.8/dist-packages/statsmodels/tsa/statespace/sarimax.py:966: UserWarning: Non-stationary starting autoregressive parameters found. Using zeros as starting parameters.\n",
      "  warn('Non-stationary starting autoregressive parameters'\n",
      "/usr/local/lib/python3.8/dist-packages/statsmodels/tsa/statespace/sarimax.py:978: UserWarning: Non-invertible starting MA parameters found. Using zeros as starting parameters.\n",
      "  warn('Non-invertible starting MA parameters found.'\n"
     ]
    },
    {
     "name": "stdout",
     "output_type": "stream",
     "text": [
      "Nombre de jours écoulés=630, t=139, prédiction=435414, vraie valeur=435365\n",
      "Modèle meilleur_ARIMA: (2, 1, 2)\n"
     ]
    },
    {
     "name": "stderr",
     "output_type": "stream",
     "text": [
      "/usr/local/lib/python3.8/dist-packages/statsmodels/tsa/statespace/sarimax.py:966: UserWarning: Non-stationary starting autoregressive parameters found. Using zeros as starting parameters.\n",
      "  warn('Non-stationary starting autoregressive parameters'\n",
      "/usr/local/lib/python3.8/dist-packages/statsmodels/tsa/statespace/sarimax.py:978: UserWarning: Non-invertible starting MA parameters found. Using zeros as starting parameters.\n",
      "  warn('Non-invertible starting MA parameters found.'\n"
     ]
    },
    {
     "name": "stdout",
     "output_type": "stream",
     "text": [
      "Nombre de jours écoulés=631, t=140, prédiction=435948, vraie valeur=436083\n",
      "Modèle meilleur_ARIMA: (2, 1, 2)\n"
     ]
    },
    {
     "name": "stderr",
     "output_type": "stream",
     "text": [
      "/usr/local/lib/python3.8/dist-packages/statsmodels/tsa/statespace/sarimax.py:966: UserWarning: Non-stationary starting autoregressive parameters found. Using zeros as starting parameters.\n",
      "  warn('Non-stationary starting autoregressive parameters'\n",
      "/usr/local/lib/python3.8/dist-packages/statsmodels/tsa/statespace/sarimax.py:978: UserWarning: Non-invertible starting MA parameters found. Using zeros as starting parameters.\n",
      "  warn('Non-invertible starting MA parameters found.'\n"
     ]
    },
    {
     "name": "stdout",
     "output_type": "stream",
     "text": [
      "Nombre de jours écoulés=632, t=141, prédiction=436690, vraie valeur=436803\n",
      "Modèle meilleur_ARIMA: (2, 1, 2)\n"
     ]
    },
    {
     "name": "stderr",
     "output_type": "stream",
     "text": [
      "/usr/local/lib/python3.8/dist-packages/statsmodels/tsa/statespace/sarimax.py:966: UserWarning: Non-stationary starting autoregressive parameters found. Using zeros as starting parameters.\n",
      "  warn('Non-stationary starting autoregressive parameters'\n",
      "/usr/local/lib/python3.8/dist-packages/statsmodels/tsa/statespace/sarimax.py:978: UserWarning: Non-invertible starting MA parameters found. Using zeros as starting parameters.\n",
      "  warn('Non-invertible starting MA parameters found.'\n"
     ]
    },
    {
     "name": "stdout",
     "output_type": "stream",
     "text": [
      "Nombre de jours écoulés=633, t=142, prédiction=437486, vraie valeur=437548\n",
      "Modèle meilleur_ARIMA: (2, 1, 2)\n"
     ]
    },
    {
     "name": "stderr",
     "output_type": "stream",
     "text": [
      "/usr/local/lib/python3.8/dist-packages/statsmodels/tsa/statespace/sarimax.py:966: UserWarning: Non-stationary starting autoregressive parameters found. Using zeros as starting parameters.\n",
      "  warn('Non-stationary starting autoregressive parameters'\n",
      "/usr/local/lib/python3.8/dist-packages/statsmodels/tsa/statespace/sarimax.py:978: UserWarning: Non-invertible starting MA parameters found. Using zeros as starting parameters.\n",
      "  warn('Non-invertible starting MA parameters found.'\n"
     ]
    },
    {
     "name": "stdout",
     "output_type": "stream",
     "text": [
      "Nombre de jours écoulés=634, t=143, prédiction=438226, vraie valeur=438363\n",
      "Modèle meilleur_ARIMA: (2, 1, 2)\n"
     ]
    },
    {
     "name": "stderr",
     "output_type": "stream",
     "text": [
      "/usr/local/lib/python3.8/dist-packages/statsmodels/tsa/statespace/sarimax.py:966: UserWarning: Non-stationary starting autoregressive parameters found. Using zeros as starting parameters.\n",
      "  warn('Non-stationary starting autoregressive parameters'\n",
      "/usr/local/lib/python3.8/dist-packages/statsmodels/tsa/statespace/sarimax.py:978: UserWarning: Non-invertible starting MA parameters found. Using zeros as starting parameters.\n",
      "  warn('Non-invertible starting MA parameters found.'\n"
     ]
    },
    {
     "name": "stdout",
     "output_type": "stream",
     "text": [
      "Nombre de jours écoulés=635, t=144, prédiction=439128, vraie valeur=439070\n",
      "Modèle meilleur_ARIMA: (2, 1, 2)\n"
     ]
    },
    {
     "name": "stderr",
     "output_type": "stream",
     "text": [
      "/usr/local/lib/python3.8/dist-packages/statsmodels/tsa/statespace/sarimax.py:966: UserWarning: Non-stationary starting autoregressive parameters found. Using zeros as starting parameters.\n",
      "  warn('Non-stationary starting autoregressive parameters'\n",
      "/usr/local/lib/python3.8/dist-packages/statsmodels/tsa/statespace/sarimax.py:978: UserWarning: Non-invertible starting MA parameters found. Using zeros as starting parameters.\n",
      "  warn('Non-invertible starting MA parameters found.'\n"
     ]
    },
    {
     "name": "stdout",
     "output_type": "stream",
     "text": [
      "Nombre de jours écoulés=636, t=145, prédiction=439772, vraie valeur=439762\n",
      "Modèle meilleur_ARIMA: (2, 1, 2)\n"
     ]
    },
    {
     "name": "stderr",
     "output_type": "stream",
     "text": [
      "/usr/local/lib/python3.8/dist-packages/statsmodels/tsa/statespace/sarimax.py:966: UserWarning: Non-stationary starting autoregressive parameters found. Using zeros as starting parameters.\n",
      "  warn('Non-stationary starting autoregressive parameters'\n",
      "/usr/local/lib/python3.8/dist-packages/statsmodels/tsa/statespace/sarimax.py:978: UserWarning: Non-invertible starting MA parameters found. Using zeros as starting parameters.\n",
      "  warn('Non-invertible starting MA parameters found.'\n"
     ]
    },
    {
     "name": "stdout",
     "output_type": "stream",
     "text": [
      "Nombre de jours écoulés=637, t=146, prédiction=440492, vraie valeur=440461\n",
      "Modèle meilleur_ARIMA: (2, 1, 2)\n"
     ]
    },
    {
     "name": "stderr",
     "output_type": "stream",
     "text": [
      "/usr/local/lib/python3.8/dist-packages/statsmodels/tsa/statespace/sarimax.py:966: UserWarning: Non-stationary starting autoregressive parameters found. Using zeros as starting parameters.\n",
      "  warn('Non-stationary starting autoregressive parameters'\n",
      "/usr/local/lib/python3.8/dist-packages/statsmodels/tsa/statespace/sarimax.py:978: UserWarning: Non-invertible starting MA parameters found. Using zeros as starting parameters.\n",
      "  warn('Non-invertible starting MA parameters found.'\n"
     ]
    },
    {
     "name": "stdout",
     "output_type": "stream",
     "text": [
      "Nombre de jours écoulés=638, t=147, prédiction=441142, vraie valeur=441343\n",
      "Modèle meilleur_ARIMA: (2, 1, 2)\n"
     ]
    },
    {
     "name": "stderr",
     "output_type": "stream",
     "text": [
      "/usr/local/lib/python3.8/dist-packages/statsmodels/tsa/statespace/sarimax.py:966: UserWarning: Non-stationary starting autoregressive parameters found. Using zeros as starting parameters.\n",
      "  warn('Non-stationary starting autoregressive parameters'\n",
      "/usr/local/lib/python3.8/dist-packages/statsmodels/tsa/statespace/sarimax.py:978: UserWarning: Non-invertible starting MA parameters found. Using zeros as starting parameters.\n",
      "  warn('Non-invertible starting MA parameters found.'\n"
     ]
    },
    {
     "name": "stdout",
     "output_type": "stream",
     "text": [
      "Nombre de jours écoulés=639, t=148, prédiction=442148, vraie valeur=443547\n",
      "Modèle meilleur_ARIMA: (2, 1, 2)\n",
      "Nombre de jours écoulés=640, t=149, prédiction=444975, vraie valeur=444584\n",
      "Modèle meilleur_ARIMA: (2, 1, 2)\n"
     ]
    },
    {
     "name": "stderr",
     "output_type": "stream",
     "text": [
      "/usr/local/lib/python3.8/dist-packages/statsmodels/tsa/statespace/sarimax.py:966: UserWarning: Non-stationary starting autoregressive parameters found. Using zeros as starting parameters.\n",
      "  warn('Non-stationary starting autoregressive parameters'\n",
      "/usr/local/lib/python3.8/dist-packages/statsmodels/tsa/statespace/sarimax.py:978: UserWarning: Non-invertible starting MA parameters found. Using zeros as starting parameters.\n",
      "  warn('Non-invertible starting MA parameters found.'\n"
     ]
    },
    {
     "name": "stdout",
     "output_type": "stream",
     "text": [
      "Nombre de jours écoulés=641, t=150, prédiction=445752, vraie valeur=445755\n",
      "Modèle meilleur_ARIMA: (2, 1, 2)\n"
     ]
    },
    {
     "name": "stderr",
     "output_type": "stream",
     "text": [
      "/usr/local/lib/python3.8/dist-packages/statsmodels/tsa/statespace/sarimax.py:966: UserWarning: Non-stationary starting autoregressive parameters found. Using zeros as starting parameters.\n",
      "  warn('Non-stationary starting autoregressive parameters'\n",
      "/usr/local/lib/python3.8/dist-packages/statsmodels/tsa/statespace/sarimax.py:978: UserWarning: Non-invertible starting MA parameters found. Using zeros as starting parameters.\n",
      "  warn('Non-invertible starting MA parameters found.'\n"
     ]
    },
    {
     "name": "stdout",
     "output_type": "stream",
     "text": [
      "Nombre de jours écoulés=642, t=151, prédiction=447005, vraie valeur=446630\n",
      "Modèle meilleur_ARIMA: (2, 1, 2)\n"
     ]
    },
    {
     "name": "stderr",
     "output_type": "stream",
     "text": [
      "/usr/local/lib/python3.8/dist-packages/statsmodels/base/model.py:604: ConvergenceWarning: Maximum Likelihood optimization failed to converge. Check mle_retvals\n",
      "  warnings.warn(\"Maximum Likelihood optimization failed to \"\n",
      "/usr/local/lib/python3.8/dist-packages/statsmodels/tsa/statespace/sarimax.py:966: UserWarning: Non-stationary starting autoregressive parameters found. Using zeros as starting parameters.\n",
      "  warn('Non-stationary starting autoregressive parameters'\n",
      "/usr/local/lib/python3.8/dist-packages/statsmodels/tsa/statespace/sarimax.py:978: UserWarning: Non-invertible starting MA parameters found. Using zeros as starting parameters.\n",
      "  warn('Non-invertible starting MA parameters found.'\n"
     ]
    },
    {
     "name": "stdout",
     "output_type": "stream",
     "text": [
      "Nombre de jours écoulés=643, t=152, prédiction=447676, vraie valeur=447386\n",
      "Modèle meilleur_ARIMA: (2, 1, 2)\n",
      "Nombre de jours écoulés=644, t=153, prédiction=448370, vraie valeur=448170\n",
      "Modèle meilleur_ARIMA: (2, 1, 2)\n"
     ]
    },
    {
     "name": "stderr",
     "output_type": "stream",
     "text": [
      "/usr/local/lib/python3.8/dist-packages/statsmodels/tsa/statespace/sarimax.py:966: UserWarning: Non-stationary starting autoregressive parameters found. Using zeros as starting parameters.\n",
      "  warn('Non-stationary starting autoregressive parameters'\n",
      "/usr/local/lib/python3.8/dist-packages/statsmodels/tsa/statespace/sarimax.py:978: UserWarning: Non-invertible starting MA parameters found. Using zeros as starting parameters.\n",
      "  warn('Non-invertible starting MA parameters found.'\n"
     ]
    },
    {
     "name": "stdout",
     "output_type": "stream",
     "text": [
      "Nombre de jours écoulés=645, t=154, prédiction=448983, vraie valeur=449366\n",
      "Modèle meilleur_ARIMA: (2, 1, 2)\n"
     ]
    },
    {
     "name": "stderr",
     "output_type": "stream",
     "text": [
      "/usr/local/lib/python3.8/dist-packages/statsmodels/tsa/statespace/sarimax.py:966: UserWarning: Non-stationary starting autoregressive parameters found. Using zeros as starting parameters.\n",
      "  warn('Non-stationary starting autoregressive parameters'\n",
      "/usr/local/lib/python3.8/dist-packages/statsmodels/tsa/statespace/sarimax.py:978: UserWarning: Non-invertible starting MA parameters found. Using zeros as starting parameters.\n",
      "  warn('Non-invertible starting MA parameters found.'\n"
     ]
    },
    {
     "name": "stdout",
     "output_type": "stream",
     "text": [
      "Nombre de jours écoulés=646, t=155, prédiction=450431, vraie valeur=450512\n",
      "Modèle meilleur_ARIMA: (2, 1, 2)\n"
     ]
    },
    {
     "name": "stderr",
     "output_type": "stream",
     "text": [
      "/usr/local/lib/python3.8/dist-packages/statsmodels/tsa/statespace/sarimax.py:966: UserWarning: Non-stationary starting autoregressive parameters found. Using zeros as starting parameters.\n",
      "  warn('Non-stationary starting autoregressive parameters'\n",
      "/usr/local/lib/python3.8/dist-packages/statsmodels/tsa/statespace/sarimax.py:978: UserWarning: Non-invertible starting MA parameters found. Using zeros as starting parameters.\n",
      "  warn('Non-invertible starting MA parameters found.'\n"
     ]
    },
    {
     "name": "stdout",
     "output_type": "stream",
     "text": [
      "Nombre de jours écoulés=647, t=156, prédiction=451510, vraie valeur=451867\n",
      "Modèle meilleur_ARIMA: (2, 1, 2)\n"
     ]
    },
    {
     "name": "stderr",
     "output_type": "stream",
     "text": [
      "/usr/local/lib/python3.8/dist-packages/statsmodels/tsa/statespace/sarimax.py:966: UserWarning: Non-stationary starting autoregressive parameters found. Using zeros as starting parameters.\n",
      "  warn('Non-stationary starting autoregressive parameters'\n",
      "/usr/local/lib/python3.8/dist-packages/statsmodels/tsa/statespace/sarimax.py:978: UserWarning: Non-invertible starting MA parameters found. Using zeros as starting parameters.\n",
      "  warn('Non-invertible starting MA parameters found.'\n"
     ]
    },
    {
     "name": "stdout",
     "output_type": "stream",
     "text": [
      "Nombre de jours écoulés=648, t=157, prédiction=453109, vraie valeur=453379\n",
      "Modèle meilleur_ARIMA: (2, 1, 2)\n"
     ]
    },
    {
     "name": "stderr",
     "output_type": "stream",
     "text": [
      "/usr/local/lib/python3.8/dist-packages/statsmodels/tsa/statespace/sarimax.py:966: UserWarning: Non-stationary starting autoregressive parameters found. Using zeros as starting parameters.\n",
      "  warn('Non-stationary starting autoregressive parameters'\n",
      "/usr/local/lib/python3.8/dist-packages/statsmodels/tsa/statespace/sarimax.py:978: UserWarning: Non-invertible starting MA parameters found. Using zeros as starting parameters.\n",
      "  warn('Non-invertible starting MA parameters found.'\n"
     ]
    },
    {
     "name": "stdout",
     "output_type": "stream",
     "text": [
      "Nombre de jours écoulés=649, t=158, prédiction=454637, vraie valeur=454635\n",
      "Modèle meilleur_ARIMA: (2, 1, 2)\n"
     ]
    },
    {
     "name": "stderr",
     "output_type": "stream",
     "text": [
      "/usr/local/lib/python3.8/dist-packages/statsmodels/tsa/statespace/sarimax.py:966: UserWarning: Non-stationary starting autoregressive parameters found. Using zeros as starting parameters.\n",
      "  warn('Non-stationary starting autoregressive parameters'\n",
      "/usr/local/lib/python3.8/dist-packages/statsmodels/tsa/statespace/sarimax.py:978: UserWarning: Non-invertible starting MA parameters found. Using zeros as starting parameters.\n",
      "  warn('Non-invertible starting MA parameters found.'\n"
     ]
    },
    {
     "name": "stdout",
     "output_type": "stream",
     "text": [
      "Nombre de jours écoulés=650, t=159, prédiction=455973, vraie valeur=455824\n",
      "Modèle meilleur_ARIMA: (2, 1, 2)\n"
     ]
    },
    {
     "name": "stderr",
     "output_type": "stream",
     "text": [
      "/usr/local/lib/python3.8/dist-packages/statsmodels/tsa/statespace/sarimax.py:966: UserWarning: Non-stationary starting autoregressive parameters found. Using zeros as starting parameters.\n",
      "  warn('Non-stationary starting autoregressive parameters'\n",
      "/usr/local/lib/python3.8/dist-packages/statsmodels/tsa/statespace/sarimax.py:978: UserWarning: Non-invertible starting MA parameters found. Using zeros as starting parameters.\n",
      "  warn('Non-invertible starting MA parameters found.'\n"
     ]
    },
    {
     "name": "stdout",
     "output_type": "stream",
     "text": [
      "Nombre de jours écoulés=651, t=160, prédiction=457012, vraie valeur=457058\n",
      "Modèle meilleur_ARIMA: (2, 1, 2)\n"
     ]
    },
    {
     "name": "stderr",
     "output_type": "stream",
     "text": [
      "/usr/local/lib/python3.8/dist-packages/statsmodels/tsa/statespace/sarimax.py:966: UserWarning: Non-stationary starting autoregressive parameters found. Using zeros as starting parameters.\n",
      "  warn('Non-stationary starting autoregressive parameters'\n",
      "/usr/local/lib/python3.8/dist-packages/statsmodels/tsa/statespace/sarimax.py:978: UserWarning: Non-invertible starting MA parameters found. Using zeros as starting parameters.\n",
      "  warn('Non-invertible starting MA parameters found.'\n"
     ]
    },
    {
     "name": "stdout",
     "output_type": "stream",
     "text": [
      "Nombre de jours écoulés=652, t=161, prédiction=458346, vraie valeur=458425\n",
      "Modèle meilleur_ARIMA: (2, 1, 2)\n"
     ]
    },
    {
     "name": "stderr",
     "output_type": "stream",
     "text": [
      "/usr/local/lib/python3.8/dist-packages/statsmodels/tsa/statespace/sarimax.py:966: UserWarning: Non-stationary starting autoregressive parameters found. Using zeros as starting parameters.\n",
      "  warn('Non-stationary starting autoregressive parameters'\n",
      "/usr/local/lib/python3.8/dist-packages/statsmodels/tsa/statespace/sarimax.py:978: UserWarning: Non-invertible starting MA parameters found. Using zeros as starting parameters.\n",
      "  warn('Non-invertible starting MA parameters found.'\n"
     ]
    },
    {
     "name": "stdout",
     "output_type": "stream",
     "text": [
      "Nombre de jours écoulés=653, t=162, prédiction=459664, vraie valeur=460232\n",
      "Modèle meilleur_ARIMA: (2, 1, 2)\n"
     ]
    },
    {
     "name": "stderr",
     "output_type": "stream",
     "text": [
      "/usr/local/lib/python3.8/dist-packages/statsmodels/tsa/statespace/sarimax.py:966: UserWarning: Non-stationary starting autoregressive parameters found. Using zeros as starting parameters.\n",
      "  warn('Non-stationary starting autoregressive parameters'\n",
      "/usr/local/lib/python3.8/dist-packages/statsmodels/tsa/statespace/sarimax.py:978: UserWarning: Non-invertible starting MA parameters found. Using zeros as starting parameters.\n",
      "  warn('Non-invertible starting MA parameters found.'\n"
     ]
    },
    {
     "name": "stdout",
     "output_type": "stream",
     "text": [
      "Nombre de jours écoulés=654, t=163, prédiction=461795, vraie valeur=460430\n",
      "Modèle meilleur_ARIMA: (2, 1, 2)\n"
     ]
    },
    {
     "name": "stderr",
     "output_type": "stream",
     "text": [
      "/usr/local/lib/python3.8/dist-packages/statsmodels/tsa/statespace/sarimax.py:966: UserWarning: Non-stationary starting autoregressive parameters found. Using zeros as starting parameters.\n",
      "  warn('Non-stationary starting autoregressive parameters'\n",
      "/usr/local/lib/python3.8/dist-packages/statsmodels/tsa/statespace/sarimax.py:978: UserWarning: Non-invertible starting MA parameters found. Using zeros as starting parameters.\n",
      "  warn('Non-invertible starting MA parameters found.'\n"
     ]
    },
    {
     "name": "stdout",
     "output_type": "stream",
     "text": [
      "Nombre de jours écoulés=655, t=164, prédiction=461335, vraie valeur=464227\n",
      "Modèle meilleur_ARIMA: (2, 1, 2)\n"
     ]
    },
    {
     "name": "stderr",
     "output_type": "stream",
     "text": [
      "/usr/local/lib/python3.8/dist-packages/statsmodels/tsa/statespace/sarimax.py:966: UserWarning: Non-stationary starting autoregressive parameters found. Using zeros as starting parameters.\n",
      "  warn('Non-stationary starting autoregressive parameters'\n"
     ]
    },
    {
     "name": "stdout",
     "output_type": "stream",
     "text": [
      "Nombre de jours écoulés=656, t=165, prédiction=465799, vraie valeur=465980\n",
      "Modèle meilleur_ARIMA: (2, 1, 2)\n"
     ]
    },
    {
     "name": "stderr",
     "output_type": "stream",
     "text": [
      "/usr/local/lib/python3.8/dist-packages/statsmodels/tsa/statespace/sarimax.py:966: UserWarning: Non-stationary starting autoregressive parameters found. Using zeros as starting parameters.\n",
      "  warn('Non-stationary starting autoregressive parameters'\n"
     ]
    },
    {
     "name": "stdout",
     "output_type": "stream",
     "text": [
      "Nombre de jours écoulés=657, t=166, prédiction=468137, vraie valeur=467608\n",
      "Modèle meilleur_ARIMA: (2, 1, 2)\n"
     ]
    },
    {
     "name": "stderr",
     "output_type": "stream",
     "text": [
      "/usr/local/lib/python3.8/dist-packages/statsmodels/tsa/statespace/sarimax.py:966: UserWarning: Non-stationary starting autoregressive parameters found. Using zeros as starting parameters.\n",
      "  warn('Non-stationary starting autoregressive parameters'\n",
      "/usr/local/lib/python3.8/dist-packages/statsmodels/base/model.py:604: ConvergenceWarning: Maximum Likelihood optimization failed to converge. Check mle_retvals\n",
      "  warnings.warn(\"Maximum Likelihood optimization failed to \"\n",
      "/usr/local/lib/python3.8/dist-packages/statsmodels/tsa/statespace/sarimax.py:966: UserWarning: Non-stationary starting autoregressive parameters found. Using zeros as starting parameters.\n",
      "  warn('Non-stationary starting autoregressive parameters'\n"
     ]
    },
    {
     "name": "stdout",
     "output_type": "stream",
     "text": [
      "Nombre de jours écoulés=658, t=167, prédiction=469432, vraie valeur=469355\n",
      "Modèle meilleur_ARIMA: (2, 1, 2)\n",
      "Nombre de jours écoulés=659, t=168, prédiction=471158, vraie valeur=471741\n",
      "Modèle meilleur_ARIMA: (2, 1, 2)\n"
     ]
    },
    {
     "name": "stderr",
     "output_type": "stream",
     "text": [
      "/usr/local/lib/python3.8/dist-packages/statsmodels/tsa/statespace/sarimax.py:966: UserWarning: Non-stationary starting autoregressive parameters found. Using zeros as starting parameters.\n",
      "  warn('Non-stationary starting autoregressive parameters'\n"
     ]
    },
    {
     "name": "stdout",
     "output_type": "stream",
     "text": [
      "Nombre de jours écoulés=660, t=169, prédiction=473582, vraie valeur=474477\n",
      "Modèle meilleur_ARIMA: (2, 1, 2)\n"
     ]
    },
    {
     "name": "stderr",
     "output_type": "stream",
     "text": [
      "/usr/local/lib/python3.8/dist-packages/statsmodels/tsa/statespace/sarimax.py:966: UserWarning: Non-stationary starting autoregressive parameters found. Using zeros as starting parameters.\n",
      "  warn('Non-stationary starting autoregressive parameters'\n",
      "/usr/local/lib/python3.8/dist-packages/statsmodels/base/model.py:604: ConvergenceWarning: Maximum Likelihood optimization failed to converge. Check mle_retvals\n",
      "  warnings.warn(\"Maximum Likelihood optimization failed to \"\n",
      "/usr/local/lib/python3.8/dist-packages/statsmodels/tsa/statespace/sarimax.py:966: UserWarning: Non-stationary starting autoregressive parameters found. Using zeros as starting parameters.\n",
      "  warn('Non-stationary starting autoregressive parameters'\n",
      "/usr/local/lib/python3.8/dist-packages/statsmodels/tsa/statespace/sarimax.py:978: UserWarning: Non-invertible starting MA parameters found. Using zeros as starting parameters.\n",
      "  warn('Non-invertible starting MA parameters found.'\n"
     ]
    },
    {
     "name": "stdout",
     "output_type": "stream",
     "text": [
      "Nombre de jours écoulés=661, t=170, prédiction=476778, vraie valeur=478245\n",
      "Modèle meilleur_ARIMA: (2, 1, 2)\n",
      "Nombre de jours écoulés=662, t=171, prédiction=480912, vraie valeur=481876\n",
      "Modèle meilleur_ARIMA: (2, 1, 2)\n"
     ]
    },
    {
     "name": "stderr",
     "output_type": "stream",
     "text": [
      "/usr/local/lib/python3.8/dist-packages/statsmodels/tsa/statespace/sarimax.py:966: UserWarning: Non-stationary starting autoregressive parameters found. Using zeros as starting parameters.\n",
      "  warn('Non-stationary starting autoregressive parameters'\n",
      "/usr/local/lib/python3.8/dist-packages/statsmodels/tsa/statespace/sarimax.py:978: UserWarning: Non-invertible starting MA parameters found. Using zeros as starting parameters.\n",
      "  warn('Non-invertible starting MA parameters found.'\n"
     ]
    },
    {
     "name": "stdout",
     "output_type": "stream",
     "text": [
      "Nombre de jours écoulés=663, t=172, prédiction=485121, vraie valeur=485722\n",
      "Modèle meilleur_ARIMA: (2, 1, 2)\n"
     ]
    },
    {
     "name": "stderr",
     "output_type": "stream",
     "text": [
      "/usr/local/lib/python3.8/dist-packages/statsmodels/tsa/statespace/sarimax.py:966: UserWarning: Non-stationary starting autoregressive parameters found. Using zeros as starting parameters.\n",
      "  warn('Non-stationary starting autoregressive parameters'\n"
     ]
    },
    {
     "name": "stdout",
     "output_type": "stream",
     "text": [
      "Nombre de jours écoulés=664, t=173, prédiction=489088, vraie valeur=490293\n",
      "Modèle meilleur_ARIMA: (2, 1, 2)\n"
     ]
    },
    {
     "name": "stderr",
     "output_type": "stream",
     "text": [
      "/usr/local/lib/python3.8/dist-packages/statsmodels/tsa/statespace/sarimax.py:966: UserWarning: Non-stationary starting autoregressive parameters found. Using zeros as starting parameters.\n",
      "  warn('Non-stationary starting autoregressive parameters'\n",
      "/usr/local/lib/python3.8/dist-packages/statsmodels/base/model.py:604: ConvergenceWarning: Maximum Likelihood optimization failed to converge. Check mle_retvals\n",
      "  warnings.warn(\"Maximum Likelihood optimization failed to \"\n",
      "/usr/local/lib/python3.8/dist-packages/statsmodels/tsa/statespace/sarimax.py:966: UserWarning: Non-stationary starting autoregressive parameters found. Using zeros as starting parameters.\n",
      "  warn('Non-stationary starting autoregressive parameters'\n"
     ]
    },
    {
     "name": "stdout",
     "output_type": "stream",
     "text": [
      "Nombre de jours écoulés=665, t=174, prédiction=494305, vraie valeur=495336\n",
      "Modèle meilleur_ARIMA: (2, 1, 2)\n"
     ]
    },
    {
     "name": "stderr",
     "output_type": "stream",
     "text": [
      "/usr/local/lib/python3.8/dist-packages/statsmodels/base/model.py:604: ConvergenceWarning: Maximum Likelihood optimization failed to converge. Check mle_retvals\n",
      "  warnings.warn(\"Maximum Likelihood optimization failed to \"\n",
      "/usr/local/lib/python3.8/dist-packages/statsmodels/tsa/statespace/sarimax.py:966: UserWarning: Non-stationary starting autoregressive parameters found. Using zeros as starting parameters.\n",
      "  warn('Non-stationary starting autoregressive parameters'\n"
     ]
    },
    {
     "name": "stdout",
     "output_type": "stream",
     "text": [
      "Nombre de jours écoulés=666, t=175, prédiction=499780, vraie valeur=501697\n",
      "Modèle meilleur_ARIMA: (2, 1, 2)\n"
     ]
    },
    {
     "name": "stderr",
     "output_type": "stream",
     "text": [
      "/usr/local/lib/python3.8/dist-packages/statsmodels/base/model.py:604: ConvergenceWarning: Maximum Likelihood optimization failed to converge. Check mle_retvals\n",
      "  warnings.warn(\"Maximum Likelihood optimization failed to \"\n",
      "/usr/local/lib/python3.8/dist-packages/statsmodels/tsa/statespace/sarimax.py:966: UserWarning: Non-stationary starting autoregressive parameters found. Using zeros as starting parameters.\n",
      "  warn('Non-stationary starting autoregressive parameters'\n"
     ]
    },
    {
     "name": "stdout",
     "output_type": "stream",
     "text": [
      "Nombre de jours écoulés=667, t=176, prédiction=507252, vraie valeur=511094\n",
      "Modèle meilleur_ARIMA: (2, 1, 2)\n",
      "Nombre de jours écoulés=668, t=177, prédiction=519184, vraie valeur=521125\n",
      "Modèle meilleur_ARIMA: (2, 1, 2)\n"
     ]
    },
    {
     "name": "stderr",
     "output_type": "stream",
     "text": [
      "/usr/local/lib/python3.8/dist-packages/statsmodels/tsa/statespace/sarimax.py:966: UserWarning: Non-stationary starting autoregressive parameters found. Using zeros as starting parameters.\n",
      "  warn('Non-stationary starting autoregressive parameters'\n",
      "/usr/local/lib/python3.8/dist-packages/statsmodels/base/model.py:604: ConvergenceWarning: Maximum Likelihood optimization failed to converge. Check mle_retvals\n",
      "  warnings.warn(\"Maximum Likelihood optimization failed to \"\n",
      "/usr/local/lib/python3.8/dist-packages/statsmodels/tsa/statespace/sarimax.py:966: UserWarning: Non-stationary starting autoregressive parameters found. Using zeros as starting parameters.\n",
      "  warn('Non-stationary starting autoregressive parameters'\n"
     ]
    },
    {
     "name": "stdout",
     "output_type": "stream",
     "text": [
      "Nombre de jours écoulés=669, t=178, prédiction=531019, vraie valeur=530331\n",
      "Modèle meilleur_ARIMA: (2, 1, 2)\n"
     ]
    },
    {
     "name": "stderr",
     "output_type": "stream",
     "text": [
      "/usr/local/lib/python3.8/dist-packages/statsmodels/base/model.py:604: ConvergenceWarning: Maximum Likelihood optimization failed to converge. Check mle_retvals\n",
      "  warnings.warn(\"Maximum Likelihood optimization failed to \"\n",
      "/usr/local/lib/python3.8/dist-packages/statsmodels/tsa/statespace/sarimax.py:966: UserWarning: Non-stationary starting autoregressive parameters found. Using zeros as starting parameters.\n",
      "  warn('Non-stationary starting autoregressive parameters'\n"
     ]
    },
    {
     "name": "stdout",
     "output_type": "stream",
     "text": [
      "Nombre de jours écoulés=670, t=179, prédiction=539642, vraie valeur=538205\n",
      "Modèle meilleur_ARIMA: (2, 1, 2)\n",
      "Nombre de jours écoulés=671, t=180, prédiction=546552, vraie valeur=546436\n",
      "Modèle meilleur_ARIMA: (2, 1, 2)\n"
     ]
    },
    {
     "name": "stderr",
     "output_type": "stream",
     "text": [
      "/usr/local/lib/python3.8/dist-packages/statsmodels/tsa/statespace/sarimax.py:966: UserWarning: Non-stationary starting autoregressive parameters found. Using zeros as starting parameters.\n",
      "  warn('Non-stationary starting autoregressive parameters'\n"
     ]
    },
    {
     "name": "stdout",
     "output_type": "stream",
     "text": [
      "Nombre de jours écoulés=672, t=181, prédiction=554510, vraie valeur=559269\n",
      "Modèle meilleur_ARIMA: (2, 1, 2)\n"
     ]
    },
    {
     "name": "stderr",
     "output_type": "stream",
     "text": [
      "/usr/local/lib/python3.8/dist-packages/statsmodels/tsa/statespace/sarimax.py:966: UserWarning: Non-stationary starting autoregressive parameters found. Using zeros as starting parameters.\n",
      "  warn('Non-stationary starting autoregressive parameters'\n"
     ]
    },
    {
     "name": "stdout",
     "output_type": "stream",
     "text": [
      "Nombre de jours écoulés=673, t=182, prédiction=570703, vraie valeur=572418\n",
      "Modèle meilleur_ARIMA: (2, 1, 2)\n"
     ]
    },
    {
     "name": "stderr",
     "output_type": "stream",
     "text": [
      "/usr/local/lib/python3.8/dist-packages/statsmodels/tsa/statespace/sarimax.py:966: UserWarning: Non-stationary starting autoregressive parameters found. Using zeros as starting parameters.\n",
      "  warn('Non-stationary starting autoregressive parameters'\n"
     ]
    },
    {
     "name": "stdout",
     "output_type": "stream",
     "text": [
      "Nombre de jours écoulés=674, t=183, prédiction=0, vraie valeur=586606\n",
      "Modèle meilleur_ARIMA: (2, 1, 2)\n"
     ]
    },
    {
     "name": "stderr",
     "output_type": "stream",
     "text": [
      "/usr/local/lib/python3.8/dist-packages/statsmodels/tsa/statespace/sarimax.py:966: UserWarning: Non-stationary starting autoregressive parameters found. Using zeros as starting parameters.\n",
      "  warn('Non-stationary starting autoregressive parameters'\n"
     ]
    },
    {
     "name": "stdout",
     "output_type": "stream",
     "text": [
      "Nombre de jours écoulés=675, t=184, prédiction=600559, vraie valeur=603067\n",
      "Modèle meilleur_ARIMA: (2, 1, 2)\n"
     ]
    },
    {
     "name": "stderr",
     "output_type": "stream",
     "text": [
      "/usr/local/lib/python3.8/dist-packages/statsmodels/tsa/statespace/sarimax.py:966: UserWarning: Non-stationary starting autoregressive parameters found. Using zeros as starting parameters.\n",
      "  warn('Non-stationary starting autoregressive parameters'\n",
      "/usr/local/lib/python3.8/dist-packages/statsmodels/tsa/statespace/sarimax.py:978: UserWarning: Non-invertible starting MA parameters found. Using zeros as starting parameters.\n",
      "  warn('Non-invertible starting MA parameters found.'\n"
     ]
    },
    {
     "name": "stdout",
     "output_type": "stream",
     "text": [
      "Nombre de jours écoulés=676, t=185, prédiction=619274, vraie valeur=620189\n",
      "Modèle meilleur_ARIMA: (2, 1, 2)\n"
     ]
    },
    {
     "name": "stderr",
     "output_type": "stream",
     "text": [
      "/usr/local/lib/python3.8/dist-packages/statsmodels/tsa/statespace/sarimax.py:966: UserWarning: Non-stationary starting autoregressive parameters found. Using zeros as starting parameters.\n",
      "  warn('Non-stationary starting autoregressive parameters'\n",
      "/usr/local/lib/python3.8/dist-packages/statsmodels/tsa/statespace/sarimax.py:978: UserWarning: Non-invertible starting MA parameters found. Using zeros as starting parameters.\n",
      "  warn('Non-invertible starting MA parameters found.'\n"
     ]
    },
    {
     "name": "stdout",
     "output_type": "stream",
     "text": [
      "Nombre de jours écoulés=677, t=186, prédiction=637238, vraie valeur=636034\n",
      "Modèle meilleur_ARIMA: (2, 1, 2)\n"
     ]
    },
    {
     "name": "stderr",
     "output_type": "stream",
     "text": [
      "/usr/local/lib/python3.8/dist-packages/statsmodels/tsa/statespace/sarimax.py:966: UserWarning: Non-stationary starting autoregressive parameters found. Using zeros as starting parameters.\n",
      "  warn('Non-stationary starting autoregressive parameters'\n"
     ]
    },
    {
     "name": "stdout",
     "output_type": "stream",
     "text": [
      "Nombre de jours écoulés=678, t=187, prédiction=651996, vraie valeur=651327\n",
      "Modèle meilleur_ARIMA: (2, 1, 2)\n"
     ]
    },
    {
     "name": "stderr",
     "output_type": "stream",
     "text": [
      "/usr/local/lib/python3.8/dist-packages/statsmodels/tsa/statespace/sarimax.py:966: UserWarning: Non-stationary starting autoregressive parameters found. Using zeros as starting parameters.\n",
      "  warn('Non-stationary starting autoregressive parameters'\n"
     ]
    },
    {
     "name": "stdout",
     "output_type": "stream",
     "text": [
      "Nombre de jours écoulés=679, t=188, prédiction=666677, vraie valeur=651327\n",
      "Modèle meilleur_ARIMA: (2, 1, 2)\n",
      "Nombre de jours écoulés=680, t=189, prédiction=646917, vraie valeur=665821\n",
      "Modèle meilleur_ARIMA: (2, 1, 2)\n",
      "Nombre de jours écoulés=681, t=190, prédiction=665776, vraie valeur=680307\n",
      "Modèle meilleur_ARIMA: (2, 1, 2)\n"
     ]
    },
    {
     "name": "stderr",
     "output_type": "stream",
     "text": [
      "/usr/local/lib/python3.8/dist-packages/statsmodels/tsa/statespace/sarimax.py:966: UserWarning: Non-stationary starting autoregressive parameters found. Using zeros as starting parameters.\n",
      "  warn('Non-stationary starting autoregressive parameters'\n"
     ]
    },
    {
     "name": "stdout",
     "output_type": "stream",
     "text": [
      "Nombre de jours écoulés=682, t=191, prédiction=691906, vraie valeur=696181\n",
      "Modèle meilleur_ARIMA: (2, 1, 2)\n"
     ]
    },
    {
     "name": "stderr",
     "output_type": "stream",
     "text": [
      "/usr/local/lib/python3.8/dist-packages/statsmodels/tsa/statespace/sarimax.py:966: UserWarning: Non-stationary starting autoregressive parameters found. Using zeros as starting parameters.\n",
      "  warn('Non-stationary starting autoregressive parameters'\n"
     ]
    },
    {
     "name": "stdout",
     "output_type": "stream",
     "text": [
      "Nombre de jours écoulés=683, t=192, prédiction=709712, vraie valeur=712357\n",
      "Modèle meilleur_ARIMA: (2, 1, 2)\n"
     ]
    },
    {
     "name": "stderr",
     "output_type": "stream",
     "text": [
      "/usr/local/lib/python3.8/dist-packages/statsmodels/tsa/statespace/sarimax.py:966: UserWarning: Non-stationary starting autoregressive parameters found. Using zeros as starting parameters.\n",
      "  warn('Non-stationary starting autoregressive parameters'\n"
     ]
    },
    {
     "name": "stdout",
     "output_type": "stream",
     "text": [
      "Nombre de jours écoulés=684, t=193, prédiction=726548, vraie valeur=728285\n",
      "Modèle meilleur_ARIMA: (2, 1, 2)\n"
     ]
    },
    {
     "name": "stderr",
     "output_type": "stream",
     "text": [
      "/usr/local/lib/python3.8/dist-packages/statsmodels/tsa/statespace/sarimax.py:966: UserWarning: Non-stationary starting autoregressive parameters found. Using zeros as starting parameters.\n",
      "  warn('Non-stationary starting autoregressive parameters'\n",
      "/usr/local/lib/python3.8/dist-packages/statsmodels/base/model.py:604: ConvergenceWarning: Maximum Likelihood optimization failed to converge. Check mle_retvals\n",
      "  warnings.warn(\"Maximum Likelihood optimization failed to \"\n",
      "/usr/local/lib/python3.8/dist-packages/statsmodels/tsa/statespace/sarimax.py:966: UserWarning: Non-stationary starting autoregressive parameters found. Using zeros as starting parameters.\n",
      "  warn('Non-stationary starting autoregressive parameters'\n"
     ]
    },
    {
     "name": "stdout",
     "output_type": "stream",
     "text": [
      "Nombre de jours écoulés=685, t=194, prédiction=744326, vraie valeur=739292\n",
      "Modèle meilleur_ARIMA: (2, 1, 2)\n"
     ]
    },
    {
     "name": "stderr",
     "output_type": "stream",
     "text": [
      "/usr/local/lib/python3.8/dist-packages/statsmodels/base/model.py:604: ConvergenceWarning: Maximum Likelihood optimization failed to converge. Check mle_retvals\n",
      "  warnings.warn(\"Maximum Likelihood optimization failed to \"\n",
      "/usr/local/lib/python3.8/dist-packages/statsmodels/tsa/statespace/sarimax.py:966: UserWarning: Non-stationary starting autoregressive parameters found. Using zeros as starting parameters.\n",
      "  warn('Non-stationary starting autoregressive parameters'\n"
     ]
    },
    {
     "name": "stdout",
     "output_type": "stream",
     "text": [
      "Nombre de jours écoulés=686, t=195, prédiction=753378, vraie valeur=749865\n",
      "Modèle meilleur_ARIMA: (2, 1, 2)\n",
      "Nombre de jours écoulés=687, t=196, prédiction=761817, vraie valeur=758575\n",
      "Modèle meilleur_ARIMA: (2, 1, 2)\n",
      "Nombre de jours écoulés=688, t=197, prédiction=769309, vraie valeur=766926\n",
      "Modèle meilleur_ARIMA: (2, 1, 2)\n",
      "Nombre de jours écoulés=689, t=198, prédiction=775609, vraie valeur=783101\n",
      "Modèle meilleur_ARIMA: (2, 1, 2)\n"
     ]
    },
    {
     "name": "stderr",
     "output_type": "stream",
     "text": [
      "/usr/local/lib/python3.8/dist-packages/statsmodels/tsa/statespace/sarimax.py:966: UserWarning: Non-stationary starting autoregressive parameters found. Using zeros as starting parameters.\n",
      "  warn('Non-stationary starting autoregressive parameters'\n"
     ]
    },
    {
     "name": "stdout",
     "output_type": "stream",
     "text": [
      "Nombre de jours écoulés=690, t=199, prédiction=796393, vraie valeur=789806\n",
      "Modèle meilleur_ARIMA: (2, 1, 2)\n",
      "Nombre de jours écoulés=691, t=200, prédiction=800307, vraie valeur=795752\n",
      "Modèle meilleur_ARIMA: (2, 1, 2)\n"
     ]
    },
    {
     "name": "stderr",
     "output_type": "stream",
     "text": [
      "/usr/local/lib/python3.8/dist-packages/statsmodels/tsa/statespace/sarimax.py:966: UserWarning: Non-stationary starting autoregressive parameters found. Using zeros as starting parameters.\n",
      "  warn('Non-stationary starting autoregressive parameters'\n",
      "/usr/local/lib/python3.8/dist-packages/statsmodels/tsa/statespace/sarimax.py:978: UserWarning: Non-invertible starting MA parameters found. Using zeros as starting parameters.\n",
      "  warn('Non-invertible starting MA parameters found.'\n"
     ]
    },
    {
     "name": "stdout",
     "output_type": "stream",
     "text": [
      "Nombre de jours écoulés=692, t=201, prédiction=803421, vraie valeur=801152\n",
      "Modèle meilleur_ARIMA: (2, 1, 2)\n",
      "Nombre de jours écoulés=693, t=202, prédiction=807970, vraie valeur=806295\n",
      "Modèle meilleur_ARIMA: (2, 1, 2)\n",
      "Nombre de jours écoulés=694, t=203, prédiction=811712, vraie valeur=812418\n",
      "Modèle meilleur_ARIMA: (2, 1, 2)\n",
      "Nombre de jours écoulés=695, t=204, prédiction=818325, vraie valeur=818946\n",
      "Modèle meilleur_ARIMA: (2, 1, 2)\n"
     ]
    }
   ],
   "source": [
    "from pandas import datetime\n",
    "import matplotlib.pyplot as plt\n",
    "from statsmodels.tsa.arima.model import ARIMA\n",
    "from sklearn.metrics import mean_squared_error\n",
    "from numpy.linalg import LinAlgError\n",
    "from math import sqrt\n",
    "\n",
    "X = series.values\n",
    "X = [x for x in X if x > 0]\n",
    "\n",
    "# Ici au besoin, on peut ajouter manuellement un nouveau point de données\n",
    "# X += [3430]\n",
    "taille_entrainement_data = int(len(X) * 0.66)\n",
    "\n",
    "# Séparation entre jeu de données d'entraînement et jeu de données de test\n",
    "entrainement_data, test_data = X[0:taille_entrainement_data], X[taille_entrainement_data:len(X)]\n",
    "\n",
    "predictions_ARIMA = {}\n",
    "print(\"*\"*90)\n",
    "\n",
    "for meilleur_ARIMA in meilleurs_ARIMA:\n",
    "    drapeau_erreur = False\n",
    "    historique = [x for x in entrainement_data]\n",
    "    predictions = list()\n",
    "    nbr_predictions = 3\n",
    "    nbr_jours_init = len(X)-len(test_data)\n",
    "\n",
    "    for t in range(len(test_data)+nbr_predictions):\n",
    "        try:\n",
    "            print(\"Modèle meilleur_ARIMA:\",meilleur_ARIMA)\n",
    "            modele_ARIMA = ARIMA(historique, order=meilleur_ARIMA)\n",
    "            # modele_ARIMA_entraine = modele_ARIMA.fit(disp=0)\n",
    "            modele_ARIMA_entraine = modele_ARIMA.fit()\n",
    "            sortie = modele_ARIMA_entraine.forecast()\n",
    "            une_prediction = sortie[0]\n",
    "            predictions.append(une_prediction)\n",
    "            if t < len(test_data):\n",
    "                vraie_valeur = test_data[t]\n",
    "                historique.append(vraie_valeur)\n",
    "                print('Nombre de jours écoulés=%i, t=%i, prédiction=%i, vraie valeur=%i' % (nbr_jours_init+t,t,une_prediction,vraie_valeur))\n",
    "            else:\n",
    "                historique.append(une_prediction)\n",
    "                print(\"meilleur_ARIMA\",meilleur_ARIMA)\n",
    "                etiq_ARIMA = \"_\".join([str(hyperparam) for hyperparam in meilleur_ARIMA])\n",
    "                if not etiq_ARIMA in predictions_ARIMA.keys():\n",
    "                    predictions_ARIMA[etiq_ARIMA]=int(une_prediction)\n",
    "                print('Nombre de jours écoulés=%i, t=%i, prédiction=%i' % (nbr_jours_init+t,t,une_prediction))\n",
    "        except:\n",
    "            print(\"*** Erreur! ***\")\n",
    "            drapeau_erreur = True\n",
    "            break\n",
    "    if drapeau_erreur:\n",
    "        continue\n",
    "    else:   \n",
    "        # Évaluation de l'erreur de prédiction\n",
    "        rmse = sqrt(mean_squared_error(test_data, predictions[:-nbr_predictions]))\n",
    "        print('Test RMSE: %.3f' % rmse)\n",
    "        # Afficher les vraies valeurs et les prédictions pour le jeu de données de test\n",
    "        plt.figure(figsize=(longueur/2,hauteur/2))\n",
    "        date = (dates_list[-1]+pd.Timedelta(days=1)).strftime(\"%d-%m-%Y\")\n",
    "        plt.title(u\"Prédictions pandémie COVID-19 - Québec - \" + date + \"\\n\" + \n",
    "                  \"modèle ARIMA (\" + etiq_ARIMA.replace(\"_\",\", \") + \")\",fontsize=18)\n",
    "        x_data = list(range(len(test_data)))\n",
    "        x_data_extension = list(range(len(test_data)+nbr_predictions))[-nbr_predictions:]\n",
    "        plt.scatter(x_data,test_data)\n",
    "        plt.plot(test_data,color='blue',label=\"vraies valeurs\")\n",
    "        plt.plot(x_data_extension[-nbr_predictions:],\n",
    "                 predictions[-nbr_predictions:],\n",
    "                 \"r--\",marker=\"x\",label=\"prédictions\")\n",
    "        point1 = [x_data[-1], test_data[-1]]\n",
    "        point2 = [x_data_extension[0],int(predictions[-nbr_predictions])]\n",
    "        x_values = [point1[0], point2[0]]\n",
    "        y_values = [point1[1], point2[1]]\n",
    "        plt.plot(x_values, y_values,\"r--\",marker=\"x\")\n",
    "        plt.legend(loc='best',fontsize=14)\n",
    "        plt.xlabel(\"nombre de jours\",fontsize=18)\n",
    "        plt.ylabel(\"nombre de malades\",fontsize=18)\n",
    "        plt.show()\n",
    "        print(\"*\"*90)\n",
    "        break"
   ]
  },
  {
   "cell_type": "markdown",
   "metadata": {},
   "source": [
    "### Afficher les vraies valeurs et la prédiction pour demain"
   ]
  },
  {
   "cell_type": "markdown",
   "metadata": {},
   "source": [
    "#### Modèle meilleurs ARIMA seulement"
   ]
  },
  {
   "cell_type": "code",
   "execution_count": null,
   "metadata": {},
   "outputs": [],
   "source": [
    "# Composante du modèle exponentiel\n",
    "ponderation_exp = 0\n",
    "total_predictions = prediction_regNonLin_exp * ponderation_exp\n",
    "#total_predictions = 0 \n",
    "# print(\"Prédictions régr. non-lin.: \",prediction_regNonLin_exp)\n",
    "for etiq_ARIMA in predictions_ARIMA.keys():\n",
    "    print(\"Prédictions ARIMA: (\" + etiq_ARIMA.replace(\"_\",\", \") + \") : \" + str(predictions_ARIMA[etiq_ARIMA]))\n",
    "    total_predictions += predictions_ARIMA[etiq_ARIMA]\n",
    "print(\"Prédictions pour \"+(dates_list[-1]+pd.Timedelta(days=1)).strftime(\"%d-%m-%Y\"))\n",
    "# Modèle exponentiel utilisé avant le 1er avril 2020\n",
    "# ligne commentée\n",
    "prediction_pur_ARIMA = int(total_predictions/(len(predictions_ARIMA)+1*ponderation_exp))\n",
    "print(\" => \",prediction_pur_ARIMA,\" <= \")\n",
    "#print(\" => \",int(total_predictions/len(predictions_ARIMA)),\" <= \")\n"
   ]
  },
  {
   "cell_type": "markdown",
   "metadata": {},
   "source": [
    "### Afficher les vraies valeurs et la prédiction pour demain"
   ]
  },
  {
   "cell_type": "markdown",
   "metadata": {},
   "source": [
    "#### Modèle meilleurs ARIMA"
   ]
  },
  {
   "cell_type": "code",
   "execution_count": null,
   "metadata": {
    "scrolled": true
   },
   "outputs": [],
   "source": [
    "plt.figure(figsize=(longueur/2,hauteur/2))\n",
    "date_demain = (dates_list[-1]+pd.Timedelta(days=1)).strftime(\"%d-%m-%Y\")\n",
    "prediction_demain = prediction_pur_ARIMA\n",
    "x_data = list(range(len(test_data)))\n",
    "x_data_extension = list(range(len(test_data)+nbr_predictions))[-nbr_predictions:]\n",
    "plt.scatter(x_data,test_data)\n",
    "plt.plot(test_data,color='blue',label=\"vraies valeurs\")\n",
    "point1 = [x_data[-1], test_data[-1]]\n",
    "point2 = [x_data_extension[0],prediction_demain]\n",
    "x_values = [point1[0], point2[0]]\n",
    "y_values = [point1[1], point2[1]]\n",
    "plt.plot(x_values, y_values,\"r--\",marker=\"x\",label=\"prédiction\")\n",
    "plt.axhline(prediction_demain,linestyle='--',linewidth=0.5,color='r')\n",
    "plt.axvline(x=point2[0],linestyle='--',linewidth=0.5,color='r')\n",
    "plt.text(point2[0]-0.5, point2[1], date_demain + \"\\n\" +\" \"*6 + str(prediction_demain),fontsize=12)\n",
    "plt.plot(x_values, y_values,\"r--\",marker=\"x\")\n",
    "xlim(right=point2[0]+x_values[-1]/6)\n",
    "ylim(top=point2[1]+y_values[-1]/15)\n",
    "plt.legend(loc='best',fontsize=14)\n",
    "plt.xlabel(\"nombre de jours\",fontsize=18)\n",
    "plt.ylabel(\"nombre de malades\",fontsize=18)\n",
    "plt.title(u\"Prédiction pandémie COVID-19 - Québec - pour le \" + date_demain + \"\\n\" + \n",
    "          \"modèle ARIMA => nouveaux malades: \" + str(prediction_demain-test_data[-1]) + \" - Total: \"+ str(prediction_demain) + \" <=\",fontsize=18)\n",
    "plt.savefig('images/Prediction-ARIMA_seul-COVID19-Quebec.png')\n",
    "plt.show()\n"
   ]
  },
  {
   "cell_type": "markdown",
   "metadata": {},
   "source": [
    "## Modèle combiné \n",
    "\n",
    "Moyenne des prédictions du meilleur modèle ARIMA plus une partie exponentielle issue d'un calcul de régression non linéaire. \n",
    "\n",
    "<!--\n",
    "Les résultats depuis quelques mois semblent confirmer que le modèle combiné est plus réaliste, du moins à ce stade de l'épidémie au Québec.\n",
    "-->"
   ]
  },
  {
   "cell_type": "code",
   "execution_count": null,
   "metadata": {},
   "outputs": [],
   "source": [
    "# Composante du modèle exponentiel\n",
    "ponderation_exp = 1.0\n",
    "ponderation_arima = 9.0\n",
    "total_predictions = prediction_regNonLin_exp * ponderation_exp\n",
    "print(\"Prédictions régr. non-lin.: \",prediction_regNonLin_exp-y_data[-1])\n",
    "print(\"Prédictions pur ARIMA: \",prediction_pur_ARIMA-y_data[-1])\n",
    "total_predictions += prediction_pur_ARIMA*ponderation_arima\n",
    "print(\"Prédictions pour \"+(dates_list[-1]+pd.Timedelta(days=1)).strftime(\"%d-%m-%Y\"))\n",
    "# Modèle exponentiel utilisé avant le 1er avril 2020\n",
    "# ligne commentée\n",
    "prediction_modele_combine = int(total_predictions/(ponderation_exp+ponderation_arima))\n",
    "print(\"Prédictions modèle combiné: \",prediction_modele_combine-y_data[-1])\n",
    "print(\"Nouveaux malades => \",prediction_modele_combine-y_data[-1],\" <= \")\n"
   ]
  },
  {
   "cell_type": "code",
   "execution_count": null,
   "metadata": {
    "scrolled": false
   },
   "outputs": [],
   "source": [
    "plt.figure(figsize=(longueur/2,hauteur/2))\n",
    "date_demain = (dates_list[-1]+pd.Timedelta(days=1)).strftime(\"%d-%m-%Y\")\n",
    "prediction_demain = prediction_modele_combine\n",
    "x_data = list(range(len(test_data)))\n",
    "x_data_extension = list(range(len(test_data)+nbr_predictions))[-nbr_predictions:]\n",
    "plt.scatter(x_data,test_data)\n",
    "plt.plot(test_data,color='blue',label=\"vraies valeurs\")\n",
    "point1 = [x_data[-1], test_data[-1]]\n",
    "point2 = [x_data_extension[0],prediction_demain]\n",
    "x_values = [point1[0], point2[0]]\n",
    "y_values = [point1[1], point2[1]]\n",
    "plt.plot(x_values, y_values,\"r--\",marker=\"x\",label=\"prédiction\")\n",
    "plt.axhline(prediction_demain,linestyle='--',linewidth=0.5,color='r')\n",
    "plt.axvline(x=point2[0],linestyle='--',linewidth=0.5,color='r')\n",
    "plt.text(point2[0]-0.5, point2[1], date_demain + \"\\n\" +\" \"*6 + str(prediction_demain),fontsize=12)\n",
    "plt.plot(x_values, y_values,\"r--\",marker=\"x\")\n",
    "xlim(right=point2[0]+x_values[-1]/6)\n",
    "ylim(top=point2[1]+y_values[-1]/15)\n",
    "plt.legend(loc='best',fontsize=14)\n",
    "plt.xlabel(\"nombre de jours\",fontsize=18)\n",
    "plt.ylabel(\"nombre de malades\",fontsize=18)\n",
    "plt.title(u\"Prédiction pandémie COVID-19 - Québec - pour le \" + date_demain + \"\\n\" + \n",
    "          \"modèle combiné exp.+ARIMA => nouveaux cas: \" + str(prediction_demain-test_data[-1]) + \" - Total: \"+ str(prediction_demain) + \" <=\",fontsize=18)\n",
    "plt.savefig('images/Prediction-modele_combine-COVID19-Quebec.png')\n",
    "plt.show()\n"
   ]
  },
  {
   "cell_type": "code",
   "execution_count": null,
   "metadata": {},
   "outputs": [],
   "source": [
    "print(\"Fin du carnet IPython\")"
   ]
  },
  {
   "cell_type": "code",
   "execution_count": null,
   "metadata": {},
   "outputs": [],
   "source": []
  }
 ],
 "metadata": {
  "kernelspec": {
   "display_name": "Python 3 (ipykernel)",
   "language": "python",
   "name": "python3"
  },
  "language_info": {
   "codemirror_mode": {
    "name": "ipython",
    "version": 3
   },
   "file_extension": ".py",
   "mimetype": "text/x-python",
   "name": "python",
   "nbconvert_exporter": "python",
   "pygments_lexer": "ipython3",
   "version": "3.8.12"
  }
 },
 "nbformat": 4,
 "nbformat_minor": 1
}

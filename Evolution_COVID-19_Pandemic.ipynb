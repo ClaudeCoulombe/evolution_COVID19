{
 "cells": [
  {
   "cell_type": "markdown",
   "metadata": {},
   "source": [
    "<img src=\"images/ScDo-Bandeau_Lingua_Technologies.png\" style=\"width: 100%;float:center;\"/>\n",
    "\n",
    "<h1 style=\"font-size:250%;text-align:center\">Evolution over time of the</h1>\n",
    "<h1 style=\"font-size:250%;text-align:center\">COVID-19 pandemic</h1>\n",
    "<h4 style=\"font-size:150%;text-align:center\">by Claude COULOMBE</h4>\n",
    "<h5 style=\"font-size:100%;text-align:center\">PhD, scientifique de données, consultant Lingua Technologies</h5>\n",
    "\n",
    "<img src=\"images/ScDo-pandas_logo.png\" width=400 />\n",
    "\n",
    "To counter the anxiety of the COVID-19 pandemic, nothing better than taking action. So I prepared a IPython Notebook which is a pretext for a small data exploration exercise with Pandas."
   ]
  },
  {
   "cell_type": "markdown",
   "metadata": {},
   "source": [
    "### Python packages import\n",
    "\n",
    "NumPy, Pandas, matplotlib and IPython / Jupyter libraries should have been installed."
   ]
  },
  {
   "cell_type": "code",
   "execution_count": null,
   "metadata": {},
   "outputs": [],
   "source": [
    "import numpy as np\n",
    "import pandas as pd\n",
    "import matplotlib.pyplot as plt\n",
    "from pylab import *\n",
    "%matplotlib inline\n"
   ]
  },
  {
   "cell_type": "markdown",
   "metadata": {
    "collapsed": true
   },
   "source": [
    "## Data\n",
    "### Open data repository COVID-19 (2019-nCoV) by Johns Hopkins University - CSSE\n",
    "\n",
    "\n",
    "https://github.com/CSSEGISandData/COVID-19\n",
    "\n",
    "<img src=\"\" style=\"width: 100%;float:center;\"/>\n",
    "\n",
    "**NOTE**: The COVID-19 data contained in the DATA directory must be updated regularly to reflect changes over time. For this version of the IPython Notebook, the data stops on Thursday March 12, 2020."
   ]
  },
  {
   "cell_type": "markdown",
   "metadata": {},
   "source": [
    "### Reading and loading data\n",
    "\n",
    "We are interested in the file `time_series_covid19_confirmed_global.csv` which contains the data on the confirmed cases of COVID-19"
   ]
  },
  {
   "cell_type": "code",
   "execution_count": null,
   "metadata": {
    "scrolled": true
   },
   "outputs": [],
   "source": [
    "# Note - good practice of postfixing Dataframe by _df (Reminder: Python is not typed)\n",
    "data_series_COVID19_df = pd.read_csv('DATA/csse_covid_19_time_series/time_series_covid19_confirmed_global.csv',sep=',')\n"
   ]
  },
  {
   "cell_type": "markdown",
   "metadata": {},
   "source": [
    "## Data Exploration"
   ]
  },
  {
   "cell_type": "code",
   "execution_count": null,
   "metadata": {},
   "outputs": [],
   "source": [
    "data_series_COVID19_df.head()\n"
   ]
  },
  {
   "cell_type": "code",
   "execution_count": null,
   "metadata": {},
   "outputs": [],
   "source": [
    "data_series_COVID19_df.tail()\n"
   ]
  },
  {
   "cell_type": "markdown",
   "metadata": {},
   "source": [
    "### Display the global properties of the data table / DataFrame\n",
    "\n",
    "Get the shape / dimensions, the underlying data structures and a statistical description of the numerical variables"
   ]
  },
  {
   "cell_type": "code",
   "execution_count": null,
   "metadata": {},
   "outputs": [],
   "source": [
    "data_series_COVID19_df.shape\n"
   ]
  },
  {
   "cell_type": "code",
   "execution_count": null,
   "metadata": {},
   "outputs": [],
   "source": [
    "data_series_COVID19_df.columns"
   ]
  },
  {
   "cell_type": "code",
   "execution_count": null,
   "metadata": {},
   "outputs": [],
   "source": [
    "data_series_COVID19_df.info()\n"
   ]
  },
  {
   "cell_type": "code",
   "execution_count": null,
   "metadata": {},
   "outputs": [],
   "source": [
    "data_series_COVID19_df.describe()\n"
   ]
  },
  {
   "cell_type": "markdown",
   "metadata": {},
   "source": [
    "### Looking at data distribution and attributes"
   ]
  },
  {
   "cell_type": "code",
   "execution_count": null,
   "metadata": {},
   "outputs": [],
   "source": [
    "import pandas as pd\n",
    "from matplotlib import pyplot as plt\n",
    "%matplotlib inline\n",
    "from pandas.api.types import is_string_dtype, is_numeric_dtype \n",
    "\n",
    "MAX_SHOWN_ATTRIBUTES = 53\n",
    "\n",
    "# For each attribute or column in a data array / DataFrame\n",
    "# Create a box plot, an histogram or a list of possible values\n",
    "\n",
    "def lookat_attribute_values_and_distribution(a_dataframe):\n",
    "    for attribute in a_dataframe.columns:\n",
    "        # Showing the attribute type\n",
    "        print(\"-\"*90)\n",
    "        print(\"Attribute:\",attribute,\", Type:\",a_dataframe.dtypes[attribute])\n",
    "        # If it is a categorical attribute then list all possible values\n",
    "        if is_string_dtype(a_dataframe[attribute]):\n",
    "            unique_attributes = list(a_dataframe[attribute].unique())\n",
    "            print(\"Number of unique attributes:\",len(unique_attributes))\n",
    "            if len(unique_attributes) > MAX_SHOWN_ATTRIBUTES:\n",
    "                print(\"Display of \" + str(MAX_SHOWN_ATTRIBUTES) + \" first values:\")\n",
    "                print(unique_attributes[:MAX_SHOWN_ATTRIBUTES])\n",
    "            else:\n",
    "                print(unique_attributes)\n",
    "                print(\"\\nun_dataframe.groupby('\"+attribute+\"').size()\\n\",a_dataframe.groupby(attribute).size())\n",
    "        if is_numeric_dtype(a_dataframe[attribute]):\n",
    "            _ = a_dataframe.boxplot(attribute, figsize=(2, 3))\n",
    "            plt.show()\n",
    "            print()\n",
    "            plt.close()\n",
    "            _ = a_dataframe[attribute].plot(kind='hist',figsize=(2, 3))\n",
    "            plt.show()\n",
    "    print(\"-\"*90)"
   ]
  },
  {
   "cell_type": "code",
   "execution_count": null,
   "metadata": {
    "scrolled": true
   },
   "outputs": [],
   "source": [
    "lookat_attribute_values_and_distribution(data_series_COVID19_df)"
   ]
  },
  {
   "cell_type": "markdown",
   "metadata": {},
   "source": [
    "### Removal of \"unnecessary\" attributes\n",
    "\n",
    "Since we are interested in the evolution of the number of patients over time, certain attributes (columns of the data table) are unnecessary or \"useless\" and burden our analysis.\n",
    "\n",
    "Below is a list of attributes to remove:"
   ]
  },
  {
   "cell_type": "code",
   "execution_count": null,
   "metadata": {},
   "outputs": [],
   "source": [
    "attributes_to_remove = [\"Lat\",\"Long\"]\n"
   ]
  },
  {
   "cell_type": "markdown",
   "metadata": {},
   "source": [
    "Remove the \"unnecessary\" attributes with the `.drop ()` function"
   ]
  },
  {
   "cell_type": "code",
   "execution_count": null,
   "metadata": {},
   "outputs": [],
   "source": [
    "data_series_COVID19_df = data_series_COVID19_df.drop(attributes_to_remove,axis='columns')\n"
   ]
  },
  {
   "cell_type": "code",
   "execution_count": null,
   "metadata": {},
   "outputs": [],
   "source": [
    "data_series_COVID19_df.head()\n"
   ]
  },
  {
   "cell_type": "markdown",
   "metadata": {},
   "source": [
    "### What are the different countries and / or states found in the data?"
   ]
  },
  {
   "cell_type": "code",
   "execution_count": null,
   "metadata": {},
   "outputs": [],
   "source": [
    "print(list(data_series_COVID19_df['Province/State'].unique()))"
   ]
  },
  {
   "cell_type": "code",
   "execution_count": null,
   "metadata": {},
   "outputs": [],
   "source": [
    "print(list(data_series_COVID19_df['Country/Region'].unique()))\n"
   ]
  },
  {
   "cell_type": "markdown",
   "metadata": {},
   "source": [
    "#### For example, let's look at the data for different states and regions in the United States."
   ]
  },
  {
   "cell_type": "code",
   "execution_count": null,
   "metadata": {},
   "outputs": [],
   "source": [
    "data_series_COVID19_df[data_series_COVID19_df['Country/Region']==\"US\"]\n"
   ]
  },
  {
   "cell_type": "markdown",
   "metadata": {},
   "source": [
    "#### Now let's look at the data for the different Canadian provinces."
   ]
  },
  {
   "cell_type": "code",
   "execution_count": null,
   "metadata": {},
   "outputs": [],
   "source": [
    "data_series_COVID19_df[data_series_COVID19_df['Country/Region']==\"Canada\"]\n"
   ]
  },
  {
   "cell_type": "markdown",
   "metadata": {},
   "source": [
    "### Creation of a specific additional entry for Quebec \n",
    "\n",
    "With an acute accent..."
   ]
  },
  {
   "cell_type": "code",
   "execution_count": null,
   "metadata": {},
   "outputs": [],
   "source": [
    "quebec_df = data_series_COVID19_df[(data_series_COVID19_df['Country/Region']==\"Canada\") & \n",
    "                                (data_series_COVID19_df['Province/State']==\"Quebec\")]\n",
    "\n",
    "quebec_df.loc[44,'Country/Region'] = 'Québec'\n",
    "quebec_df.loc[44,'Province/State'] = np.nan\n",
    "\n",
    "data_series_COVID19_df = data_series_COVID19_df.append(quebec_df , ignore_index=True)\n",
    "data_series_COVID19_df\n"
   ]
  },
  {
   "cell_type": "markdown",
   "metadata": {},
   "source": [
    "### Grouping of data from states and provinces\n",
    "**Note**: To have a total by country, we will group together the states and provinces of the same country. Use of the `.groupby ()` and `.sum ()` functions. Also `.reset_index ()`"
   ]
  },
  {
   "cell_type": "code",
   "execution_count": null,
   "metadata": {},
   "outputs": [],
   "source": [
    "data_series_COVID19_df = data_series_COVID19_df.groupby(['Country/Region']).sum().reset_index()\n"
   ]
  },
  {
   "cell_type": "markdown",
   "metadata": {},
   "source": [
    "Let's check that the grouping is done, with the data on Canada"
   ]
  },
  {
   "cell_type": "code",
   "execution_count": null,
   "metadata": {},
   "outputs": [],
   "source": [
    "data_series_COVID19_df[data_series_COVID19_df['Country/Region']==\"Canada\"]\n"
   ]
  },
  {
   "cell_type": "code",
   "execution_count": null,
   "metadata": {},
   "outputs": [],
   "source": [
    "data_series_COVID19_df[data_series_COVID19_df['Country/Region']==\"Québec\"]\n"
   ]
  },
  {
   "cell_type": "markdown",
   "metadata": {},
   "source": [
    "## Data Visualization\n"
   ]
  },
  {
   "cell_type": "markdown",
   "metadata": {},
   "source": [
    "### Visualization of the evolution of the number of sick people over time\n",
    "\n",
    "We will visualize the evolution of the number of sick people over time by means of graphs and be able to compare between different countries in the world.\n",
    "\n",
    "Let's take a look at our data table again."
   ]
  },
  {
   "cell_type": "code",
   "execution_count": null,
   "metadata": {},
   "outputs": [],
   "source": [
    "data_series_COVID19_df\n"
   ]
  },
  {
   "cell_type": "markdown",
   "metadata": {},
   "source": [
    "### Creating a multi-curve graph (one curve per country)\n",
    "\n",
    "1. We are going to create a simple visualization of the different day-to-day evolution curves of the number of “confirmed” sick people for different countries.\n",
    "\n",
    "\n",
    "2. In order not to overload our graph, we will select certain countries which are more representative of the situation.\n",
    "\n",
    "     2.1 Obviously Québec and Canada\n",
    "    \n",
    "     2.2 Countries that have applied strict sanitary, quarantine and social distancing measures: China, Japan, South Korea, and Singapore\n",
    "    \n",
    "     2.3 Countries which have either been slow to impose strict measures or whose health system has lacked resources: France, Italy, Iran, Spain, and the United States.\n",
    "\n",
    "To facilitate visualization in a more compact graph, because of the large disparity in the number of sick people, we will use a logarithmic scale for the number of confirmed sick people."
   ]
  },
  {
   "cell_type": "code",
   "execution_count": null,
   "metadata": {
    "scrolled": false
   },
   "outputs": [],
   "source": [
    "import itertools\n",
    "\n",
    "golden_ratio = 1.618\n",
    "height = 12\n",
    "width = int(golden_ratio * height)\n",
    "fig, ax = plt.subplots(figsize=(width,height))\n",
    "# https://stackoverflow.com/questions/13091649/unique-plot-marker-for-each-plot-in-matplotlib\n",
    "markers = itertools.cycle(('x', '+', '.', 'X', '*'))\n",
    "colors_palette = itertools.cycle(('g', 'r', 'c', 'm', 'y', 'k', 'orange', 'brown', 'lime'))\n",
    "\n",
    "import matplotlib.colors as pltcol\n",
    "\n",
    "countries = ['Québec', 'Canada', 'China', 'France', 'Italy', 'Iran', 'Japan',\n",
    "           'Korea, South', 'Singapore', 'Spain', 'United Kingdom', 'US']\n",
    "\n",
    "countries_code = { \n",
    "    'Québec':'qc', 'Canada':'ca', 'China':'cn', 'France':'fr', \n",
    "    'Italy':'it', 'Iran':'ir','Japan':'jp',\n",
    "    'Korea, South':'kr', 'Singapore':'sg', \n",
    "    'Spain':'es', 'Sweden':'se','United Kingdom':'gb', 'US':'us'\n",
    "} \n",
    "\n",
    "for country in countries:\n",
    "    if country == \"Québec\":\n",
    "        a_marker = \"o\"\n",
    "        a_color = \"tab:blue\"\n",
    "    else:\n",
    "        a_marker = next(markers)\n",
    "        a_color = next(colors_palette)\n",
    "    plt.plot(list(data_series_COVID19_df.columns[2:]), \n",
    "             list(data_series_COVID19_df[data_series_COVID19_df['Country/Region']==country].iloc[0,2:]), \n",
    "             marker=a_marker, \n",
    "             color=a_color, \n",
    "             label=country+\" - \"+countries_code[country])\n",
    "    label_y_pos = data_series_COVID19_df[data_series_COVID19_df['Country/Region']==country].iloc[0,-1]\n",
    "    plt.text(67, label_y_pos, countries_code[country],fontsize=14)    \n",
    "plt.legend(loc='best',fontsize=12)\n",
    "xticks(rotation=60)\n",
    "ax.set_yscale('log')\n",
    "ylim(bottom=5)\n",
    "# xlim(right=60)\n",
    "plt.title(u'Evolution over time of the number of confirmed sick people, COVID-19 pandemic',fontsize=24)\n",
    "plt.xlabel(u'Date',fontsize=18)\n",
    "_ = plt.ylabel(u'Number of confirmed sick people - log scale',fontsize=18)\n",
    "plt.savefig('images/Evolution-COVID19-LogScale.png')\n"
   ]
  },
  {
   "cell_type": "markdown",
   "metadata": {},
   "source": [
    "#### To better appreciate the exponential growth\n",
    "\n",
    "To better \"see\" the exponential growth of sick people, we remove China from the examined countries and we comment the line `ax.set_yscale ('log')` which defines the logarithmic scale on the ordinate axis (i.e. vertical axis). So we come back to a linear scale."
   ]
  },
  {
   "cell_type": "code",
   "execution_count": null,
   "metadata": {},
   "outputs": [],
   "source": [
    "import itertools\n",
    "\n",
    "golden_ratio = 1.618\n",
    "height = 13\n",
    "width = int(golden_ratio * height)\n",
    "fig, ax = plt.subplots(figsize=(width,height))\n",
    "# https://stackoverflow.com/questions/13091649/unique-plot-marker-for-each-plot-in-matplotlib\n",
    "markers = itertools.cycle(('x', '+', '.', 'X', '*'))\n",
    "colors_palette = itertools.cycle(('g', 'r', 'c', 'm', 'y', 'k', 'orange', 'brown', 'lime'))\n",
    "\n",
    "import matplotlib.colors as pltcol\n",
    "\n",
    "countries = ['Québec', 'Canada', 'France', 'Italy', 'Iran', \n",
    "           'Japan','Korea, South', 'Singapore', 'Spain', 'United Kingdom', 'US']\n",
    "\n",
    "countries_code = { \n",
    "    'Québec':'qc', 'Canada':'ca', 'China':'cn', 'France':'fr', \n",
    "    'Italy':'it', 'Iran':'ir','Japan':'jp',\n",
    "    'Korea, South':'kr', 'Singapore':'sg', \n",
    "    'Spain':'es', 'Sweden':'se','United Kingdom':'gb', 'US':'us'\n",
    "} \n",
    " \n",
    "for country in countries:\n",
    "    if country == \"Québec\":\n",
    "        a_marker = \"o\"\n",
    "        a_color = \"tab:blue\"\n",
    "    else:\n",
    "        a_marker = next(markers)\n",
    "        a_color = next(colors_palette)\n",
    "    plt.plot(list(data_series_COVID19_df.columns[2:]), \n",
    "             list(data_series_COVID19_df[data_series_COVID19_df['Country/Region']==country].iloc[0,2:]), \n",
    "             marker=a_marker, \n",
    "             color=a_color, \n",
    "             label=country+\" - \"+countries_code[country])\n",
    "    label_y_pos = data_series_COVID19_df[data_series_COVID19_df['Country/Region']==country].iloc[0,-1]\n",
    "    plt.text(67, label_y_pos, countries_code[country],fontsize=14)    \n",
    "plt.legend(loc='best',fontsize=14)\n",
    "xticks(rotation=60)\n",
    "# ax.set_yscale('log')\n",
    "ylim(bottom=5)\n",
    "#xlim(right=60)\n",
    "plt.title(u'Evolution over time of the number of confirmed sick people, COVID-19 pandemic - (minus China)',fontsize=24)\n",
    "plt.xlabel(u'Date',fontsize=18)\n",
    "_ = plt.ylabel(u'Number of confirmed sick people - linear scale',fontsize=18)\n",
    "plt.savefig('images/Evolution-COVID19-minus_China-StdScale.png')\n"
   ]
  },
  {
   "cell_type": "markdown",
   "metadata": {},
   "source": [
    "## Summary analysis\n",
    "\n",
    "We find that countries, such as China, Japan, South Korea and Singapore, which have taken drastic quarantine and social distancing measures, have succeeded in containing the increase in the number of sick people.\n",
    "\n",
    "On the contrary, countries which have been slow to react or lacked resources like Italy, Iran, the United States, France or Spain have not yet succeeded in slowing down the increase in the number of sick people. For the moment Canada and Québec are in between but the trend of the last few days is raising a concern about a potential explosion. \n",
    "\n",
    "Hopeful sign, there has been a slight inflection in the rate of increase in Québec, but it is probably too early to be delighted and that's still a lot dependent on the amounts of testing. It is important not to relax the hygiene and physical isolation measures because there is a risk of a rebound.\n",
    "\n",
    "From Monday, March 23, Québec changes its way of counting confirmed sick people (confirmed cases + probable cases), which causes a “suspicious” acceleration in the curve. The next measures should make it possible to restore a more realistic evolution curve."
   ]
  },
  {
   "cell_type": "code",
   "execution_count": null,
   "metadata": {},
   "outputs": [],
   "source": []
  }
 ],
 "metadata": {
  "kernelspec": {
   "display_name": "Python 3",
   "language": "python",
   "name": "python3"
  },
  "language_info": {
   "codemirror_mode": {
    "name": "ipython",
    "version": 3
   },
   "file_extension": ".py",
   "mimetype": "text/x-python",
   "name": "python",
   "nbconvert_exporter": "python",
   "pygments_lexer": "ipython3",
   "version": "3.6.5"
  }
 },
 "nbformat": 4,
 "nbformat_minor": 1
}
